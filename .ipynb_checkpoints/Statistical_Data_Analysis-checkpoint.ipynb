{
 "cells": [
  {
   "cell_type": "markdown",
   "metadata": {},
   "source": [
    "# Which one is a better plan?\n",
    "\n",
    "You work as an analyst for the telecom operator Megaline. The company offers its clients two prepaid plans, Surf and Ultimate. The commercial department wants to know which of the plans brings in more revenue in order to adjust the advertising budget.\n",
    "\n",
    "You are going to carry out a preliminary analysis of the plans based on a relatively small client selection. You'll have the data on 500 Megaline clients: who the clients are, where they're from, which plan they use, and the number of calls they made and text messages they sent in 2018. Your job is to analyze the clients' behavior and determine which prepaid plan brings in more revenue."
   ]
  },
  {
   "cell_type": "markdown",
   "metadata": {},
   "source": [
    "[We've provided you with some commentary to guide your thinking as you complete this project. However, make sure to remove all the bracketed comments before submitting your project.]\n",
    "\n",
    "[Before you dive into analyzing your data, explain for yourself the purpose of the project and actions you plan to take.]\n",
    "\n",
    "[Please bear in mind that studying, amending, and analyzing data is an iterative process. It is normal to return to previous steps and correct/expand them to allow for further steps.]"
   ]
  },
  {
   "cell_type": "markdown",
   "metadata": {},
   "source": [
    "## Project Explanation\n",
    "My goal of this project is to determine which plan brings in more revenue. \n",
    "#### Important\n",
    "    * Each individual call is rounded up even if 1 second\n",
    "    * Total month of web traffic is rounded up to the nearest gigabyte\n",
    "- I plan on cleaning the data and prepareing it for proper analyzation. \n",
    "- After the data is prepared, I will first round the revenue to the proper amount according to the usuage of the plan. \n",
    "- From there I will analyze the data based on location, dates used, and other parameters that i may find useful. \n",
    "- After such I will determine which plan brings in more revenue as a whole, while also looking at if plans are more effective with certain paramter criteria that could bring in more revenue.\n",
    "\n",
    "#### Progress \n",
    "Early Focus: Python Fundamentals & Logic Building\n",
    "* Started with basic Python syntax, focusing on data analysis and logic building.\n",
    "* Worked through data cleaning, handling missing values, and organizing datasets.\n",
    "* Faced challenges with syntax and pseudocode development, preferring step-by-step logical processes.\n",
    "\n",
    "Project-Based Learning Approach\n",
    "* Completed a movie & TV show analysis project, reinforcing data manipulation, grouping, and trend analysis.\n",
    "* Began another similar structured project to deepen data exploration skills in Jupyter Notebook.\n",
    "* Developed skills in handling CSV and Excel files, performing data validation, and using Pandas functions effectively.\n",
    "\n",
    "Mathematical & Statistical Learning\n",
    "* Shifted focus to probability and statistics, covering:\n",
    "    Descriptive statistics (mean, median, mode, variance, standard deviation).\n",
    "* Probability distributions (binomial and normal).\n",
    "* Law of Large Numbers & Central Limit Theorem.\n",
    "* Sampling methods and hypothesis testing (t-tests, significance levels).\n",
    "\n",
    "Purpose of Study\n",
    "* To continue my practice in cleaning of data.\n",
    "* Preparing data for more advanced aggregation. \n",
    "* Covering plotting and statistical anlysis."
   ]
  },
  {
   "cell_type": "markdown",
   "metadata": {},
   "source": [
    "## Initialization"
   ]
  },
  {
   "cell_type": "code",
   "execution_count": 11,
   "metadata": {},
   "outputs": [],
   "source": [
    "# Loading all the libraries\n",
    "import pandas as pd\n",
    "import matplotlib.pyplot as plt\n",
    "import numpy as np\n",
    "from math import factorial\n",
    "from scipy import stats as st"
   ]
  },
  {
   "cell_type": "markdown",
   "metadata": {},
   "source": [
    "Above are the libraries I need to complete my task."
   ]
  },
  {
   "cell_type": "markdown",
   "metadata": {},
   "source": [
    "## Load data"
   ]
  },
  {
   "cell_type": "code",
   "execution_count": 14,
   "metadata": {},
   "outputs": [],
   "source": [
    "# Load the data files into different DataFrames\n",
    "megaline_callsDF = pd.read_csv('megaline_calls.csv')\n",
    "megaline_internetDF = pd.read_csv('megaline_internet.csv')\n",
    "megaline_messagesDF = pd.read_csv('megaline_messages.csv')\n",
    "megaline_plansDF = pd.read_csv('megaline_plans.csv')\n",
    "megaline_usersDF = pd.read_csv('megaline_users.csv')"
   ]
  },
  {
   "cell_type": "markdown",
   "metadata": {},
   "source": [
    "Above are the dataframes being imported to be analyzed."
   ]
  },
  {
   "cell_type": "code",
   "execution_count": 16,
   "metadata": {},
   "outputs": [],
   "source": [
    "def analyze_data(data):\n",
    "    print(data.head())\n",
    "    print('--------------------------------------------')\n",
    "    print(data.info())\n",
    "    print('--------------------------------------------')\n",
    "    print('Potential Duplicates')\n",
    "    print(' ')\n",
    "    print(data.duplicated().sum())\n",
    "    print('--------------------------------------------')\n",
    "    print('Potential Missing Data')\n",
    "    print(' ')\n",
    "    print(data.isna().sum())"
   ]
  },
  {
   "cell_type": "markdown",
   "metadata": {},
   "source": [
    "This is a custom function so all the important parts of a dataframe area able to be seen with cleaner code."
   ]
  },
  {
   "cell_type": "markdown",
   "metadata": {},
   "source": [
    "## Prepare the data"
   ]
  },
  {
   "cell_type": "markdown",
   "metadata": {},
   "source": [
    "[The data for this project is split into several tables. Explore each one to get an initial understanding of the data. Do necessary corrections to each table if necessary.]"
   ]
  },
  {
   "cell_type": "markdown",
   "metadata": {},
   "source": [
    "## Plans"
   ]
  },
  {
   "cell_type": "code",
   "execution_count": 21,
   "metadata": {
    "scrolled": true
   },
   "outputs": [
    {
     "name": "stdout",
     "output_type": "stream",
     "text": [
      "   messages_included  mb_per_month_included  minutes_included  \\\n",
      "0                 50                  15360               500   \n",
      "1               1000                  30720              3000   \n",
      "\n",
      "   usd_monthly_pay  usd_per_gb  usd_per_message  usd_per_minute plan_name  \n",
      "0               20          10             0.03            0.03      surf  \n",
      "1               70           7             0.01            0.01  ultimate  \n",
      "--------------------------------------------\n",
      "<class 'pandas.core.frame.DataFrame'>\n",
      "RangeIndex: 2 entries, 0 to 1\n",
      "Data columns (total 8 columns):\n",
      " #   Column                 Non-Null Count  Dtype  \n",
      "---  ------                 --------------  -----  \n",
      " 0   messages_included      2 non-null      int64  \n",
      " 1   mb_per_month_included  2 non-null      int64  \n",
      " 2   minutes_included       2 non-null      int64  \n",
      " 3   usd_monthly_pay        2 non-null      int64  \n",
      " 4   usd_per_gb             2 non-null      int64  \n",
      " 5   usd_per_message        2 non-null      float64\n",
      " 6   usd_per_minute         2 non-null      float64\n",
      " 7   plan_name              2 non-null      object \n",
      "dtypes: float64(2), int64(5), object(1)\n",
      "memory usage: 260.0+ bytes\n",
      "None\n",
      "--------------------------------------------\n",
      "Potential Duplicates\n",
      " \n",
      "0\n",
      "--------------------------------------------\n",
      "Potential Missing Data\n",
      " \n",
      "messages_included        0\n",
      "mb_per_month_included    0\n",
      "minutes_included         0\n",
      "usd_monthly_pay          0\n",
      "usd_per_gb               0\n",
      "usd_per_message          0\n",
      "usd_per_minute           0\n",
      "plan_name                0\n",
      "dtype: int64\n"
     ]
    }
   ],
   "source": [
    "# Print the general/summary information about the plans' DataFrame\n",
    "analyze_data(megaline_plansDF)\n"
   ]
  },
  {
   "cell_type": "code",
   "execution_count": 22,
   "metadata": {},
   "outputs": [
    {
     "data": {
      "text/html": [
       "<div>\n",
       "<style scoped>\n",
       "    .dataframe tbody tr th:only-of-type {\n",
       "        vertical-align: middle;\n",
       "    }\n",
       "\n",
       "    .dataframe tbody tr th {\n",
       "        vertical-align: top;\n",
       "    }\n",
       "\n",
       "    .dataframe thead th {\n",
       "        text-align: right;\n",
       "    }\n",
       "</style>\n",
       "<table border=\"1\" class=\"dataframe\">\n",
       "  <thead>\n",
       "    <tr style=\"text-align: right;\">\n",
       "      <th></th>\n",
       "      <th>messages_included</th>\n",
       "      <th>mb_per_month_included</th>\n",
       "      <th>minutes_included</th>\n",
       "      <th>usd_monthly_pay</th>\n",
       "      <th>usd_per_gb</th>\n",
       "      <th>usd_per_message</th>\n",
       "      <th>usd_per_minute</th>\n",
       "      <th>plan_name</th>\n",
       "    </tr>\n",
       "  </thead>\n",
       "  <tbody>\n",
       "    <tr>\n",
       "      <th>0</th>\n",
       "      <td>50</td>\n",
       "      <td>15360</td>\n",
       "      <td>500</td>\n",
       "      <td>20</td>\n",
       "      <td>10</td>\n",
       "      <td>0.03</td>\n",
       "      <td>0.03</td>\n",
       "      <td>surf</td>\n",
       "    </tr>\n",
       "    <tr>\n",
       "      <th>1</th>\n",
       "      <td>1000</td>\n",
       "      <td>30720</td>\n",
       "      <td>3000</td>\n",
       "      <td>70</td>\n",
       "      <td>7</td>\n",
       "      <td>0.01</td>\n",
       "      <td>0.01</td>\n",
       "      <td>ultimate</td>\n",
       "    </tr>\n",
       "  </tbody>\n",
       "</table>\n",
       "</div>"
      ],
      "text/plain": [
       "   messages_included  mb_per_month_included  minutes_included  \\\n",
       "0                 50                  15360               500   \n",
       "1               1000                  30720              3000   \n",
       "\n",
       "   usd_monthly_pay  usd_per_gb  usd_per_message  usd_per_minute plan_name  \n",
       "0               20          10             0.03            0.03      surf  \n",
       "1               70           7             0.01            0.01  ultimate  "
      ]
     },
     "execution_count": 22,
     "metadata": {},
     "output_type": "execute_result"
    }
   ],
   "source": [
    "# Print a sample of data for plans\n",
    "megaline_plansDF.head()\n"
   ]
  },
  {
   "cell_type": "markdown",
   "metadata": {},
   "source": [
    "[Describe what you see and notice in the general information and the printed data sample for the above price of data. Are there any issues (inappropriate data types, missing data etc) that may need further investigation and changes? How that can be fixed?]"
   ]
  },
  {
   "cell_type": "markdown",
   "metadata": {},
   "source": [
    "### Megaline_Plans Description\n",
    "megaline_plans has 2 entries with 8 columns. Each column describes what each plan offers for what price. This dataframe shows the differences between the two plans. No issues were found with this dataframe."
   ]
  },
  {
   "cell_type": "markdown",
   "metadata": {},
   "source": [
    " "
   ]
  },
  {
   "cell_type": "markdown",
   "metadata": {},
   "source": [
    "## Fix data"
   ]
  },
  {
   "cell_type": "markdown",
   "metadata": {},
   "source": [
    "[Fix obvious issues with the data given the initial observations.]"
   ]
  },
  {
   "cell_type": "markdown",
   "metadata": {},
   "source": [
    "No issues seen."
   ]
  },
  {
   "cell_type": "markdown",
   "metadata": {},
   "source": [
    "## Enrich data"
   ]
  },
  {
   "cell_type": "markdown",
   "metadata": {},
   "source": [
    "[Add additional factors to the data if you believe they might be useful.]"
   ]
  },
  {
   "cell_type": "markdown",
   "metadata": {},
   "source": [
    "No additional factors."
   ]
  },
  {
   "cell_type": "markdown",
   "metadata": {},
   "source": [
    "## Users"
   ]
  },
  {
   "cell_type": "code",
   "execution_count": 33,
   "metadata": {},
   "outputs": [
    {
     "name": "stdout",
     "output_type": "stream",
     "text": [
      "   user_id first_name  last_name  age                                   city  \\\n",
      "0     1000   Anamaria      Bauer   45  Atlanta-Sandy Springs-Roswell, GA MSA   \n",
      "1     1001     Mickey  Wilkerson   28        Seattle-Tacoma-Bellevue, WA MSA   \n",
      "2     1002     Carlee    Hoffman   36   Las Vegas-Henderson-Paradise, NV MSA   \n",
      "3     1003   Reynaldo    Jenkins   52                          Tulsa, OK MSA   \n",
      "4     1004    Leonila   Thompson   40        Seattle-Tacoma-Bellevue, WA MSA   \n",
      "\n",
      "     reg_date      plan churn_date  \n",
      "0  2018-12-24  ultimate        NaN  \n",
      "1  2018-08-13      surf        NaN  \n",
      "2  2018-10-21      surf        NaN  \n",
      "3  2018-01-28      surf        NaN  \n",
      "4  2018-05-23      surf        NaN  \n",
      "--------------------------------------------\n",
      "<class 'pandas.core.frame.DataFrame'>\n",
      "RangeIndex: 500 entries, 0 to 499\n",
      "Data columns (total 8 columns):\n",
      " #   Column      Non-Null Count  Dtype \n",
      "---  ------      --------------  ----- \n",
      " 0   user_id     500 non-null    int64 \n",
      " 1   first_name  500 non-null    object\n",
      " 2   last_name   500 non-null    object\n",
      " 3   age         500 non-null    int64 \n",
      " 4   city        500 non-null    object\n",
      " 5   reg_date    500 non-null    object\n",
      " 6   plan        500 non-null    object\n",
      " 7   churn_date  34 non-null     object\n",
      "dtypes: int64(2), object(6)\n",
      "memory usage: 31.4+ KB\n",
      "None\n",
      "--------------------------------------------\n",
      "Potential Duplicates\n",
      " \n",
      "0\n",
      "--------------------------------------------\n",
      "Potential Missing Data\n",
      " \n",
      "user_id         0\n",
      "first_name      0\n",
      "last_name       0\n",
      "age             0\n",
      "city            0\n",
      "reg_date        0\n",
      "plan            0\n",
      "churn_date    466\n",
      "dtype: int64\n"
     ]
    }
   ],
   "source": [
    "# Print the general/summary information about the users' DataFrame\n",
    "analyze_data(megaline_usersDF)\n"
   ]
  },
  {
   "cell_type": "code",
   "execution_count": 34,
   "metadata": {},
   "outputs": [
    {
     "name": "stdout",
     "output_type": "stream",
     "text": [
      "   user_id first_name  last_name  age                                   city  \\\n",
      "0     1000   Anamaria      Bauer   45  Atlanta-Sandy Springs-Roswell, GA MSA   \n",
      "1     1001     Mickey  Wilkerson   28        Seattle-Tacoma-Bellevue, WA MSA   \n",
      "2     1002     Carlee    Hoffman   36   Las Vegas-Henderson-Paradise, NV MSA   \n",
      "3     1003   Reynaldo    Jenkins   52                          Tulsa, OK MSA   \n",
      "4     1004    Leonila   Thompson   40        Seattle-Tacoma-Bellevue, WA MSA   \n",
      "\n",
      "     reg_date      plan churn_date  \n",
      "0  2018-12-24  ultimate        NaN  \n",
      "1  2018-08-13      surf        NaN  \n",
      "2  2018-10-21      surf        NaN  \n",
      "3  2018-01-28      surf        NaN  \n",
      "4  2018-05-23      surf        NaN  \n"
     ]
    }
   ],
   "source": [
    "# Print a sample of data for users\n",
    "print(megaline_usersDF.head())"
   ]
  },
  {
   "cell_type": "markdown",
   "metadata": {},
   "source": [
    "[Describe what you see and notice in the general information and the printed data sample for the above price of data. Are there any issues (inappropriate data types, missing data etc) that may need further investigation and changes? How that can be fixed?]"
   ]
  },
  {
   "cell_type": "markdown",
   "metadata": {},
   "source": [
    "### Megaline_users Description\n",
    "megaline_users has 500 entries with 8 columns and no missing values except for the churn_date column. reg_date and churn_date columns have incorrect data types and churn_date column has NaN values.\n",
    "- reg_date and churn_date will be changed to datetime datatype.\n",
    "- Churn_date NaN values will be changed to NaT"
   ]
  },
  {
   "cell_type": "markdown",
   "metadata": {},
   "source": [
    " "
   ]
  },
  {
   "cell_type": "markdown",
   "metadata": {},
   "source": [
    "### Fix Data"
   ]
  },
  {
   "cell_type": "markdown",
   "metadata": {},
   "source": [
    "[Fix obvious issues with the data given the initial observations.]"
   ]
  },
  {
   "cell_type": "code",
   "execution_count": 40,
   "metadata": {},
   "outputs": [],
   "source": [
    "megaline_usersDF['reg_date'] = pd.to_datetime(megaline_usersDF['reg_date'], format='%Y-%m-%d')\n",
    "megaline_usersDF['churn_date'] = pd.to_datetime(megaline_usersDF['churn_date'], format= '%Y-%m-%d')"
   ]
  },
  {
   "cell_type": "markdown",
   "metadata": {},
   "source": [
    "Columns reg_date and churn_date are converted to datetime datatype."
   ]
  },
  {
   "cell_type": "code",
   "execution_count": 42,
   "metadata": {},
   "outputs": [
    {
     "name": "stdout",
     "output_type": "stream",
     "text": [
      "   user_id first_name  last_name  age                                   city  \\\n",
      "0     1000   Anamaria      Bauer   45  Atlanta-Sandy Springs-Roswell, GA MSA   \n",
      "1     1001     Mickey  Wilkerson   28        Seattle-Tacoma-Bellevue, WA MSA   \n",
      "2     1002     Carlee    Hoffman   36   Las Vegas-Henderson-Paradise, NV MSA   \n",
      "3     1003   Reynaldo    Jenkins   52                          Tulsa, OK MSA   \n",
      "4     1004    Leonila   Thompson   40        Seattle-Tacoma-Bellevue, WA MSA   \n",
      "\n",
      "    reg_date      plan churn_date  \n",
      "0 2018-12-24  ultimate        NaT  \n",
      "1 2018-08-13      surf        NaT  \n",
      "2 2018-10-21      surf        NaT  \n",
      "3 2018-01-28      surf        NaT  \n",
      "4 2018-05-23      surf        NaT  \n",
      "--------------------------------------------\n",
      "<class 'pandas.core.frame.DataFrame'>\n",
      "RangeIndex: 500 entries, 0 to 499\n",
      "Data columns (total 8 columns):\n",
      " #   Column      Non-Null Count  Dtype         \n",
      "---  ------      --------------  -----         \n",
      " 0   user_id     500 non-null    int64         \n",
      " 1   first_name  500 non-null    object        \n",
      " 2   last_name   500 non-null    object        \n",
      " 3   age         500 non-null    int64         \n",
      " 4   city        500 non-null    object        \n",
      " 5   reg_date    500 non-null    datetime64[ns]\n",
      " 6   plan        500 non-null    object        \n",
      " 7   churn_date  34 non-null     datetime64[ns]\n",
      "dtypes: datetime64[ns](2), int64(2), object(4)\n",
      "memory usage: 31.4+ KB\n",
      "None\n",
      "--------------------------------------------\n",
      "Potential Duplicates\n",
      " \n",
      "0\n",
      "--------------------------------------------\n",
      "Potential Missing Data\n",
      " \n",
      "user_id         0\n",
      "first_name      0\n",
      "last_name       0\n",
      "age             0\n",
      "city            0\n",
      "reg_date        0\n",
      "plan            0\n",
      "churn_date    466\n",
      "dtype: int64\n"
     ]
    }
   ],
   "source": [
    "analyze_data(megaline_usersDF)"
   ]
  },
  {
   "cell_type": "markdown",
   "metadata": {},
   "source": [
    "Confirming the changes made."
   ]
  },
  {
   "cell_type": "markdown",
   "metadata": {},
   "source": [
    "### Enrich Data"
   ]
  },
  {
   "cell_type": "markdown",
   "metadata": {},
   "source": [
    "[Add additional factors to the data if you believe they might be useful.]"
   ]
  },
  {
   "cell_type": "markdown",
   "metadata": {},
   "source": [
    "No additional factors added."
   ]
  },
  {
   "cell_type": "markdown",
   "metadata": {},
   "source": [
    "## Calls"
   ]
  },
  {
   "cell_type": "code",
   "execution_count": 48,
   "metadata": {},
   "outputs": [
    {
     "name": "stdout",
     "output_type": "stream",
     "text": [
      "         id  user_id   call_date  duration\n",
      "0   1000_93     1000  2018-12-27      8.52\n",
      "1  1000_145     1000  2018-12-27     13.66\n",
      "2  1000_247     1000  2018-12-27     14.48\n",
      "3  1000_309     1000  2018-12-28      5.76\n",
      "4  1000_380     1000  2018-12-30      4.22\n",
      "--------------------------------------------\n",
      "<class 'pandas.core.frame.DataFrame'>\n",
      "RangeIndex: 137735 entries, 0 to 137734\n",
      "Data columns (total 4 columns):\n",
      " #   Column     Non-Null Count   Dtype  \n",
      "---  ------     --------------   -----  \n",
      " 0   id         137735 non-null  object \n",
      " 1   user_id    137735 non-null  int64  \n",
      " 2   call_date  137735 non-null  object \n",
      " 3   duration   137735 non-null  float64\n",
      "dtypes: float64(1), int64(1), object(2)\n",
      "memory usage: 4.2+ MB\n",
      "None\n",
      "--------------------------------------------\n",
      "Potential Duplicates\n",
      " \n",
      "0\n",
      "--------------------------------------------\n",
      "Potential Missing Data\n",
      " \n",
      "id           0\n",
      "user_id      0\n",
      "call_date    0\n",
      "duration     0\n",
      "dtype: int64\n"
     ]
    }
   ],
   "source": [
    "# Print the general/summary information about the calls' DataFrame\n",
    "analyze_data(megaline_callsDF)\n"
   ]
  },
  {
   "cell_type": "code",
   "execution_count": 49,
   "metadata": {},
   "outputs": [
    {
     "data": {
      "text/html": [
       "<div>\n",
       "<style scoped>\n",
       "    .dataframe tbody tr th:only-of-type {\n",
       "        vertical-align: middle;\n",
       "    }\n",
       "\n",
       "    .dataframe tbody tr th {\n",
       "        vertical-align: top;\n",
       "    }\n",
       "\n",
       "    .dataframe thead th {\n",
       "        text-align: right;\n",
       "    }\n",
       "</style>\n",
       "<table border=\"1\" class=\"dataframe\">\n",
       "  <thead>\n",
       "    <tr style=\"text-align: right;\">\n",
       "      <th></th>\n",
       "      <th>id</th>\n",
       "      <th>user_id</th>\n",
       "      <th>call_date</th>\n",
       "      <th>duration</th>\n",
       "    </tr>\n",
       "  </thead>\n",
       "  <tbody>\n",
       "    <tr>\n",
       "      <th>0</th>\n",
       "      <td>1000_93</td>\n",
       "      <td>1000</td>\n",
       "      <td>2018-12-27</td>\n",
       "      <td>8.52</td>\n",
       "    </tr>\n",
       "    <tr>\n",
       "      <th>1</th>\n",
       "      <td>1000_145</td>\n",
       "      <td>1000</td>\n",
       "      <td>2018-12-27</td>\n",
       "      <td>13.66</td>\n",
       "    </tr>\n",
       "    <tr>\n",
       "      <th>2</th>\n",
       "      <td>1000_247</td>\n",
       "      <td>1000</td>\n",
       "      <td>2018-12-27</td>\n",
       "      <td>14.48</td>\n",
       "    </tr>\n",
       "    <tr>\n",
       "      <th>3</th>\n",
       "      <td>1000_309</td>\n",
       "      <td>1000</td>\n",
       "      <td>2018-12-28</td>\n",
       "      <td>5.76</td>\n",
       "    </tr>\n",
       "    <tr>\n",
       "      <th>4</th>\n",
       "      <td>1000_380</td>\n",
       "      <td>1000</td>\n",
       "      <td>2018-12-30</td>\n",
       "      <td>4.22</td>\n",
       "    </tr>\n",
       "  </tbody>\n",
       "</table>\n",
       "</div>"
      ],
      "text/plain": [
       "         id  user_id   call_date  duration\n",
       "0   1000_93     1000  2018-12-27      8.52\n",
       "1  1000_145     1000  2018-12-27     13.66\n",
       "2  1000_247     1000  2018-12-27     14.48\n",
       "3  1000_309     1000  2018-12-28      5.76\n",
       "4  1000_380     1000  2018-12-30      4.22"
      ]
     },
     "execution_count": 49,
     "metadata": {},
     "output_type": "execute_result"
    }
   ],
   "source": [
    "# Print a sample of data for calls\n",
    "megaline_callsDF.head()\n"
   ]
  },
  {
   "cell_type": "markdown",
   "metadata": {},
   "source": [
    "[Describe what you see and notice in the general information and the printed data sample for the above price of data. Are there any issues (inappropriate data types, missing data etc) that may need further investigation and changes? How that can be fixed?]"
   ]
  },
  {
   "cell_type": "markdown",
   "metadata": {},
   "source": [
    "### Megaline_calls Description\n",
    "megaline_calls has 137,735 entries with no missing values and has 4 columns. the call_date column has an incorrect data type. I also notice the plan is not included for each user. Each call needs to be rounded up to the next minute, changing the duration column to int. The dates should be in ascending order.\n",
    "- Change the call_date data type to datetime.\n",
    "- Add the plan for each user.\n",
    "- round up each call if float\n",
    "- change duration column to int\n",
    "- Update the dates to be in ascending order"
   ]
  },
  {
   "cell_type": "markdown",
   "metadata": {},
   "source": [
    " "
   ]
  },
  {
   "cell_type": "markdown",
   "metadata": {},
   "source": [
    "### Fix data"
   ]
  },
  {
   "cell_type": "markdown",
   "metadata": {},
   "source": [
    "[Fix obvious issues with the data given the initial observations.]"
   ]
  },
  {
   "cell_type": "code",
   "execution_count": 55,
   "metadata": {},
   "outputs": [],
   "source": [
    "megaline_callsDF['call_date'] = pd.to_datetime(megaline_callsDF['call_date'], format='%Y-%m-%d')"
   ]
  },
  {
   "cell_type": "markdown",
   "metadata": {},
   "source": [
    "Changing the call_date column to datetime datatype."
   ]
  },
  {
   "cell_type": "code",
   "execution_count": 57,
   "metadata": {},
   "outputs": [],
   "source": [
    "megaline_callsDF['duration'] = np.ceil(megaline_callsDF['duration'])"
   ]
  },
  {
   "cell_type": "markdown",
   "metadata": {},
   "source": [
    "Rounding the duration up to the next whole number for each individual call. "
   ]
  },
  {
   "cell_type": "code",
   "execution_count": 59,
   "metadata": {},
   "outputs": [
    {
     "data": {
      "text/html": [
       "<div>\n",
       "<style scoped>\n",
       "    .dataframe tbody tr th:only-of-type {\n",
       "        vertical-align: middle;\n",
       "    }\n",
       "\n",
       "    .dataframe tbody tr th {\n",
       "        vertical-align: top;\n",
       "    }\n",
       "\n",
       "    .dataframe thead th {\n",
       "        text-align: right;\n",
       "    }\n",
       "</style>\n",
       "<table border=\"1\" class=\"dataframe\">\n",
       "  <thead>\n",
       "    <tr style=\"text-align: right;\">\n",
       "      <th></th>\n",
       "      <th>id</th>\n",
       "      <th>user_id</th>\n",
       "      <th>call_date</th>\n",
       "      <th>duration</th>\n",
       "    </tr>\n",
       "  </thead>\n",
       "  <tbody>\n",
       "    <tr>\n",
       "      <th>0</th>\n",
       "      <td>1000_93</td>\n",
       "      <td>1000</td>\n",
       "      <td>2018-12-27</td>\n",
       "      <td>9.0</td>\n",
       "    </tr>\n",
       "    <tr>\n",
       "      <th>1</th>\n",
       "      <td>1000_145</td>\n",
       "      <td>1000</td>\n",
       "      <td>2018-12-27</td>\n",
       "      <td>14.0</td>\n",
       "    </tr>\n",
       "    <tr>\n",
       "      <th>2</th>\n",
       "      <td>1000_247</td>\n",
       "      <td>1000</td>\n",
       "      <td>2018-12-27</td>\n",
       "      <td>15.0</td>\n",
       "    </tr>\n",
       "    <tr>\n",
       "      <th>3</th>\n",
       "      <td>1000_309</td>\n",
       "      <td>1000</td>\n",
       "      <td>2018-12-28</td>\n",
       "      <td>6.0</td>\n",
       "    </tr>\n",
       "    <tr>\n",
       "      <th>4</th>\n",
       "      <td>1000_380</td>\n",
       "      <td>1000</td>\n",
       "      <td>2018-12-30</td>\n",
       "      <td>5.0</td>\n",
       "    </tr>\n",
       "  </tbody>\n",
       "</table>\n",
       "</div>"
      ],
      "text/plain": [
       "         id  user_id  call_date  duration\n",
       "0   1000_93     1000 2018-12-27       9.0\n",
       "1  1000_145     1000 2018-12-27      14.0\n",
       "2  1000_247     1000 2018-12-27      15.0\n",
       "3  1000_309     1000 2018-12-28       6.0\n",
       "4  1000_380     1000 2018-12-30       5.0"
      ]
     },
     "execution_count": 59,
     "metadata": {},
     "output_type": "execute_result"
    }
   ],
   "source": [
    "megaline_callsDF.head()"
   ]
  },
  {
   "cell_type": "markdown",
   "metadata": {},
   "source": [
    "Confirmation for the duration column to be rounded up to the next whole number."
   ]
  },
  {
   "cell_type": "code",
   "execution_count": 61,
   "metadata": {},
   "outputs": [],
   "source": [
    "megaline_callsDF['duration'] = megaline_callsDF['duration'].astype(int)"
   ]
  },
  {
   "cell_type": "markdown",
   "metadata": {},
   "source": [
    "Now that every call has been rounded up to a whole number, the data type is changed from float to int."
   ]
  },
  {
   "cell_type": "code",
   "execution_count": 63,
   "metadata": {},
   "outputs": [],
   "source": [
    "megaline_callsDF = megaline_callsDF.sort_values(by=['user_id', 'call_date'], ascending=[True, True])"
   ]
  },
  {
   "cell_type": "markdown",
   "metadata": {},
   "source": [
    "Making sure the data is sorted from the earliest date to the latest in ascending order."
   ]
  },
  {
   "cell_type": "code",
   "execution_count": 65,
   "metadata": {},
   "outputs": [
    {
     "name": "stdout",
     "output_type": "stream",
     "text": [
      "          id  user_id  call_date  duration\n",
      "9   1000_544     1000 2018-12-26         5\n",
      "14  1000_826     1000 2018-12-26        10\n",
      "0    1000_93     1000 2018-12-27         9\n",
      "1   1000_145     1000 2018-12-27        14\n",
      "2   1000_247     1000 2018-12-27        15\n",
      "--------------------------------------------\n",
      "<class 'pandas.core.frame.DataFrame'>\n",
      "Index: 137735 entries, 9 to 137709\n",
      "Data columns (total 4 columns):\n",
      " #   Column     Non-Null Count   Dtype         \n",
      "---  ------     --------------   -----         \n",
      " 0   id         137735 non-null  object        \n",
      " 1   user_id    137735 non-null  int64         \n",
      " 2   call_date  137735 non-null  datetime64[ns]\n",
      " 3   duration   137735 non-null  int32         \n",
      "dtypes: datetime64[ns](1), int32(1), int64(1), object(1)\n",
      "memory usage: 4.7+ MB\n",
      "None\n",
      "--------------------------------------------\n",
      "Potential Duplicates\n",
      " \n",
      "0\n",
      "--------------------------------------------\n",
      "Potential Missing Data\n",
      " \n",
      "id           0\n",
      "user_id      0\n",
      "call_date    0\n",
      "duration     0\n",
      "dtype: int64\n"
     ]
    }
   ],
   "source": [
    "analyze_data(megaline_callsDF)"
   ]
  },
  {
   "cell_type": "markdown",
   "metadata": {},
   "source": [
    "Confirming the changes made and everything is completed properly."
   ]
  },
  {
   "cell_type": "markdown",
   "metadata": {},
   "source": [
    "### Enrich data"
   ]
  },
  {
   "cell_type": "markdown",
   "metadata": {},
   "source": [
    "[Add additional factors to the data if you believe they might be useful.]"
   ]
  },
  {
   "cell_type": "markdown",
   "metadata": {},
   "source": [
    "I believe adding the plan for each user would be important."
   ]
  },
  {
   "cell_type": "code",
   "execution_count": 70,
   "metadata": {},
   "outputs": [
    {
     "name": "stdout",
     "output_type": "stream",
     "text": [
      "         id  user_id  call_date  duration      plan\n",
      "0  1000_544     1000 2018-12-26         5  ultimate\n",
      "1  1000_826     1000 2018-12-26        10  ultimate\n",
      "2   1000_93     1000 2018-12-27         9  ultimate\n",
      "3  1000_145     1000 2018-12-27        14  ultimate\n",
      "4  1000_247     1000 2018-12-27        15  ultimate\n",
      "--------------------------------------------\n",
      "<class 'pandas.core.frame.DataFrame'>\n",
      "RangeIndex: 137735 entries, 0 to 137734\n",
      "Data columns (total 5 columns):\n",
      " #   Column     Non-Null Count   Dtype         \n",
      "---  ------     --------------   -----         \n",
      " 0   id         137735 non-null  object        \n",
      " 1   user_id    137735 non-null  int64         \n",
      " 2   call_date  137735 non-null  datetime64[ns]\n",
      " 3   duration   137735 non-null  int32         \n",
      " 4   plan       137735 non-null  object        \n",
      "dtypes: datetime64[ns](1), int32(1), int64(1), object(2)\n",
      "memory usage: 4.7+ MB\n",
      "None\n",
      "--------------------------------------------\n",
      "Potential Duplicates\n",
      " \n",
      "0\n",
      "--------------------------------------------\n",
      "Potential Missing Data\n",
      " \n",
      "id           0\n",
      "user_id      0\n",
      "call_date    0\n",
      "duration     0\n",
      "plan         0\n",
      "dtype: int64\n"
     ]
    }
   ],
   "source": [
    "megaline_callsDF = megaline_callsDF.merge(megaline_usersDF[['user_id', 'plan']], on='user_id', how='left')\n",
    "analyze_data(megaline_callsDF)"
   ]
  },
  {
   "cell_type": "markdown",
   "metadata": {},
   "source": [
    "Plan for each user has been added and confirming the change made is correct."
   ]
  },
  {
   "cell_type": "markdown",
   "metadata": {},
   "source": [
    "## Messages"
   ]
  },
  {
   "cell_type": "code",
   "execution_count": 73,
   "metadata": {},
   "outputs": [
    {
     "name": "stdout",
     "output_type": "stream",
     "text": [
      "         id  user_id message_date\n",
      "0  1000_125     1000   2018-12-27\n",
      "1  1000_160     1000   2018-12-31\n",
      "2  1000_223     1000   2018-12-31\n",
      "3  1000_251     1000   2018-12-27\n",
      "4  1000_255     1000   2018-12-26\n",
      "--------------------------------------------\n",
      "<class 'pandas.core.frame.DataFrame'>\n",
      "RangeIndex: 76051 entries, 0 to 76050\n",
      "Data columns (total 3 columns):\n",
      " #   Column        Non-Null Count  Dtype \n",
      "---  ------        --------------  ----- \n",
      " 0   id            76051 non-null  object\n",
      " 1   user_id       76051 non-null  int64 \n",
      " 2   message_date  76051 non-null  object\n",
      "dtypes: int64(1), object(2)\n",
      "memory usage: 1.7+ MB\n",
      "None\n",
      "--------------------------------------------\n",
      "Potential Duplicates\n",
      " \n",
      "0\n",
      "--------------------------------------------\n",
      "Potential Missing Data\n",
      " \n",
      "id              0\n",
      "user_id         0\n",
      "message_date    0\n",
      "dtype: int64\n"
     ]
    }
   ],
   "source": [
    "# Print the general/summary information about the messages' DataFrame\n",
    "analyze_data(megaline_messagesDF)\n"
   ]
  },
  {
   "cell_type": "code",
   "execution_count": 74,
   "metadata": {},
   "outputs": [
    {
     "data": {
      "text/html": [
       "<div>\n",
       "<style scoped>\n",
       "    .dataframe tbody tr th:only-of-type {\n",
       "        vertical-align: middle;\n",
       "    }\n",
       "\n",
       "    .dataframe tbody tr th {\n",
       "        vertical-align: top;\n",
       "    }\n",
       "\n",
       "    .dataframe thead th {\n",
       "        text-align: right;\n",
       "    }\n",
       "</style>\n",
       "<table border=\"1\" class=\"dataframe\">\n",
       "  <thead>\n",
       "    <tr style=\"text-align: right;\">\n",
       "      <th></th>\n",
       "      <th>id</th>\n",
       "      <th>user_id</th>\n",
       "      <th>message_date</th>\n",
       "    </tr>\n",
       "  </thead>\n",
       "  <tbody>\n",
       "    <tr>\n",
       "      <th>0</th>\n",
       "      <td>1000_125</td>\n",
       "      <td>1000</td>\n",
       "      <td>2018-12-27</td>\n",
       "    </tr>\n",
       "    <tr>\n",
       "      <th>1</th>\n",
       "      <td>1000_160</td>\n",
       "      <td>1000</td>\n",
       "      <td>2018-12-31</td>\n",
       "    </tr>\n",
       "    <tr>\n",
       "      <th>2</th>\n",
       "      <td>1000_223</td>\n",
       "      <td>1000</td>\n",
       "      <td>2018-12-31</td>\n",
       "    </tr>\n",
       "    <tr>\n",
       "      <th>3</th>\n",
       "      <td>1000_251</td>\n",
       "      <td>1000</td>\n",
       "      <td>2018-12-27</td>\n",
       "    </tr>\n",
       "    <tr>\n",
       "      <th>4</th>\n",
       "      <td>1000_255</td>\n",
       "      <td>1000</td>\n",
       "      <td>2018-12-26</td>\n",
       "    </tr>\n",
       "  </tbody>\n",
       "</table>\n",
       "</div>"
      ],
      "text/plain": [
       "         id  user_id message_date\n",
       "0  1000_125     1000   2018-12-27\n",
       "1  1000_160     1000   2018-12-31\n",
       "2  1000_223     1000   2018-12-31\n",
       "3  1000_251     1000   2018-12-27\n",
       "4  1000_255     1000   2018-12-26"
      ]
     },
     "execution_count": 74,
     "metadata": {},
     "output_type": "execute_result"
    }
   ],
   "source": [
    "# Print a sample of data for messages\n",
    "megaline_messagesDF.head()\n"
   ]
  },
  {
   "cell_type": "markdown",
   "metadata": {},
   "source": [
    "[Describe what you see and notice in the general information and the printed data sample for the above price of data. Are there any issues (inappropriate data types, missing data etc) that may need further investigation and changes? How that can be fixed?]"
   ]
  },
  {
   "cell_type": "markdown",
   "metadata": {},
   "source": [
    "### Megaline_messages Description\n",
    "Megaline_messages has 76,051 entries with no missing values and has 3 columns. The message_date column has an incorrect data type of object and the dates are out of order. I also notice the plan for each user is not included.\n",
    "- change message_date column to datetime data type\n",
    "- organize dates for each user from least to greatest\n",
    "- add the plan for each user"
   ]
  },
  {
   "cell_type": "markdown",
   "metadata": {},
   "source": [
    " "
   ]
  },
  {
   "cell_type": "markdown",
   "metadata": {},
   "source": [
    "### Fix data"
   ]
  },
  {
   "cell_type": "markdown",
   "metadata": {},
   "source": [
    "[Fix obvious issues with the data given the initial observations.]"
   ]
  },
  {
   "cell_type": "code",
   "execution_count": 80,
   "metadata": {},
   "outputs": [],
   "source": [
    "megaline_messagesDF['message_date'] = pd.to_datetime(megaline_messagesDF['message_date'], format='%Y-%m-%d')"
   ]
  },
  {
   "cell_type": "markdown",
   "metadata": {},
   "source": [
    "Column message_date has been changed to datetime datatype."
   ]
  },
  {
   "cell_type": "code",
   "execution_count": 82,
   "metadata": {},
   "outputs": [
    {
     "name": "stdout",
     "output_type": "stream",
     "text": [
      "          id  user_id message_date\n",
      "10  1000_567     1000   2018-12-25\n",
      "4   1000_255     1000   2018-12-26\n",
      "0   1000_125     1000   2018-12-27\n",
      "3   1000_251     1000   2018-12-27\n",
      "8   1000_502     1000   2018-12-27\n",
      "--------------------------------------------\n",
      "<class 'pandas.core.frame.DataFrame'>\n",
      "Index: 76051 entries, 10 to 76048\n",
      "Data columns (total 3 columns):\n",
      " #   Column        Non-Null Count  Dtype         \n",
      "---  ------        --------------  -----         \n",
      " 0   id            76051 non-null  object        \n",
      " 1   user_id       76051 non-null  int64         \n",
      " 2   message_date  76051 non-null  datetime64[ns]\n",
      "dtypes: datetime64[ns](1), int64(1), object(1)\n",
      "memory usage: 2.3+ MB\n",
      "None\n",
      "--------------------------------------------\n",
      "Potential Duplicates\n",
      " \n",
      "0\n",
      "--------------------------------------------\n",
      "Potential Missing Data\n",
      " \n",
      "id              0\n",
      "user_id         0\n",
      "message_date    0\n",
      "dtype: int64\n"
     ]
    }
   ],
   "source": [
    "megaline_messagesDF = megaline_messagesDF.sort_values(by=['user_id', 'message_date'], ascending=[True, True])\n",
    "analyze_data(megaline_messagesDF)"
   ]
  },
  {
   "cell_type": "markdown",
   "metadata": {},
   "source": [
    "Column message_date has been organized from earliest to latest in ascending order and confirming the changes made are correct."
   ]
  },
  {
   "cell_type": "markdown",
   "metadata": {},
   "source": [
    "### Enrich data"
   ]
  },
  {
   "cell_type": "markdown",
   "metadata": {},
   "source": [
    "[Add additional factors to the data if you believe they might be useful.]"
   ]
  },
  {
   "cell_type": "code",
   "execution_count": 86,
   "metadata": {},
   "outputs": [
    {
     "name": "stdout",
     "output_type": "stream",
     "text": [
      "         id  user_id message_date      plan\n",
      "0  1000_567     1000   2018-12-25  ultimate\n",
      "1  1000_255     1000   2018-12-26  ultimate\n",
      "2  1000_125     1000   2018-12-27  ultimate\n",
      "3  1000_251     1000   2018-12-27  ultimate\n",
      "4  1000_502     1000   2018-12-27  ultimate\n"
     ]
    }
   ],
   "source": [
    "megaline_messagesDF = megaline_messagesDF.merge(megaline_usersDF[['user_id', 'plan']], on='user_id', how='left')\n",
    "print(megaline_messagesDF.head())"
   ]
  },
  {
   "cell_type": "markdown",
   "metadata": {},
   "source": [
    "Plan added to the dataframe and confirming the change made."
   ]
  },
  {
   "cell_type": "markdown",
   "metadata": {},
   "source": [
    "## Internet"
   ]
  },
  {
   "cell_type": "code",
   "execution_count": 89,
   "metadata": {},
   "outputs": [
    {
     "name": "stdout",
     "output_type": "stream",
     "text": [
      "         id  user_id session_date  mb_used\n",
      "0   1000_13     1000   2018-12-29    89.86\n",
      "1  1000_204     1000   2018-12-31     0.00\n",
      "2  1000_379     1000   2018-12-28   660.40\n",
      "3  1000_413     1000   2018-12-26   270.99\n",
      "4  1000_442     1000   2018-12-27   880.22\n",
      "--------------------------------------------\n",
      "<class 'pandas.core.frame.DataFrame'>\n",
      "RangeIndex: 104825 entries, 0 to 104824\n",
      "Data columns (total 4 columns):\n",
      " #   Column        Non-Null Count   Dtype  \n",
      "---  ------        --------------   -----  \n",
      " 0   id            104825 non-null  object \n",
      " 1   user_id       104825 non-null  int64  \n",
      " 2   session_date  104825 non-null  object \n",
      " 3   mb_used       104825 non-null  float64\n",
      "dtypes: float64(1), int64(1), object(2)\n",
      "memory usage: 3.2+ MB\n",
      "None\n",
      "--------------------------------------------\n",
      "Potential Duplicates\n",
      " \n",
      "0\n",
      "--------------------------------------------\n",
      "Potential Missing Data\n",
      " \n",
      "id              0\n",
      "user_id         0\n",
      "session_date    0\n",
      "mb_used         0\n",
      "dtype: int64\n"
     ]
    }
   ],
   "source": [
    "# Print the general/summary information about the internet DataFrame\n",
    "analyze_data(megaline_internetDF)\n"
   ]
  },
  {
   "cell_type": "code",
   "execution_count": 90,
   "metadata": {},
   "outputs": [
    {
     "data": {
      "text/html": [
       "<div>\n",
       "<style scoped>\n",
       "    .dataframe tbody tr th:only-of-type {\n",
       "        vertical-align: middle;\n",
       "    }\n",
       "\n",
       "    .dataframe tbody tr th {\n",
       "        vertical-align: top;\n",
       "    }\n",
       "\n",
       "    .dataframe thead th {\n",
       "        text-align: right;\n",
       "    }\n",
       "</style>\n",
       "<table border=\"1\" class=\"dataframe\">\n",
       "  <thead>\n",
       "    <tr style=\"text-align: right;\">\n",
       "      <th></th>\n",
       "      <th>id</th>\n",
       "      <th>user_id</th>\n",
       "      <th>session_date</th>\n",
       "      <th>mb_used</th>\n",
       "    </tr>\n",
       "  </thead>\n",
       "  <tbody>\n",
       "    <tr>\n",
       "      <th>0</th>\n",
       "      <td>1000_13</td>\n",
       "      <td>1000</td>\n",
       "      <td>2018-12-29</td>\n",
       "      <td>89.86</td>\n",
       "    </tr>\n",
       "    <tr>\n",
       "      <th>1</th>\n",
       "      <td>1000_204</td>\n",
       "      <td>1000</td>\n",
       "      <td>2018-12-31</td>\n",
       "      <td>0.00</td>\n",
       "    </tr>\n",
       "    <tr>\n",
       "      <th>2</th>\n",
       "      <td>1000_379</td>\n",
       "      <td>1000</td>\n",
       "      <td>2018-12-28</td>\n",
       "      <td>660.40</td>\n",
       "    </tr>\n",
       "    <tr>\n",
       "      <th>3</th>\n",
       "      <td>1000_413</td>\n",
       "      <td>1000</td>\n",
       "      <td>2018-12-26</td>\n",
       "      <td>270.99</td>\n",
       "    </tr>\n",
       "    <tr>\n",
       "      <th>4</th>\n",
       "      <td>1000_442</td>\n",
       "      <td>1000</td>\n",
       "      <td>2018-12-27</td>\n",
       "      <td>880.22</td>\n",
       "    </tr>\n",
       "  </tbody>\n",
       "</table>\n",
       "</div>"
      ],
      "text/plain": [
       "         id  user_id session_date  mb_used\n",
       "0   1000_13     1000   2018-12-29    89.86\n",
       "1  1000_204     1000   2018-12-31     0.00\n",
       "2  1000_379     1000   2018-12-28   660.40\n",
       "3  1000_413     1000   2018-12-26   270.99\n",
       "4  1000_442     1000   2018-12-27   880.22"
      ]
     },
     "execution_count": 90,
     "metadata": {},
     "output_type": "execute_result"
    }
   ],
   "source": [
    "# Print a sample of data for the internet traffic\n",
    "megaline_internetDF.head()\n"
   ]
  },
  {
   "cell_type": "markdown",
   "metadata": {},
   "source": [
    "[Describe what you see and notice in the general information and the printed data sample for the above price of data. Are there any issues (inappropriate data types, missing data etc) that may need further investigation and changes? How that can be fixed?]"
   ]
  },
  {
   "cell_type": "markdown",
   "metadata": {},
   "source": [
    "### Megaline_internet Description\n",
    "megaline_internet has 104,825 entries with no missing values and has 4 columns. Session_date column has an incorrect data type and the session_date column is out of order. I also notice the plan is not inlcuded for each user.\n",
    "- Change the session_date data type from object to datetime\n",
    "- Organize the session_date in ascending order for each user\n",
    "- add the plan for each user"
   ]
  },
  {
   "cell_type": "markdown",
   "metadata": {},
   "source": [
    " "
   ]
  },
  {
   "cell_type": "markdown",
   "metadata": {},
   "source": [
    "### Fix data"
   ]
  },
  {
   "cell_type": "markdown",
   "metadata": {},
   "source": [
    "[Fix obvious issues with the data given the initial observations.]"
   ]
  },
  {
   "cell_type": "code",
   "execution_count": 96,
   "metadata": {},
   "outputs": [],
   "source": [
    "megaline_internetDF['session_date'] = pd.to_datetime(megaline_internetDF['session_date'], format='%Y-%m-%d')"
   ]
  },
  {
   "cell_type": "markdown",
   "metadata": {},
   "source": [
    "Changing the session_date column to datetime datatype."
   ]
  },
  {
   "cell_type": "code",
   "execution_count": 98,
   "metadata": {},
   "outputs": [
    {
     "name": "stdout",
     "output_type": "stream",
     "text": [
      "         id  user_id session_date  mb_used\n",
      "3  1000_413     1000   2018-12-26   270.99\n",
      "4  1000_442     1000   2018-12-27   880.22\n",
      "2  1000_379     1000   2018-12-28   660.40\n",
      "0   1000_13     1000   2018-12-29    89.86\n",
      "1  1000_204     1000   2018-12-31     0.00\n",
      "--------------------------------------------\n",
      "<class 'pandas.core.frame.DataFrame'>\n",
      "Index: 104825 entries, 3 to 104667\n",
      "Data columns (total 4 columns):\n",
      " #   Column        Non-Null Count   Dtype         \n",
      "---  ------        --------------   -----         \n",
      " 0   id            104825 non-null  object        \n",
      " 1   user_id       104825 non-null  int64         \n",
      " 2   session_date  104825 non-null  datetime64[ns]\n",
      " 3   mb_used       104825 non-null  float64       \n",
      "dtypes: datetime64[ns](1), float64(1), int64(1), object(1)\n",
      "memory usage: 4.0+ MB\n",
      "None\n",
      "--------------------------------------------\n",
      "Potential Duplicates\n",
      " \n",
      "0\n",
      "--------------------------------------------\n",
      "Potential Missing Data\n",
      " \n",
      "id              0\n",
      "user_id         0\n",
      "session_date    0\n",
      "mb_used         0\n",
      "dtype: int64\n"
     ]
    }
   ],
   "source": [
    "megaline_internetDF = megaline_internetDF.sort_values(by=['user_id', 'session_date'], ascending= True)\n",
    "analyze_data(megaline_internetDF)"
   ]
  },
  {
   "cell_type": "markdown",
   "metadata": {},
   "source": [
    "Organizing the dates in ascending order from earliest to latest and confrimng the datetime change as well as the dates being in ascending order."
   ]
  },
  {
   "cell_type": "markdown",
   "metadata": {},
   "source": [
    "### Enrich data"
   ]
  },
  {
   "cell_type": "markdown",
   "metadata": {},
   "source": [
    "[Add additional factors to the data if you believe they might be useful.]"
   ]
  },
  {
   "cell_type": "code",
   "execution_count": 102,
   "metadata": {},
   "outputs": [],
   "source": [
    "megaline_internetDF = megaline_internetDF.merge(megaline_usersDF[['user_id', 'plan']], on='user_id', how='left')"
   ]
  },
  {
   "cell_type": "markdown",
   "metadata": {},
   "source": [
    "Adding the plans to the dataframe."
   ]
  },
  {
   "cell_type": "code",
   "execution_count": 104,
   "metadata": {},
   "outputs": [
    {
     "data": {
      "text/html": [
       "<div>\n",
       "<style scoped>\n",
       "    .dataframe tbody tr th:only-of-type {\n",
       "        vertical-align: middle;\n",
       "    }\n",
       "\n",
       "    .dataframe tbody tr th {\n",
       "        vertical-align: top;\n",
       "    }\n",
       "\n",
       "    .dataframe thead th {\n",
       "        text-align: right;\n",
       "    }\n",
       "</style>\n",
       "<table border=\"1\" class=\"dataframe\">\n",
       "  <thead>\n",
       "    <tr style=\"text-align: right;\">\n",
       "      <th></th>\n",
       "      <th>id</th>\n",
       "      <th>user_id</th>\n",
       "      <th>session_date</th>\n",
       "      <th>mb_used</th>\n",
       "      <th>plan</th>\n",
       "    </tr>\n",
       "  </thead>\n",
       "  <tbody>\n",
       "    <tr>\n",
       "      <th>0</th>\n",
       "      <td>1000_413</td>\n",
       "      <td>1000</td>\n",
       "      <td>2018-12-26</td>\n",
       "      <td>270.99</td>\n",
       "      <td>ultimate</td>\n",
       "    </tr>\n",
       "    <tr>\n",
       "      <th>1</th>\n",
       "      <td>1000_442</td>\n",
       "      <td>1000</td>\n",
       "      <td>2018-12-27</td>\n",
       "      <td>880.22</td>\n",
       "      <td>ultimate</td>\n",
       "    </tr>\n",
       "    <tr>\n",
       "      <th>2</th>\n",
       "      <td>1000_379</td>\n",
       "      <td>1000</td>\n",
       "      <td>2018-12-28</td>\n",
       "      <td>660.40</td>\n",
       "      <td>ultimate</td>\n",
       "    </tr>\n",
       "    <tr>\n",
       "      <th>3</th>\n",
       "      <td>1000_13</td>\n",
       "      <td>1000</td>\n",
       "      <td>2018-12-29</td>\n",
       "      <td>89.86</td>\n",
       "      <td>ultimate</td>\n",
       "    </tr>\n",
       "    <tr>\n",
       "      <th>4</th>\n",
       "      <td>1000_204</td>\n",
       "      <td>1000</td>\n",
       "      <td>2018-12-31</td>\n",
       "      <td>0.00</td>\n",
       "      <td>ultimate</td>\n",
       "    </tr>\n",
       "  </tbody>\n",
       "</table>\n",
       "</div>"
      ],
      "text/plain": [
       "         id  user_id session_date  mb_used      plan\n",
       "0  1000_413     1000   2018-12-26   270.99  ultimate\n",
       "1  1000_442     1000   2018-12-27   880.22  ultimate\n",
       "2  1000_379     1000   2018-12-28   660.40  ultimate\n",
       "3   1000_13     1000   2018-12-29    89.86  ultimate\n",
       "4  1000_204     1000   2018-12-31     0.00  ultimate"
      ]
     },
     "execution_count": 104,
     "metadata": {},
     "output_type": "execute_result"
    }
   ],
   "source": [
    "megaline_internetDF.head()"
   ]
  },
  {
   "cell_type": "markdown",
   "metadata": {},
   "source": [
    "Confirming the change made."
   ]
  },
  {
   "cell_type": "markdown",
   "metadata": {},
   "source": [
    "## Study plan conditions"
   ]
  },
  {
   "cell_type": "markdown",
   "metadata": {},
   "source": [
    "[It is critical to understand how the plans work, how users are charged based on their plan subscription. So, we suggest printing out the plan information to view their conditions once again.]"
   ]
  },
  {
   "cell_type": "code",
   "execution_count": 108,
   "metadata": {},
   "outputs": [
    {
     "name": "stdout",
     "output_type": "stream",
     "text": [
      "   messages_included  mb_per_month_included  minutes_included  \\\n",
      "0                 50                  15360               500   \n",
      "1               1000                  30720              3000   \n",
      "\n",
      "   usd_monthly_pay  usd_per_gb  usd_per_message  usd_per_minute plan_name  \n",
      "0               20          10             0.03            0.03      surf  \n",
      "1               70           7             0.01            0.01  ultimate  \n",
      "--------------------------------------------\n",
      "<class 'pandas.core.frame.DataFrame'>\n",
      "RangeIndex: 2 entries, 0 to 1\n",
      "Data columns (total 8 columns):\n",
      " #   Column                 Non-Null Count  Dtype  \n",
      "---  ------                 --------------  -----  \n",
      " 0   messages_included      2 non-null      int64  \n",
      " 1   mb_per_month_included  2 non-null      int64  \n",
      " 2   minutes_included       2 non-null      int64  \n",
      " 3   usd_monthly_pay        2 non-null      int64  \n",
      " 4   usd_per_gb             2 non-null      int64  \n",
      " 5   usd_per_message        2 non-null      float64\n",
      " 6   usd_per_minute         2 non-null      float64\n",
      " 7   plan_name              2 non-null      object \n",
      "dtypes: float64(2), int64(5), object(1)\n",
      "memory usage: 260.0+ bytes\n",
      "None\n",
      "--------------------------------------------\n",
      "Potential Duplicates\n",
      " \n",
      "0\n",
      "--------------------------------------------\n",
      "Potential Missing Data\n",
      " \n",
      "messages_included        0\n",
      "mb_per_month_included    0\n",
      "minutes_included         0\n",
      "usd_monthly_pay          0\n",
      "usd_per_gb               0\n",
      "usd_per_message          0\n",
      "usd_per_minute           0\n",
      "plan_name                0\n",
      "dtype: int64\n"
     ]
    }
   ],
   "source": [
    "# Print out the plan conditions and make sure they are clear for you\n",
    "analyze_data(megaline_plansDF)\n"
   ]
  },
  {
   "cell_type": "markdown",
   "metadata": {},
   "source": [
    "## Aggregate data per user\n",
    "\n",
    "[Now, as the data is clean, aggregate data per user per period in order to have just one record per user per period. It should ease the further analysis a lot.]"
   ]
  },
  {
   "cell_type": "code",
   "execution_count": 110,
   "metadata": {},
   "outputs": [],
   "source": [
    "def user_usage_per_month(df, user_col, date_col, usage_col, activity_name):\n",
    "    df['month'] = df[date_col].dt.to_period('M')\n",
    "    aggregated_df = df.groupby([user_col, 'month'])[usage_col].sum().reset_index(name=f'{activity_name}_count')\n",
    "    return aggregated_df"
   ]
  },
  {
   "cell_type": "markdown",
   "metadata": {},
   "source": [
    "This function was created to get the total usuage for each user per month, it will be used for call duration, and mb used."
   ]
  },
  {
   "cell_type": "code",
   "execution_count": 112,
   "metadata": {},
   "outputs": [],
   "source": [
    "# Calculate the number of calls made by each user per month. Save the result.\n",
    "megaline_callsDF['month'] = megaline_callsDF['call_date'].dt.to_period('M')"
   ]
  },
  {
   "cell_type": "markdown",
   "metadata": {},
   "source": [
    "Creating a month column for each user, which will be used to count the number of calls per month."
   ]
  },
  {
   "cell_type": "code",
   "execution_count": 114,
   "metadata": {},
   "outputs": [
    {
     "data": {
      "text/html": [
       "<div>\n",
       "<style scoped>\n",
       "    .dataframe tbody tr th:only-of-type {\n",
       "        vertical-align: middle;\n",
       "    }\n",
       "\n",
       "    .dataframe tbody tr th {\n",
       "        vertical-align: top;\n",
       "    }\n",
       "\n",
       "    .dataframe thead th {\n",
       "        text-align: right;\n",
       "    }\n",
       "</style>\n",
       "<table border=\"1\" class=\"dataframe\">\n",
       "  <thead>\n",
       "    <tr style=\"text-align: right;\">\n",
       "      <th></th>\n",
       "      <th>id</th>\n",
       "      <th>user_id</th>\n",
       "      <th>call_date</th>\n",
       "      <th>duration</th>\n",
       "      <th>plan</th>\n",
       "      <th>month</th>\n",
       "    </tr>\n",
       "  </thead>\n",
       "  <tbody>\n",
       "    <tr>\n",
       "      <th>0</th>\n",
       "      <td>1000_544</td>\n",
       "      <td>1000</td>\n",
       "      <td>2018-12-26</td>\n",
       "      <td>5</td>\n",
       "      <td>ultimate</td>\n",
       "      <td>2018-12</td>\n",
       "    </tr>\n",
       "    <tr>\n",
       "      <th>1</th>\n",
       "      <td>1000_826</td>\n",
       "      <td>1000</td>\n",
       "      <td>2018-12-26</td>\n",
       "      <td>10</td>\n",
       "      <td>ultimate</td>\n",
       "      <td>2018-12</td>\n",
       "    </tr>\n",
       "    <tr>\n",
       "      <th>2</th>\n",
       "      <td>1000_93</td>\n",
       "      <td>1000</td>\n",
       "      <td>2018-12-27</td>\n",
       "      <td>9</td>\n",
       "      <td>ultimate</td>\n",
       "      <td>2018-12</td>\n",
       "    </tr>\n",
       "    <tr>\n",
       "      <th>3</th>\n",
       "      <td>1000_145</td>\n",
       "      <td>1000</td>\n",
       "      <td>2018-12-27</td>\n",
       "      <td>14</td>\n",
       "      <td>ultimate</td>\n",
       "      <td>2018-12</td>\n",
       "    </tr>\n",
       "    <tr>\n",
       "      <th>4</th>\n",
       "      <td>1000_247</td>\n",
       "      <td>1000</td>\n",
       "      <td>2018-12-27</td>\n",
       "      <td>15</td>\n",
       "      <td>ultimate</td>\n",
       "      <td>2018-12</td>\n",
       "    </tr>\n",
       "  </tbody>\n",
       "</table>\n",
       "</div>"
      ],
      "text/plain": [
       "         id  user_id  call_date  duration      plan    month\n",
       "0  1000_544     1000 2018-12-26         5  ultimate  2018-12\n",
       "1  1000_826     1000 2018-12-26        10  ultimate  2018-12\n",
       "2   1000_93     1000 2018-12-27         9  ultimate  2018-12\n",
       "3  1000_145     1000 2018-12-27        14  ultimate  2018-12\n",
       "4  1000_247     1000 2018-12-27        15  ultimate  2018-12"
      ]
     },
     "execution_count": 114,
     "metadata": {},
     "output_type": "execute_result"
    }
   ],
   "source": [
    "megaline_callsDF.head()"
   ]
  },
  {
   "cell_type": "markdown",
   "metadata": {},
   "source": [
    "Confirming the change made."
   ]
  },
  {
   "cell_type": "code",
   "execution_count": 116,
   "metadata": {},
   "outputs": [
    {
     "data": {
      "text/html": [
       "<div>\n",
       "<style scoped>\n",
       "    .dataframe tbody tr th:only-of-type {\n",
       "        vertical-align: middle;\n",
       "    }\n",
       "\n",
       "    .dataframe tbody tr th {\n",
       "        vertical-align: top;\n",
       "    }\n",
       "\n",
       "    .dataframe thead th {\n",
       "        text-align: right;\n",
       "    }\n",
       "</style>\n",
       "<table border=\"1\" class=\"dataframe\">\n",
       "  <thead>\n",
       "    <tr style=\"text-align: right;\">\n",
       "      <th></th>\n",
       "      <th>user_id</th>\n",
       "      <th>month</th>\n",
       "      <th>call_count</th>\n",
       "    </tr>\n",
       "  </thead>\n",
       "  <tbody>\n",
       "    <tr>\n",
       "      <th>0</th>\n",
       "      <td>1000</td>\n",
       "      <td>2018-12</td>\n",
       "      <td>16</td>\n",
       "    </tr>\n",
       "    <tr>\n",
       "      <th>1</th>\n",
       "      <td>1001</td>\n",
       "      <td>2018-08</td>\n",
       "      <td>27</td>\n",
       "    </tr>\n",
       "    <tr>\n",
       "      <th>2</th>\n",
       "      <td>1001</td>\n",
       "      <td>2018-09</td>\n",
       "      <td>49</td>\n",
       "    </tr>\n",
       "    <tr>\n",
       "      <th>3</th>\n",
       "      <td>1001</td>\n",
       "      <td>2018-10</td>\n",
       "      <td>65</td>\n",
       "    </tr>\n",
       "    <tr>\n",
       "      <th>4</th>\n",
       "      <td>1001</td>\n",
       "      <td>2018-11</td>\n",
       "      <td>64</td>\n",
       "    </tr>\n",
       "  </tbody>\n",
       "</table>\n",
       "</div>"
      ],
      "text/plain": [
       "   user_id    month  call_count\n",
       "0     1000  2018-12          16\n",
       "1     1001  2018-08          27\n",
       "2     1001  2018-09          49\n",
       "3     1001  2018-10          65\n",
       "4     1001  2018-11          64"
      ]
     },
     "execution_count": 116,
     "metadata": {},
     "output_type": "execute_result"
    }
   ],
   "source": [
    "calls_per_month = megaline_callsDF.groupby(['user_id', 'month']).size().reset_index(name='call_count')\n",
    "calls_per_month.head()"
   ]
  },
  {
   "cell_type": "markdown",
   "metadata": {},
   "source": [
    "Created a new dataframe that has the total amount of calls made by each user per month."
   ]
  },
  {
   "cell_type": "code",
   "execution_count": 118,
   "metadata": {},
   "outputs": [],
   "source": [
    "# Calculate the amount of minutes spent by each user per month. Save the result.\n",
    "minutes_per_month = user_usage_per_month(megaline_callsDF, 'user_id', 'call_date', 'duration', 'total_minutes')"
   ]
  },
  {
   "cell_type": "markdown",
   "metadata": {},
   "source": [
    "Using the function I created, the total call duration for each user per month will be calculated."
   ]
  },
  {
   "cell_type": "code",
   "execution_count": 120,
   "metadata": {},
   "outputs": [
    {
     "data": {
      "text/html": [
       "<div>\n",
       "<style scoped>\n",
       "    .dataframe tbody tr th:only-of-type {\n",
       "        vertical-align: middle;\n",
       "    }\n",
       "\n",
       "    .dataframe tbody tr th {\n",
       "        vertical-align: top;\n",
       "    }\n",
       "\n",
       "    .dataframe thead th {\n",
       "        text-align: right;\n",
       "    }\n",
       "</style>\n",
       "<table border=\"1\" class=\"dataframe\">\n",
       "  <thead>\n",
       "    <tr style=\"text-align: right;\">\n",
       "      <th></th>\n",
       "      <th>user_id</th>\n",
       "      <th>month</th>\n",
       "      <th>total_minutes_count</th>\n",
       "    </tr>\n",
       "  </thead>\n",
       "  <tbody>\n",
       "    <tr>\n",
       "      <th>0</th>\n",
       "      <td>1000</td>\n",
       "      <td>2018-12</td>\n",
       "      <td>124</td>\n",
       "    </tr>\n",
       "    <tr>\n",
       "      <th>1</th>\n",
       "      <td>1001</td>\n",
       "      <td>2018-08</td>\n",
       "      <td>182</td>\n",
       "    </tr>\n",
       "    <tr>\n",
       "      <th>2</th>\n",
       "      <td>1001</td>\n",
       "      <td>2018-09</td>\n",
       "      <td>315</td>\n",
       "    </tr>\n",
       "    <tr>\n",
       "      <th>3</th>\n",
       "      <td>1001</td>\n",
       "      <td>2018-10</td>\n",
       "      <td>393</td>\n",
       "    </tr>\n",
       "    <tr>\n",
       "      <th>4</th>\n",
       "      <td>1001</td>\n",
       "      <td>2018-11</td>\n",
       "      <td>426</td>\n",
       "    </tr>\n",
       "  </tbody>\n",
       "</table>\n",
       "</div>"
      ],
      "text/plain": [
       "   user_id    month  total_minutes_count\n",
       "0     1000  2018-12                  124\n",
       "1     1001  2018-08                  182\n",
       "2     1001  2018-09                  315\n",
       "3     1001  2018-10                  393\n",
       "4     1001  2018-11                  426"
      ]
     },
     "execution_count": 120,
     "metadata": {},
     "output_type": "execute_result"
    }
   ],
   "source": [
    "minutes_per_month.head()"
   ]
  },
  {
   "cell_type": "markdown",
   "metadata": {},
   "source": [
    "Confirming the change made is correct."
   ]
  },
  {
   "cell_type": "code",
   "execution_count": 122,
   "metadata": {},
   "outputs": [],
   "source": [
    "# Calculate the number of messages sent by each user per month. Save the result.\n",
    "megaline_messagesDF['month'] = megaline_messagesDF['message_date'].dt.to_period('M') \n"
   ]
  },
  {
   "cell_type": "markdown",
   "metadata": {},
   "source": [
    "Adding a month column to organize each user per month."
   ]
  },
  {
   "cell_type": "code",
   "execution_count": 124,
   "metadata": {},
   "outputs": [],
   "source": [
    "messages_per_month = megaline_messagesDF.groupby(['user_id', 'month']).size().reset_index(name='message_count')"
   ]
  },
  {
   "cell_type": "markdown",
   "metadata": {},
   "source": [
    "Creating a new dataframe that has the total messages per month for each user."
   ]
  },
  {
   "cell_type": "code",
   "execution_count": 126,
   "metadata": {},
   "outputs": [
    {
     "data": {
      "text/html": [
       "<div>\n",
       "<style scoped>\n",
       "    .dataframe tbody tr th:only-of-type {\n",
       "        vertical-align: middle;\n",
       "    }\n",
       "\n",
       "    .dataframe tbody tr th {\n",
       "        vertical-align: top;\n",
       "    }\n",
       "\n",
       "    .dataframe thead th {\n",
       "        text-align: right;\n",
       "    }\n",
       "</style>\n",
       "<table border=\"1\" class=\"dataframe\">\n",
       "  <thead>\n",
       "    <tr style=\"text-align: right;\">\n",
       "      <th></th>\n",
       "      <th>user_id</th>\n",
       "      <th>month</th>\n",
       "      <th>message_count</th>\n",
       "    </tr>\n",
       "  </thead>\n",
       "  <tbody>\n",
       "    <tr>\n",
       "      <th>0</th>\n",
       "      <td>1000</td>\n",
       "      <td>2018-12</td>\n",
       "      <td>11</td>\n",
       "    </tr>\n",
       "    <tr>\n",
       "      <th>1</th>\n",
       "      <td>1001</td>\n",
       "      <td>2018-08</td>\n",
       "      <td>30</td>\n",
       "    </tr>\n",
       "    <tr>\n",
       "      <th>2</th>\n",
       "      <td>1001</td>\n",
       "      <td>2018-09</td>\n",
       "      <td>44</td>\n",
       "    </tr>\n",
       "    <tr>\n",
       "      <th>3</th>\n",
       "      <td>1001</td>\n",
       "      <td>2018-10</td>\n",
       "      <td>53</td>\n",
       "    </tr>\n",
       "    <tr>\n",
       "      <th>4</th>\n",
       "      <td>1001</td>\n",
       "      <td>2018-11</td>\n",
       "      <td>36</td>\n",
       "    </tr>\n",
       "  </tbody>\n",
       "</table>\n",
       "</div>"
      ],
      "text/plain": [
       "   user_id    month  message_count\n",
       "0     1000  2018-12             11\n",
       "1     1001  2018-08             30\n",
       "2     1001  2018-09             44\n",
       "3     1001  2018-10             53\n",
       "4     1001  2018-11             36"
      ]
     },
     "execution_count": 126,
     "metadata": {},
     "output_type": "execute_result"
    }
   ],
   "source": [
    "messages_per_month.head()"
   ]
  },
  {
   "cell_type": "markdown",
   "metadata": {},
   "source": [
    "Confirming the change made is correct."
   ]
  },
  {
   "cell_type": "code",
   "execution_count": 128,
   "metadata": {},
   "outputs": [
    {
     "data": {
      "text/html": [
       "<div>\n",
       "<style scoped>\n",
       "    .dataframe tbody tr th:only-of-type {\n",
       "        vertical-align: middle;\n",
       "    }\n",
       "\n",
       "    .dataframe tbody tr th {\n",
       "        vertical-align: top;\n",
       "    }\n",
       "\n",
       "    .dataframe thead th {\n",
       "        text-align: right;\n",
       "    }\n",
       "</style>\n",
       "<table border=\"1\" class=\"dataframe\">\n",
       "  <thead>\n",
       "    <tr style=\"text-align: right;\">\n",
       "      <th></th>\n",
       "      <th>id</th>\n",
       "      <th>user_id</th>\n",
       "      <th>session_date</th>\n",
       "      <th>mb_used</th>\n",
       "      <th>plan</th>\n",
       "    </tr>\n",
       "  </thead>\n",
       "  <tbody>\n",
       "    <tr>\n",
       "      <th>0</th>\n",
       "      <td>1000_413</td>\n",
       "      <td>1000</td>\n",
       "      <td>2018-12-26</td>\n",
       "      <td>270.99</td>\n",
       "      <td>ultimate</td>\n",
       "    </tr>\n",
       "    <tr>\n",
       "      <th>1</th>\n",
       "      <td>1000_442</td>\n",
       "      <td>1000</td>\n",
       "      <td>2018-12-27</td>\n",
       "      <td>880.22</td>\n",
       "      <td>ultimate</td>\n",
       "    </tr>\n",
       "    <tr>\n",
       "      <th>2</th>\n",
       "      <td>1000_379</td>\n",
       "      <td>1000</td>\n",
       "      <td>2018-12-28</td>\n",
       "      <td>660.40</td>\n",
       "      <td>ultimate</td>\n",
       "    </tr>\n",
       "    <tr>\n",
       "      <th>3</th>\n",
       "      <td>1000_13</td>\n",
       "      <td>1000</td>\n",
       "      <td>2018-12-29</td>\n",
       "      <td>89.86</td>\n",
       "      <td>ultimate</td>\n",
       "    </tr>\n",
       "    <tr>\n",
       "      <th>4</th>\n",
       "      <td>1000_204</td>\n",
       "      <td>1000</td>\n",
       "      <td>2018-12-31</td>\n",
       "      <td>0.00</td>\n",
       "      <td>ultimate</td>\n",
       "    </tr>\n",
       "  </tbody>\n",
       "</table>\n",
       "</div>"
      ],
      "text/plain": [
       "         id  user_id session_date  mb_used      plan\n",
       "0  1000_413     1000   2018-12-26   270.99  ultimate\n",
       "1  1000_442     1000   2018-12-27   880.22  ultimate\n",
       "2  1000_379     1000   2018-12-28   660.40  ultimate\n",
       "3   1000_13     1000   2018-12-29    89.86  ultimate\n",
       "4  1000_204     1000   2018-12-31     0.00  ultimate"
      ]
     },
     "execution_count": 128,
     "metadata": {},
     "output_type": "execute_result"
    }
   ],
   "source": [
    "megaline_internetDF.head()"
   ]
  },
  {
   "cell_type": "code",
   "execution_count": 129,
   "metadata": {},
   "outputs": [],
   "source": [
    "# Calculate the volume of internet traffic used by each user per month. Save the result.\n",
    "internet_per_month = user_usage_per_month(megaline_internetDF, 'user_id', 'session_date', 'mb_used', 'mb')\n"
   ]
  },
  {
   "cell_type": "markdown",
   "metadata": {},
   "source": [
    "Created a new dataframe using the custom function to calculate the total amount of mb used for each user per month."
   ]
  },
  {
   "cell_type": "code",
   "execution_count": 131,
   "metadata": {},
   "outputs": [
    {
     "data": {
      "text/html": [
       "<div>\n",
       "<style scoped>\n",
       "    .dataframe tbody tr th:only-of-type {\n",
       "        vertical-align: middle;\n",
       "    }\n",
       "\n",
       "    .dataframe tbody tr th {\n",
       "        vertical-align: top;\n",
       "    }\n",
       "\n",
       "    .dataframe thead th {\n",
       "        text-align: right;\n",
       "    }\n",
       "</style>\n",
       "<table border=\"1\" class=\"dataframe\">\n",
       "  <thead>\n",
       "    <tr style=\"text-align: right;\">\n",
       "      <th></th>\n",
       "      <th>user_id</th>\n",
       "      <th>month</th>\n",
       "      <th>mb_count</th>\n",
       "    </tr>\n",
       "  </thead>\n",
       "  <tbody>\n",
       "    <tr>\n",
       "      <th>0</th>\n",
       "      <td>1000</td>\n",
       "      <td>2018-12</td>\n",
       "      <td>1901.47</td>\n",
       "    </tr>\n",
       "    <tr>\n",
       "      <th>1</th>\n",
       "      <td>1001</td>\n",
       "      <td>2018-08</td>\n",
       "      <td>6919.15</td>\n",
       "    </tr>\n",
       "    <tr>\n",
       "      <th>2</th>\n",
       "      <td>1001</td>\n",
       "      <td>2018-09</td>\n",
       "      <td>13314.82</td>\n",
       "    </tr>\n",
       "    <tr>\n",
       "      <th>3</th>\n",
       "      <td>1001</td>\n",
       "      <td>2018-10</td>\n",
       "      <td>22330.49</td>\n",
       "    </tr>\n",
       "    <tr>\n",
       "      <th>4</th>\n",
       "      <td>1001</td>\n",
       "      <td>2018-11</td>\n",
       "      <td>18504.30</td>\n",
       "    </tr>\n",
       "  </tbody>\n",
       "</table>\n",
       "</div>"
      ],
      "text/plain": [
       "   user_id    month  mb_count\n",
       "0     1000  2018-12   1901.47\n",
       "1     1001  2018-08   6919.15\n",
       "2     1001  2018-09  13314.82\n",
       "3     1001  2018-10  22330.49\n",
       "4     1001  2018-11  18504.30"
      ]
     },
     "execution_count": 131,
     "metadata": {},
     "output_type": "execute_result"
    }
   ],
   "source": [
    "internet_per_month.head()"
   ]
  },
  {
   "cell_type": "markdown",
   "metadata": {},
   "source": [
    "Confirming the changes made are correct."
   ]
  },
  {
   "cell_type": "code",
   "execution_count": 133,
   "metadata": {},
   "outputs": [],
   "source": [
    "internet_per_month['mb_count'] = np.ceil(internet_per_month['mb_count'] / 1024) * 1024"
   ]
  },
  {
   "cell_type": "markdown",
   "metadata": {},
   "source": [
    "mb_count has been updated to nearest 1,024th interval for gb convertion later on."
   ]
  },
  {
   "cell_type": "code",
   "execution_count": 135,
   "metadata": {},
   "outputs": [
    {
     "data": {
      "text/html": [
       "<div>\n",
       "<style scoped>\n",
       "    .dataframe tbody tr th:only-of-type {\n",
       "        vertical-align: middle;\n",
       "    }\n",
       "\n",
       "    .dataframe tbody tr th {\n",
       "        vertical-align: top;\n",
       "    }\n",
       "\n",
       "    .dataframe thead th {\n",
       "        text-align: right;\n",
       "    }\n",
       "</style>\n",
       "<table border=\"1\" class=\"dataframe\">\n",
       "  <thead>\n",
       "    <tr style=\"text-align: right;\">\n",
       "      <th></th>\n",
       "      <th>user_id</th>\n",
       "      <th>month</th>\n",
       "      <th>mb_count</th>\n",
       "    </tr>\n",
       "  </thead>\n",
       "  <tbody>\n",
       "    <tr>\n",
       "      <th>0</th>\n",
       "      <td>1000</td>\n",
       "      <td>2018-12</td>\n",
       "      <td>2048.0</td>\n",
       "    </tr>\n",
       "    <tr>\n",
       "      <th>1</th>\n",
       "      <td>1001</td>\n",
       "      <td>2018-08</td>\n",
       "      <td>7168.0</td>\n",
       "    </tr>\n",
       "    <tr>\n",
       "      <th>2</th>\n",
       "      <td>1001</td>\n",
       "      <td>2018-09</td>\n",
       "      <td>14336.0</td>\n",
       "    </tr>\n",
       "    <tr>\n",
       "      <th>3</th>\n",
       "      <td>1001</td>\n",
       "      <td>2018-10</td>\n",
       "      <td>22528.0</td>\n",
       "    </tr>\n",
       "    <tr>\n",
       "      <th>4</th>\n",
       "      <td>1001</td>\n",
       "      <td>2018-11</td>\n",
       "      <td>19456.0</td>\n",
       "    </tr>\n",
       "  </tbody>\n",
       "</table>\n",
       "</div>"
      ],
      "text/plain": [
       "   user_id    month  mb_count\n",
       "0     1000  2018-12    2048.0\n",
       "1     1001  2018-08    7168.0\n",
       "2     1001  2018-09   14336.0\n",
       "3     1001  2018-10   22528.0\n",
       "4     1001  2018-11   19456.0"
      ]
     },
     "execution_count": 135,
     "metadata": {},
     "output_type": "execute_result"
    }
   ],
   "source": [
    "internet_per_month.head()"
   ]
  },
  {
   "cell_type": "markdown",
   "metadata": {},
   "source": [
    "Confirming mb_count change."
   ]
  },
  {
   "cell_type": "markdown",
   "metadata": {},
   "source": [
    "[Put the aggregate data together into one DataFrame so that one record in it would represent what an unique user consumed in a given month.]"
   ]
  },
  {
   "cell_type": "code",
   "execution_count": 138,
   "metadata": {},
   "outputs": [],
   "source": [
    "# Merge the data for calls, minutes, messages, internet based on user_id and month\n",
    "merged_df = calls_per_month.merge(minutes_per_month,on=['user_id', 'month'], how='outer')\n"
   ]
  },
  {
   "cell_type": "markdown",
   "metadata": {},
   "source": [
    "Created a new dataframe for the aggreagated data to be added to, and merged the new dataframe with calls_per_month dataframe."
   ]
  },
  {
   "cell_type": "code",
   "execution_count": 140,
   "metadata": {},
   "outputs": [],
   "source": [
    "merged_df = merged_df.merge(messages_per_month, on=['user_id', 'month'], how='outer')"
   ]
  },
  {
   "cell_type": "markdown",
   "metadata": {},
   "source": [
    "Adding the message_count to the new dataframe."
   ]
  },
  {
   "cell_type": "code",
   "execution_count": 142,
   "metadata": {},
   "outputs": [],
   "source": [
    "merged_df = merged_df.merge(internet_per_month, on=['user_id', 'month'], how='outer')"
   ]
  },
  {
   "cell_type": "markdown",
   "metadata": {},
   "source": [
    "Adding the mb used to the new dataframe."
   ]
  },
  {
   "cell_type": "code",
   "execution_count": 144,
   "metadata": {},
   "outputs": [
    {
     "name": "stdout",
     "output_type": "stream",
     "text": [
      "   user_id    month  call_count  total_minutes_count  message_count  mb_count\n",
      "0     1000  2018-12        16.0                124.0           11.0    2048.0\n",
      "1     1001  2018-08        27.0                182.0           30.0    7168.0\n",
      "2     1001  2018-09        49.0                315.0           44.0   14336.0\n",
      "3     1001  2018-10        65.0                393.0           53.0   22528.0\n",
      "4     1001  2018-11        64.0                426.0           36.0   19456.0\n",
      "--------------------------------------------\n",
      "<class 'pandas.core.frame.DataFrame'>\n",
      "RangeIndex: 2293 entries, 0 to 2292\n",
      "Data columns (total 6 columns):\n",
      " #   Column               Non-Null Count  Dtype    \n",
      "---  ------               --------------  -----    \n",
      " 0   user_id              2293 non-null   int64    \n",
      " 1   month                2293 non-null   period[M]\n",
      " 2   call_count           2258 non-null   float64  \n",
      " 3   total_minutes_count  2258 non-null   float64  \n",
      " 4   message_count        1806 non-null   float64  \n",
      " 5   mb_count             2277 non-null   float64  \n",
      "dtypes: float64(4), int64(1), period[M](1)\n",
      "memory usage: 107.6 KB\n",
      "None\n",
      "--------------------------------------------\n",
      "Potential Duplicates\n",
      " \n",
      "0\n",
      "--------------------------------------------\n",
      "Potential Missing Data\n",
      " \n",
      "user_id                  0\n",
      "month                    0\n",
      "call_count              35\n",
      "total_minutes_count     35\n",
      "message_count          487\n",
      "mb_count                16\n",
      "dtype: int64\n"
     ]
    }
   ],
   "source": [
    "analyze_data(merged_df)"
   ]
  },
  {
   "cell_type": "markdown",
   "metadata": {},
   "source": [
    "Confirming that the new dataframe has everything merged together while checking the datatype and if there are any missing values."
   ]
  },
  {
   "cell_type": "code",
   "execution_count": 146,
   "metadata": {},
   "outputs": [],
   "source": [
    "merged_df.rename(columns={'total_minutes_count' : 'minutes_count'}, inplace=True)"
   ]
  },
  {
   "cell_type": "markdown",
   "metadata": {},
   "source": [
    "I wanted to remove the total part and keep all column names consistant."
   ]
  },
  {
   "cell_type": "code",
   "execution_count": 148,
   "metadata": {
    "scrolled": true
   },
   "outputs": [
    {
     "name": "stdout",
     "output_type": "stream",
     "text": [
      "   user_id    month  call_count  minutes_count  message_count  mb_count\n",
      "0     1000  2018-12        16.0          124.0           11.0    2048.0\n",
      "1     1001  2018-08        27.0          182.0           30.0    7168.0\n",
      "2     1001  2018-09        49.0          315.0           44.0   14336.0\n",
      "3     1001  2018-10        65.0          393.0           53.0   22528.0\n",
      "4     1001  2018-11        64.0          426.0           36.0   19456.0\n",
      "--------------------------------------------\n",
      "<class 'pandas.core.frame.DataFrame'>\n",
      "RangeIndex: 2293 entries, 0 to 2292\n",
      "Data columns (total 6 columns):\n",
      " #   Column         Non-Null Count  Dtype    \n",
      "---  ------         --------------  -----    \n",
      " 0   user_id        2293 non-null   int64    \n",
      " 1   month          2293 non-null   period[M]\n",
      " 2   call_count     2258 non-null   float64  \n",
      " 3   minutes_count  2258 non-null   float64  \n",
      " 4   message_count  1806 non-null   float64  \n",
      " 5   mb_count       2277 non-null   float64  \n",
      "dtypes: float64(4), int64(1), period[M](1)\n",
      "memory usage: 107.6 KB\n",
      "None\n",
      "--------------------------------------------\n",
      "Potential Duplicates\n",
      " \n",
      "0\n",
      "--------------------------------------------\n",
      "Potential Missing Data\n",
      " \n",
      "user_id            0\n",
      "month              0\n",
      "call_count        35\n",
      "minutes_count     35\n",
      "message_count    487\n",
      "mb_count          16\n",
      "dtype: int64\n"
     ]
    }
   ],
   "source": [
    "analyze_data(merged_df)"
   ]
  },
  {
   "cell_type": "markdown",
   "metadata": {},
   "source": [
    "Confriming the column name change."
   ]
  },
  {
   "cell_type": "code",
   "execution_count": 150,
   "metadata": {},
   "outputs": [],
   "source": [
    "merged_df.fillna(0, inplace=True)"
   ]
  },
  {
   "cell_type": "markdown",
   "metadata": {},
   "source": [
    "Filling all missing values with 0 because the columns with missing values are number columns and if its missing than the user used 0 data for that column of that month."
   ]
  },
  {
   "cell_type": "code",
   "execution_count": 152,
   "metadata": {},
   "outputs": [],
   "source": [
    "merged_df = merged_df.astype({'call_count' : int, 'minutes_count' : int, 'message_count' : int, 'mb_count' : int})"
   ]
  },
  {
   "cell_type": "markdown",
   "metadata": {},
   "source": [
    "changing the call_count, minute_count, message_count, and mb_count columns to int because these columns are whole numbers."
   ]
  },
  {
   "cell_type": "code",
   "execution_count": 154,
   "metadata": {},
   "outputs": [
    {
     "name": "stdout",
     "output_type": "stream",
     "text": [
      "   user_id    month  call_count  minutes_count  message_count  mb_count\n",
      "0     1000  2018-12          16            124             11      2048\n",
      "1     1001  2018-08          27            182             30      7168\n",
      "2     1001  2018-09          49            315             44     14336\n",
      "3     1001  2018-10          65            393             53     22528\n",
      "4     1001  2018-11          64            426             36     19456\n",
      "--------------------------------------------\n",
      "<class 'pandas.core.frame.DataFrame'>\n",
      "RangeIndex: 2293 entries, 0 to 2292\n",
      "Data columns (total 6 columns):\n",
      " #   Column         Non-Null Count  Dtype    \n",
      "---  ------         --------------  -----    \n",
      " 0   user_id        2293 non-null   int64    \n",
      " 1   month          2293 non-null   period[M]\n",
      " 2   call_count     2293 non-null   int32    \n",
      " 3   minutes_count  2293 non-null   int32    \n",
      " 4   message_count  2293 non-null   int32    \n",
      " 5   mb_count       2293 non-null   int32    \n",
      "dtypes: int32(4), int64(1), period[M](1)\n",
      "memory usage: 71.8 KB\n",
      "None\n",
      "--------------------------------------------\n",
      "Potential Duplicates\n",
      " \n",
      "0\n",
      "--------------------------------------------\n",
      "Potential Missing Data\n",
      " \n",
      "user_id          0\n",
      "month            0\n",
      "call_count       0\n",
      "minutes_count    0\n",
      "message_count    0\n",
      "mb_count         0\n",
      "dtype: int64\n"
     ]
    }
   ],
   "source": [
    "analyze_data(merged_df)"
   ]
  },
  {
   "cell_type": "markdown",
   "metadata": {},
   "source": [
    "Confirming that the columns have the correct datatype and that there are no missing values."
   ]
  },
  {
   "cell_type": "code",
   "execution_count": 156,
   "metadata": {},
   "outputs": [],
   "source": [
    "# Add the plan information\n",
    "merged_df = merged_df.merge(megaline_usersDF[['user_id', 'plan']], on='user_id', how='left')"
   ]
  },
  {
   "cell_type": "markdown",
   "metadata": {},
   "source": [
    "Adding the plan for each user from the users dataframe."
   ]
  },
  {
   "cell_type": "code",
   "execution_count": 158,
   "metadata": {},
   "outputs": [
    {
     "name": "stdout",
     "output_type": "stream",
     "text": [
      "   user_id    month  call_count  minutes_count  message_count  mb_count  \\\n",
      "0     1000  2018-12          16            124             11      2048   \n",
      "1     1001  2018-08          27            182             30      7168   \n",
      "2     1001  2018-09          49            315             44     14336   \n",
      "3     1001  2018-10          65            393             53     22528   \n",
      "4     1001  2018-11          64            426             36     19456   \n",
      "\n",
      "       plan  \n",
      "0  ultimate  \n",
      "1      surf  \n",
      "2      surf  \n",
      "3      surf  \n",
      "4      surf  \n",
      "--------------------------------------------\n",
      "<class 'pandas.core.frame.DataFrame'>\n",
      "RangeIndex: 2293 entries, 0 to 2292\n",
      "Data columns (total 7 columns):\n",
      " #   Column         Non-Null Count  Dtype    \n",
      "---  ------         --------------  -----    \n",
      " 0   user_id        2293 non-null   int64    \n",
      " 1   month          2293 non-null   period[M]\n",
      " 2   call_count     2293 non-null   int32    \n",
      " 3   minutes_count  2293 non-null   int32    \n",
      " 4   message_count  2293 non-null   int32    \n",
      " 5   mb_count       2293 non-null   int32    \n",
      " 6   plan           2293 non-null   object   \n",
      "dtypes: int32(4), int64(1), object(1), period[M](1)\n",
      "memory usage: 89.7+ KB\n",
      "None\n",
      "--------------------------------------------\n",
      "Potential Duplicates\n",
      " \n",
      "0\n",
      "--------------------------------------------\n",
      "Potential Missing Data\n",
      " \n",
      "user_id          0\n",
      "month            0\n",
      "call_count       0\n",
      "minutes_count    0\n",
      "message_count    0\n",
      "mb_count         0\n",
      "plan             0\n",
      "dtype: int64\n"
     ]
    }
   ],
   "source": [
    "analyze_data(merged_df)"
   ]
  },
  {
   "cell_type": "markdown",
   "metadata": {},
   "source": [
    "Final confirmation to see that the plans have been added accoringly and that the new dataframe has no issues."
   ]
  },
  {
   "cell_type": "markdown",
   "metadata": {},
   "source": [
    "[Calculate the monthly revenue from each user (subtract the free package limit from the total number of calls, text messages, and data; multiply the result by the calling plan value; add the monthly charge depending on the calling plan). N.B. This might not be as trivial as just a couple of lines given the plan conditions! So, it's okay to spend some time on it.]"
   ]
  },
  {
   "cell_type": "code",
   "execution_count": 161,
   "metadata": {},
   "outputs": [
    {
     "data": {
      "text/html": [
       "<div>\n",
       "<style scoped>\n",
       "    .dataframe tbody tr th:only-of-type {\n",
       "        vertical-align: middle;\n",
       "    }\n",
       "\n",
       "    .dataframe tbody tr th {\n",
       "        vertical-align: top;\n",
       "    }\n",
       "\n",
       "    .dataframe thead th {\n",
       "        text-align: right;\n",
       "    }\n",
       "</style>\n",
       "<table border=\"1\" class=\"dataframe\">\n",
       "  <thead>\n",
       "    <tr style=\"text-align: right;\">\n",
       "      <th></th>\n",
       "      <th>messages_included</th>\n",
       "      <th>mb_per_month_included</th>\n",
       "      <th>minutes_included</th>\n",
       "      <th>usd_monthly_pay</th>\n",
       "      <th>usd_per_gb</th>\n",
       "      <th>usd_per_message</th>\n",
       "      <th>usd_per_minute</th>\n",
       "      <th>plan_name</th>\n",
       "    </tr>\n",
       "  </thead>\n",
       "  <tbody>\n",
       "    <tr>\n",
       "      <th>0</th>\n",
       "      <td>50</td>\n",
       "      <td>15360</td>\n",
       "      <td>500</td>\n",
       "      <td>20</td>\n",
       "      <td>10</td>\n",
       "      <td>0.03</td>\n",
       "      <td>0.03</td>\n",
       "      <td>surf</td>\n",
       "    </tr>\n",
       "    <tr>\n",
       "      <th>1</th>\n",
       "      <td>1000</td>\n",
       "      <td>30720</td>\n",
       "      <td>3000</td>\n",
       "      <td>70</td>\n",
       "      <td>7</td>\n",
       "      <td>0.01</td>\n",
       "      <td>0.01</td>\n",
       "      <td>ultimate</td>\n",
       "    </tr>\n",
       "  </tbody>\n",
       "</table>\n",
       "</div>"
      ],
      "text/plain": [
       "   messages_included  mb_per_month_included  minutes_included  \\\n",
       "0                 50                  15360               500   \n",
       "1               1000                  30720              3000   \n",
       "\n",
       "   usd_monthly_pay  usd_per_gb  usd_per_message  usd_per_minute plan_name  \n",
       "0               20          10             0.03            0.03      surf  \n",
       "1               70           7             0.01            0.01  ultimate  "
      ]
     },
     "execution_count": 161,
     "metadata": {},
     "output_type": "execute_result"
    }
   ],
   "source": [
    "megaline_plansDF.head()"
   ]
  },
  {
   "cell_type": "markdown",
   "metadata": {},
   "source": [
    "Looking at the plans dataframe to determine what to do, such as which columns to merge and how the revenue is going to calculated. The plan is to make a new dataframe to get the revenue by merging the all the columns from plans dataframe and aliging the apropriate plan prices for each user."
   ]
  },
  {
   "cell_type": "code",
   "execution_count": 163,
   "metadata": {},
   "outputs": [],
   "source": [
    "merged_df.rename(columns={'plan' : 'plan_name'}, inplace=True)"
   ]
  },
  {
   "cell_type": "markdown",
   "metadata": {},
   "source": [
    "Changing the merged_df plan column name to the same name as the one in the plans dataframe for proper merging."
   ]
  },
  {
   "cell_type": "code",
   "execution_count": 165,
   "metadata": {},
   "outputs": [
    {
     "data": {
      "text/html": [
       "<div>\n",
       "<style scoped>\n",
       "    .dataframe tbody tr th:only-of-type {\n",
       "        vertical-align: middle;\n",
       "    }\n",
       "\n",
       "    .dataframe tbody tr th {\n",
       "        vertical-align: top;\n",
       "    }\n",
       "\n",
       "    .dataframe thead th {\n",
       "        text-align: right;\n",
       "    }\n",
       "</style>\n",
       "<table border=\"1\" class=\"dataframe\">\n",
       "  <thead>\n",
       "    <tr style=\"text-align: right;\">\n",
       "      <th></th>\n",
       "      <th>user_id</th>\n",
       "      <th>month</th>\n",
       "      <th>call_count</th>\n",
       "      <th>minutes_count</th>\n",
       "      <th>message_count</th>\n",
       "      <th>mb_count</th>\n",
       "      <th>plan_name</th>\n",
       "    </tr>\n",
       "  </thead>\n",
       "  <tbody>\n",
       "    <tr>\n",
       "      <th>0</th>\n",
       "      <td>1000</td>\n",
       "      <td>2018-12</td>\n",
       "      <td>16</td>\n",
       "      <td>124</td>\n",
       "      <td>11</td>\n",
       "      <td>2048</td>\n",
       "      <td>ultimate</td>\n",
       "    </tr>\n",
       "    <tr>\n",
       "      <th>1</th>\n",
       "      <td>1001</td>\n",
       "      <td>2018-08</td>\n",
       "      <td>27</td>\n",
       "      <td>182</td>\n",
       "      <td>30</td>\n",
       "      <td>7168</td>\n",
       "      <td>surf</td>\n",
       "    </tr>\n",
       "    <tr>\n",
       "      <th>2</th>\n",
       "      <td>1001</td>\n",
       "      <td>2018-09</td>\n",
       "      <td>49</td>\n",
       "      <td>315</td>\n",
       "      <td>44</td>\n",
       "      <td>14336</td>\n",
       "      <td>surf</td>\n",
       "    </tr>\n",
       "    <tr>\n",
       "      <th>3</th>\n",
       "      <td>1001</td>\n",
       "      <td>2018-10</td>\n",
       "      <td>65</td>\n",
       "      <td>393</td>\n",
       "      <td>53</td>\n",
       "      <td>22528</td>\n",
       "      <td>surf</td>\n",
       "    </tr>\n",
       "    <tr>\n",
       "      <th>4</th>\n",
       "      <td>1001</td>\n",
       "      <td>2018-11</td>\n",
       "      <td>64</td>\n",
       "      <td>426</td>\n",
       "      <td>36</td>\n",
       "      <td>19456</td>\n",
       "      <td>surf</td>\n",
       "    </tr>\n",
       "  </tbody>\n",
       "</table>\n",
       "</div>"
      ],
      "text/plain": [
       "   user_id    month  call_count  minutes_count  message_count  mb_count  \\\n",
       "0     1000  2018-12          16            124             11      2048   \n",
       "1     1001  2018-08          27            182             30      7168   \n",
       "2     1001  2018-09          49            315             44     14336   \n",
       "3     1001  2018-10          65            393             53     22528   \n",
       "4     1001  2018-11          64            426             36     19456   \n",
       "\n",
       "  plan_name  \n",
       "0  ultimate  \n",
       "1      surf  \n",
       "2      surf  \n",
       "3      surf  \n",
       "4      surf  "
      ]
     },
     "execution_count": 165,
     "metadata": {},
     "output_type": "execute_result"
    }
   ],
   "source": [
    "merged_df.head()"
   ]
  },
  {
   "cell_type": "markdown",
   "metadata": {},
   "source": [
    "Confirming the column name change was successful."
   ]
  },
  {
   "cell_type": "code",
   "execution_count": 167,
   "metadata": {},
   "outputs": [],
   "source": [
    "# Calculate the monthly revenue for each user\n",
    "merged_df_agg = merged_df.merge(megaline_plansDF, on='plan_name', how='outer')"
   ]
  },
  {
   "cell_type": "markdown",
   "metadata": {},
   "source": [
    "Created a new dataframe for the revenue calculations and adding the plan price for each users plan per month of usage."
   ]
  },
  {
   "cell_type": "code",
   "execution_count": 169,
   "metadata": {},
   "outputs": [
    {
     "data": {
      "text/html": [
       "<div>\n",
       "<style scoped>\n",
       "    .dataframe tbody tr th:only-of-type {\n",
       "        vertical-align: middle;\n",
       "    }\n",
       "\n",
       "    .dataframe tbody tr th {\n",
       "        vertical-align: top;\n",
       "    }\n",
       "\n",
       "    .dataframe thead th {\n",
       "        text-align: right;\n",
       "    }\n",
       "</style>\n",
       "<table border=\"1\" class=\"dataframe\">\n",
       "  <thead>\n",
       "    <tr style=\"text-align: right;\">\n",
       "      <th></th>\n",
       "      <th>user_id</th>\n",
       "      <th>month</th>\n",
       "      <th>call_count</th>\n",
       "      <th>minutes_count</th>\n",
       "      <th>message_count</th>\n",
       "      <th>mb_count</th>\n",
       "      <th>plan_name</th>\n",
       "      <th>messages_included</th>\n",
       "      <th>mb_per_month_included</th>\n",
       "      <th>minutes_included</th>\n",
       "      <th>usd_monthly_pay</th>\n",
       "      <th>usd_per_gb</th>\n",
       "      <th>usd_per_message</th>\n",
       "      <th>usd_per_minute</th>\n",
       "    </tr>\n",
       "  </thead>\n",
       "  <tbody>\n",
       "    <tr>\n",
       "      <th>0</th>\n",
       "      <td>1001</td>\n",
       "      <td>2018-08</td>\n",
       "      <td>27</td>\n",
       "      <td>182</td>\n",
       "      <td>30</td>\n",
       "      <td>7168</td>\n",
       "      <td>surf</td>\n",
       "      <td>50</td>\n",
       "      <td>15360</td>\n",
       "      <td>500</td>\n",
       "      <td>20</td>\n",
       "      <td>10</td>\n",
       "      <td>0.03</td>\n",
       "      <td>0.03</td>\n",
       "    </tr>\n",
       "    <tr>\n",
       "      <th>1</th>\n",
       "      <td>1001</td>\n",
       "      <td>2018-09</td>\n",
       "      <td>49</td>\n",
       "      <td>315</td>\n",
       "      <td>44</td>\n",
       "      <td>14336</td>\n",
       "      <td>surf</td>\n",
       "      <td>50</td>\n",
       "      <td>15360</td>\n",
       "      <td>500</td>\n",
       "      <td>20</td>\n",
       "      <td>10</td>\n",
       "      <td>0.03</td>\n",
       "      <td>0.03</td>\n",
       "    </tr>\n",
       "    <tr>\n",
       "      <th>2</th>\n",
       "      <td>1001</td>\n",
       "      <td>2018-10</td>\n",
       "      <td>65</td>\n",
       "      <td>393</td>\n",
       "      <td>53</td>\n",
       "      <td>22528</td>\n",
       "      <td>surf</td>\n",
       "      <td>50</td>\n",
       "      <td>15360</td>\n",
       "      <td>500</td>\n",
       "      <td>20</td>\n",
       "      <td>10</td>\n",
       "      <td>0.03</td>\n",
       "      <td>0.03</td>\n",
       "    </tr>\n",
       "    <tr>\n",
       "      <th>3</th>\n",
       "      <td>1001</td>\n",
       "      <td>2018-11</td>\n",
       "      <td>64</td>\n",
       "      <td>426</td>\n",
       "      <td>36</td>\n",
       "      <td>19456</td>\n",
       "      <td>surf</td>\n",
       "      <td>50</td>\n",
       "      <td>15360</td>\n",
       "      <td>500</td>\n",
       "      <td>20</td>\n",
       "      <td>10</td>\n",
       "      <td>0.03</td>\n",
       "      <td>0.03</td>\n",
       "    </tr>\n",
       "    <tr>\n",
       "      <th>4</th>\n",
       "      <td>1001</td>\n",
       "      <td>2018-12</td>\n",
       "      <td>56</td>\n",
       "      <td>412</td>\n",
       "      <td>44</td>\n",
       "      <td>19456</td>\n",
       "      <td>surf</td>\n",
       "      <td>50</td>\n",
       "      <td>15360</td>\n",
       "      <td>500</td>\n",
       "      <td>20</td>\n",
       "      <td>10</td>\n",
       "      <td>0.03</td>\n",
       "      <td>0.03</td>\n",
       "    </tr>\n",
       "  </tbody>\n",
       "</table>\n",
       "</div>"
      ],
      "text/plain": [
       "   user_id    month  call_count  minutes_count  message_count  mb_count  \\\n",
       "0     1001  2018-08          27            182             30      7168   \n",
       "1     1001  2018-09          49            315             44     14336   \n",
       "2     1001  2018-10          65            393             53     22528   \n",
       "3     1001  2018-11          64            426             36     19456   \n",
       "4     1001  2018-12          56            412             44     19456   \n",
       "\n",
       "  plan_name  messages_included  mb_per_month_included  minutes_included  \\\n",
       "0      surf                 50                  15360               500   \n",
       "1      surf                 50                  15360               500   \n",
       "2      surf                 50                  15360               500   \n",
       "3      surf                 50                  15360               500   \n",
       "4      surf                 50                  15360               500   \n",
       "\n",
       "   usd_monthly_pay  usd_per_gb  usd_per_message  usd_per_minute  \n",
       "0               20          10             0.03            0.03  \n",
       "1               20          10             0.03            0.03  \n",
       "2               20          10             0.03            0.03  \n",
       "3               20          10             0.03            0.03  \n",
       "4               20          10             0.03            0.03  "
      ]
     },
     "execution_count": 169,
     "metadata": {},
     "output_type": "execute_result"
    }
   ],
   "source": [
    "merged_df_agg.head()"
   ]
  },
  {
   "cell_type": "markdown",
   "metadata": {},
   "source": [
    "Confirming the new dataframe has all the appropriate columns from plans dataframe in the right places per users plan."
   ]
  },
  {
   "cell_type": "code",
   "execution_count": 171,
   "metadata": {},
   "outputs": [],
   "source": [
    "merged_df_agg['minutes_diff'] = merged_df_agg['minutes_count'] - merged_df_agg['minutes_included']\n",
    "merged_df_agg['messages_diff'] = merged_df_agg['message_count'] - merged_df_agg['messages_included']\n",
    "merged_df_agg['mb_diff'] = merged_df_agg['mb_count'] - merged_df_agg['mb_per_month_included'] "
   ]
  },
  {
   "cell_type": "markdown",
   "metadata": {},
   "source": [
    "Created 3 new columns to see if users went over their monthly limit. If users didn't go over their limit the resulting number will be negative per column, and if the user did go over their limit they will be charged accordlingly."
   ]
  },
  {
   "cell_type": "code",
   "execution_count": 173,
   "metadata": {},
   "outputs": [
    {
     "data": {
      "text/html": [
       "<div>\n",
       "<style scoped>\n",
       "    .dataframe tbody tr th:only-of-type {\n",
       "        vertical-align: middle;\n",
       "    }\n",
       "\n",
       "    .dataframe tbody tr th {\n",
       "        vertical-align: top;\n",
       "    }\n",
       "\n",
       "    .dataframe thead th {\n",
       "        text-align: right;\n",
       "    }\n",
       "</style>\n",
       "<table border=\"1\" class=\"dataframe\">\n",
       "  <thead>\n",
       "    <tr style=\"text-align: right;\">\n",
       "      <th></th>\n",
       "      <th>user_id</th>\n",
       "      <th>month</th>\n",
       "      <th>call_count</th>\n",
       "      <th>minutes_count</th>\n",
       "      <th>message_count</th>\n",
       "      <th>mb_count</th>\n",
       "      <th>plan_name</th>\n",
       "      <th>messages_included</th>\n",
       "      <th>mb_per_month_included</th>\n",
       "      <th>minutes_included</th>\n",
       "      <th>usd_monthly_pay</th>\n",
       "      <th>usd_per_gb</th>\n",
       "      <th>usd_per_message</th>\n",
       "      <th>usd_per_minute</th>\n",
       "      <th>minutes_diff</th>\n",
       "      <th>messages_diff</th>\n",
       "      <th>mb_diff</th>\n",
       "    </tr>\n",
       "  </thead>\n",
       "  <tbody>\n",
       "    <tr>\n",
       "      <th>0</th>\n",
       "      <td>1001</td>\n",
       "      <td>2018-08</td>\n",
       "      <td>27</td>\n",
       "      <td>182</td>\n",
       "      <td>30</td>\n",
       "      <td>7168</td>\n",
       "      <td>surf</td>\n",
       "      <td>50</td>\n",
       "      <td>15360</td>\n",
       "      <td>500</td>\n",
       "      <td>20</td>\n",
       "      <td>10</td>\n",
       "      <td>0.03</td>\n",
       "      <td>0.03</td>\n",
       "      <td>-318</td>\n",
       "      <td>-20</td>\n",
       "      <td>-8192</td>\n",
       "    </tr>\n",
       "    <tr>\n",
       "      <th>1</th>\n",
       "      <td>1001</td>\n",
       "      <td>2018-09</td>\n",
       "      <td>49</td>\n",
       "      <td>315</td>\n",
       "      <td>44</td>\n",
       "      <td>14336</td>\n",
       "      <td>surf</td>\n",
       "      <td>50</td>\n",
       "      <td>15360</td>\n",
       "      <td>500</td>\n",
       "      <td>20</td>\n",
       "      <td>10</td>\n",
       "      <td>0.03</td>\n",
       "      <td>0.03</td>\n",
       "      <td>-185</td>\n",
       "      <td>-6</td>\n",
       "      <td>-1024</td>\n",
       "    </tr>\n",
       "    <tr>\n",
       "      <th>2</th>\n",
       "      <td>1001</td>\n",
       "      <td>2018-10</td>\n",
       "      <td>65</td>\n",
       "      <td>393</td>\n",
       "      <td>53</td>\n",
       "      <td>22528</td>\n",
       "      <td>surf</td>\n",
       "      <td>50</td>\n",
       "      <td>15360</td>\n",
       "      <td>500</td>\n",
       "      <td>20</td>\n",
       "      <td>10</td>\n",
       "      <td>0.03</td>\n",
       "      <td>0.03</td>\n",
       "      <td>-107</td>\n",
       "      <td>3</td>\n",
       "      <td>7168</td>\n",
       "    </tr>\n",
       "    <tr>\n",
       "      <th>3</th>\n",
       "      <td>1001</td>\n",
       "      <td>2018-11</td>\n",
       "      <td>64</td>\n",
       "      <td>426</td>\n",
       "      <td>36</td>\n",
       "      <td>19456</td>\n",
       "      <td>surf</td>\n",
       "      <td>50</td>\n",
       "      <td>15360</td>\n",
       "      <td>500</td>\n",
       "      <td>20</td>\n",
       "      <td>10</td>\n",
       "      <td>0.03</td>\n",
       "      <td>0.03</td>\n",
       "      <td>-74</td>\n",
       "      <td>-14</td>\n",
       "      <td>4096</td>\n",
       "    </tr>\n",
       "    <tr>\n",
       "      <th>4</th>\n",
       "      <td>1001</td>\n",
       "      <td>2018-12</td>\n",
       "      <td>56</td>\n",
       "      <td>412</td>\n",
       "      <td>44</td>\n",
       "      <td>19456</td>\n",
       "      <td>surf</td>\n",
       "      <td>50</td>\n",
       "      <td>15360</td>\n",
       "      <td>500</td>\n",
       "      <td>20</td>\n",
       "      <td>10</td>\n",
       "      <td>0.03</td>\n",
       "      <td>0.03</td>\n",
       "      <td>-88</td>\n",
       "      <td>-6</td>\n",
       "      <td>4096</td>\n",
       "    </tr>\n",
       "  </tbody>\n",
       "</table>\n",
       "</div>"
      ],
      "text/plain": [
       "   user_id    month  call_count  minutes_count  message_count  mb_count  \\\n",
       "0     1001  2018-08          27            182             30      7168   \n",
       "1     1001  2018-09          49            315             44     14336   \n",
       "2     1001  2018-10          65            393             53     22528   \n",
       "3     1001  2018-11          64            426             36     19456   \n",
       "4     1001  2018-12          56            412             44     19456   \n",
       "\n",
       "  plan_name  messages_included  mb_per_month_included  minutes_included  \\\n",
       "0      surf                 50                  15360               500   \n",
       "1      surf                 50                  15360               500   \n",
       "2      surf                 50                  15360               500   \n",
       "3      surf                 50                  15360               500   \n",
       "4      surf                 50                  15360               500   \n",
       "\n",
       "   usd_monthly_pay  usd_per_gb  usd_per_message  usd_per_minute  minutes_diff  \\\n",
       "0               20          10             0.03            0.03          -318   \n",
       "1               20          10             0.03            0.03          -185   \n",
       "2               20          10             0.03            0.03          -107   \n",
       "3               20          10             0.03            0.03           -74   \n",
       "4               20          10             0.03            0.03           -88   \n",
       "\n",
       "   messages_diff  mb_diff  \n",
       "0            -20    -8192  \n",
       "1             -6    -1024  \n",
       "2              3     7168  \n",
       "3            -14     4096  \n",
       "4             -6     4096  "
      ]
     },
     "execution_count": 173,
     "metadata": {},
     "output_type": "execute_result"
    }
   ],
   "source": [
    "merged_df_agg.head()"
   ]
  },
  {
   "cell_type": "markdown",
   "metadata": {},
   "source": [
    "Confirming the columns were aggregated successfuly."
   ]
  },
  {
   "cell_type": "code",
   "execution_count": 175,
   "metadata": {},
   "outputs": [],
   "source": [
    "merged_df_agg[['minutes_diff', 'messages_diff', 'mb_diff']] = merged_df_agg[['minutes_diff', 'messages_diff', 'mb_diff']].clip(lower=0)"
   ]
  },
  {
   "cell_type": "markdown",
   "metadata": {},
   "source": [
    "To get the revenue I plan on multiplying the columns of used data by their counter column of price per data over limit columns, and there can't be negative numbers so for each of the diff columns any value that has a negative number will be converted to 0. Since each column with a negative number will be 0, when the usage columns are multiplyed by their counter columns the result will be 0 and that user will not be charged, since they didnt go over there limit for that data. "
   ]
  },
  {
   "cell_type": "code",
   "execution_count": 177,
   "metadata": {},
   "outputs": [
    {
     "data": {
      "text/html": [
       "<div>\n",
       "<style scoped>\n",
       "    .dataframe tbody tr th:only-of-type {\n",
       "        vertical-align: middle;\n",
       "    }\n",
       "\n",
       "    .dataframe tbody tr th {\n",
       "        vertical-align: top;\n",
       "    }\n",
       "\n",
       "    .dataframe thead th {\n",
       "        text-align: right;\n",
       "    }\n",
       "</style>\n",
       "<table border=\"1\" class=\"dataframe\">\n",
       "  <thead>\n",
       "    <tr style=\"text-align: right;\">\n",
       "      <th></th>\n",
       "      <th>user_id</th>\n",
       "      <th>month</th>\n",
       "      <th>call_count</th>\n",
       "      <th>minutes_count</th>\n",
       "      <th>message_count</th>\n",
       "      <th>mb_count</th>\n",
       "      <th>plan_name</th>\n",
       "      <th>messages_included</th>\n",
       "      <th>mb_per_month_included</th>\n",
       "      <th>minutes_included</th>\n",
       "      <th>usd_monthly_pay</th>\n",
       "      <th>usd_per_gb</th>\n",
       "      <th>usd_per_message</th>\n",
       "      <th>usd_per_minute</th>\n",
       "      <th>minutes_diff</th>\n",
       "      <th>messages_diff</th>\n",
       "      <th>mb_diff</th>\n",
       "    </tr>\n",
       "  </thead>\n",
       "  <tbody>\n",
       "    <tr>\n",
       "      <th>0</th>\n",
       "      <td>1001</td>\n",
       "      <td>2018-08</td>\n",
       "      <td>27</td>\n",
       "      <td>182</td>\n",
       "      <td>30</td>\n",
       "      <td>7168</td>\n",
       "      <td>surf</td>\n",
       "      <td>50</td>\n",
       "      <td>15360</td>\n",
       "      <td>500</td>\n",
       "      <td>20</td>\n",
       "      <td>10</td>\n",
       "      <td>0.03</td>\n",
       "      <td>0.03</td>\n",
       "      <td>0</td>\n",
       "      <td>0</td>\n",
       "      <td>0</td>\n",
       "    </tr>\n",
       "    <tr>\n",
       "      <th>1</th>\n",
       "      <td>1001</td>\n",
       "      <td>2018-09</td>\n",
       "      <td>49</td>\n",
       "      <td>315</td>\n",
       "      <td>44</td>\n",
       "      <td>14336</td>\n",
       "      <td>surf</td>\n",
       "      <td>50</td>\n",
       "      <td>15360</td>\n",
       "      <td>500</td>\n",
       "      <td>20</td>\n",
       "      <td>10</td>\n",
       "      <td>0.03</td>\n",
       "      <td>0.03</td>\n",
       "      <td>0</td>\n",
       "      <td>0</td>\n",
       "      <td>0</td>\n",
       "    </tr>\n",
       "    <tr>\n",
       "      <th>2</th>\n",
       "      <td>1001</td>\n",
       "      <td>2018-10</td>\n",
       "      <td>65</td>\n",
       "      <td>393</td>\n",
       "      <td>53</td>\n",
       "      <td>22528</td>\n",
       "      <td>surf</td>\n",
       "      <td>50</td>\n",
       "      <td>15360</td>\n",
       "      <td>500</td>\n",
       "      <td>20</td>\n",
       "      <td>10</td>\n",
       "      <td>0.03</td>\n",
       "      <td>0.03</td>\n",
       "      <td>0</td>\n",
       "      <td>3</td>\n",
       "      <td>7168</td>\n",
       "    </tr>\n",
       "    <tr>\n",
       "      <th>3</th>\n",
       "      <td>1001</td>\n",
       "      <td>2018-11</td>\n",
       "      <td>64</td>\n",
       "      <td>426</td>\n",
       "      <td>36</td>\n",
       "      <td>19456</td>\n",
       "      <td>surf</td>\n",
       "      <td>50</td>\n",
       "      <td>15360</td>\n",
       "      <td>500</td>\n",
       "      <td>20</td>\n",
       "      <td>10</td>\n",
       "      <td>0.03</td>\n",
       "      <td>0.03</td>\n",
       "      <td>0</td>\n",
       "      <td>0</td>\n",
       "      <td>4096</td>\n",
       "    </tr>\n",
       "    <tr>\n",
       "      <th>4</th>\n",
       "      <td>1001</td>\n",
       "      <td>2018-12</td>\n",
       "      <td>56</td>\n",
       "      <td>412</td>\n",
       "      <td>44</td>\n",
       "      <td>19456</td>\n",
       "      <td>surf</td>\n",
       "      <td>50</td>\n",
       "      <td>15360</td>\n",
       "      <td>500</td>\n",
       "      <td>20</td>\n",
       "      <td>10</td>\n",
       "      <td>0.03</td>\n",
       "      <td>0.03</td>\n",
       "      <td>0</td>\n",
       "      <td>0</td>\n",
       "      <td>4096</td>\n",
       "    </tr>\n",
       "  </tbody>\n",
       "</table>\n",
       "</div>"
      ],
      "text/plain": [
       "   user_id    month  call_count  minutes_count  message_count  mb_count  \\\n",
       "0     1001  2018-08          27            182             30      7168   \n",
       "1     1001  2018-09          49            315             44     14336   \n",
       "2     1001  2018-10          65            393             53     22528   \n",
       "3     1001  2018-11          64            426             36     19456   \n",
       "4     1001  2018-12          56            412             44     19456   \n",
       "\n",
       "  plan_name  messages_included  mb_per_month_included  minutes_included  \\\n",
       "0      surf                 50                  15360               500   \n",
       "1      surf                 50                  15360               500   \n",
       "2      surf                 50                  15360               500   \n",
       "3      surf                 50                  15360               500   \n",
       "4      surf                 50                  15360               500   \n",
       "\n",
       "   usd_monthly_pay  usd_per_gb  usd_per_message  usd_per_minute  minutes_diff  \\\n",
       "0               20          10             0.03            0.03             0   \n",
       "1               20          10             0.03            0.03             0   \n",
       "2               20          10             0.03            0.03             0   \n",
       "3               20          10             0.03            0.03             0   \n",
       "4               20          10             0.03            0.03             0   \n",
       "\n",
       "   messages_diff  mb_diff  \n",
       "0              0        0  \n",
       "1              0        0  \n",
       "2              3     7168  \n",
       "3              0     4096  \n",
       "4              0     4096  "
      ]
     },
     "execution_count": 177,
     "metadata": {},
     "output_type": "execute_result"
    }
   ],
   "source": [
    "merged_df_agg.head()"
   ]
  },
  {
   "cell_type": "markdown",
   "metadata": {},
   "source": [
    "Confirming all negative number in the diff columns have been changed to 0."
   ]
  },
  {
   "cell_type": "code",
   "execution_count": 179,
   "metadata": {},
   "outputs": [],
   "source": [
    "merged_df_agg['revenue'] = merged_df_agg['usd_monthly_pay']"
   ]
  },
  {
   "cell_type": "markdown",
   "metadata": {},
   "source": [
    "Here the revenue column has been created and is being filled with the users monthly plan price to start."
   ]
  },
  {
   "cell_type": "code",
   "execution_count": 181,
   "metadata": {},
   "outputs": [],
   "source": [
    "merged_df_agg['gb_used'] = merged_df_agg['mb_diff'] // 1024"
   ]
  },
  {
   "cell_type": "markdown",
   "metadata": {},
   "source": [
    "Since each user is being charged by the gb every 1,024 mb is being converted to 1 gb."
   ]
  },
  {
   "cell_type": "code",
   "execution_count": 183,
   "metadata": {},
   "outputs": [
    {
     "data": {
      "text/html": [
       "<div>\n",
       "<style scoped>\n",
       "    .dataframe tbody tr th:only-of-type {\n",
       "        vertical-align: middle;\n",
       "    }\n",
       "\n",
       "    .dataframe tbody tr th {\n",
       "        vertical-align: top;\n",
       "    }\n",
       "\n",
       "    .dataframe thead th {\n",
       "        text-align: right;\n",
       "    }\n",
       "</style>\n",
       "<table border=\"1\" class=\"dataframe\">\n",
       "  <thead>\n",
       "    <tr style=\"text-align: right;\">\n",
       "      <th></th>\n",
       "      <th>user_id</th>\n",
       "      <th>month</th>\n",
       "      <th>call_count</th>\n",
       "      <th>minutes_count</th>\n",
       "      <th>message_count</th>\n",
       "      <th>mb_count</th>\n",
       "      <th>plan_name</th>\n",
       "      <th>messages_included</th>\n",
       "      <th>mb_per_month_included</th>\n",
       "      <th>minutes_included</th>\n",
       "      <th>usd_monthly_pay</th>\n",
       "      <th>usd_per_gb</th>\n",
       "      <th>usd_per_message</th>\n",
       "      <th>usd_per_minute</th>\n",
       "      <th>minutes_diff</th>\n",
       "      <th>messages_diff</th>\n",
       "      <th>mb_diff</th>\n",
       "      <th>revenue</th>\n",
       "      <th>gb_used</th>\n",
       "    </tr>\n",
       "  </thead>\n",
       "  <tbody>\n",
       "    <tr>\n",
       "      <th>0</th>\n",
       "      <td>1001</td>\n",
       "      <td>2018-08</td>\n",
       "      <td>27</td>\n",
       "      <td>182</td>\n",
       "      <td>30</td>\n",
       "      <td>7168</td>\n",
       "      <td>surf</td>\n",
       "      <td>50</td>\n",
       "      <td>15360</td>\n",
       "      <td>500</td>\n",
       "      <td>20</td>\n",
       "      <td>10</td>\n",
       "      <td>0.03</td>\n",
       "      <td>0.03</td>\n",
       "      <td>0</td>\n",
       "      <td>0</td>\n",
       "      <td>0</td>\n",
       "      <td>20</td>\n",
       "      <td>0</td>\n",
       "    </tr>\n",
       "    <tr>\n",
       "      <th>1</th>\n",
       "      <td>1001</td>\n",
       "      <td>2018-09</td>\n",
       "      <td>49</td>\n",
       "      <td>315</td>\n",
       "      <td>44</td>\n",
       "      <td>14336</td>\n",
       "      <td>surf</td>\n",
       "      <td>50</td>\n",
       "      <td>15360</td>\n",
       "      <td>500</td>\n",
       "      <td>20</td>\n",
       "      <td>10</td>\n",
       "      <td>0.03</td>\n",
       "      <td>0.03</td>\n",
       "      <td>0</td>\n",
       "      <td>0</td>\n",
       "      <td>0</td>\n",
       "      <td>20</td>\n",
       "      <td>0</td>\n",
       "    </tr>\n",
       "    <tr>\n",
       "      <th>2</th>\n",
       "      <td>1001</td>\n",
       "      <td>2018-10</td>\n",
       "      <td>65</td>\n",
       "      <td>393</td>\n",
       "      <td>53</td>\n",
       "      <td>22528</td>\n",
       "      <td>surf</td>\n",
       "      <td>50</td>\n",
       "      <td>15360</td>\n",
       "      <td>500</td>\n",
       "      <td>20</td>\n",
       "      <td>10</td>\n",
       "      <td>0.03</td>\n",
       "      <td>0.03</td>\n",
       "      <td>0</td>\n",
       "      <td>3</td>\n",
       "      <td>7168</td>\n",
       "      <td>20</td>\n",
       "      <td>7</td>\n",
       "    </tr>\n",
       "    <tr>\n",
       "      <th>3</th>\n",
       "      <td>1001</td>\n",
       "      <td>2018-11</td>\n",
       "      <td>64</td>\n",
       "      <td>426</td>\n",
       "      <td>36</td>\n",
       "      <td>19456</td>\n",
       "      <td>surf</td>\n",
       "      <td>50</td>\n",
       "      <td>15360</td>\n",
       "      <td>500</td>\n",
       "      <td>20</td>\n",
       "      <td>10</td>\n",
       "      <td>0.03</td>\n",
       "      <td>0.03</td>\n",
       "      <td>0</td>\n",
       "      <td>0</td>\n",
       "      <td>4096</td>\n",
       "      <td>20</td>\n",
       "      <td>4</td>\n",
       "    </tr>\n",
       "    <tr>\n",
       "      <th>4</th>\n",
       "      <td>1001</td>\n",
       "      <td>2018-12</td>\n",
       "      <td>56</td>\n",
       "      <td>412</td>\n",
       "      <td>44</td>\n",
       "      <td>19456</td>\n",
       "      <td>surf</td>\n",
       "      <td>50</td>\n",
       "      <td>15360</td>\n",
       "      <td>500</td>\n",
       "      <td>20</td>\n",
       "      <td>10</td>\n",
       "      <td>0.03</td>\n",
       "      <td>0.03</td>\n",
       "      <td>0</td>\n",
       "      <td>0</td>\n",
       "      <td>4096</td>\n",
       "      <td>20</td>\n",
       "      <td>4</td>\n",
       "    </tr>\n",
       "  </tbody>\n",
       "</table>\n",
       "</div>"
      ],
      "text/plain": [
       "   user_id    month  call_count  minutes_count  message_count  mb_count  \\\n",
       "0     1001  2018-08          27            182             30      7168   \n",
       "1     1001  2018-09          49            315             44     14336   \n",
       "2     1001  2018-10          65            393             53     22528   \n",
       "3     1001  2018-11          64            426             36     19456   \n",
       "4     1001  2018-12          56            412             44     19456   \n",
       "\n",
       "  plan_name  messages_included  mb_per_month_included  minutes_included  \\\n",
       "0      surf                 50                  15360               500   \n",
       "1      surf                 50                  15360               500   \n",
       "2      surf                 50                  15360               500   \n",
       "3      surf                 50                  15360               500   \n",
       "4      surf                 50                  15360               500   \n",
       "\n",
       "   usd_monthly_pay  usd_per_gb  usd_per_message  usd_per_minute  minutes_diff  \\\n",
       "0               20          10             0.03            0.03             0   \n",
       "1               20          10             0.03            0.03             0   \n",
       "2               20          10             0.03            0.03             0   \n",
       "3               20          10             0.03            0.03             0   \n",
       "4               20          10             0.03            0.03             0   \n",
       "\n",
       "   messages_diff  mb_diff  revenue  gb_used  \n",
       "0              0        0       20        0  \n",
       "1              0        0       20        0  \n",
       "2              3     7168       20        7  \n",
       "3              0     4096       20        4  \n",
       "4              0     4096       20        4  "
      ]
     },
     "execution_count": 183,
     "metadata": {},
     "output_type": "execute_result"
    }
   ],
   "source": [
    "merged_df_agg.head()"
   ]
  },
  {
   "cell_type": "markdown",
   "metadata": {},
   "source": [
    "Confirming the revenue column has been added with the plan price and the gb column has been added with the correct amount."
   ]
  },
  {
   "cell_type": "code",
   "execution_count": 185,
   "metadata": {},
   "outputs": [],
   "source": [
    "merged_df_agg['revenue'] += merged_df_agg['minutes_diff'] * merged_df_agg['usd_per_minute']\n",
    "merged_df_agg['revenue'] += merged_df_agg['messages_diff'] * merged_df_agg['usd_per_message']\n",
    "merged_df_agg['revenue'] += merged_df_agg['gb_used'] * merged_df_agg['usd_per_gb']"
   ]
  },
  {
   "cell_type": "markdown",
   "metadata": {},
   "source": [
    "Here the revenue calculations are being completed by multiplying each diff column to its counterpart of data being used and the result is being added to the revenue column for each user."
   ]
  },
  {
   "cell_type": "code",
   "execution_count": 187,
   "metadata": {},
   "outputs": [
    {
     "name": "stdout",
     "output_type": "stream",
     "text": [
      "   user_id    month  call_count  minutes_count  message_count  mb_count  \\\n",
      "0     1001  2018-08          27            182             30      7168   \n",
      "1     1001  2018-09          49            315             44     14336   \n",
      "2     1001  2018-10          65            393             53     22528   \n",
      "3     1001  2018-11          64            426             36     19456   \n",
      "4     1001  2018-12          56            412             44     19456   \n",
      "\n",
      "  plan_name  messages_included  mb_per_month_included  minutes_included  \\\n",
      "0      surf                 50                  15360               500   \n",
      "1      surf                 50                  15360               500   \n",
      "2      surf                 50                  15360               500   \n",
      "3      surf                 50                  15360               500   \n",
      "4      surf                 50                  15360               500   \n",
      "\n",
      "   usd_monthly_pay  usd_per_gb  usd_per_message  usd_per_minute  minutes_diff  \\\n",
      "0               20          10             0.03            0.03             0   \n",
      "1               20          10             0.03            0.03             0   \n",
      "2               20          10             0.03            0.03             0   \n",
      "3               20          10             0.03            0.03             0   \n",
      "4               20          10             0.03            0.03             0   \n",
      "\n",
      "   messages_diff  mb_diff  revenue  gb_used  \n",
      "0              0        0    20.00        0  \n",
      "1              0        0    20.00        0  \n",
      "2              3     7168    90.09        7  \n",
      "3              0     4096    60.00        4  \n",
      "4              0     4096    60.00        4  \n",
      "--------------------------------------------\n",
      "<class 'pandas.core.frame.DataFrame'>\n",
      "RangeIndex: 2293 entries, 0 to 2292\n",
      "Data columns (total 19 columns):\n",
      " #   Column                 Non-Null Count  Dtype    \n",
      "---  ------                 --------------  -----    \n",
      " 0   user_id                2293 non-null   int64    \n",
      " 1   month                  2293 non-null   period[M]\n",
      " 2   call_count             2293 non-null   int32    \n",
      " 3   minutes_count          2293 non-null   int32    \n",
      " 4   message_count          2293 non-null   int32    \n",
      " 5   mb_count               2293 non-null   int32    \n",
      " 6   plan_name              2293 non-null   object   \n",
      " 7   messages_included      2293 non-null   int64    \n",
      " 8   mb_per_month_included  2293 non-null   int64    \n",
      " 9   minutes_included       2293 non-null   int64    \n",
      " 10  usd_monthly_pay        2293 non-null   int64    \n",
      " 11  usd_per_gb             2293 non-null   int64    \n",
      " 12  usd_per_message        2293 non-null   float64  \n",
      " 13  usd_per_minute         2293 non-null   float64  \n",
      " 14  minutes_diff           2293 non-null   int64    \n",
      " 15  messages_diff          2293 non-null   int64    \n",
      " 16  mb_diff                2293 non-null   int64    \n",
      " 17  revenue                2293 non-null   float64  \n",
      " 18  gb_used                2293 non-null   int64    \n",
      "dtypes: float64(3), int32(4), int64(10), object(1), period[M](1)\n",
      "memory usage: 304.7+ KB\n",
      "None\n",
      "--------------------------------------------\n",
      "Potential Duplicates\n",
      " \n",
      "0\n",
      "--------------------------------------------\n",
      "Potential Missing Data\n",
      " \n",
      "user_id                  0\n",
      "month                    0\n",
      "call_count               0\n",
      "minutes_count            0\n",
      "message_count            0\n",
      "mb_count                 0\n",
      "plan_name                0\n",
      "messages_included        0\n",
      "mb_per_month_included    0\n",
      "minutes_included         0\n",
      "usd_monthly_pay          0\n",
      "usd_per_gb               0\n",
      "usd_per_message          0\n",
      "usd_per_minute           0\n",
      "minutes_diff             0\n",
      "messages_diff            0\n",
      "mb_diff                  0\n",
      "revenue                  0\n",
      "gb_used                  0\n",
      "dtype: int64\n"
     ]
    }
   ],
   "source": [
    "analyze_data(merged_df_agg)"
   ]
  },
  {
   "cell_type": "markdown",
   "metadata": {},
   "source": [
    "Confirming that the revnue column is correct and has been aggregated successfuly as well as no missing values or duplicates."
   ]
  },
  {
   "cell_type": "code",
   "execution_count": 189,
   "metadata": {},
   "outputs": [
    {
     "data": {
      "text/plain": [
       "0       20.00\n",
       "1       20.00\n",
       "2       90.09\n",
       "3       60.00\n",
       "4       60.00\n",
       "        ...  \n",
       "2288    70.00\n",
       "2289    70.00\n",
       "2290    70.00\n",
       "2291    70.00\n",
       "2292    70.00\n",
       "Name: revenue, Length: 2293, dtype: float64"
      ]
     },
     "execution_count": 189,
     "metadata": {},
     "output_type": "execute_result"
    }
   ],
   "source": [
    "merged_df_agg['revenue']"
   ]
  },
  {
   "cell_type": "markdown",
   "metadata": {},
   "source": [
    "## Study user behaviour"
   ]
  },
  {
   "cell_type": "markdown",
   "metadata": {},
   "source": [
    "[Calculate some useful descriptive statistics for the aggregated and merged data, which typically reveal an overall picture captured by the data. Draw useful plots to help the understanding. Given that the main task is to compare the plans and decide on which one is more profitable, the statistics and the plots should be calculated on a per-plan basis.]\n",
    "\n",
    "[There are relevant hints in the comments for Calls but they are not provided for Messages and Internet though the principle of statistical study is the same for them as for Calls.]"
   ]
  },
  {
   "cell_type": "markdown",
   "metadata": {},
   "source": [
    "### Calls"
   ]
  },
  {
   "cell_type": "code",
   "execution_count": 193,
   "metadata": {},
   "outputs": [
    {
     "data": {
      "text/html": [
       "<div>\n",
       "<style scoped>\n",
       "    .dataframe tbody tr th:only-of-type {\n",
       "        vertical-align: middle;\n",
       "    }\n",
       "\n",
       "    .dataframe tbody tr th {\n",
       "        vertical-align: top;\n",
       "    }\n",
       "\n",
       "    .dataframe thead th {\n",
       "        text-align: right;\n",
       "    }\n",
       "</style>\n",
       "<table border=\"1\" class=\"dataframe\">\n",
       "  <thead>\n",
       "    <tr style=\"text-align: right;\">\n",
       "      <th>month</th>\n",
       "      <th>2018-01</th>\n",
       "      <th>2018-02</th>\n",
       "      <th>2018-03</th>\n",
       "      <th>2018-04</th>\n",
       "      <th>2018-05</th>\n",
       "      <th>2018-06</th>\n",
       "      <th>2018-07</th>\n",
       "      <th>2018-08</th>\n",
       "      <th>2018-09</th>\n",
       "      <th>2018-10</th>\n",
       "      <th>2018-11</th>\n",
       "      <th>2018-12</th>\n",
       "    </tr>\n",
       "    <tr>\n",
       "      <th>plan_name</th>\n",
       "      <th></th>\n",
       "      <th></th>\n",
       "      <th></th>\n",
       "      <th></th>\n",
       "      <th></th>\n",
       "      <th></th>\n",
       "      <th></th>\n",
       "      <th></th>\n",
       "      <th></th>\n",
       "      <th></th>\n",
       "      <th></th>\n",
       "      <th></th>\n",
       "    </tr>\n",
       "  </thead>\n",
       "  <tbody>\n",
       "    <tr>\n",
       "      <th>surf</th>\n",
       "      <td>203.0</td>\n",
       "      <td>297.000000</td>\n",
       "      <td>330.00</td>\n",
       "      <td>351.540000</td>\n",
       "      <td>399.584416</td>\n",
       "      <td>431.298969</td>\n",
       "      <td>449.983471</td>\n",
       "      <td>410.111111</td>\n",
       "      <td>414.226804</td>\n",
       "      <td>429.729958</td>\n",
       "      <td>423.325088</td>\n",
       "      <td>473.836478</td>\n",
       "    </tr>\n",
       "    <tr>\n",
       "      <th>ultimate</th>\n",
       "      <td>193.5</td>\n",
       "      <td>403.142857</td>\n",
       "      <td>304.25</td>\n",
       "      <td>336.857143</td>\n",
       "      <td>406.241379</td>\n",
       "      <td>370.957447</td>\n",
       "      <td>427.067797</td>\n",
       "      <td>421.436620</td>\n",
       "      <td>437.511628</td>\n",
       "      <td>450.735849</td>\n",
       "      <td>445.196850</td>\n",
       "      <td>459.099338</td>\n",
       "    </tr>\n",
       "  </tbody>\n",
       "</table>\n",
       "</div>"
      ],
      "text/plain": [
       "month      2018-01     2018-02  2018-03     2018-04     2018-05     2018-06  \\\n",
       "plan_name                                                                     \n",
       "surf         203.0  297.000000   330.00  351.540000  399.584416  431.298969   \n",
       "ultimate     193.5  403.142857   304.25  336.857143  406.241379  370.957447   \n",
       "\n",
       "month         2018-07     2018-08     2018-09     2018-10     2018-11  \\\n",
       "plan_name                                                               \n",
       "surf       449.983471  410.111111  414.226804  429.729958  423.325088   \n",
       "ultimate   427.067797  421.436620  437.511628  450.735849  445.196850   \n",
       "\n",
       "month         2018-12  \n",
       "plan_name              \n",
       "surf       473.836478  \n",
       "ultimate   459.099338  "
      ]
     },
     "execution_count": 193,
     "metadata": {},
     "output_type": "execute_result"
    }
   ],
   "source": [
    "# Compare average duration of calls per each plan per each distinct month. Plot a bar plat to visualize it.\n",
    "avg_calls = merged_df_agg.groupby(['plan_name', 'month'])['minutes_count'].mean().unstack()\n",
    "avg_calls.head()"
   ]
  },
  {
   "cell_type": "markdown",
   "metadata": {},
   "source": [
    "Creating a seperate dataframe to compare the average duration of calls per each plan per each month."
   ]
  },
  {
   "cell_type": "code",
   "execution_count": 195,
   "metadata": {},
   "outputs": [
    {
     "data": {
      "image/png": "[encoded data removed]",
      "text/plain": [
       "<Figure size 1000x600 with 1 Axes>"
      ]
     },
     "metadata": {},
     "output_type": "display_data"
    }
   ],
   "source": [
    "avg_calls.T.plot(kind='bar', figsize=(10, 6))\n",
    "\n",
    "plt.xlabel('Month')\n",
    "plt.ylabel('Average Call Duration (minutes)')\n",
    "plt.title('Average Call Duration per Plan per Month')\n",
    "plt.legend(title = 'Plan')\n",
    "plt.xticks(rotation = 45)\n",
    "plt.grid(axis='y', linestyle='--', alpha=0.7)\n",
    "\n",
    "plt.show()"
   ]
  },
  {
   "cell_type": "markdown",
   "metadata": {},
   "source": [
    "A bar plot has been created showing the average number of calls users make for each month per plan. Every month has around a similar amount of call duration for each plan. One thing to notice is that not a single user for both plans has exceeded 500 minutes which is whats included for the surf plan. January has the lowest call duration average of the year for each plan. Lowering the surf included minutes to 400 could be an option as most surf users are using between 400 and 500 minutes."
   ]
  },
  {
   "cell_type": "code",
   "execution_count": 197,
   "metadata": {},
   "outputs": [
    {
     "data": {
      "text/plain": [
       "plan_name  month  \n",
       "surf       2018-01    203.000000\n",
       "           2018-02    297.000000\n",
       "           2018-03    330.000000\n",
       "           2018-04    351.540000\n",
       "           2018-05    399.584416\n",
       "dtype: float64"
      ]
     },
     "execution_count": 197,
     "metadata": {},
     "output_type": "execute_result"
    }
   ],
   "source": [
    "# Compare the number of minutes users of each plan require each month. Plot a histogram.\n",
    "avg_calls_hist = avg_calls.stack()\n",
    "avg_calls_hist.head()"
   ]
  },
  {
   "cell_type": "markdown",
   "metadata": {},
   "source": [
    "Stacking the avg_calls dataframe to be ploted easier for histogram and confriming the changes made. I made it a new dataframe because I will be using avg_calls unstacked for other bar charts and the histogram doesnt come out right with this framework."
   ]
  },
  {
   "cell_type": "code",
   "execution_count": 199,
   "metadata": {},
   "outputs": [
    {
     "data": {
      "image/png": "[encoded data removed]",
      "text/plain": [
       "<Figure size 640x480 with 1 Axes>"
      ]
     },
     "metadata": {},
     "output_type": "display_data"
    }
   ],
   "source": [
    "for plan in avg_calls_hist.index.get_level_values(0).unique():\n",
    "    plt.hist(avg_calls_hist.loc[plan], bins=12, alpha=0.5, label=f'Plan: {plan}', edgecolor='black')\n",
    "\n",
    "plt.xlabel(\"Required Minutes Per Month\")\n",
    "plt.ylabel(\"Frequency\")\n",
    "plt.title(\"Distribution of Required Minutes Per Plan Per Month\")\n",
    "plt.legend(title=\"Plan\")\n",
    "plt.grid(axis='y', linestyle='--', alpha=0.5)\n",
    "\n",
    "plt.show()"
   ]
  },
  {
   "cell_type": "markdown",
   "metadata": {},
   "source": [
    "With the histogram ploted it is observed that ultimate users require around 450 calls per month and surf users require between 400 and 450 calls per month."
   ]
  },
  {
   "cell_type": "markdown",
   "metadata": {},
   "source": [
    "[Calculate the mean and the variable of the call duration to reason on whether users on the different plans have different behaviours for their calls.]"
   ]
  },
  {
   "cell_type": "code",
   "execution_count": 202,
   "metadata": {},
   "outputs": [
    {
     "data": {
      "text/html": [
       "<div>\n",
       "<style scoped>\n",
       "    .dataframe tbody tr th:only-of-type {\n",
       "        vertical-align: middle;\n",
       "    }\n",
       "\n",
       "    .dataframe tbody tr th {\n",
       "        vertical-align: top;\n",
       "    }\n",
       "\n",
       "    .dataframe thead th {\n",
       "        text-align: right;\n",
       "    }\n",
       "</style>\n",
       "<table border=\"1\" class=\"dataframe\">\n",
       "  <thead>\n",
       "    <tr style=\"text-align: right;\">\n",
       "      <th>month</th>\n",
       "      <th>2018-01</th>\n",
       "      <th>2018-02</th>\n",
       "      <th>2018-03</th>\n",
       "      <th>2018-04</th>\n",
       "      <th>2018-05</th>\n",
       "      <th>2018-06</th>\n",
       "      <th>2018-07</th>\n",
       "      <th>2018-08</th>\n",
       "      <th>2018-09</th>\n",
       "      <th>2018-10</th>\n",
       "      <th>2018-11</th>\n",
       "      <th>2018-12</th>\n",
       "    </tr>\n",
       "    <tr>\n",
       "      <th>plan_name</th>\n",
       "      <th></th>\n",
       "      <th></th>\n",
       "      <th></th>\n",
       "      <th></th>\n",
       "      <th></th>\n",
       "      <th></th>\n",
       "      <th></th>\n",
       "      <th></th>\n",
       "      <th></th>\n",
       "      <th></th>\n",
       "      <th></th>\n",
       "      <th></th>\n",
       "    </tr>\n",
       "  </thead>\n",
       "  <tbody>\n",
       "    <tr>\n",
       "      <th>surf</th>\n",
       "      <td>15842.000000</td>\n",
       "      <td>52226.50000</td>\n",
       "      <td>35809.363636</td>\n",
       "      <td>50866.743265</td>\n",
       "      <td>59754.219754</td>\n",
       "      <td>45592.628436</td>\n",
       "      <td>61005.099725</td>\n",
       "      <td>54344.645963</td>\n",
       "      <td>46595.958656</td>\n",
       "      <td>52278.664056</td>\n",
       "      <td>51607.021602</td>\n",
       "      <td>63629.518918</td>\n",
       "    </tr>\n",
       "    <tr>\n",
       "      <th>ultimate</th>\n",
       "      <td>16572.333333</td>\n",
       "      <td>76889.47619</td>\n",
       "      <td>61984.931818</td>\n",
       "      <td>34888.928571</td>\n",
       "      <td>43841.046798</td>\n",
       "      <td>42503.563367</td>\n",
       "      <td>72563.374635</td>\n",
       "      <td>53645.506640</td>\n",
       "      <td>57070.464569</td>\n",
       "      <td>54261.910512</td>\n",
       "      <td>60593.222847</td>\n",
       "      <td>62503.783400</td>\n",
       "    </tr>\n",
       "  </tbody>\n",
       "</table>\n",
       "</div>"
      ],
      "text/plain": [
       "month           2018-01      2018-02       2018-03       2018-04  \\\n",
       "plan_name                                                          \n",
       "surf       15842.000000  52226.50000  35809.363636  50866.743265   \n",
       "ultimate   16572.333333  76889.47619  61984.931818  34888.928571   \n",
       "\n",
       "month           2018-05       2018-06       2018-07       2018-08  \\\n",
       "plan_name                                                           \n",
       "surf       59754.219754  45592.628436  61005.099725  54344.645963   \n",
       "ultimate   43841.046798  42503.563367  72563.374635  53645.506640   \n",
       "\n",
       "month           2018-09       2018-10       2018-11       2018-12  \n",
       "plan_name                                                          \n",
       "surf       46595.958656  52278.664056  51607.021602  63629.518918  \n",
       "ultimate   57070.464569  54261.910512  60593.222847  62503.783400  "
      ]
     },
     "execution_count": 202,
     "metadata": {},
     "output_type": "execute_result"
    }
   ],
   "source": [
    "# Calculate the mean and the variance of the monthly call duration\n",
    "var_calls = merged_df_agg.groupby(['plan_name', 'month'])['minutes_count'].var().unstack()\n",
    "var_calls\n"
   ]
  },
  {
   "cell_type": "markdown",
   "metadata": {},
   "source": [
    "Here is the variance of the call duration for each month of users from both plans."
   ]
  },
  {
   "cell_type": "code",
   "execution_count": 204,
   "metadata": {},
   "outputs": [
    {
     "data": {
      "text/html": [
       "<div>\n",
       "<style scoped>\n",
       "    .dataframe tbody tr th:only-of-type {\n",
       "        vertical-align: middle;\n",
       "    }\n",
       "\n",
       "    .dataframe tbody tr th {\n",
       "        vertical-align: top;\n",
       "    }\n",
       "\n",
       "    .dataframe thead th {\n",
       "        text-align: right;\n",
       "    }\n",
       "</style>\n",
       "<table border=\"1\" class=\"dataframe\">\n",
       "  <thead>\n",
       "    <tr style=\"text-align: right;\">\n",
       "      <th>month</th>\n",
       "      <th>2018-01</th>\n",
       "      <th>2018-02</th>\n",
       "      <th>2018-03</th>\n",
       "      <th>2018-04</th>\n",
       "      <th>2018-05</th>\n",
       "      <th>2018-06</th>\n",
       "      <th>2018-07</th>\n",
       "      <th>2018-08</th>\n",
       "      <th>2018-09</th>\n",
       "      <th>2018-10</th>\n",
       "      <th>2018-11</th>\n",
       "      <th>2018-12</th>\n",
       "    </tr>\n",
       "    <tr>\n",
       "      <th>plan_name</th>\n",
       "      <th></th>\n",
       "      <th></th>\n",
       "      <th></th>\n",
       "      <th></th>\n",
       "      <th></th>\n",
       "      <th></th>\n",
       "      <th></th>\n",
       "      <th></th>\n",
       "      <th></th>\n",
       "      <th></th>\n",
       "      <th></th>\n",
       "      <th></th>\n",
       "    </tr>\n",
       "  </thead>\n",
       "  <tbody>\n",
       "    <tr>\n",
       "      <th>surf</th>\n",
       "      <td>203.0</td>\n",
       "      <td>297.000000</td>\n",
       "      <td>330.00</td>\n",
       "      <td>351.540000</td>\n",
       "      <td>399.584416</td>\n",
       "      <td>431.298969</td>\n",
       "      <td>449.983471</td>\n",
       "      <td>410.111111</td>\n",
       "      <td>414.226804</td>\n",
       "      <td>429.729958</td>\n",
       "      <td>423.325088</td>\n",
       "      <td>473.836478</td>\n",
       "    </tr>\n",
       "    <tr>\n",
       "      <th>ultimate</th>\n",
       "      <td>193.5</td>\n",
       "      <td>403.142857</td>\n",
       "      <td>304.25</td>\n",
       "      <td>336.857143</td>\n",
       "      <td>406.241379</td>\n",
       "      <td>370.957447</td>\n",
       "      <td>427.067797</td>\n",
       "      <td>421.436620</td>\n",
       "      <td>437.511628</td>\n",
       "      <td>450.735849</td>\n",
       "      <td>445.196850</td>\n",
       "      <td>459.099338</td>\n",
       "    </tr>\n",
       "  </tbody>\n",
       "</table>\n",
       "</div>"
      ],
      "text/plain": [
       "month      2018-01     2018-02  2018-03     2018-04     2018-05     2018-06  \\\n",
       "plan_name                                                                     \n",
       "surf         203.0  297.000000   330.00  351.540000  399.584416  431.298969   \n",
       "ultimate     193.5  403.142857   304.25  336.857143  406.241379  370.957447   \n",
       "\n",
       "month         2018-07     2018-08     2018-09     2018-10     2018-11  \\\n",
       "plan_name                                                               \n",
       "surf       449.983471  410.111111  414.226804  429.729958  423.325088   \n",
       "ultimate   427.067797  421.436620  437.511628  450.735849  445.196850   \n",
       "\n",
       "month         2018-12  \n",
       "plan_name              \n",
       "surf       473.836478  \n",
       "ultimate   459.099338  "
      ]
     },
     "execution_count": 204,
     "metadata": {},
     "output_type": "execute_result"
    }
   ],
   "source": [
    "avg_calls"
   ]
  },
  {
   "cell_type": "markdown",
   "metadata": {},
   "source": [
    "Here is the mean of the call duration for each month of users from both plans."
   ]
  },
  {
   "cell_type": "code",
   "execution_count": 206,
   "metadata": {},
   "outputs": [
    {
     "data": {
      "image/png": "[encoded data removed]",
      "text/plain": [
       "<Figure size 1000x600 with 1 Axes>"
      ]
     },
     "metadata": {},
     "output_type": "display_data"
    }
   ],
   "source": [
    "# Plot a boxplot to visualize the distribution of the monthly call duration\n",
    "var_calls.T.plot(kind='bar', figsize=(10, 6))\n",
    "\n",
    "plt.xlabel('Month')\n",
    "plt.ylabel('Variance')\n",
    "plt.title('Variance of Call Duration for Each Plan per Month')\n",
    "plt.legend(title='Plan')\n",
    "plt.xticks(rotation=45)\n",
    "plt.grid(axis='y', linestyle='--', alpha=0.7)\n",
    "\n",
    "plt.show()"
   ]
  },
  {
   "cell_type": "markdown",
   "metadata": {},
   "source": [
    "Here is a box plot showing the variance for both plans."
   ]
  },
  {
   "cell_type": "markdown",
   "metadata": {},
   "source": [
    "[Formulate conclusions on how the users behave in terms of calling. Is their behaviour different between the plans?]"
   ]
  },
  {
   "cell_type": "markdown",
   "metadata": {},
   "source": [
    "Ultimate users tend to have a higher variance for more months out of the year, which means ultimate users are on a single phone call for longer. Longer phone calls could mean that ultimate users are using megaline for a professional setting such as work or buinsess related reasons. Ultimate users may also not worry about hitting their limit whereas surf users may be more cautious about their minute time so they tend to make shorter more predictable calls, maybe for personal use."
   ]
  },
  {
   "cell_type": "markdown",
   "metadata": {},
   "source": [
    "### Messages"
   ]
  },
  {
   "cell_type": "code",
   "execution_count": 211,
   "metadata": {},
   "outputs": [],
   "source": [
    "def bar_plot_stats(df, group_cols, value_cols, agg_func, xlabel, ylabel, title):\n",
    "    if agg_func == 'mean':\n",
    "        agg_data = df.groupby(group_cols)[value_cols].mean().unstack()\n",
    "    elif agg_func == 'var':\n",
    "        agg_data = df.groupby(group_cols)[value_cols].var().unstack()\n",
    "    else:\n",
    "        raise ValueError('Choose mean or var')\n",
    "        \n",
    "    agg_data.T.plot(kind='bar', figsize=(10, 6))\n",
    "    plt.xlabel(xlabel)\n",
    "    plt.ylabel(ylabel)\n",
    "    plt.title(title)\n",
    "    plt.legend(title='Plan')\n",
    "    plt.xticks(rotation=45)\n",
    "    plt.grid(axis='y', linestyle='--', alpha=0.7)\n",
    "    \n",
    "    plt.show()"
   ]
  },
  {
   "cell_type": "markdown",
   "metadata": {},
   "source": [
    "Function made for bar charts of mean or variance."
   ]
  },
  {
   "cell_type": "code",
   "execution_count": 213,
   "metadata": {},
   "outputs": [],
   "source": [
    "def hist_plot_stats(df, group_cols, value_cols, agg_func, xlabel, title):\n",
    "    if agg_func == 'mean':\n",
    "        agg_data = df.groupby(group_cols)[value_cols].mean()\n",
    "    else:\n",
    "        raise ValueError('Only mean accepted')\n",
    "        \n",
    "    for plan in agg_data.index.get_level_values(0).unique():\n",
    "        plt.hist(agg_data.loc[plan], bins=12, alpha=0.5, label=f'Plan: {plan}', edgecolor='black')\n",
    "\n",
    "    plt.xlabel(xlabel)\n",
    "    plt.ylabel('Frequency')\n",
    "    plt.title(title)\n",
    "    plt.legend(title=\"Plan\")\n",
    "    plt.grid(axis='y', linestyle='--', alpha=0.5)\n",
    "\n",
    "    plt.show()"
   ]
  },
  {
   "cell_type": "markdown",
   "metadata": {},
   "source": [
    "Function for mean being ploted as a histogram."
   ]
  },
  {
   "cell_type": "code",
   "execution_count": 215,
   "metadata": {},
   "outputs": [
    {
     "data": {
      "image/png": "[encoded data removed]",
      "text/plain": [
       "<Figure size 1000x600 with 1 Axes>"
      ]
     },
     "metadata": {},
     "output_type": "display_data"
    }
   ],
   "source": [
    "# Compare the number of messages users of each plan tend to send each month\n",
    "bar_plot_stats(merged_df_agg, ['plan_name', 'month'], 'message_count', 'mean', 'Month', 'Average Messages per Month', 'Average Messages per Plan per Month')\n"
   ]
  },
  {
   "cell_type": "markdown",
   "metadata": {},
   "source": [
    "This is a bar plot showing the average messages sent by users from each plan per month."
   ]
  },
  {
   "cell_type": "code",
   "execution_count": 217,
   "metadata": {},
   "outputs": [
    {
     "data": {
      "image/png": "[encoded data removed]",
      "text/plain": [
       "<Figure size 1000x600 with 1 Axes>"
      ]
     },
     "metadata": {},
     "output_type": "display_data"
    }
   ],
   "source": [
    "# Compare the amount of internet traffic consumed by users per plan\n",
    "bar_plot_stats(merged_df_agg, ['plan_name', 'month'], 'mb_count', 'mean', 'Month', 'Average Mb used per Month', 'Average Mb Used per Plan per Month')\n",
    "\n"
   ]
  },
  {
   "cell_type": "markdown",
   "metadata": {},
   "source": [
    "Here is a bar plot showing the average internet usuage for users from each plan per month."
   ]
  },
  {
   "cell_type": "markdown",
   "metadata": {},
   "source": [
    "[Formulate conclusions on how the users behave in terms of messaging. Is their behaviour different between the plans?]"
   ]
  },
  {
   "cell_type": "markdown",
   "metadata": {},
   "source": [
    "From the start of the year towards the end, message usage for both plans gradually goes up. By month December users from both plans have trippled their message usage since January. Ultimate users consistantly send more messages per month than surf users.  "
   ]
  },
  {
   "cell_type": "markdown",
   "metadata": {},
   "source": [
    " "
   ]
  },
  {
   "cell_type": "markdown",
   "metadata": {},
   "source": [
    "### Internet"
   ]
  },
  {
   "cell_type": "code",
   "execution_count": 223,
   "metadata": {
    "scrolled": true
   },
   "outputs": [
    {
     "data": {
      "image/png": "[encoded data removed]",
      "text/plain": [
       "<Figure size 1000x600 with 1 Axes>"
      ]
     },
     "metadata": {},
     "output_type": "display_data"
    }
   ],
   "source": [
    "bar_plot_stats(merged_df_agg, ['plan_name', 'month'], 'mb_count', 'mean', 'Month', 'Average Mb used per Month', 'Average Mb Used per Plan per Month')\n"
   ]
  },
  {
   "cell_type": "code",
   "execution_count": 224,
   "metadata": {},
   "outputs": [
    {
     "data": {
      "image/png": "[encoded data removed]",
      "text/plain": [
       "<Figure size 640x480 with 1 Axes>"
      ]
     },
     "metadata": {},
     "output_type": "display_data"
    }
   ],
   "source": [
    "hist_plot_stats(merged_df_agg, ['plan_name', 'month'], 'mb_count', 'mean', 'Mb Count', 'Internet Usage')"
   ]
  },
  {
   "cell_type": "code",
   "execution_count": 225,
   "metadata": {},
   "outputs": [
    {
     "data": {
      "image/png": "[encoded data removed]",
      "text/plain": [
       "<Figure size 1000x600 with 1 Axes>"
      ]
     },
     "metadata": {},
     "output_type": "display_data"
    }
   ],
   "source": [
    "bar_plot_stats(merged_df_agg, ['plan_name', 'month'], 'mb_count', 'var', 'Month', 'Variance of Mb used per Month', 'Variance of Internet Usage per Plan per Month')\n"
   ]
  },
  {
   "cell_type": "markdown",
   "metadata": {},
   "source": [
    "[Formulate conclusions on how the users tend to consume the internet traffic? Is their behaviour different between the plans?]"
   ]
  },
  {
   "cell_type": "markdown",
   "metadata": {},
   "source": [
    "Ultimate users use much more internet for the first 5 months. Users from both plans tend to use around the same amount. After observing the histogram for internet usage, both plans could require around 16,000 to 19,000 mb for each month. It was also observed that both users typically have similar session time on the internet expect for march, April and June ultimate users had much longer session times."
   ]
  },
  {
   "cell_type": "markdown",
   "metadata": {},
   "source": [
    " "
   ]
  },
  {
   "cell_type": "markdown",
   "metadata": {},
   "source": [
    "## Revenue"
   ]
  },
  {
   "cell_type": "markdown",
   "metadata": {},
   "source": [
    "[Likewise you have studied the user behaviour, statistically describe the revenue between the plans.]"
   ]
  },
  {
   "cell_type": "code",
   "execution_count": 231,
   "metadata": {},
   "outputs": [
    {
     "data": {
      "image/png": "[encoded data removed]",
      "text/plain": [
       "<Figure size 1000x600 with 1 Axes>"
      ]
     },
     "metadata": {},
     "output_type": "display_data"
    }
   ],
   "source": [
    "bar_plot_stats(merged_df_agg, ['plan_name', 'month'], 'revenue', 'mean', 'Month', 'Revenue', 'Revenue per Plan per Month')\n"
   ]
  },
  {
   "cell_type": "code",
   "execution_count": 232,
   "metadata": {},
   "outputs": [
    {
     "data": {
      "image/png": "[encoded data removed]",
      "text/plain": [
       "<Figure size 640x480 with 1 Axes>"
      ]
     },
     "metadata": {},
     "output_type": "display_data"
    }
   ],
   "source": [
    "hist_plot_stats(merged_df_agg, ['plan_name', 'month'], 'revenue', 'mean', 'Revenue', 'Revenue per Plan')"
   ]
  },
  {
   "cell_type": "code",
   "execution_count": 233,
   "metadata": {},
   "outputs": [
    {
     "data": {
      "image/png": "[encoded data removed]",
      "text/plain": [
       "<Figure size 1000x600 with 1 Axes>"
      ]
     },
     "metadata": {},
     "output_type": "display_data"
    }
   ],
   "source": [
    "bar_plot_stats(merged_df_agg, ['plan_name', 'month'], 'revenue', 'var', 'Month', 'Variance of Revenue', 'Variance of Revenue per Plan per Month')\n"
   ]
  },
  {
   "cell_type": "markdown",
   "metadata": {},
   "source": [
    "[Formulate conclusions about how the revenue differs between the plans.]"
   ]
  },
  {
   "cell_type": "markdown",
   "metadata": {},
   "source": [
    "Ultimate users tend to bring in more revenue at a much more consistant pace than surf users. Surf user revenue fluctuates drastically and is not consistent. "
   ]
  },
  {
   "cell_type": "markdown",
   "metadata": {},
   "source": [
    " "
   ]
  },
  {
   "cell_type": "markdown",
   "metadata": {},
   "source": [
    "## Test statistical hypotheses"
   ]
  },
  {
   "cell_type": "markdown",
   "metadata": {},
   "source": [
    "[Test the hypothesis that the average revenue from users of the Ultimate and Surf calling plans differs.]"
   ]
  },
  {
   "cell_type": "markdown",
   "metadata": {},
   "source": [
    "[Formulate the null and the alternative hypotheses, choose the statistical test, decide on the alpha value.]"
   ]
  },
  {
   "cell_type": "code",
   "execution_count": 240,
   "metadata": {},
   "outputs": [],
   "source": [
    "# Test the hypotheses\n",
    "surf_rev = merged_df_agg[merged_df_agg['plan_name'] == 'surf']['revenue']\n",
    "ultimate_rev = merged_df_agg[merged_df_agg['plan_name'] == 'ultimate']['revenue']\n"
   ]
  },
  {
   "cell_type": "code",
   "execution_count": 241,
   "metadata": {},
   "outputs": [],
   "source": [
    "surf_sample = surf_rev.sample(n = 29, random_state=42)\n",
    "ultimate_sample = ultimate_rev.sample(n = 29, random_state=42)"
   ]
  },
  {
   "cell_type": "markdown",
   "metadata": {},
   "source": [
    "A sample size of less than 30 of the revenue for each plan has been added to new dataframes."
   ]
  },
  {
   "cell_type": "code",
   "execution_count": 243,
   "metadata": {},
   "outputs": [
    {
     "name": "stdout",
     "output_type": "stream",
     "text": [
      "p-value:  0.5387263836168644\n",
      "We cant reject the null hypothesis\n"
     ]
    }
   ],
   "source": [
    "alpha = 0.05\n",
    "\n",
    "results = st.ttest_ind(surf_sample, ultimate_sample)\n",
    "\n",
    "print('p-value: ', results.pvalue)\n",
    "\n",
    "if results.pvalue < alpha:\n",
    "    print('We reject the null hypothesis')\n",
    "else:\n",
    "    print('We cant reject the null hypothesis')"
   ]
  },
  {
   "cell_type": "markdown",
   "metadata": {},
   "source": [
    "Since we cant reject the null hypothesis we can determine that the revenue for both plans is around the same, which contradicts the bar plot for monthly revenue for each plan per month."
   ]
  },
  {
   "cell_type": "markdown",
   "metadata": {},
   "source": [
    "[Test the hypothesis that the average revenue from users in the NY-NJ area is different from that of the users from the other regions.]"
   ]
  },
  {
   "cell_type": "markdown",
   "metadata": {},
   "source": [
    "[Formulate the null and the alternative hypotheses, choose the statistical test, decide on the alpha value.]"
   ]
  },
  {
   "cell_type": "code",
   "execution_count": 247,
   "metadata": {},
   "outputs": [
    {
     "data": {
      "text/html": [
       "<div>\n",
       "<style scoped>\n",
       "    .dataframe tbody tr th:only-of-type {\n",
       "        vertical-align: middle;\n",
       "    }\n",
       "\n",
       "    .dataframe tbody tr th {\n",
       "        vertical-align: top;\n",
       "    }\n",
       "\n",
       "    .dataframe thead th {\n",
       "        text-align: right;\n",
       "    }\n",
       "</style>\n",
       "<table border=\"1\" class=\"dataframe\">\n",
       "  <thead>\n",
       "    <tr style=\"text-align: right;\">\n",
       "      <th></th>\n",
       "      <th>user_id</th>\n",
       "      <th>month</th>\n",
       "      <th>call_count</th>\n",
       "      <th>minutes_count</th>\n",
       "      <th>message_count</th>\n",
       "      <th>mb_count</th>\n",
       "      <th>plan_name</th>\n",
       "      <th>messages_included</th>\n",
       "      <th>mb_per_month_included</th>\n",
       "      <th>minutes_included</th>\n",
       "      <th>usd_monthly_pay</th>\n",
       "      <th>usd_per_gb</th>\n",
       "      <th>usd_per_message</th>\n",
       "      <th>usd_per_minute</th>\n",
       "      <th>minutes_diff</th>\n",
       "      <th>messages_diff</th>\n",
       "      <th>mb_diff</th>\n",
       "      <th>revenue</th>\n",
       "      <th>gb_used</th>\n",
       "      <th>city</th>\n",
       "    </tr>\n",
       "  </thead>\n",
       "  <tbody>\n",
       "    <tr>\n",
       "      <th>0</th>\n",
       "      <td>1000</td>\n",
       "      <td>2018-12</td>\n",
       "      <td>16.0</td>\n",
       "      <td>124.0</td>\n",
       "      <td>11.0</td>\n",
       "      <td>2048.0</td>\n",
       "      <td>ultimate</td>\n",
       "      <td>1000.0</td>\n",
       "      <td>30720.0</td>\n",
       "      <td>3000.0</td>\n",
       "      <td>70.0</td>\n",
       "      <td>7.0</td>\n",
       "      <td>0.01</td>\n",
       "      <td>0.01</td>\n",
       "      <td>0.0</td>\n",
       "      <td>0.0</td>\n",
       "      <td>0.0</td>\n",
       "      <td>70.00</td>\n",
       "      <td>0.0</td>\n",
       "      <td>Atlanta-Sandy Springs-Roswell, GA MSA</td>\n",
       "    </tr>\n",
       "    <tr>\n",
       "      <th>1</th>\n",
       "      <td>1001</td>\n",
       "      <td>2018-08</td>\n",
       "      <td>27.0</td>\n",
       "      <td>182.0</td>\n",
       "      <td>30.0</td>\n",
       "      <td>7168.0</td>\n",
       "      <td>surf</td>\n",
       "      <td>50.0</td>\n",
       "      <td>15360.0</td>\n",
       "      <td>500.0</td>\n",
       "      <td>20.0</td>\n",
       "      <td>10.0</td>\n",
       "      <td>0.03</td>\n",
       "      <td>0.03</td>\n",
       "      <td>0.0</td>\n",
       "      <td>0.0</td>\n",
       "      <td>0.0</td>\n",
       "      <td>20.00</td>\n",
       "      <td>0.0</td>\n",
       "      <td>Seattle-Tacoma-Bellevue, WA MSA</td>\n",
       "    </tr>\n",
       "    <tr>\n",
       "      <th>2</th>\n",
       "      <td>1001</td>\n",
       "      <td>2018-09</td>\n",
       "      <td>49.0</td>\n",
       "      <td>315.0</td>\n",
       "      <td>44.0</td>\n",
       "      <td>14336.0</td>\n",
       "      <td>surf</td>\n",
       "      <td>50.0</td>\n",
       "      <td>15360.0</td>\n",
       "      <td>500.0</td>\n",
       "      <td>20.0</td>\n",
       "      <td>10.0</td>\n",
       "      <td>0.03</td>\n",
       "      <td>0.03</td>\n",
       "      <td>0.0</td>\n",
       "      <td>0.0</td>\n",
       "      <td>0.0</td>\n",
       "      <td>20.00</td>\n",
       "      <td>0.0</td>\n",
       "      <td>Seattle-Tacoma-Bellevue, WA MSA</td>\n",
       "    </tr>\n",
       "    <tr>\n",
       "      <th>3</th>\n",
       "      <td>1001</td>\n",
       "      <td>2018-10</td>\n",
       "      <td>65.0</td>\n",
       "      <td>393.0</td>\n",
       "      <td>53.0</td>\n",
       "      <td>22528.0</td>\n",
       "      <td>surf</td>\n",
       "      <td>50.0</td>\n",
       "      <td>15360.0</td>\n",
       "      <td>500.0</td>\n",
       "      <td>20.0</td>\n",
       "      <td>10.0</td>\n",
       "      <td>0.03</td>\n",
       "      <td>0.03</td>\n",
       "      <td>0.0</td>\n",
       "      <td>3.0</td>\n",
       "      <td>7168.0</td>\n",
       "      <td>90.09</td>\n",
       "      <td>7.0</td>\n",
       "      <td>Seattle-Tacoma-Bellevue, WA MSA</td>\n",
       "    </tr>\n",
       "    <tr>\n",
       "      <th>4</th>\n",
       "      <td>1001</td>\n",
       "      <td>2018-11</td>\n",
       "      <td>64.0</td>\n",
       "      <td>426.0</td>\n",
       "      <td>36.0</td>\n",
       "      <td>19456.0</td>\n",
       "      <td>surf</td>\n",
       "      <td>50.0</td>\n",
       "      <td>15360.0</td>\n",
       "      <td>500.0</td>\n",
       "      <td>20.0</td>\n",
       "      <td>10.0</td>\n",
       "      <td>0.03</td>\n",
       "      <td>0.03</td>\n",
       "      <td>0.0</td>\n",
       "      <td>0.0</td>\n",
       "      <td>4096.0</td>\n",
       "      <td>60.00</td>\n",
       "      <td>4.0</td>\n",
       "      <td>Seattle-Tacoma-Bellevue, WA MSA</td>\n",
       "    </tr>\n",
       "  </tbody>\n",
       "</table>\n",
       "</div>"
      ],
      "text/plain": [
       "   user_id    month  call_count  minutes_count  message_count  mb_count  \\\n",
       "0     1000  2018-12        16.0          124.0           11.0    2048.0   \n",
       "1     1001  2018-08        27.0          182.0           30.0    7168.0   \n",
       "2     1001  2018-09        49.0          315.0           44.0   14336.0   \n",
       "3     1001  2018-10        65.0          393.0           53.0   22528.0   \n",
       "4     1001  2018-11        64.0          426.0           36.0   19456.0   \n",
       "\n",
       "  plan_name  messages_included  mb_per_month_included  minutes_included  \\\n",
       "0  ultimate             1000.0                30720.0            3000.0   \n",
       "1      surf               50.0                15360.0             500.0   \n",
       "2      surf               50.0                15360.0             500.0   \n",
       "3      surf               50.0                15360.0             500.0   \n",
       "4      surf               50.0                15360.0             500.0   \n",
       "\n",
       "   usd_monthly_pay  usd_per_gb  usd_per_message  usd_per_minute  minutes_diff  \\\n",
       "0             70.0         7.0             0.01            0.01           0.0   \n",
       "1             20.0        10.0             0.03            0.03           0.0   \n",
       "2             20.0        10.0             0.03            0.03           0.0   \n",
       "3             20.0        10.0             0.03            0.03           0.0   \n",
       "4             20.0        10.0             0.03            0.03           0.0   \n",
       "\n",
       "   messages_diff  mb_diff  revenue  gb_used  \\\n",
       "0            0.0      0.0    70.00      0.0   \n",
       "1            0.0      0.0    20.00      0.0   \n",
       "2            0.0      0.0    20.00      0.0   \n",
       "3            3.0   7168.0    90.09      7.0   \n",
       "4            0.0   4096.0    60.00      4.0   \n",
       "\n",
       "                                    city  \n",
       "0  Atlanta-Sandy Springs-Roswell, GA MSA  \n",
       "1        Seattle-Tacoma-Bellevue, WA MSA  \n",
       "2        Seattle-Tacoma-Bellevue, WA MSA  \n",
       "3        Seattle-Tacoma-Bellevue, WA MSA  \n",
       "4        Seattle-Tacoma-Bellevue, WA MSA  "
      ]
     },
     "execution_count": 247,
     "metadata": {},
     "output_type": "execute_result"
    }
   ],
   "source": [
    "# Test the hypotheses\n",
    "merged_df_agg = merged_df_agg.merge(megaline_usersDF[['user_id', 'city']], on='user_id', how='outer')\n",
    "merged_df_agg.head()"
   ]
  },
  {
   "cell_type": "markdown",
   "metadata": {},
   "source": [
    "Getting the city for each user."
   ]
  },
  {
   "cell_type": "code",
   "execution_count": 249,
   "metadata": {},
   "outputs": [
    {
     "name": "stdout",
     "output_type": "stream",
     "text": [
      "   user_id    month  call_count  minutes_count  message_count  mb_count  \\\n",
      "0     1000  2018-12        16.0          124.0           11.0    2048.0   \n",
      "1     1001  2018-08        27.0          182.0           30.0    7168.0   \n",
      "2     1001  2018-09        49.0          315.0           44.0   14336.0   \n",
      "3     1001  2018-10        65.0          393.0           53.0   22528.0   \n",
      "4     1001  2018-11        64.0          426.0           36.0   19456.0   \n",
      "\n",
      "  plan_name  messages_included  mb_per_month_included  minutes_included  \\\n",
      "0  ultimate             1000.0                30720.0            3000.0   \n",
      "1      surf               50.0                15360.0             500.0   \n",
      "2      surf               50.0                15360.0             500.0   \n",
      "3      surf               50.0                15360.0             500.0   \n",
      "4      surf               50.0                15360.0             500.0   \n",
      "\n",
      "   usd_monthly_pay  usd_per_gb  usd_per_message  usd_per_minute  minutes_diff  \\\n",
      "0             70.0         7.0             0.01            0.01           0.0   \n",
      "1             20.0        10.0             0.03            0.03           0.0   \n",
      "2             20.0        10.0             0.03            0.03           0.0   \n",
      "3             20.0        10.0             0.03            0.03           0.0   \n",
      "4             20.0        10.0             0.03            0.03           0.0   \n",
      "\n",
      "   messages_diff  mb_diff  revenue  gb_used  \\\n",
      "0            0.0      0.0    70.00      0.0   \n",
      "1            0.0      0.0    20.00      0.0   \n",
      "2            0.0      0.0    20.00      0.0   \n",
      "3            3.0   7168.0    90.09      7.0   \n",
      "4            0.0   4096.0    60.00      4.0   \n",
      "\n",
      "                                    city  \n",
      "0  Atlanta-Sandy Springs-Roswell, GA MSA  \n",
      "1        Seattle-Tacoma-Bellevue, WA MSA  \n",
      "2        Seattle-Tacoma-Bellevue, WA MSA  \n",
      "3        Seattle-Tacoma-Bellevue, WA MSA  \n",
      "4        Seattle-Tacoma-Bellevue, WA MSA  \n",
      "--------------------------------------------\n",
      "<class 'pandas.core.frame.DataFrame'>\n",
      "RangeIndex: 2303 entries, 0 to 2302\n",
      "Data columns (total 20 columns):\n",
      " #   Column                 Non-Null Count  Dtype    \n",
      "---  ------                 --------------  -----    \n",
      " 0   user_id                2303 non-null   int64    \n",
      " 1   month                  2293 non-null   period[M]\n",
      " 2   call_count             2293 non-null   float64  \n",
      " 3   minutes_count          2293 non-null   float64  \n",
      " 4   message_count          2293 non-null   float64  \n",
      " 5   mb_count               2293 non-null   float64  \n",
      " 6   plan_name              2293 non-null   object   \n",
      " 7   messages_included      2293 non-null   float64  \n",
      " 8   mb_per_month_included  2293 non-null   float64  \n",
      " 9   minutes_included       2293 non-null   float64  \n",
      " 10  usd_monthly_pay        2293 non-null   float64  \n",
      " 11  usd_per_gb             2293 non-null   float64  \n",
      " 12  usd_per_message        2293 non-null   float64  \n",
      " 13  usd_per_minute         2293 non-null   float64  \n",
      " 14  minutes_diff           2293 non-null   float64  \n",
      " 15  messages_diff          2293 non-null   float64  \n",
      " 16  mb_diff                2293 non-null   float64  \n",
      " 17  revenue                2293 non-null   float64  \n",
      " 18  gb_used                2293 non-null   float64  \n",
      " 19  city                   2303 non-null   object   \n",
      "dtypes: float64(16), int64(1), object(2), period[M](1)\n",
      "memory usage: 360.0+ KB\n",
      "None\n",
      "--------------------------------------------\n",
      "Potential Duplicates\n",
      " \n",
      "0\n",
      "--------------------------------------------\n",
      "Potential Missing Data\n",
      " \n",
      "user_id                   0\n",
      "month                    10\n",
      "call_count               10\n",
      "minutes_count            10\n",
      "message_count            10\n",
      "mb_count                 10\n",
      "plan_name                10\n",
      "messages_included        10\n",
      "mb_per_month_included    10\n",
      "minutes_included         10\n",
      "usd_monthly_pay          10\n",
      "usd_per_gb               10\n",
      "usd_per_message          10\n",
      "usd_per_minute           10\n",
      "minutes_diff             10\n",
      "messages_diff            10\n",
      "mb_diff                  10\n",
      "revenue                  10\n",
      "gb_used                  10\n",
      "city                      0\n",
      "dtype: int64\n"
     ]
    }
   ],
   "source": [
    "analyze_data(merged_df_agg)"
   ]
  },
  {
   "cell_type": "code",
   "execution_count": 250,
   "metadata": {},
   "outputs": [
    {
     "data": {
      "text/html": [
       "<div>\n",
       "<style scoped>\n",
       "    .dataframe tbody tr th:only-of-type {\n",
       "        vertical-align: middle;\n",
       "    }\n",
       "\n",
       "    .dataframe tbody tr th {\n",
       "        vertical-align: top;\n",
       "    }\n",
       "\n",
       "    .dataframe thead th {\n",
       "        text-align: right;\n",
       "    }\n",
       "</style>\n",
       "<table border=\"1\" class=\"dataframe\">\n",
       "  <thead>\n",
       "    <tr style=\"text-align: right;\">\n",
       "      <th></th>\n",
       "      <th>user_id</th>\n",
       "      <th>plan_name</th>\n",
       "      <th>city</th>\n",
       "      <th>revenue</th>\n",
       "    </tr>\n",
       "  </thead>\n",
       "  <tbody>\n",
       "    <tr>\n",
       "      <th>0</th>\n",
       "      <td>1000</td>\n",
       "      <td>ultimate</td>\n",
       "      <td>Atlanta-Sandy Springs-Roswell, GA MSA</td>\n",
       "      <td>70.00</td>\n",
       "    </tr>\n",
       "    <tr>\n",
       "      <th>1</th>\n",
       "      <td>1001</td>\n",
       "      <td>surf</td>\n",
       "      <td>Seattle-Tacoma-Bellevue, WA MSA</td>\n",
       "      <td>20.00</td>\n",
       "    </tr>\n",
       "    <tr>\n",
       "      <th>2</th>\n",
       "      <td>1001</td>\n",
       "      <td>surf</td>\n",
       "      <td>Seattle-Tacoma-Bellevue, WA MSA</td>\n",
       "      <td>20.00</td>\n",
       "    </tr>\n",
       "    <tr>\n",
       "      <th>3</th>\n",
       "      <td>1001</td>\n",
       "      <td>surf</td>\n",
       "      <td>Seattle-Tacoma-Bellevue, WA MSA</td>\n",
       "      <td>90.09</td>\n",
       "    </tr>\n",
       "    <tr>\n",
       "      <th>4</th>\n",
       "      <td>1001</td>\n",
       "      <td>surf</td>\n",
       "      <td>Seattle-Tacoma-Bellevue, WA MSA</td>\n",
       "      <td>60.00</td>\n",
       "    </tr>\n",
       "    <tr>\n",
       "      <th>...</th>\n",
       "      <td>...</td>\n",
       "      <td>...</td>\n",
       "      <td>...</td>\n",
       "      <td>...</td>\n",
       "    </tr>\n",
       "    <tr>\n",
       "      <th>2298</th>\n",
       "      <td>1498</td>\n",
       "      <td>surf</td>\n",
       "      <td>New York-Newark-Jersey City, NY-NJ-PA MSA</td>\n",
       "      <td>100.00</td>\n",
       "    </tr>\n",
       "    <tr>\n",
       "      <th>2299</th>\n",
       "      <td>1499</td>\n",
       "      <td>surf</td>\n",
       "      <td>Orlando-Kissimmee-Sanford, FL MSA</td>\n",
       "      <td>20.00</td>\n",
       "    </tr>\n",
       "    <tr>\n",
       "      <th>2300</th>\n",
       "      <td>1499</td>\n",
       "      <td>surf</td>\n",
       "      <td>Orlando-Kissimmee-Sanford, FL MSA</td>\n",
       "      <td>70.00</td>\n",
       "    </tr>\n",
       "    <tr>\n",
       "      <th>2301</th>\n",
       "      <td>1499</td>\n",
       "      <td>surf</td>\n",
       "      <td>Orlando-Kissimmee-Sanford, FL MSA</td>\n",
       "      <td>40.00</td>\n",
       "    </tr>\n",
       "    <tr>\n",
       "      <th>2302</th>\n",
       "      <td>1499</td>\n",
       "      <td>surf</td>\n",
       "      <td>Orlando-Kissimmee-Sanford, FL MSA</td>\n",
       "      <td>90.00</td>\n",
       "    </tr>\n",
       "  </tbody>\n",
       "</table>\n",
       "<p>2293 rows × 4 columns</p>\n",
       "</div>"
      ],
      "text/plain": [
       "      user_id plan_name                                       city  revenue\n",
       "0        1000  ultimate      Atlanta-Sandy Springs-Roswell, GA MSA    70.00\n",
       "1        1001      surf            Seattle-Tacoma-Bellevue, WA MSA    20.00\n",
       "2        1001      surf            Seattle-Tacoma-Bellevue, WA MSA    20.00\n",
       "3        1001      surf            Seattle-Tacoma-Bellevue, WA MSA    90.09\n",
       "4        1001      surf            Seattle-Tacoma-Bellevue, WA MSA    60.00\n",
       "...       ...       ...                                        ...      ...\n",
       "2298     1498      surf  New York-Newark-Jersey City, NY-NJ-PA MSA   100.00\n",
       "2299     1499      surf          Orlando-Kissimmee-Sanford, FL MSA    20.00\n",
       "2300     1499      surf          Orlando-Kissimmee-Sanford, FL MSA    70.00\n",
       "2301     1499      surf          Orlando-Kissimmee-Sanford, FL MSA    40.00\n",
       "2302     1499      surf          Orlando-Kissimmee-Sanford, FL MSA    90.00\n",
       "\n",
       "[2293 rows x 4 columns]"
      ]
     },
     "execution_count": 250,
     "metadata": {},
     "output_type": "execute_result"
    }
   ],
   "source": [
    "city_rev = merged_df_agg[['user_id', 'plan_name', 'city', 'revenue']].dropna()\n",
    "city_rev"
   ]
  },
  {
   "cell_type": "markdown",
   "metadata": {},
   "source": [
    "New dataframe created for the ttest on the specific region and removing any NaN values as only a small sample is needed."
   ]
  },
  {
   "cell_type": "code",
   "execution_count": 252,
   "metadata": {},
   "outputs": [
    {
     "name": "stderr",
     "output_type": "stream",
     "text": [
      "C:\\Users\\mikey\\AppData\\Local\\Temp\\ipykernel_101100\\1393168070.py:1: UserWarning: This pattern is interpreted as a regular expression, and has match groups. To actually get the groups, use str.extract.\n",
      "  nj_ny_rev = city_rev[city_rev['city'].str.contains(r'\\b(NJ|NY)\\b')]\n"
     ]
    },
    {
     "data": {
      "text/html": [
       "<div>\n",
       "<style scoped>\n",
       "    .dataframe tbody tr th:only-of-type {\n",
       "        vertical-align: middle;\n",
       "    }\n",
       "\n",
       "    .dataframe tbody tr th {\n",
       "        vertical-align: top;\n",
       "    }\n",
       "\n",
       "    .dataframe thead th {\n",
       "        text-align: right;\n",
       "    }\n",
       "</style>\n",
       "<table border=\"1\" class=\"dataframe\">\n",
       "  <thead>\n",
       "    <tr style=\"text-align: right;\">\n",
       "      <th></th>\n",
       "      <th>user_id</th>\n",
       "      <th>plan_name</th>\n",
       "      <th>city</th>\n",
       "      <th>revenue</th>\n",
       "    </tr>\n",
       "  </thead>\n",
       "  <tbody>\n",
       "    <tr>\n",
       "      <th>56</th>\n",
       "      <td>1014</td>\n",
       "      <td>surf</td>\n",
       "      <td>New York-Newark-Jersey City, NY-NJ-PA MSA</td>\n",
       "      <td>20.00</td>\n",
       "    </tr>\n",
       "    <tr>\n",
       "      <th>57</th>\n",
       "      <td>1014</td>\n",
       "      <td>surf</td>\n",
       "      <td>New York-Newark-Jersey City, NY-NJ-PA MSA</td>\n",
       "      <td>38.84</td>\n",
       "    </tr>\n",
       "    <tr>\n",
       "      <th>75</th>\n",
       "      <td>1022</td>\n",
       "      <td>surf</td>\n",
       "      <td>New York-Newark-Jersey City, NY-NJ-PA MSA</td>\n",
       "      <td>20.00</td>\n",
       "    </tr>\n",
       "    <tr>\n",
       "      <th>76</th>\n",
       "      <td>1022</td>\n",
       "      <td>surf</td>\n",
       "      <td>New York-Newark-Jersey City, NY-NJ-PA MSA</td>\n",
       "      <td>100.00</td>\n",
       "    </tr>\n",
       "    <tr>\n",
       "      <th>77</th>\n",
       "      <td>1022</td>\n",
       "      <td>surf</td>\n",
       "      <td>New York-Newark-Jersey City, NY-NJ-PA MSA</td>\n",
       "      <td>20.00</td>\n",
       "    </tr>\n",
       "  </tbody>\n",
       "</table>\n",
       "</div>"
      ],
      "text/plain": [
       "    user_id plan_name                                       city  revenue\n",
       "56     1014      surf  New York-Newark-Jersey City, NY-NJ-PA MSA    20.00\n",
       "57     1014      surf  New York-Newark-Jersey City, NY-NJ-PA MSA    38.84\n",
       "75     1022      surf  New York-Newark-Jersey City, NY-NJ-PA MSA    20.00\n",
       "76     1022      surf  New York-Newark-Jersey City, NY-NJ-PA MSA   100.00\n",
       "77     1022      surf  New York-Newark-Jersey City, NY-NJ-PA MSA    20.00"
      ]
     },
     "execution_count": 252,
     "metadata": {},
     "output_type": "execute_result"
    }
   ],
   "source": [
    "nj_ny_rev = city_rev[city_rev['city'].str.contains(r'\\b(NJ|NY)\\b')]\n",
    "nj_ny_rev.head()"
   ]
  },
  {
   "cell_type": "markdown",
   "metadata": {},
   "source": [
    "dataframe for only areas in nj and ny."
   ]
  },
  {
   "cell_type": "code",
   "execution_count": 254,
   "metadata": {
    "scrolled": true
   },
   "outputs": [
    {
     "name": "stderr",
     "output_type": "stream",
     "text": [
      "C:\\Users\\mikey\\AppData\\Local\\Temp\\ipykernel_101100\\1035420258.py:1: UserWarning: This pattern is interpreted as a regular expression, and has match groups. To actually get the groups, use str.extract.\n",
      "  other_areas_rev = city_rev[~city_rev['city'].str.contains(r'\\b(NJ|NY)\\b')]\n"
     ]
    },
    {
     "data": {
      "text/html": [
       "<div>\n",
       "<style scoped>\n",
       "    .dataframe tbody tr th:only-of-type {\n",
       "        vertical-align: middle;\n",
       "    }\n",
       "\n",
       "    .dataframe tbody tr th {\n",
       "        vertical-align: top;\n",
       "    }\n",
       "\n",
       "    .dataframe thead th {\n",
       "        text-align: right;\n",
       "    }\n",
       "</style>\n",
       "<table border=\"1\" class=\"dataframe\">\n",
       "  <thead>\n",
       "    <tr style=\"text-align: right;\">\n",
       "      <th></th>\n",
       "      <th>user_id</th>\n",
       "      <th>plan_name</th>\n",
       "      <th>city</th>\n",
       "      <th>revenue</th>\n",
       "    </tr>\n",
       "  </thead>\n",
       "  <tbody>\n",
       "    <tr>\n",
       "      <th>0</th>\n",
       "      <td>1000</td>\n",
       "      <td>ultimate</td>\n",
       "      <td>Atlanta-Sandy Springs-Roswell, GA MSA</td>\n",
       "      <td>70.00</td>\n",
       "    </tr>\n",
       "    <tr>\n",
       "      <th>1</th>\n",
       "      <td>1001</td>\n",
       "      <td>surf</td>\n",
       "      <td>Seattle-Tacoma-Bellevue, WA MSA</td>\n",
       "      <td>20.00</td>\n",
       "    </tr>\n",
       "    <tr>\n",
       "      <th>2</th>\n",
       "      <td>1001</td>\n",
       "      <td>surf</td>\n",
       "      <td>Seattle-Tacoma-Bellevue, WA MSA</td>\n",
       "      <td>20.00</td>\n",
       "    </tr>\n",
       "    <tr>\n",
       "      <th>3</th>\n",
       "      <td>1001</td>\n",
       "      <td>surf</td>\n",
       "      <td>Seattle-Tacoma-Bellevue, WA MSA</td>\n",
       "      <td>90.09</td>\n",
       "    </tr>\n",
       "    <tr>\n",
       "      <th>4</th>\n",
       "      <td>1001</td>\n",
       "      <td>surf</td>\n",
       "      <td>Seattle-Tacoma-Bellevue, WA MSA</td>\n",
       "      <td>60.00</td>\n",
       "    </tr>\n",
       "  </tbody>\n",
       "</table>\n",
       "</div>"
      ],
      "text/plain": [
       "   user_id plan_name                                   city  revenue\n",
       "0     1000  ultimate  Atlanta-Sandy Springs-Roswell, GA MSA    70.00\n",
       "1     1001      surf        Seattle-Tacoma-Bellevue, WA MSA    20.00\n",
       "2     1001      surf        Seattle-Tacoma-Bellevue, WA MSA    20.00\n",
       "3     1001      surf        Seattle-Tacoma-Bellevue, WA MSA    90.09\n",
       "4     1001      surf        Seattle-Tacoma-Bellevue, WA MSA    60.00"
      ]
     },
     "execution_count": 254,
     "metadata": {},
     "output_type": "execute_result"
    }
   ],
   "source": [
    "other_areas_rev = city_rev[~city_rev['city'].str.contains(r'\\b(NJ|NY)\\b')]\n",
    "other_areas_rev.head()"
   ]
  },
  {
   "cell_type": "markdown",
   "metadata": {},
   "source": [
    "New dataframe for areas not in NJ or NY."
   ]
  },
  {
   "cell_type": "code",
   "execution_count": 256,
   "metadata": {},
   "outputs": [
    {
     "name": "stdout",
     "output_type": "stream",
     "text": [
      "p-value:  0.5091262314321268\n",
      "We cant reject the null hypothesis\n"
     ]
    }
   ],
   "source": [
    "alpha = 0.05\n",
    "\n",
    "results = st.ttest_ind(nj_ny_rev['revenue'].sample(n = 29, random_state = 42), other_areas_rev['revenue'].sample(n = 29, random_state = 42))\n",
    "\n",
    "print('p-value: ', results.pvalue)\n",
    "\n",
    "if results.pvalue < alpha:\n",
    "    print('We reject the null hypothesis')\n",
    "else:\n",
    "    print('We cant reject the null hypothesis')"
   ]
  },
  {
   "cell_type": "markdown",
   "metadata": {},
   "source": [
    "From the results of the ttest we can say that the revenue is not different for these areas."
   ]
  },
  {
   "cell_type": "markdown",
   "metadata": {},
   "source": [
    "## General conclusion\n",
    "\n",
    "[List your important conclusions in this final section, make sure they cover all those important decisions (assumptions) that you've made and that led you to the way you processed and analyzed the data.]"
   ]
  },
  {
   "cell_type": "markdown",
   "metadata": {},
   "source": [
    "Reduce surf’s call limit from 500 to 400 minutes (since users rarely exceed it).\n",
    "Adjust internet pricing for surf users to reduce overage fee spikes, which cause revenue inconsistency.\n",
    "Keep ultimate plan Unchanged as it brings in steady revenue and users seem satisfied.\n",
    "Monitor high spending of surf users and target them for ultimate plan upgrades to stabilize revenue.\n",
    "Further investigate regional differences in NJ/NY, isn’t significantly different in revenue, but behavior trends might exist... \n",
    "\n",
    "Im not sure what else to say as of now I would like to see how I did so far on this project as I am tired from working on this."
   ]
  },
  {
   "cell_type": "markdown",
   "metadata": {},
   "source": [
    " "
   ]
  }
 ],
 "metadata": {
  "ExecuteTimeLog": [
   {
    "duration": 828,
    "start_time": "2021-11-16T09:21:11.304Z"
   },
   {
    "duration": 893,
    "start_time": "2021-11-16T09:21:17.728Z"
   },
   {
    "duration": 1150,
    "start_time": "2021-11-16T09:21:29.568Z"
   },
   {
    "duration": 3,
    "start_time": "2021-11-16T09:24:14.495Z"
   },
   {
    "duration": 120,
    "start_time": "2021-11-16T09:24:46.630Z"
   },
   {
    "duration": 3,
    "start_time": "2021-11-16T09:28:27.882Z"
   },
   {
    "duration": 4,
    "start_time": "2021-11-16T09:29:54.281Z"
   },
   {
    "duration": 3,
    "start_time": "2021-11-16T09:30:45.936Z"
   },
   {
    "duration": 4,
    "start_time": "2021-11-16T09:31:06.300Z"
   },
   {
    "duration": 113,
    "start_time": "2021-11-16T09:31:37.208Z"
   },
   {
    "duration": 143,
    "start_time": "2021-11-16T09:31:48.656Z"
   },
   {
    "duration": 98,
    "start_time": "2021-11-16T09:31:55.678Z"
   },
   {
    "duration": 3,
    "start_time": "2021-11-16T09:32:08.535Z"
   },
   {
    "duration": 111,
    "start_time": "2021-11-16T09:32:10.120Z"
   },
   {
    "duration": 3,
    "start_time": "2021-11-16T09:32:15.732Z"
   },
   {
    "duration": 4,
    "start_time": "2021-11-16T09:32:29.423Z"
   },
   {
    "duration": 3,
    "start_time": "2021-11-16T10:03:03.074Z"
   },
   {
    "duration": 3,
    "start_time": "2021-11-16T10:10:01.288Z"
   },
   {
    "duration": 3,
    "start_time": "2021-11-16T10:10:46.923Z"
   },
   {
    "duration": 121,
    "start_time": "2021-11-16T10:37:46.494Z"
   },
   {
    "duration": 125,
    "start_time": "2021-11-16T10:38:20.632Z"
   },
   {
    "duration": 112,
    "start_time": "2021-11-16T10:46:53.001Z"
   },
   {
    "duration": 110,
    "start_time": "2021-11-16T10:48:25.775Z"
   },
   {
    "duration": 3,
    "start_time": "2021-11-16T10:50:18.720Z"
   },
   {
    "duration": 4,
    "start_time": "2021-11-16T10:50:37.649Z"
   },
   {
    "duration": 2,
    "start_time": "2021-11-16T10:50:51.884Z"
   },
   {
    "duration": 3,
    "start_time": "2021-11-16T10:51:56.237Z"
   },
   {
    "duration": 101,
    "start_time": "2021-11-16T10:53:13.791Z"
   },
   {
    "duration": 3,
    "start_time": "2021-11-16T10:55:59.186Z"
   },
   {
    "duration": 3,
    "start_time": "2021-11-16T10:56:10.751Z"
   },
   {
    "duration": 3,
    "start_time": "2021-11-16T10:56:49.038Z"
   },
   {
    "duration": 3,
    "start_time": "2021-11-16T10:56:49.174Z"
   },
   {
    "duration": 4,
    "start_time": "2021-11-16T10:56:49.414Z"
   },
   {
    "duration": 3,
    "start_time": "2021-11-16T10:56:49.680Z"
   },
   {
    "duration": 3,
    "start_time": "2021-11-16T10:56:50.370Z"
   },
   {
    "duration": 114,
    "start_time": "2021-11-16T10:59:34.518Z"
   },
   {
    "duration": 3,
    "start_time": "2021-11-16T11:01:41.201Z"
   },
   {
    "duration": 116,
    "start_time": "2021-11-16T11:01:48.754Z"
   },
   {
    "duration": 3,
    "start_time": "2021-11-16T11:02:16.685Z"
   },
   {
    "duration": 3,
    "start_time": "2021-11-16T11:02:19.479Z"
   },
   {
    "duration": 3,
    "start_time": "2021-11-16T11:02:47.067Z"
   },
   {
    "duration": 3,
    "start_time": "2021-11-16T11:02:49.353Z"
   },
   {
    "duration": 3,
    "start_time": "2021-11-16T11:03:07.835Z"
   },
   {
    "duration": 3,
    "start_time": "2021-11-16T11:03:07.953Z"
   },
   {
    "duration": 112,
    "start_time": "2021-11-16T11:07:52.072Z"
   },
   {
    "duration": 187,
    "start_time": "2021-11-16T11:09:23.468Z"
   },
   {
    "duration": 4,
    "start_time": "2021-11-16T11:10:01.455Z"
   },
   {
    "duration": 3,
    "start_time": "2021-11-16T11:10:05.069Z"
   },
   {
    "duration": 4,
    "start_time": "2021-11-16T11:10:13.376Z"
   },
   {
    "duration": 3,
    "start_time": "2021-11-16T11:10:14.434Z"
   },
   {
    "duration": 3,
    "start_time": "2021-11-16T11:10:22.853Z"
   },
   {
    "duration": 4,
    "start_time": "2021-11-16T11:27:29.279Z"
   },
   {
    "duration": 4,
    "start_time": "2021-11-16T11:29:08.919Z"
   },
   {
    "duration": 118,
    "start_time": "2021-11-16T11:29:46.703Z"
   },
   {
    "duration": 437,
    "start_time": "2021-11-16T11:36:02.181Z"
   },
   {
    "duration": 157,
    "start_time": "2021-11-16T11:36:14.388Z"
   },
   {
    "duration": 207,
    "start_time": "2021-11-16T11:47:15.898Z"
   },
   {
    "duration": 3,
    "start_time": "2021-11-16T11:53:52.092Z"
   },
   {
    "duration": 3,
    "start_time": "2021-11-16T11:53:52.236Z"
   },
   {
    "duration": 3,
    "start_time": "2021-11-16T11:59:12.005Z"
   },
   {
    "duration": 112,
    "start_time": "2021-11-16T12:00:33.446Z"
   },
   {
    "duration": 3,
    "start_time": "2021-11-16T12:02:14.453Z"
   },
   {
    "duration": 3,
    "start_time": "2021-11-16T12:02:39.512Z"
   },
   {
    "duration": 106,
    "start_time": "2021-11-16T12:03:03.460Z"
   },
   {
    "duration": 3,
    "start_time": "2021-11-17T20:37:21.139Z"
   },
   {
    "duration": 3,
    "start_time": "2021-11-17T20:37:22.229Z"
   },
   {
    "duration": 3,
    "start_time": "2021-11-17T20:38:38.806Z"
   },
   {
    "duration": 3,
    "start_time": "2021-11-17T20:38:41.958Z"
   },
   {
    "duration": 3,
    "start_time": "2021-11-17T20:43:46.551Z"
   },
   {
    "duration": 4,
    "start_time": "2021-11-17T20:58:21.835Z"
   },
   {
    "duration": 3,
    "start_time": "2021-11-17T20:59:21.872Z"
   },
   {
    "duration": 4,
    "start_time": "2021-11-17T20:59:45.352Z"
   },
   {
    "duration": 4,
    "start_time": "2021-11-17T20:59:49.646Z"
   },
   {
    "duration": 159,
    "start_time": "2021-11-17T21:02:26.949Z"
   },
   {
    "duration": 3,
    "start_time": "2021-11-17T21:03:53.461Z"
   },
   {
    "duration": 3,
    "start_time": "2021-11-17T21:03:53.694Z"
   },
   {
    "duration": 3,
    "start_time": "2021-11-17T21:05:28.145Z"
   },
   {
    "duration": 116,
    "start_time": "2021-11-17T21:05:57.787Z"
   },
   {
    "duration": 3,
    "start_time": "2021-11-17T21:06:37.993Z"
   },
   {
    "duration": 3,
    "start_time": "2021-11-17T21:06:38.261Z"
   },
   {
    "duration": 3,
    "start_time": "2021-11-17T21:11:54.358Z"
   },
   {
    "duration": 3,
    "start_time": "2021-11-17T21:12:43.846Z"
   },
   {
    "duration": 4,
    "start_time": "2021-11-17T21:13:08.773Z"
   },
   {
    "duration": 3,
    "start_time": "2021-11-17T21:14:44.441Z"
   },
   {
    "duration": 3,
    "start_time": "2021-11-17T21:15:42.059Z"
   },
   {
    "duration": 4,
    "start_time": "2021-11-17T21:15:51.995Z"
   },
   {
    "duration": 3,
    "start_time": "2021-11-17T21:15:53.923Z"
   },
   {
    "duration": 3,
    "start_time": "2021-11-17T21:15:55.282Z"
   },
   {
    "duration": 3,
    "start_time": "2021-11-17T21:16:28.492Z"
   },
   {
    "duration": 3,
    "start_time": "2021-11-17T21:16:32.603Z"
   },
   {
    "duration": 3,
    "start_time": "2021-11-17T21:17:06.941Z"
   },
   {
    "duration": 98,
    "start_time": "2021-11-17T21:18:05.733Z"
   },
   {
    "duration": 4,
    "start_time": "2021-11-17T21:21:35.255Z"
   },
   {
    "duration": 3,
    "start_time": "2021-11-17T21:21:37.804Z"
   },
   {
    "duration": 4,
    "start_time": "2021-11-17T21:23:06.071Z"
   },
   {
    "duration": 3,
    "start_time": "2021-11-17T21:23:24.799Z"
   },
   {
    "duration": 3,
    "start_time": "2021-11-17T21:23:32.591Z"
   },
   {
    "duration": 98,
    "start_time": "2021-11-17T21:28:31.559Z"
   },
   {
    "duration": 3,
    "start_time": "2021-11-17T21:28:45.448Z"
   },
   {
    "duration": 3,
    "start_time": "2021-11-17T21:29:17.303Z"
   },
   {
    "duration": 3,
    "start_time": "2021-11-17T21:29:29.617Z"
   },
   {
    "duration": 3,
    "start_time": "2021-11-17T21:29:32.681Z"
   },
   {
    "duration": 3,
    "start_time": "2021-11-17T21:36:11.474Z"
   },
   {
    "duration": 3,
    "start_time": "2021-11-17T21:36:14.791Z"
   },
   {
    "duration": 3,
    "start_time": "2021-11-17T21:36:53.943Z"
   },
   {
    "duration": 3,
    "start_time": "2021-11-17T21:36:56.165Z"
   },
   {
    "duration": 4,
    "start_time": "2021-11-17T21:37:16.590Z"
   },
   {
    "duration": 3,
    "start_time": "2021-11-17T21:37:22.702Z"
   },
   {
    "duration": 4,
    "start_time": "2021-11-17T21:38:03.479Z"
   },
   {
    "duration": 3,
    "start_time": "2021-11-17T21:38:08.601Z"
   },
   {
    "duration": 3,
    "start_time": "2021-11-17T21:38:12.928Z"
   },
   {
    "duration": 3,
    "start_time": "2021-11-17T21:38:48.896Z"
   },
   {
    "duration": 2,
    "start_time": "2021-11-17T21:38:49.171Z"
   },
   {
    "duration": 4,
    "start_time": "2021-11-17T21:39:57.889Z"
   },
   {
    "duration": 3,
    "start_time": "2021-11-17T21:39:58.057Z"
   },
   {
    "duration": 3,
    "start_time": "2021-11-17T21:41:20.108Z"
   },
   {
    "duration": 3,
    "start_time": "2021-11-17T21:41:20.629Z"
   },
   {
    "duration": 3,
    "start_time": "2021-11-17T21:42:49.136Z"
   },
   {
    "duration": 3,
    "start_time": "2021-11-17T21:43:15.137Z"
   },
   {
    "duration": 4,
    "start_time": "2021-11-17T21:43:16.766Z"
   },
   {
    "duration": 4,
    "start_time": "2021-11-17T21:43:31.711Z"
   },
   {
    "duration": 3,
    "start_time": "2021-11-17T21:43:36.312Z"
   },
   {
    "duration": 4,
    "start_time": "2021-11-17T21:45:08.825Z"
   },
   {
    "duration": 4,
    "start_time": "2021-11-17T21:45:10.119Z"
   },
   {
    "duration": 4,
    "start_time": "2021-11-17T21:45:13.748Z"
   },
   {
    "duration": 3,
    "start_time": "2021-11-17T21:45:22.219Z"
   },
   {
    "duration": 3,
    "start_time": "2021-11-17T21:45:33.412Z"
   },
   {
    "duration": 2,
    "start_time": "2021-11-17T21:46:01.885Z"
   },
   {
    "duration": 3,
    "start_time": "2021-11-17T21:46:03.628Z"
   },
   {
    "duration": 107,
    "start_time": "2021-11-17T21:47:32.512Z"
   },
   {
    "duration": 103,
    "start_time": "2021-11-17T21:50:36.243Z"
   },
   {
    "duration": 3,
    "start_time": "2021-11-18T06:28:31.440Z"
   },
   {
    "duration": 3,
    "start_time": "2021-11-18T06:29:00.168Z"
   },
   {
    "duration": 3,
    "start_time": "2021-11-18T06:31:27.008Z"
   },
   {
    "duration": 2,
    "start_time": "2021-11-18T06:35:34.288Z"
   },
   {
    "duration": 2,
    "start_time": "2021-11-18T06:38:04.527Z"
   },
   {
    "duration": 566,
    "start_time": "2025-02-05T03:21:05.325Z"
   },
   {
    "duration": 375,
    "start_time": "2025-02-05T03:21:42.035Z"
   },
   {
    "duration": 375,
    "start_time": "2025-02-05T03:22:28.588Z"
   },
   {
    "duration": 104,
    "start_time": "2025-02-05T03:22:34.074Z"
   },
   {
    "duration": 88,
    "start_time": "2025-02-05T03:22:50.524Z"
   },
   {
    "duration": 5,
    "start_time": "2025-02-05T03:23:19.591Z"
   },
   {
    "duration": 108,
    "start_time": "2025-02-05T03:23:24.563Z"
   },
   {
    "duration": 95,
    "start_time": "2025-02-05T03:23:53.705Z"
   },
   {
    "duration": 5,
    "start_time": "2025-02-05T03:24:04.878Z"
   },
   {
    "duration": 4,
    "start_time": "2025-02-05T03:24:10.164Z"
   },
   {
    "duration": 3,
    "start_time": "2025-02-05T03:24:28.335Z"
   },
   {
    "duration": 57,
    "start_time": "2025-02-05T03:25:07.516Z"
   },
   {
    "duration": 62,
    "start_time": "2025-02-05T03:25:20.133Z"
   },
   {
    "duration": 57,
    "start_time": "2025-02-05T03:25:30.260Z"
   },
   {
    "duration": 59,
    "start_time": "2025-02-05T03:25:40.847Z"
   },
   {
    "duration": 58,
    "start_time": "2025-02-05T03:26:32.263Z"
   },
   {
    "duration": 72,
    "start_time": "2025-02-05T03:26:45.330Z"
   },
   {
    "duration": 60,
    "start_time": "2025-02-05T03:29:48.896Z"
   },
   {
    "duration": 58,
    "start_time": "2025-02-05T03:29:56.854Z"
   },
   {
    "duration": 3,
    "start_time": "2025-02-05T03:32:21.961Z"
   },
   {
    "duration": 4,
    "start_time": "2025-02-05T03:33:28.595Z"
   },
   {
    "duration": 58,
    "start_time": "2025-02-05T03:33:37.443Z"
   },
   {
    "duration": 89,
    "start_time": "2025-02-05T03:35:58.746Z"
   },
   {
    "duration": 199,
    "start_time": "2025-02-05T03:39:36.833Z"
   },
   {
    "duration": 166,
    "start_time": "2025-02-05T03:40:26.672Z"
   },
   {
    "duration": 150,
    "start_time": "2025-02-05T03:41:01.779Z"
   },
   {
    "duration": 153,
    "start_time": "2025-02-05T03:41:19.847Z"
   },
   {
    "duration": 163,
    "start_time": "2025-02-05T03:41:39.279Z"
   },
   {
    "duration": 154,
    "start_time": "2025-02-05T03:41:47.255Z"
   },
   {
    "duration": 150,
    "start_time": "2025-02-05T03:41:58.552Z"
   },
   {
    "duration": 151,
    "start_time": "2025-02-05T03:42:17.512Z"
   },
   {
    "duration": 153,
    "start_time": "2025-02-05T03:42:37.754Z"
   },
   {
    "duration": 8,
    "start_time": "2025-02-05T15:06:22.220Z"
   },
   {
    "duration": 3,
    "start_time": "2025-02-05T15:07:04.487Z"
   },
   {
    "duration": 166,
    "start_time": "2025-02-05T15:08:04.682Z"
   },
   {
    "duration": 707,
    "start_time": "2025-02-05T15:08:19.201Z"
   },
   {
    "duration": 224,
    "start_time": "2025-02-05T15:08:19.910Z"
   },
   {
    "duration": 4,
    "start_time": "2025-02-05T15:08:20.135Z"
   },
   {
    "duration": 29,
    "start_time": "2025-02-05T15:08:20.141Z"
   },
   {
    "duration": 3,
    "start_time": "2025-02-05T15:08:20.172Z"
   },
   {
    "duration": 3,
    "start_time": "2025-02-05T15:08:20.176Z"
   },
   {
    "duration": 3,
    "start_time": "2025-02-05T15:08:20.181Z"
   },
   {
    "duration": 3,
    "start_time": "2025-02-05T15:08:20.186Z"
   },
   {
    "duration": 3,
    "start_time": "2025-02-05T15:08:20.191Z"
   },
   {
    "duration": 3,
    "start_time": "2025-02-05T15:08:20.195Z"
   },
   {
    "duration": 3,
    "start_time": "2025-02-05T15:08:20.200Z"
   },
   {
    "duration": 2,
    "start_time": "2025-02-05T15:08:20.205Z"
   },
   {
    "duration": 3,
    "start_time": "2025-02-05T15:08:20.209Z"
   },
   {
    "duration": 1,
    "start_time": "2025-02-05T15:08:20.216Z"
   },
   {
    "duration": 3,
    "start_time": "2025-02-05T15:08:20.219Z"
   },
   {
    "duration": 3,
    "start_time": "2025-02-05T15:08:20.224Z"
   },
   {
    "duration": 42,
    "start_time": "2025-02-05T15:08:20.228Z"
   },
   {
    "duration": 2,
    "start_time": "2025-02-05T15:08:20.272Z"
   },
   {
    "duration": 3,
    "start_time": "2025-02-05T15:08:20.276Z"
   },
   {
    "duration": 3,
    "start_time": "2025-02-05T15:08:20.280Z"
   },
   {
    "duration": 3,
    "start_time": "2025-02-05T15:08:20.285Z"
   },
   {
    "duration": 3,
    "start_time": "2025-02-05T15:08:20.289Z"
   },
   {
    "duration": 3,
    "start_time": "2025-02-05T15:08:20.294Z"
   },
   {
    "duration": 2,
    "start_time": "2025-02-05T15:08:20.299Z"
   },
   {
    "duration": 3,
    "start_time": "2025-02-05T15:08:20.303Z"
   },
   {
    "duration": 3,
    "start_time": "2025-02-05T15:08:20.307Z"
   },
   {
    "duration": 3,
    "start_time": "2025-02-05T15:08:20.312Z"
   },
   {
    "duration": 3,
    "start_time": "2025-02-05T15:08:20.316Z"
   },
   {
    "duration": 3,
    "start_time": "2025-02-05T15:08:20.321Z"
   },
   {
    "duration": 2,
    "start_time": "2025-02-05T15:08:20.370Z"
   },
   {
    "duration": 31,
    "start_time": "2025-02-05T15:09:03.784Z"
   },
   {
    "duration": 3,
    "start_time": "2025-02-05T15:09:11.108Z"
   },
   {
    "duration": 28,
    "start_time": "2025-02-05T15:09:12.250Z"
   },
   {
    "duration": 3,
    "start_time": "2025-02-05T15:09:25.451Z"
   },
   {
    "duration": 26,
    "start_time": "2025-02-05T15:09:25.979Z"
   },
   {
    "duration": 3,
    "start_time": "2025-02-05T15:09:48.498Z"
   },
   {
    "duration": 26,
    "start_time": "2025-02-05T15:09:48.858Z"
   },
   {
    "duration": 24,
    "start_time": "2025-02-05T15:10:02.482Z"
   },
   {
    "duration": 12,
    "start_time": "2025-02-05T15:10:49.007Z"
   },
   {
    "duration": 4,
    "start_time": "2025-02-05T15:49:16.491Z"
   },
   {
    "duration": 75,
    "start_time": "2025-02-05T15:49:42.019Z"
   },
   {
    "duration": 4,
    "start_time": "2025-02-05T15:50:27.834Z"
   },
   {
    "duration": 2134,
    "start_time": "2025-02-05T15:50:28.589Z"
   },
   {
    "duration": 4,
    "start_time": "2025-02-05T15:51:08.820Z"
   },
   {
    "duration": 23,
    "start_time": "2025-02-05T15:51:09.542Z"
   },
   {
    "duration": 3,
    "start_time": "2025-02-05T15:54:09.838Z"
   },
   {
    "duration": 170,
    "start_time": "2025-02-05T15:54:11.368Z"
   },
   {
    "duration": 3,
    "start_time": "2025-02-05T15:54:12.266Z"
   },
   {
    "duration": 4,
    "start_time": "2025-02-05T15:54:13.155Z"
   },
   {
    "duration": 279,
    "start_time": "2025-02-05T15:54:14.700Z"
   },
   {
    "duration": 14,
    "start_time": "2025-02-05T15:56:32.400Z"
   },
   {
    "duration": 9,
    "start_time": "2025-02-05T15:56:39.551Z"
   },
   {
    "duration": 12,
    "start_time": "2025-02-05T16:02:38.540Z"
   },
   {
    "duration": 12,
    "start_time": "2025-02-05T16:04:27.284Z"
   },
   {
    "duration": 14,
    "start_time": "2025-02-05T16:04:47.359Z"
   },
   {
    "duration": 5,
    "start_time": "2025-02-05T16:04:52.014Z"
   },
   {
    "duration": 5,
    "start_time": "2025-02-05T16:32:05.995Z"
   },
   {
    "duration": 4,
    "start_time": "2025-02-05T16:32:13.736Z"
   },
   {
    "duration": 119,
    "start_time": "2025-02-05T16:32:54.773Z"
   },
   {
    "duration": 3,
    "start_time": "2025-02-05T18:11:40.854Z"
   },
   {
    "duration": 11,
    "start_time": "2025-02-05T18:12:10.642Z"
   },
   {
    "duration": 3,
    "start_time": "2025-02-05T18:12:55.079Z"
   },
   {
    "duration": 12,
    "start_time": "2025-02-05T18:12:55.859Z"
   },
   {
    "duration": 3,
    "start_time": "2025-02-05T18:14:14.992Z"
   },
   {
    "duration": 77,
    "start_time": "2025-02-05T18:15:03.475Z"
   },
   {
    "duration": 4,
    "start_time": "2025-02-05T18:16:18.432Z"
   },
   {
    "duration": 13,
    "start_time": "2025-02-05T18:16:25.188Z"
   },
   {
    "duration": 4,
    "start_time": "2025-02-05T18:17:23.533Z"
   },
   {
    "duration": 5,
    "start_time": "2025-02-05T18:19:16.278Z"
   },
   {
    "duration": 13,
    "start_time": "2025-02-05T18:19:18.873Z"
   },
   {
    "duration": 6,
    "start_time": "2025-02-05T18:20:11.500Z"
   },
   {
    "duration": 8,
    "start_time": "2025-02-05T18:21:16.691Z"
   },
   {
    "duration": 13,
    "start_time": "2025-02-05T18:21:20.662Z"
   },
   {
    "duration": 7,
    "start_time": "2025-02-05T18:23:29.702Z"
   },
   {
    "duration": 15,
    "start_time": "2025-02-05T18:23:41.452Z"
   },
   {
    "duration": 8,
    "start_time": "2025-02-05T18:24:25.758Z"
   },
   {
    "duration": 7,
    "start_time": "2025-02-05T18:25:25.416Z"
   },
   {
    "duration": 8,
    "start_time": "2025-02-05T18:25:55.110Z"
   },
   {
    "duration": 7,
    "start_time": "2025-02-05T18:26:34.658Z"
   },
   {
    "duration": 8,
    "start_time": "2025-02-05T18:26:50.044Z"
   },
   {
    "duration": 364,
    "start_time": "2025-02-05T18:27:36.822Z"
   },
   {
    "duration": 5,
    "start_time": "2025-02-05T18:28:11.593Z"
   },
   {
    "duration": 12,
    "start_time": "2025-02-05T18:28:40.574Z"
   },
   {
    "duration": 4,
    "start_time": "2025-02-05T18:28:57.862Z"
   },
   {
    "duration": 12,
    "start_time": "2025-02-05T18:28:59.318Z"
   },
   {
    "duration": 6,
    "start_time": "2025-02-05T18:31:53.126Z"
   },
   {
    "duration": 6,
    "start_time": "2025-02-05T18:32:56.085Z"
   },
   {
    "duration": 4,
    "start_time": "2025-02-05T18:33:14.891Z"
   },
   {
    "duration": 12,
    "start_time": "2025-02-05T18:33:18.912Z"
   },
   {
    "duration": 2,
    "start_time": "2025-02-05T18:52:43.010Z"
   },
   {
    "duration": 172,
    "start_time": "2025-02-05T18:52:43.016Z"
   },
   {
    "duration": 3,
    "start_time": "2025-02-05T18:52:43.191Z"
   },
   {
    "duration": 12,
    "start_time": "2025-02-05T18:52:43.196Z"
   },
   {
    "duration": 5,
    "start_time": "2025-02-05T18:52:43.210Z"
   },
   {
    "duration": 12,
    "start_time": "2025-02-05T18:52:43.217Z"
   },
   {
    "duration": 5,
    "start_time": "2025-02-05T18:52:43.231Z"
   },
   {
    "duration": 32,
    "start_time": "2025-02-05T18:52:43.238Z"
   },
   {
    "duration": 4,
    "start_time": "2025-02-05T18:52:43.271Z"
   },
   {
    "duration": 11,
    "start_time": "2025-02-05T18:52:43.276Z"
   },
   {
    "duration": 2,
    "start_time": "2025-02-05T18:52:43.290Z"
   },
   {
    "duration": 2,
    "start_time": "2025-02-05T18:52:43.294Z"
   },
   {
    "duration": 3,
    "start_time": "2025-02-05T18:52:43.298Z"
   },
   {
    "duration": 3,
    "start_time": "2025-02-05T18:52:43.303Z"
   },
   {
    "duration": 3,
    "start_time": "2025-02-05T18:52:43.307Z"
   },
   {
    "duration": 2,
    "start_time": "2025-02-05T18:52:43.312Z"
   },
   {
    "duration": 3,
    "start_time": "2025-02-05T18:52:43.316Z"
   },
   {
    "duration": 4,
    "start_time": "2025-02-05T18:52:43.320Z"
   },
   {
    "duration": 3,
    "start_time": "2025-02-05T18:52:43.325Z"
   },
   {
    "duration": 41,
    "start_time": "2025-02-05T18:52:43.329Z"
   },
   {
    "duration": 2,
    "start_time": "2025-02-05T18:52:43.372Z"
   },
   {
    "duration": 4,
    "start_time": "2025-02-05T18:52:43.376Z"
   },
   {
    "duration": 3,
    "start_time": "2025-02-05T18:52:43.381Z"
   },
   {
    "duration": 3,
    "start_time": "2025-02-05T18:52:43.386Z"
   },
   {
    "duration": 3,
    "start_time": "2025-02-05T18:52:43.391Z"
   },
   {
    "duration": 3,
    "start_time": "2025-02-05T18:52:43.395Z"
   },
   {
    "duration": 3,
    "start_time": "2025-02-05T18:52:43.400Z"
   },
   {
    "duration": 3,
    "start_time": "2025-02-05T18:52:43.404Z"
   },
   {
    "duration": 3,
    "start_time": "2025-02-05T18:52:43.410Z"
   },
   {
    "duration": 3,
    "start_time": "2025-02-05T18:52:43.414Z"
   },
   {
    "duration": 3,
    "start_time": "2025-02-05T18:52:43.419Z"
   },
   {
    "duration": 47,
    "start_time": "2025-02-05T18:52:43.423Z"
   },
   {
    "duration": 6,
    "start_time": "2025-02-05T18:54:43.951Z"
   },
   {
    "duration": 3,
    "start_time": "2025-02-05T18:54:57.956Z"
   },
   {
    "duration": 161,
    "start_time": "2025-02-05T18:54:57.961Z"
   },
   {
    "duration": 3,
    "start_time": "2025-02-05T18:54:58.124Z"
   },
   {
    "duration": 11,
    "start_time": "2025-02-05T18:54:58.130Z"
   },
   {
    "duration": 5,
    "start_time": "2025-02-05T18:54:58.143Z"
   },
   {
    "duration": 30,
    "start_time": "2025-02-05T18:54:58.149Z"
   },
   {
    "duration": 6,
    "start_time": "2025-02-05T18:54:58.181Z"
   },
   {
    "duration": 5,
    "start_time": "2025-02-05T18:54:58.188Z"
   },
   {
    "duration": 5,
    "start_time": "2025-02-05T18:54:58.194Z"
   },
   {
    "duration": 11,
    "start_time": "2025-02-05T18:54:58.202Z"
   },
   {
    "duration": 2,
    "start_time": "2025-02-05T18:54:58.215Z"
   },
   {
    "duration": 3,
    "start_time": "2025-02-05T18:54:58.218Z"
   },
   {
    "duration": 3,
    "start_time": "2025-02-05T18:54:58.223Z"
   },
   {
    "duration": 4,
    "start_time": "2025-02-05T18:54:58.228Z"
   },
   {
    "duration": 37,
    "start_time": "2025-02-05T18:54:58.234Z"
   },
   {
    "duration": 3,
    "start_time": "2025-02-05T18:54:58.273Z"
   },
   {
    "duration": 3,
    "start_time": "2025-02-05T18:54:58.277Z"
   },
   {
    "duration": 3,
    "start_time": "2025-02-05T18:54:58.282Z"
   },
   {
    "duration": 3,
    "start_time": "2025-02-05T18:54:58.286Z"
   },
   {
    "duration": 4,
    "start_time": "2025-02-05T18:54:58.290Z"
   },
   {
    "duration": 3,
    "start_time": "2025-02-05T18:54:58.295Z"
   },
   {
    "duration": 3,
    "start_time": "2025-02-05T18:54:58.299Z"
   },
   {
    "duration": 3,
    "start_time": "2025-02-05T18:54:58.304Z"
   },
   {
    "duration": 4,
    "start_time": "2025-02-05T18:54:58.308Z"
   },
   {
    "duration": 3,
    "start_time": "2025-02-05T18:54:58.313Z"
   },
   {
    "duration": 2,
    "start_time": "2025-02-05T18:54:58.318Z"
   },
   {
    "duration": 3,
    "start_time": "2025-02-05T18:54:58.322Z"
   },
   {
    "duration": 3,
    "start_time": "2025-02-05T18:54:58.369Z"
   },
   {
    "duration": 2,
    "start_time": "2025-02-05T18:54:58.374Z"
   },
   {
    "duration": 3,
    "start_time": "2025-02-05T18:54:58.378Z"
   },
   {
    "duration": 3,
    "start_time": "2025-02-05T18:54:58.382Z"
   },
   {
    "duration": 3,
    "start_time": "2025-02-05T18:54:58.387Z"
   },
   {
    "duration": 26,
    "start_time": "2025-02-05T18:55:38.601Z"
   },
   {
    "duration": 10,
    "start_time": "2025-02-05T18:57:01.964Z"
   },
   {
    "duration": 17,
    "start_time": "2025-02-05T19:03:40.205Z"
   },
   {
    "duration": 26,
    "start_time": "2025-02-05T19:04:05.903Z"
   },
   {
    "duration": 36,
    "start_time": "2025-02-05T19:22:57.163Z"
   },
   {
    "duration": 25,
    "start_time": "2025-02-05T19:23:08.693Z"
   },
   {
    "duration": 25,
    "start_time": "2025-02-05T19:23:41.898Z"
   },
   {
    "duration": 24,
    "start_time": "2025-02-05T19:23:50.890Z"
   },
   {
    "duration": 19,
    "start_time": "2025-02-05T19:24:27.890Z"
   },
   {
    "duration": 6,
    "start_time": "2025-02-05T19:26:36.421Z"
   },
   {
    "duration": 53,
    "start_time": "2025-02-05T19:31:34.878Z"
   },
   {
    "duration": 11,
    "start_time": "2025-02-05T19:55:04.943Z"
   },
   {
    "duration": 40,
    "start_time": "2025-02-05T19:56:35.429Z"
   },
   {
    "duration": 35,
    "start_time": "2025-02-05T19:58:36.715Z"
   },
   {
    "duration": 33,
    "start_time": "2025-02-05T20:04:34.327Z"
   },
   {
    "duration": 13,
    "start_time": "2025-02-05T20:07:05.671Z"
   },
   {
    "duration": 18,
    "start_time": "2025-02-05T20:07:25.882Z"
   },
   {
    "duration": 39,
    "start_time": "2025-02-05T20:08:06.483Z"
   },
   {
    "duration": 2,
    "start_time": "2025-02-05T20:08:21.106Z"
   },
   {
    "duration": 157,
    "start_time": "2025-02-05T20:08:21.110Z"
   },
   {
    "duration": 3,
    "start_time": "2025-02-05T20:08:21.269Z"
   },
   {
    "duration": 11,
    "start_time": "2025-02-05T20:08:21.274Z"
   },
   {
    "duration": 4,
    "start_time": "2025-02-05T20:08:21.288Z"
   },
   {
    "duration": 11,
    "start_time": "2025-02-05T20:08:21.294Z"
   },
   {
    "duration": 5,
    "start_time": "2025-02-05T20:08:21.307Z"
   },
   {
    "duration": 4,
    "start_time": "2025-02-05T20:08:21.314Z"
   },
   {
    "duration": 4,
    "start_time": "2025-02-05T20:08:21.320Z"
   },
   {
    "duration": 57,
    "start_time": "2025-02-05T20:08:21.326Z"
   },
   {
    "duration": 32,
    "start_time": "2025-02-05T20:08:21.385Z"
   },
   {
    "duration": 6,
    "start_time": "2025-02-05T20:08:21.419Z"
   },
   {
    "duration": 16,
    "start_time": "2025-02-05T20:08:21.429Z"
   },
   {
    "duration": 35,
    "start_time": "2025-02-05T20:08:21.446Z"
   },
   {
    "duration": 39,
    "start_time": "2025-02-05T20:08:21.483Z"
   },
   {
    "duration": 17,
    "start_time": "2025-02-05T20:08:21.524Z"
   },
   {
    "duration": 36,
    "start_time": "2025-02-05T20:08:21.543Z"
   },
   {
    "duration": 14,
    "start_time": "2025-02-05T20:08:21.582Z"
   },
   {
    "duration": 22,
    "start_time": "2025-02-05T20:08:21.598Z"
   },
   {
    "duration": 30,
    "start_time": "2025-02-05T20:08:21.624Z"
   },
   {
    "duration": 15,
    "start_time": "2025-02-05T20:08:21.656Z"
   },
   {
    "duration": 3,
    "start_time": "2025-02-05T20:08:21.673Z"
   },
   {
    "duration": 3,
    "start_time": "2025-02-05T20:08:21.677Z"
   },
   {
    "duration": 4,
    "start_time": "2025-02-05T20:08:21.681Z"
   },
   {
    "duration": 3,
    "start_time": "2025-02-05T20:08:21.686Z"
   },
   {
    "duration": 3,
    "start_time": "2025-02-05T20:08:21.691Z"
   },
   {
    "duration": 3,
    "start_time": "2025-02-05T20:08:21.696Z"
   },
   {
    "duration": 3,
    "start_time": "2025-02-05T20:08:21.700Z"
   },
   {
    "duration": 3,
    "start_time": "2025-02-05T20:08:21.705Z"
   },
   {
    "duration": 3,
    "start_time": "2025-02-05T20:08:21.709Z"
   },
   {
    "duration": 4,
    "start_time": "2025-02-05T20:08:21.713Z"
   },
   {
    "duration": 4,
    "start_time": "2025-02-05T20:08:21.718Z"
   },
   {
    "duration": 4,
    "start_time": "2025-02-05T20:08:21.723Z"
   },
   {
    "duration": 42,
    "start_time": "2025-02-05T20:08:21.728Z"
   },
   {
    "duration": 3,
    "start_time": "2025-02-05T20:08:21.772Z"
   },
   {
    "duration": 4,
    "start_time": "2025-02-05T20:08:21.776Z"
   },
   {
    "duration": 1,
    "start_time": "2025-02-05T20:08:21.784Z"
   },
   {
    "duration": 3,
    "start_time": "2025-02-05T20:08:21.787Z"
   },
   {
    "duration": 15,
    "start_time": "2025-02-05T20:09:26.237Z"
   },
   {
    "duration": 3,
    "start_time": "2025-02-05T20:09:34.268Z"
   },
   {
    "duration": 172,
    "start_time": "2025-02-05T20:09:34.273Z"
   },
   {
    "duration": 2,
    "start_time": "2025-02-05T20:09:34.447Z"
   },
   {
    "duration": 11,
    "start_time": "2025-02-05T20:09:34.451Z"
   },
   {
    "duration": 5,
    "start_time": "2025-02-05T20:09:34.471Z"
   },
   {
    "duration": 11,
    "start_time": "2025-02-05T20:09:34.477Z"
   },
   {
    "duration": 5,
    "start_time": "2025-02-05T20:09:34.489Z"
   },
   {
    "duration": 4,
    "start_time": "2025-02-05T20:09:34.496Z"
   },
   {
    "duration": 5,
    "start_time": "2025-02-05T20:09:34.501Z"
   },
   {
    "duration": 12,
    "start_time": "2025-02-05T20:09:34.507Z"
   },
   {
    "duration": 56,
    "start_time": "2025-02-05T20:09:34.523Z"
   },
   {
    "duration": 7,
    "start_time": "2025-02-05T20:09:34.580Z"
   },
   {
    "duration": 15,
    "start_time": "2025-02-05T20:09:34.588Z"
   },
   {
    "duration": 19,
    "start_time": "2025-02-05T20:09:34.605Z"
   },
   {
    "duration": 64,
    "start_time": "2025-02-05T20:09:34.626Z"
   },
   {
    "duration": 18,
    "start_time": "2025-02-05T20:09:34.692Z"
   },
   {
    "duration": 6,
    "start_time": "2025-02-05T20:09:34.711Z"
   },
   {
    "duration": 10,
    "start_time": "2025-02-05T20:09:34.719Z"
   },
   {
    "duration": 43,
    "start_time": "2025-02-05T20:09:34.731Z"
   },
   {
    "duration": 14,
    "start_time": "2025-02-05T20:09:34.776Z"
   },
   {
    "duration": 3,
    "start_time": "2025-02-05T20:09:34.791Z"
   },
   {
    "duration": 2,
    "start_time": "2025-02-05T20:09:34.796Z"
   },
   {
    "duration": 3,
    "start_time": "2025-02-05T20:09:34.800Z"
   },
   {
    "duration": 3,
    "start_time": "2025-02-05T20:09:34.805Z"
   },
   {
    "duration": 2,
    "start_time": "2025-02-05T20:09:34.810Z"
   },
   {
    "duration": 3,
    "start_time": "2025-02-05T20:09:34.814Z"
   },
   {
    "duration": 3,
    "start_time": "2025-02-05T20:09:34.819Z"
   },
   {
    "duration": 3,
    "start_time": "2025-02-05T20:09:34.823Z"
   },
   {
    "duration": 3,
    "start_time": "2025-02-05T20:09:34.870Z"
   },
   {
    "duration": 2,
    "start_time": "2025-02-05T20:09:34.875Z"
   },
   {
    "duration": 3,
    "start_time": "2025-02-05T20:09:34.879Z"
   },
   {
    "duration": 3,
    "start_time": "2025-02-05T20:09:34.883Z"
   },
   {
    "duration": 3,
    "start_time": "2025-02-05T20:09:34.888Z"
   },
   {
    "duration": 2,
    "start_time": "2025-02-05T20:09:34.893Z"
   },
   {
    "duration": 3,
    "start_time": "2025-02-05T20:09:34.897Z"
   },
   {
    "duration": 3,
    "start_time": "2025-02-05T20:09:34.902Z"
   },
   {
    "duration": 3,
    "start_time": "2025-02-05T20:09:34.906Z"
   },
   {
    "duration": 3,
    "start_time": "2025-02-05T20:09:34.911Z"
   },
   {
    "duration": 3,
    "start_time": "2025-02-05T20:10:56.318Z"
   },
   {
    "duration": 165,
    "start_time": "2025-02-05T20:10:56.322Z"
   },
   {
    "duration": 3,
    "start_time": "2025-02-05T20:10:56.489Z"
   },
   {
    "duration": 12,
    "start_time": "2025-02-05T20:10:56.493Z"
   },
   {
    "duration": 4,
    "start_time": "2025-02-05T20:10:56.508Z"
   },
   {
    "duration": 11,
    "start_time": "2025-02-05T20:10:56.514Z"
   },
   {
    "duration": 11,
    "start_time": "2025-02-05T20:10:56.526Z"
   },
   {
    "duration": 12,
    "start_time": "2025-02-05T20:10:56.540Z"
   },
   {
    "duration": 7,
    "start_time": "2025-02-05T20:10:56.571Z"
   },
   {
    "duration": 13,
    "start_time": "2025-02-05T20:10:56.580Z"
   },
   {
    "duration": 24,
    "start_time": "2025-02-05T20:10:56.598Z"
   },
   {
    "duration": 7,
    "start_time": "2025-02-05T20:10:56.624Z"
   },
   {
    "duration": 48,
    "start_time": "2025-02-05T20:10:56.634Z"
   },
   {
    "duration": 24,
    "start_time": "2025-02-05T20:10:56.684Z"
   },
   {
    "duration": 60,
    "start_time": "2025-02-05T20:10:56.710Z"
   },
   {
    "duration": 20,
    "start_time": "2025-02-05T20:10:56.772Z"
   },
   {
    "duration": 6,
    "start_time": "2025-02-05T20:10:56.793Z"
   },
   {
    "duration": 10,
    "start_time": "2025-02-05T20:10:56.801Z"
   },
   {
    "duration": 15,
    "start_time": "2025-02-05T20:10:56.813Z"
   },
   {
    "duration": 42,
    "start_time": "2025-02-05T20:10:56.829Z"
   },
   {
    "duration": 3,
    "start_time": "2025-02-05T20:10:56.873Z"
   },
   {
    "duration": 3,
    "start_time": "2025-02-05T20:10:56.877Z"
   },
   {
    "duration": 2,
    "start_time": "2025-02-05T20:10:56.882Z"
   },
   {
    "duration": 3,
    "start_time": "2025-02-05T20:10:56.885Z"
   },
   {
    "duration": 3,
    "start_time": "2025-02-05T20:10:56.890Z"
   },
   {
    "duration": 3,
    "start_time": "2025-02-05T20:10:56.894Z"
   },
   {
    "duration": 3,
    "start_time": "2025-02-05T20:10:56.899Z"
   },
   {
    "duration": 3,
    "start_time": "2025-02-05T20:10:56.903Z"
   },
   {
    "duration": 2,
    "start_time": "2025-02-05T20:10:56.910Z"
   },
   {
    "duration": 3,
    "start_time": "2025-02-05T20:10:56.914Z"
   },
   {
    "duration": 3,
    "start_time": "2025-02-05T20:10:56.918Z"
   },
   {
    "duration": 47,
    "start_time": "2025-02-05T20:10:56.923Z"
   },
   {
    "duration": 4,
    "start_time": "2025-02-05T20:10:56.972Z"
   },
   {
    "duration": 2,
    "start_time": "2025-02-05T20:10:56.979Z"
   },
   {
    "duration": 2,
    "start_time": "2025-02-05T20:10:56.983Z"
   },
   {
    "duration": 3,
    "start_time": "2025-02-05T20:10:56.987Z"
   },
   {
    "duration": 4,
    "start_time": "2025-02-05T20:10:56.991Z"
   },
   {
    "duration": 3,
    "start_time": "2025-02-05T20:10:56.996Z"
   },
   {
    "duration": 2,
    "start_time": "2025-02-05T20:12:16.915Z"
   },
   {
    "duration": 162,
    "start_time": "2025-02-05T20:12:16.919Z"
   },
   {
    "duration": 3,
    "start_time": "2025-02-05T20:12:17.083Z"
   },
   {
    "duration": 11,
    "start_time": "2025-02-05T20:12:17.089Z"
   },
   {
    "duration": 4,
    "start_time": "2025-02-05T20:12:17.102Z"
   },
   {
    "duration": 10,
    "start_time": "2025-02-05T20:12:17.108Z"
   },
   {
    "duration": 6,
    "start_time": "2025-02-05T20:12:17.120Z"
   },
   {
    "duration": 5,
    "start_time": "2025-02-05T20:12:17.127Z"
   },
   {
    "duration": 36,
    "start_time": "2025-02-05T20:12:17.134Z"
   },
   {
    "duration": 19,
    "start_time": "2025-02-05T20:12:17.172Z"
   },
   {
    "duration": 27,
    "start_time": "2025-02-05T20:12:17.193Z"
   },
   {
    "duration": 6,
    "start_time": "2025-02-05T20:12:17.222Z"
   },
   {
    "duration": 44,
    "start_time": "2025-02-05T20:12:17.231Z"
   },
   {
    "duration": 19,
    "start_time": "2025-02-05T20:12:17.277Z"
   },
   {
    "duration": 41,
    "start_time": "2025-02-05T20:12:17.298Z"
   },
   {
    "duration": 38,
    "start_time": "2025-02-05T20:12:17.341Z"
   },
   {
    "duration": 6,
    "start_time": "2025-02-05T20:12:17.381Z"
   },
   {
    "duration": 10,
    "start_time": "2025-02-05T20:12:17.389Z"
   },
   {
    "duration": 16,
    "start_time": "2025-02-05T20:12:17.401Z"
   },
   {
    "duration": 15,
    "start_time": "2025-02-05T20:12:17.419Z"
   },
   {
    "duration": 35,
    "start_time": "2025-02-05T20:12:17.436Z"
   },
   {
    "duration": 3,
    "start_time": "2025-02-05T20:12:17.473Z"
   },
   {
    "duration": 3,
    "start_time": "2025-02-05T20:12:17.478Z"
   },
   {
    "duration": 2,
    "start_time": "2025-02-05T20:12:17.484Z"
   },
   {
    "duration": 3,
    "start_time": "2025-02-05T20:12:17.488Z"
   },
   {
    "duration": 3,
    "start_time": "2025-02-05T20:12:17.493Z"
   },
   {
    "duration": 3,
    "start_time": "2025-02-05T20:12:17.497Z"
   },
   {
    "duration": 3,
    "start_time": "2025-02-05T20:12:17.502Z"
   },
   {
    "duration": 3,
    "start_time": "2025-02-05T20:12:17.507Z"
   },
   {
    "duration": 3,
    "start_time": "2025-02-05T20:12:17.511Z"
   },
   {
    "duration": 3,
    "start_time": "2025-02-05T20:12:17.516Z"
   },
   {
    "duration": 3,
    "start_time": "2025-02-05T20:12:17.521Z"
   },
   {
    "duration": 44,
    "start_time": "2025-02-05T20:12:17.526Z"
   },
   {
    "duration": 2,
    "start_time": "2025-02-05T20:12:17.572Z"
   },
   {
    "duration": 3,
    "start_time": "2025-02-05T20:12:17.576Z"
   },
   {
    "duration": 2,
    "start_time": "2025-02-05T20:12:17.581Z"
   },
   {
    "duration": 3,
    "start_time": "2025-02-05T20:12:17.585Z"
   },
   {
    "duration": 3,
    "start_time": "2025-02-05T20:12:17.591Z"
   },
   {
    "duration": 22,
    "start_time": "2025-02-05T20:12:51.784Z"
   },
   {
    "duration": 11,
    "start_time": "2025-02-05T20:13:35.709Z"
   },
   {
    "duration": 13,
    "start_time": "2025-02-05T20:48:03.182Z"
   },
   {
    "duration": 26,
    "start_time": "2025-02-05T20:51:01.376Z"
   },
   {
    "duration": 10,
    "start_time": "2025-02-05T20:51:55.489Z"
   },
   {
    "duration": 21,
    "start_time": "2025-02-05T20:52:06.110Z"
   },
   {
    "duration": 20,
    "start_time": "2025-02-05T20:53:06.830Z"
   },
   {
    "duration": 7,
    "start_time": "2025-02-05T20:53:13.165Z"
   },
   {
    "duration": 17,
    "start_time": "2025-02-05T20:55:27.617Z"
   },
   {
    "duration": 7,
    "start_time": "2025-02-05T20:55:44.540Z"
   },
   {
    "duration": 14,
    "start_time": "2025-02-05T20:56:42.714Z"
   },
   {
    "duration": 2566,
    "start_time": "2025-02-06T15:39:59.976Z"
   },
   {
    "duration": 218,
    "start_time": "2025-02-06T15:40:02.545Z"
   },
   {
    "duration": 3,
    "start_time": "2025-02-06T15:40:02.765Z"
   },
   {
    "duration": 13,
    "start_time": "2025-02-06T15:40:02.770Z"
   },
   {
    "duration": 5,
    "start_time": "2025-02-06T15:40:02.784Z"
   },
   {
    "duration": 12,
    "start_time": "2025-02-06T15:40:02.790Z"
   },
   {
    "duration": 6,
    "start_time": "2025-02-06T15:40:02.804Z"
   },
   {
    "duration": 4,
    "start_time": "2025-02-06T15:40:02.811Z"
   },
   {
    "duration": 5,
    "start_time": "2025-02-06T15:40:02.817Z"
   },
   {
    "duration": 10,
    "start_time": "2025-02-06T15:40:02.825Z"
   },
   {
    "duration": 55,
    "start_time": "2025-02-06T15:40:02.837Z"
   },
   {
    "duration": 8,
    "start_time": "2025-02-06T15:40:02.894Z"
   },
   {
    "duration": 16,
    "start_time": "2025-02-06T15:40:02.904Z"
   },
   {
    "duration": 20,
    "start_time": "2025-02-06T15:40:02.921Z"
   },
   {
    "duration": 68,
    "start_time": "2025-02-06T15:40:02.942Z"
   },
   {
    "duration": 17,
    "start_time": "2025-02-06T15:40:03.012Z"
   },
   {
    "duration": 6,
    "start_time": "2025-02-06T15:40:03.030Z"
   },
   {
    "duration": 35,
    "start_time": "2025-02-06T15:40:03.038Z"
   },
   {
    "duration": 15,
    "start_time": "2025-02-06T15:40:03.075Z"
   },
   {
    "duration": 13,
    "start_time": "2025-02-06T15:40:03.091Z"
   },
   {
    "duration": 21,
    "start_time": "2025-02-06T15:40:03.106Z"
   },
   {
    "duration": 6,
    "start_time": "2025-02-06T15:40:03.129Z"
   },
   {
    "duration": 47,
    "start_time": "2025-02-06T15:40:03.137Z"
   },
   {
    "duration": 24,
    "start_time": "2025-02-06T15:40:03.188Z"
   },
   {
    "duration": 16,
    "start_time": "2025-02-06T15:40:03.214Z"
   },
   {
    "duration": 8,
    "start_time": "2025-02-06T15:40:03.232Z"
   },
   {
    "duration": 36,
    "start_time": "2025-02-06T15:40:03.241Z"
   },
   {
    "duration": 2,
    "start_time": "2025-02-06T15:40:03.281Z"
   },
   {
    "duration": 3,
    "start_time": "2025-02-06T15:40:03.285Z"
   },
   {
    "duration": 2,
    "start_time": "2025-02-06T15:40:03.290Z"
   },
   {
    "duration": 3,
    "start_time": "2025-02-06T15:40:03.294Z"
   },
   {
    "duration": 2,
    "start_time": "2025-02-06T15:40:03.299Z"
   },
   {
    "duration": 3,
    "start_time": "2025-02-06T15:40:03.303Z"
   },
   {
    "duration": 4,
    "start_time": "2025-02-06T15:40:03.307Z"
   },
   {
    "duration": 3,
    "start_time": "2025-02-06T15:40:03.312Z"
   },
   {
    "duration": 3,
    "start_time": "2025-02-06T15:40:03.317Z"
   },
   {
    "duration": 2,
    "start_time": "2025-02-06T15:40:03.322Z"
   },
   {
    "duration": 3,
    "start_time": "2025-02-06T15:40:03.326Z"
   },
   {
    "duration": 1,
    "start_time": "2025-02-06T15:40:03.371Z"
   },
   {
    "duration": 3,
    "start_time": "2025-02-06T15:40:03.374Z"
   },
   {
    "duration": 3,
    "start_time": "2025-02-06T15:40:03.379Z"
   },
   {
    "duration": 4,
    "start_time": "2025-02-06T15:40:03.383Z"
   },
   {
    "duration": 8,
    "start_time": "2025-02-06T16:55:59.953Z"
   },
   {
    "duration": 633,
    "start_time": "2025-02-06T16:57:20.425Z"
   },
   {
    "duration": 501,
    "start_time": "2025-02-06T16:58:11.655Z"
   },
   {
    "duration": 13,
    "start_time": "2025-02-06T16:58:22.725Z"
   },
   {
    "duration": 9,
    "start_time": "2025-02-06T17:02:02.855Z"
   },
   {
    "duration": 13,
    "start_time": "2025-02-06T17:03:38.544Z"
   },
   {
    "duration": 13,
    "start_time": "2025-02-06T17:03:56.633Z"
   },
   {
    "duration": 9,
    "start_time": "2025-02-06T17:04:24.577Z"
   },
   {
    "duration": 75,
    "start_time": "2025-02-06T17:05:50.842Z"
   },
   {
    "duration": 10,
    "start_time": "2025-02-06T17:06:06.098Z"
   },
   {
    "duration": 6,
    "start_time": "2025-02-06T17:06:14.192Z"
   },
   {
    "duration": 11,
    "start_time": "2025-02-06T17:11:07.232Z"
   },
   {
    "duration": 3,
    "start_time": "2025-02-06T17:23:22.727Z"
   },
   {
    "duration": 15,
    "start_time": "2025-02-06T17:27:12.707Z"
   },
   {
    "duration": 12,
    "start_time": "2025-02-06T17:28:04.085Z"
   },
   {
    "duration": 13,
    "start_time": "2025-02-06T17:29:09.428Z"
   },
   {
    "duration": 13,
    "start_time": "2025-02-06T17:29:36.415Z"
   },
   {
    "duration": 506,
    "start_time": "2025-02-06T17:29:48.104Z"
   },
   {
    "duration": 5,
    "start_time": "2025-02-06T17:30:40.689Z"
   },
   {
    "duration": 260,
    "start_time": "2025-02-06T17:30:46.379Z"
   },
   {
    "duration": 3,
    "start_time": "2025-02-06T17:32:47.494Z"
   },
   {
    "duration": 18,
    "start_time": "2025-02-06T17:33:07.970Z"
   },
   {
    "duration": 19,
    "start_time": "2025-02-06T17:34:45.914Z"
   },
   {
    "duration": 754,
    "start_time": "2025-02-06T17:36:30.744Z"
   },
   {
    "duration": 158,
    "start_time": "2025-02-06T17:36:31.501Z"
   },
   {
    "duration": 3,
    "start_time": "2025-02-06T17:36:31.660Z"
   },
   {
    "duration": 12,
    "start_time": "2025-02-06T17:36:31.669Z"
   },
   {
    "duration": 4,
    "start_time": "2025-02-06T17:36:31.685Z"
   },
   {
    "duration": 12,
    "start_time": "2025-02-06T17:36:31.690Z"
   },
   {
    "duration": 6,
    "start_time": "2025-02-06T17:36:31.704Z"
   },
   {
    "duration": 5,
    "start_time": "2025-02-06T17:36:31.712Z"
   },
   {
    "duration": 8,
    "start_time": "2025-02-06T17:36:31.719Z"
   },
   {
    "duration": 44,
    "start_time": "2025-02-06T17:36:31.730Z"
   },
   {
    "duration": 26,
    "start_time": "2025-02-06T17:36:31.776Z"
   },
   {
    "duration": 9,
    "start_time": "2025-02-06T17:36:31.803Z"
   },
   {
    "duration": 18,
    "start_time": "2025-02-06T17:36:31.813Z"
   },
   {
    "duration": 44,
    "start_time": "2025-02-06T17:36:31.832Z"
   },
   {
    "duration": 43,
    "start_time": "2025-02-06T17:36:31.877Z"
   },
   {
    "duration": 18,
    "start_time": "2025-02-06T17:36:31.922Z"
   },
   {
    "duration": 28,
    "start_time": "2025-02-06T17:36:31.942Z"
   },
   {
    "duration": 10,
    "start_time": "2025-02-06T17:36:31.971Z"
   },
   {
    "duration": 15,
    "start_time": "2025-02-06T17:36:31.982Z"
   },
   {
    "duration": 13,
    "start_time": "2025-02-06T17:36:31.998Z"
   },
   {
    "duration": 21,
    "start_time": "2025-02-06T17:36:32.013Z"
   },
   {
    "duration": 35,
    "start_time": "2025-02-06T17:36:32.036Z"
   },
   {
    "duration": 13,
    "start_time": "2025-02-06T17:36:32.073Z"
   },
   {
    "duration": 22,
    "start_time": "2025-02-06T17:36:32.088Z"
   },
   {
    "duration": 16,
    "start_time": "2025-02-06T17:36:32.112Z"
   },
   {
    "duration": 9,
    "start_time": "2025-02-06T17:36:32.130Z"
   },
   {
    "duration": 12,
    "start_time": "2025-02-06T17:36:32.169Z"
   },
   {
    "duration": 2,
    "start_time": "2025-02-06T17:36:32.185Z"
   },
   {
    "duration": 8,
    "start_time": "2025-02-06T17:36:32.189Z"
   },
   {
    "duration": 2,
    "start_time": "2025-02-06T17:36:32.198Z"
   },
   {
    "duration": 3,
    "start_time": "2025-02-06T17:36:32.202Z"
   },
   {
    "duration": 17,
    "start_time": "2025-02-06T17:36:32.207Z"
   },
   {
    "duration": 55,
    "start_time": "2025-02-06T17:36:32.226Z"
   },
   {
    "duration": 3,
    "start_time": "2025-02-06T17:36:32.283Z"
   },
   {
    "duration": 3,
    "start_time": "2025-02-06T17:36:32.287Z"
   },
   {
    "duration": 3,
    "start_time": "2025-02-06T17:36:32.292Z"
   },
   {
    "duration": 2,
    "start_time": "2025-02-06T17:36:32.297Z"
   },
   {
    "duration": 3,
    "start_time": "2025-02-06T17:36:32.301Z"
   },
   {
    "duration": 3,
    "start_time": "2025-02-06T17:36:32.305Z"
   },
   {
    "duration": 3,
    "start_time": "2025-02-06T17:36:32.310Z"
   },
   {
    "duration": 2,
    "start_time": "2025-02-06T17:36:32.315Z"
   },
   {
    "duration": 4,
    "start_time": "2025-02-06T17:36:32.319Z"
   },
   {
    "duration": 2,
    "start_time": "2025-02-06T17:36:32.325Z"
   },
   {
    "duration": 41,
    "start_time": "2025-02-06T17:36:32.329Z"
   },
   {
    "duration": 25,
    "start_time": "2025-02-06T17:37:42.659Z"
   },
   {
    "duration": 8,
    "start_time": "2025-02-06T17:41:04.620Z"
   },
   {
    "duration": 36,
    "start_time": "2025-02-06T17:46:39.180Z"
   },
   {
    "duration": 209,
    "start_time": "2025-02-06T17:55:45.151Z"
   },
   {
    "duration": 18,
    "start_time": "2025-02-06T17:56:02.045Z"
   },
   {
    "duration": 13,
    "start_time": "2025-02-06T17:56:36.430Z"
   },
   {
    "duration": 18,
    "start_time": "2025-02-06T17:56:54.665Z"
   },
   {
    "duration": 13,
    "start_time": "2025-02-06T18:10:55.066Z"
   },
   {
    "duration": 12,
    "start_time": "2025-02-06T18:12:01.121Z"
   },
   {
    "duration": 14,
    "start_time": "2025-02-06T18:12:09.421Z"
   },
   {
    "duration": 13,
    "start_time": "2025-02-06T18:12:14.169Z"
   },
   {
    "duration": 64,
    "start_time": "2025-02-06T18:13:01.915Z"
   },
   {
    "duration": 19,
    "start_time": "2025-02-06T18:14:28.361Z"
   },
   {
    "duration": 6,
    "start_time": "2025-02-06T18:14:49.464Z"
   },
   {
    "duration": 10,
    "start_time": "2025-02-06T18:15:11.081Z"
   },
   {
    "duration": 6,
    "start_time": "2025-02-06T18:15:29.117Z"
   },
   {
    "duration": 11,
    "start_time": "2025-02-06T18:15:50.393Z"
   },
   {
    "duration": 6,
    "start_time": "2025-02-06T18:16:05.009Z"
   },
   {
    "duration": 6,
    "start_time": "2025-02-06T18:21:49.428Z"
   },
   {
    "duration": 4,
    "start_time": "2025-02-06T18:22:05.684Z"
   },
   {
    "duration": 4,
    "start_time": "2025-02-06T18:22:22.675Z"
   },
   {
    "duration": 13,
    "start_time": "2025-02-06T18:23:33.391Z"
   },
   {
    "duration": 7,
    "start_time": "2025-02-06T18:24:40.155Z"
   },
   {
    "duration": 7,
    "start_time": "2025-02-06T18:24:59.916Z"
   },
   {
    "duration": 6,
    "start_time": "2025-02-06T18:26:13.005Z"
   },
   {
    "duration": 8,
    "start_time": "2025-02-06T18:26:25.947Z"
   },
   {
    "duration": 5,
    "start_time": "2025-02-06T18:27:57.444Z"
   },
   {
    "duration": 9,
    "start_time": "2025-02-06T18:28:11.383Z"
   },
   {
    "duration": 9,
    "start_time": "2025-02-06T18:30:58.678Z"
   },
   {
    "duration": 13,
    "start_time": "2025-02-06T18:32:47.098Z"
   },
   {
    "duration": 3,
    "start_time": "2025-02-06T18:34:15.933Z"
   },
   {
    "duration": 11,
    "start_time": "2025-02-06T18:34:31.879Z"
   },
   {
    "duration": 8,
    "start_time": "2025-02-06T18:38:25.989Z"
   },
   {
    "duration": 13,
    "start_time": "2025-02-06T18:38:44.364Z"
   },
   {
    "duration": 11,
    "start_time": "2025-02-06T18:38:57.649Z"
   },
   {
    "duration": 13,
    "start_time": "2025-02-06T18:39:07.648Z"
   },
   {
    "duration": 11,
    "start_time": "2025-02-06T18:39:43.067Z"
   },
   {
    "duration": 12,
    "start_time": "2025-02-06T18:39:48.145Z"
   },
   {
    "duration": 7,
    "start_time": "2025-02-06T18:55:52.934Z"
   },
   {
    "duration": 8,
    "start_time": "2025-02-06T18:58:10.523Z"
   },
   {
    "duration": 19,
    "start_time": "2025-02-06T19:00:00.100Z"
   },
   {
    "duration": 16,
    "start_time": "2025-02-06T19:00:09.576Z"
   },
   {
    "duration": 12,
    "start_time": "2025-02-06T19:04:10.478Z"
   },
   {
    "duration": 9,
    "start_time": "2025-02-06T19:04:11.408Z"
   },
   {
    "duration": 8,
    "start_time": "2025-02-06T19:04:19.803Z"
   },
   {
    "duration": 7,
    "start_time": "2025-02-06T19:04:20.268Z"
   },
   {
    "duration": 7,
    "start_time": "2025-02-06T19:04:20.624Z"
   },
   {
    "duration": 4,
    "start_time": "2025-02-06T19:04:21.052Z"
   },
   {
    "duration": 16,
    "start_time": "2025-02-06T19:04:21.704Z"
   },
   {
    "duration": 8,
    "start_time": "2025-02-06T19:04:28.159Z"
   },
   {
    "duration": 9,
    "start_time": "2025-02-06T19:04:34.581Z"
   },
   {
    "duration": 26,
    "start_time": "2025-02-06T19:04:36.308Z"
   },
   {
    "duration": 13,
    "start_time": "2025-02-06T19:27:38.262Z"
   },
   {
    "duration": 8,
    "start_time": "2025-02-06T19:28:28.488Z"
   },
   {
    "duration": 7,
    "start_time": "2025-02-06T19:28:48.111Z"
   },
   {
    "duration": 9,
    "start_time": "2025-02-06T19:29:55.755Z"
   },
   {
    "duration": 956,
    "start_time": "2025-02-06T19:30:30.632Z"
   },
   {
    "duration": 0,
    "start_time": "2025-02-06T19:30:31.590Z"
   },
   {
    "duration": 11,
    "start_time": "2025-02-06T19:33:53.197Z"
   },
   {
    "duration": 16,
    "start_time": "2025-02-06T19:33:58.971Z"
   },
   {
    "duration": 2431,
    "start_time": "2025-02-07T12:15:57.277Z"
   },
   {
    "duration": 217,
    "start_time": "2025-02-07T12:15:59.710Z"
   },
   {
    "duration": 3,
    "start_time": "2025-02-07T12:15:59.929Z"
   },
   {
    "duration": 12,
    "start_time": "2025-02-07T12:15:59.935Z"
   },
   {
    "duration": 6,
    "start_time": "2025-02-07T12:15:59.948Z"
   },
   {
    "duration": 11,
    "start_time": "2025-02-07T12:15:59.956Z"
   },
   {
    "duration": 5,
    "start_time": "2025-02-07T12:15:59.969Z"
   },
   {
    "duration": 4,
    "start_time": "2025-02-07T12:15:59.976Z"
   },
   {
    "duration": 4,
    "start_time": "2025-02-07T12:15:59.982Z"
   },
   {
    "duration": 12,
    "start_time": "2025-02-07T12:15:59.989Z"
   },
   {
    "duration": 58,
    "start_time": "2025-02-07T12:16:00.002Z"
   },
   {
    "duration": 8,
    "start_time": "2025-02-07T12:16:00.062Z"
   },
   {
    "duration": 15,
    "start_time": "2025-02-07T12:16:00.072Z"
   },
   {
    "duration": 4,
    "start_time": "2025-02-07T12:16:50.659Z"
   },
   {
    "duration": 19,
    "start_time": "2025-02-07T12:17:13.141Z"
   },
   {
    "duration": 221,
    "start_time": "2025-02-07T12:17:59.309Z"
   },
   {
    "duration": 3,
    "start_time": "2025-02-07T12:18:23.260Z"
   },
   {
    "duration": 20,
    "start_time": "2025-02-07T12:18:40.556Z"
   },
   {
    "duration": 6,
    "start_time": "2025-02-07T12:18:52.952Z"
   },
   {
    "duration": 175,
    "start_time": "2025-02-07T12:18:52.960Z"
   },
   {
    "duration": 6,
    "start_time": "2025-02-07T12:18:53.137Z"
   },
   {
    "duration": 12,
    "start_time": "2025-02-07T12:18:53.145Z"
   },
   {
    "duration": 5,
    "start_time": "2025-02-07T12:18:53.159Z"
   },
   {
    "duration": 12,
    "start_time": "2025-02-07T12:18:53.165Z"
   },
   {
    "duration": 5,
    "start_time": "2025-02-07T12:18:53.178Z"
   },
   {
    "duration": 5,
    "start_time": "2025-02-07T12:18:53.185Z"
   },
   {
    "duration": 5,
    "start_time": "2025-02-07T12:18:53.191Z"
   },
   {
    "duration": 47,
    "start_time": "2025-02-07T12:18:53.198Z"
   },
   {
    "duration": 25,
    "start_time": "2025-02-07T12:18:53.247Z"
   },
   {
    "duration": 6,
    "start_time": "2025-02-07T12:18:53.274Z"
   },
   {
    "duration": 16,
    "start_time": "2025-02-07T12:18:53.282Z"
   },
   {
    "duration": 42,
    "start_time": "2025-02-07T12:18:53.301Z"
   },
   {
    "duration": 3,
    "start_time": "2025-02-07T12:18:53.344Z"
   },
   {
    "duration": 3,
    "start_time": "2025-02-07T12:18:53.349Z"
   },
   {
    "duration": 20,
    "start_time": "2025-02-07T12:18:53.354Z"
   },
   {
    "duration": 68,
    "start_time": "2025-02-07T12:18:53.375Z"
   },
   {
    "duration": 20,
    "start_time": "2025-02-07T12:18:53.444Z"
   },
   {
    "duration": 6,
    "start_time": "2025-02-07T12:18:53.465Z"
   },
   {
    "duration": 10,
    "start_time": "2025-02-07T12:18:53.472Z"
   },
   {
    "duration": 14,
    "start_time": "2025-02-07T12:18:53.483Z"
   },
   {
    "duration": 11,
    "start_time": "2025-02-07T12:18:53.499Z"
   },
   {
    "duration": 22,
    "start_time": "2025-02-07T12:18:53.543Z"
   },
   {
    "duration": 6,
    "start_time": "2025-02-07T12:18:53.567Z"
   },
   {
    "duration": 12,
    "start_time": "2025-02-07T12:18:53.575Z"
   },
   {
    "duration": 20,
    "start_time": "2025-02-07T12:18:53.588Z"
   },
   {
    "duration": 45,
    "start_time": "2025-02-07T12:18:53.610Z"
   },
   {
    "duration": 8,
    "start_time": "2025-02-07T12:18:53.657Z"
   },
   {
    "duration": 10,
    "start_time": "2025-02-07T12:18:53.666Z"
   },
   {
    "duration": 2,
    "start_time": "2025-02-07T12:18:53.678Z"
   },
   {
    "duration": 19,
    "start_time": "2025-02-07T12:18:53.682Z"
   },
   {
    "duration": 8,
    "start_time": "2025-02-07T12:18:53.702Z"
   },
   {
    "duration": 42,
    "start_time": "2025-02-07T12:18:53.712Z"
   },
   {
    "duration": 10,
    "start_time": "2025-02-07T12:18:53.756Z"
   },
   {
    "duration": 6,
    "start_time": "2025-02-07T12:18:53.768Z"
   },
   {
    "duration": 359,
    "start_time": "2025-02-07T12:18:53.776Z"
   },
   {
    "duration": 0,
    "start_time": "2025-02-07T12:18:54.138Z"
   },
   {
    "duration": 0,
    "start_time": "2025-02-07T12:18:54.138Z"
   },
   {
    "duration": 0,
    "start_time": "2025-02-07T12:18:54.139Z"
   },
   {
    "duration": 0,
    "start_time": "2025-02-07T12:18:54.143Z"
   },
   {
    "duration": 0,
    "start_time": "2025-02-07T12:18:54.144Z"
   },
   {
    "duration": 0,
    "start_time": "2025-02-07T12:18:54.146Z"
   },
   {
    "duration": 0,
    "start_time": "2025-02-07T12:18:54.147Z"
   },
   {
    "duration": 0,
    "start_time": "2025-02-07T12:18:54.148Z"
   },
   {
    "duration": 0,
    "start_time": "2025-02-07T12:18:54.149Z"
   },
   {
    "duration": 0,
    "start_time": "2025-02-07T12:18:54.150Z"
   },
   {
    "duration": 0,
    "start_time": "2025-02-07T12:18:54.151Z"
   },
   {
    "duration": 0,
    "start_time": "2025-02-07T12:18:54.152Z"
   },
   {
    "duration": 0,
    "start_time": "2025-02-07T12:18:54.153Z"
   },
   {
    "duration": 0,
    "start_time": "2025-02-07T12:18:54.154Z"
   },
   {
    "duration": 0,
    "start_time": "2025-02-07T12:18:54.155Z"
   },
   {
    "duration": 0,
    "start_time": "2025-02-07T12:18:54.156Z"
   },
   {
    "duration": 0,
    "start_time": "2025-02-07T12:18:54.157Z"
   },
   {
    "duration": 792,
    "start_time": "2025-02-07T12:19:10.383Z"
   },
   {
    "duration": 159,
    "start_time": "2025-02-07T12:19:11.178Z"
   },
   {
    "duration": 4,
    "start_time": "2025-02-07T12:19:11.339Z"
   },
   {
    "duration": 11,
    "start_time": "2025-02-07T12:19:11.346Z"
   },
   {
    "duration": 4,
    "start_time": "2025-02-07T12:19:11.361Z"
   },
   {
    "duration": 10,
    "start_time": "2025-02-07T12:19:11.367Z"
   },
   {
    "duration": 4,
    "start_time": "2025-02-07T12:19:11.379Z"
   },
   {
    "duration": 5,
    "start_time": "2025-02-07T12:19:11.385Z"
   },
   {
    "duration": 5,
    "start_time": "2025-02-07T12:19:11.391Z"
   },
   {
    "duration": 51,
    "start_time": "2025-02-07T12:19:11.397Z"
   },
   {
    "duration": 28,
    "start_time": "2025-02-07T12:19:11.450Z"
   },
   {
    "duration": 8,
    "start_time": "2025-02-07T12:19:11.479Z"
   },
   {
    "duration": 15,
    "start_time": "2025-02-07T12:19:11.488Z"
   },
   {
    "duration": 42,
    "start_time": "2025-02-07T12:19:11.507Z"
   },
   {
    "duration": 4,
    "start_time": "2025-02-07T12:19:11.551Z"
   },
   {
    "duration": 4,
    "start_time": "2025-02-07T12:19:11.556Z"
   },
   {
    "duration": 20,
    "start_time": "2025-02-07T12:19:11.561Z"
   },
   {
    "duration": 66,
    "start_time": "2025-02-07T12:19:11.582Z"
   },
   {
    "duration": 19,
    "start_time": "2025-02-07T12:19:11.650Z"
   },
   {
    "duration": 6,
    "start_time": "2025-02-07T12:19:11.671Z"
   },
   {
    "duration": 10,
    "start_time": "2025-02-07T12:19:11.679Z"
   },
   {
    "duration": 14,
    "start_time": "2025-02-07T12:19:11.690Z"
   },
   {
    "duration": 42,
    "start_time": "2025-02-07T12:19:11.705Z"
   },
   {
    "duration": 22,
    "start_time": "2025-02-07T12:19:11.748Z"
   },
   {
    "duration": 6,
    "start_time": "2025-02-07T12:19:11.771Z"
   },
   {
    "duration": 12,
    "start_time": "2025-02-07T12:19:11.779Z"
   },
   {
    "duration": 21,
    "start_time": "2025-02-07T12:19:11.793Z"
   },
   {
    "duration": 15,
    "start_time": "2025-02-07T12:19:11.843Z"
   },
   {
    "duration": 8,
    "start_time": "2025-02-07T12:19:11.859Z"
   },
   {
    "duration": 10,
    "start_time": "2025-02-07T12:19:11.869Z"
   },
   {
    "duration": 4,
    "start_time": "2025-02-07T12:19:11.880Z"
   },
   {
    "duration": 18,
    "start_time": "2025-02-07T12:19:11.886Z"
   },
   {
    "duration": 6,
    "start_time": "2025-02-07T12:19:11.905Z"
   },
   {
    "duration": 43,
    "start_time": "2025-02-07T12:19:11.913Z"
   },
   {
    "duration": 11,
    "start_time": "2025-02-07T12:19:11.957Z"
   },
   {
    "duration": 6,
    "start_time": "2025-02-07T12:19:11.969Z"
   },
   {
    "duration": 558,
    "start_time": "2025-02-07T12:19:11.976Z"
   },
   {
    "duration": 1,
    "start_time": "2025-02-07T12:19:12.536Z"
   },
   {
    "duration": 0,
    "start_time": "2025-02-07T12:19:12.542Z"
   },
   {
    "duration": 0,
    "start_time": "2025-02-07T12:19:12.543Z"
   },
   {
    "duration": 0,
    "start_time": "2025-02-07T12:19:12.544Z"
   },
   {
    "duration": 0,
    "start_time": "2025-02-07T12:19:12.545Z"
   },
   {
    "duration": 0,
    "start_time": "2025-02-07T12:19:12.547Z"
   },
   {
    "duration": 0,
    "start_time": "2025-02-07T12:19:12.548Z"
   },
   {
    "duration": 0,
    "start_time": "2025-02-07T12:19:12.549Z"
   },
   {
    "duration": 0,
    "start_time": "2025-02-07T12:19:12.550Z"
   },
   {
    "duration": 0,
    "start_time": "2025-02-07T12:19:12.551Z"
   },
   {
    "duration": 0,
    "start_time": "2025-02-07T12:19:12.552Z"
   },
   {
    "duration": 0,
    "start_time": "2025-02-07T12:19:12.552Z"
   },
   {
    "duration": 0,
    "start_time": "2025-02-07T12:19:12.554Z"
   },
   {
    "duration": 0,
    "start_time": "2025-02-07T12:19:12.555Z"
   },
   {
    "duration": 0,
    "start_time": "2025-02-07T12:19:12.555Z"
   },
   {
    "duration": 0,
    "start_time": "2025-02-07T12:19:12.556Z"
   },
   {
    "duration": 0,
    "start_time": "2025-02-07T12:19:12.558Z"
   },
   {
    "duration": 14,
    "start_time": "2025-02-07T12:19:22.212Z"
   },
   {
    "duration": 721,
    "start_time": "2025-02-07T12:23:49.514Z"
   },
   {
    "duration": 154,
    "start_time": "2025-02-07T12:23:50.237Z"
   },
   {
    "duration": 3,
    "start_time": "2025-02-07T12:23:50.393Z"
   },
   {
    "duration": 14,
    "start_time": "2025-02-07T12:23:50.397Z"
   },
   {
    "duration": 5,
    "start_time": "2025-02-07T12:23:50.414Z"
   },
   {
    "duration": 28,
    "start_time": "2025-02-07T12:23:50.420Z"
   },
   {
    "duration": 5,
    "start_time": "2025-02-07T12:23:50.449Z"
   },
   {
    "duration": 6,
    "start_time": "2025-02-07T12:23:50.456Z"
   },
   {
    "duration": 3,
    "start_time": "2025-02-07T12:23:50.463Z"
   },
   {
    "duration": 12,
    "start_time": "2025-02-07T12:23:50.468Z"
   },
   {
    "duration": 31,
    "start_time": "2025-02-07T12:23:50.482Z"
   },
   {
    "duration": 38,
    "start_time": "2025-02-07T12:23:50.515Z"
   },
   {
    "duration": 17,
    "start_time": "2025-02-07T12:23:50.555Z"
   },
   {
    "duration": 22,
    "start_time": "2025-02-07T12:23:50.576Z"
   },
   {
    "duration": 4,
    "start_time": "2025-02-07T12:23:50.600Z"
   },
   {
    "duration": 3,
    "start_time": "2025-02-07T12:23:50.606Z"
   },
   {
    "duration": 50,
    "start_time": "2025-02-07T12:23:50.611Z"
   },
   {
    "duration": 41,
    "start_time": "2025-02-07T12:23:50.662Z"
   },
   {
    "duration": 18,
    "start_time": "2025-02-07T12:23:50.705Z"
   },
   {
    "duration": 6,
    "start_time": "2025-02-07T12:23:50.744Z"
   },
   {
    "duration": 14,
    "start_time": "2025-02-07T12:23:50.752Z"
   },
   {
    "duration": 15,
    "start_time": "2025-02-07T12:23:50.767Z"
   },
   {
    "duration": 12,
    "start_time": "2025-02-07T12:23:50.784Z"
   },
   {
    "duration": 46,
    "start_time": "2025-02-07T12:23:50.797Z"
   },
   {
    "duration": 9,
    "start_time": "2025-02-07T12:23:50.844Z"
   },
   {
    "duration": 16,
    "start_time": "2025-02-07T12:23:50.854Z"
   },
   {
    "duration": 20,
    "start_time": "2025-02-07T12:23:50.872Z"
   },
   {
    "duration": 16,
    "start_time": "2025-02-07T12:23:50.894Z"
   },
   {
    "duration": 32,
    "start_time": "2025-02-07T12:23:50.912Z"
   },
   {
    "duration": 3,
    "start_time": "2025-02-07T12:25:01.206Z"
   },
   {
    "duration": 210,
    "start_time": "2025-02-07T12:25:27.832Z"
   },
   {
    "duration": 21,
    "start_time": "2025-02-07T12:25:37.755Z"
   },
   {
    "duration": 6,
    "start_time": "2025-02-07T12:25:42.395Z"
   },
   {
    "duration": 9,
    "start_time": "2025-02-07T12:31:05.391Z"
   },
   {
    "duration": 8,
    "start_time": "2025-02-07T12:31:25.261Z"
   },
   {
    "duration": 132,
    "start_time": "2025-02-07T12:37:00.641Z"
   },
   {
    "duration": 5,
    "start_time": "2025-02-07T12:37:36.925Z"
   },
   {
    "duration": 8,
    "start_time": "2025-02-07T12:38:02.864Z"
   },
   {
    "duration": 723,
    "start_time": "2025-02-07T12:45:15.819Z"
   },
   {
    "duration": 150,
    "start_time": "2025-02-07T12:45:16.545Z"
   },
   {
    "duration": 4,
    "start_time": "2025-02-07T12:45:16.697Z"
   },
   {
    "duration": 12,
    "start_time": "2025-02-07T12:45:16.703Z"
   },
   {
    "duration": 4,
    "start_time": "2025-02-07T12:45:16.717Z"
   },
   {
    "duration": 27,
    "start_time": "2025-02-07T12:45:16.723Z"
   },
   {
    "duration": 5,
    "start_time": "2025-02-07T12:45:16.752Z"
   },
   {
    "duration": 5,
    "start_time": "2025-02-07T12:45:16.758Z"
   },
   {
    "duration": 5,
    "start_time": "2025-02-07T12:45:16.764Z"
   },
   {
    "duration": 12,
    "start_time": "2025-02-07T12:45:16.772Z"
   },
   {
    "duration": 24,
    "start_time": "2025-02-07T12:45:16.786Z"
   },
   {
    "duration": 37,
    "start_time": "2025-02-07T12:45:16.812Z"
   },
   {
    "duration": 19,
    "start_time": "2025-02-07T12:45:16.850Z"
   },
   {
    "duration": 18,
    "start_time": "2025-02-07T12:45:16.871Z"
   },
   {
    "duration": 3,
    "start_time": "2025-02-07T12:45:16.891Z"
   },
   {
    "duration": 3,
    "start_time": "2025-02-07T12:45:16.895Z"
   },
   {
    "duration": 49,
    "start_time": "2025-02-07T12:45:16.900Z"
   },
   {
    "duration": 42,
    "start_time": "2025-02-07T12:45:16.951Z"
   },
   {
    "duration": 17,
    "start_time": "2025-02-07T12:45:16.995Z"
   },
   {
    "duration": 6,
    "start_time": "2025-02-07T12:45:17.014Z"
   },
   {
    "duration": 9,
    "start_time": "2025-02-07T12:45:17.043Z"
   },
   {
    "duration": 14,
    "start_time": "2025-02-07T12:45:17.054Z"
   },
   {
    "duration": 13,
    "start_time": "2025-02-07T12:45:17.069Z"
   },
   {
    "duration": 21,
    "start_time": "2025-02-07T12:45:17.083Z"
   },
   {
    "duration": 37,
    "start_time": "2025-02-07T12:45:17.106Z"
   },
   {
    "duration": 12,
    "start_time": "2025-02-07T12:45:17.144Z"
   },
   {
    "duration": 21,
    "start_time": "2025-02-07T12:45:17.158Z"
   },
   {
    "duration": 14,
    "start_time": "2025-02-07T12:45:17.183Z"
   },
   {
    "duration": 7,
    "start_time": "2025-02-07T12:45:17.198Z"
   },
   {
    "duration": 38,
    "start_time": "2025-02-07T12:45:17.207Z"
   },
   {
    "duration": 3,
    "start_time": "2025-02-07T12:45:17.247Z"
   },
   {
    "duration": 11,
    "start_time": "2025-02-07T12:45:17.251Z"
   },
   {
    "duration": 3,
    "start_time": "2025-02-07T12:45:17.263Z"
   },
   {
    "duration": 3,
    "start_time": "2025-02-07T12:45:17.267Z"
   },
   {
    "duration": 2,
    "start_time": "2025-02-07T12:45:17.272Z"
   },
   {
    "duration": 3,
    "start_time": "2025-02-07T12:45:17.276Z"
   },
   {
    "duration": 4,
    "start_time": "2025-02-07T12:45:17.281Z"
   },
   {
    "duration": 2,
    "start_time": "2025-02-07T12:45:17.287Z"
   },
   {
    "duration": 3,
    "start_time": "2025-02-07T12:45:17.291Z"
   },
   {
    "duration": 3,
    "start_time": "2025-02-07T12:45:17.296Z"
   },
   {
    "duration": 43,
    "start_time": "2025-02-07T12:45:17.300Z"
   },
   {
    "duration": 4,
    "start_time": "2025-02-07T12:45:17.344Z"
   },
   {
    "duration": 2,
    "start_time": "2025-02-07T12:45:17.350Z"
   },
   {
    "duration": 3,
    "start_time": "2025-02-07T12:45:17.354Z"
   },
   {
    "duration": 3,
    "start_time": "2025-02-07T12:45:17.359Z"
   },
   {
    "duration": 3,
    "start_time": "2025-02-07T12:45:17.363Z"
   },
   {
    "duration": 9,
    "start_time": "2025-02-07T12:46:24.674Z"
   },
   {
    "duration": 11,
    "start_time": "2025-02-07T12:46:59.319Z"
   },
   {
    "duration": 28,
    "start_time": "2025-02-07T12:51:55.107Z"
   },
   {
    "duration": 42,
    "start_time": "2025-02-07T12:51:56.651Z"
   },
   {
    "duration": 741,
    "start_time": "2025-02-07T12:52:22.006Z"
   },
   {
    "duration": 155,
    "start_time": "2025-02-07T12:52:22.750Z"
   },
   {
    "duration": 3,
    "start_time": "2025-02-07T12:52:22.906Z"
   },
   {
    "duration": 12,
    "start_time": "2025-02-07T12:52:22.911Z"
   },
   {
    "duration": 5,
    "start_time": "2025-02-07T12:52:22.926Z"
   },
   {
    "duration": 11,
    "start_time": "2025-02-07T12:52:22.942Z"
   },
   {
    "duration": 12,
    "start_time": "2025-02-07T12:52:22.955Z"
   },
   {
    "duration": 8,
    "start_time": "2025-02-07T12:52:22.968Z"
   },
   {
    "duration": 5,
    "start_time": "2025-02-07T12:52:22.978Z"
   },
   {
    "duration": 12,
    "start_time": "2025-02-07T12:52:22.984Z"
   },
   {
    "duration": 45,
    "start_time": "2025-02-07T12:52:22.998Z"
   },
   {
    "duration": 9,
    "start_time": "2025-02-07T12:52:23.045Z"
   },
   {
    "duration": 17,
    "start_time": "2025-02-07T12:52:23.055Z"
   },
   {
    "duration": 18,
    "start_time": "2025-02-07T12:52:23.075Z"
   },
   {
    "duration": 3,
    "start_time": "2025-02-07T12:52:23.095Z"
   },
   {
    "duration": 3,
    "start_time": "2025-02-07T12:52:23.100Z"
   },
   {
    "duration": 58,
    "start_time": "2025-02-07T12:52:23.104Z"
   },
   {
    "duration": 22,
    "start_time": "2025-02-07T12:52:23.164Z"
   },
   {
    "duration": 65,
    "start_time": "2025-02-07T12:52:23.188Z"
   },
   {
    "duration": 19,
    "start_time": "2025-02-07T12:52:23.254Z"
   },
   {
    "duration": 6,
    "start_time": "2025-02-07T12:52:23.274Z"
   },
   {
    "duration": 10,
    "start_time": "2025-02-07T12:52:23.282Z"
   },
   {
    "duration": 13,
    "start_time": "2025-02-07T12:52:23.293Z"
   },
   {
    "duration": 40,
    "start_time": "2025-02-07T12:52:23.308Z"
   },
   {
    "duration": 21,
    "start_time": "2025-02-07T12:52:23.350Z"
   },
   {
    "duration": 6,
    "start_time": "2025-02-07T12:52:23.373Z"
   },
   {
    "duration": 13,
    "start_time": "2025-02-07T12:52:23.380Z"
   },
   {
    "duration": 19,
    "start_time": "2025-02-07T12:52:23.394Z"
   },
   {
    "duration": 40,
    "start_time": "2025-02-07T12:52:23.414Z"
   },
   {
    "duration": 8,
    "start_time": "2025-02-07T12:52:23.455Z"
   },
   {
    "duration": 11,
    "start_time": "2025-02-07T12:52:23.465Z"
   },
   {
    "duration": 7,
    "start_time": "2025-02-07T12:52:23.477Z"
   },
   {
    "duration": 7,
    "start_time": "2025-02-07T12:52:23.486Z"
   },
   {
    "duration": 9,
    "start_time": "2025-02-07T12:52:23.494Z"
   },
   {
    "duration": 3,
    "start_time": "2025-02-07T12:52:23.504Z"
   },
   {
    "duration": 2,
    "start_time": "2025-02-07T12:52:23.544Z"
   },
   {
    "duration": 3,
    "start_time": "2025-02-07T12:52:23.547Z"
   },
   {
    "duration": 4,
    "start_time": "2025-02-07T12:52:23.551Z"
   },
   {
    "duration": 3,
    "start_time": "2025-02-07T12:52:23.556Z"
   },
   {
    "duration": 2,
    "start_time": "2025-02-07T12:52:23.561Z"
   },
   {
    "duration": 2,
    "start_time": "2025-02-07T12:52:23.567Z"
   },
   {
    "duration": 2,
    "start_time": "2025-02-07T12:52:23.571Z"
   },
   {
    "duration": 3,
    "start_time": "2025-02-07T12:52:23.575Z"
   },
   {
    "duration": 3,
    "start_time": "2025-02-07T12:52:23.580Z"
   },
   {
    "duration": 3,
    "start_time": "2025-02-07T12:52:23.584Z"
   },
   {
    "duration": 3,
    "start_time": "2025-02-07T12:52:23.589Z"
   },
   {
    "duration": 2,
    "start_time": "2025-02-07T12:52:23.594Z"
   },
   {
    "duration": 47,
    "start_time": "2025-02-07T12:52:23.598Z"
   },
   {
    "duration": 12,
    "start_time": "2025-02-07T12:56:42.908Z"
   },
   {
    "duration": 6,
    "start_time": "2025-02-07T12:56:52.112Z"
   },
   {
    "duration": 584,
    "start_time": "2025-02-07T12:57:55.675Z"
   },
   {
    "duration": 41,
    "start_time": "2025-02-07T12:58:22.229Z"
   },
   {
    "duration": 4,
    "start_time": "2025-02-07T12:58:32.965Z"
   },
   {
    "duration": 8,
    "start_time": "2025-02-07T12:58:45.473Z"
   },
   {
    "duration": 3,
    "start_time": "2025-02-07T12:59:51.295Z"
   },
   {
    "duration": 6,
    "start_time": "2025-02-07T13:00:06.444Z"
   },
   {
    "duration": 9,
    "start_time": "2025-02-07T13:01:13.564Z"
   },
   {
    "duration": 21,
    "start_time": "2025-02-07T13:03:59.119Z"
   },
   {
    "duration": 22,
    "start_time": "2025-02-07T13:05:09.847Z"
   },
   {
    "duration": 16,
    "start_time": "2025-02-07T13:06:02.819Z"
   },
   {
    "duration": 6,
    "start_time": "2025-02-07T13:06:19.366Z"
   },
   {
    "duration": 6,
    "start_time": "2025-02-07T13:10:17.549Z"
   },
   {
    "duration": 9,
    "start_time": "2025-02-07T13:11:48.575Z"
   },
   {
    "duration": 6,
    "start_time": "2025-02-07T13:12:00.576Z"
   },
   {
    "duration": 50,
    "start_time": "2025-02-07T13:13:00.485Z"
   },
   {
    "duration": 3,
    "start_time": "2025-02-07T13:13:29.646Z"
   },
   {
    "duration": 5,
    "start_time": "2025-02-07T13:14:20.739Z"
   },
   {
    "duration": 7,
    "start_time": "2025-02-07T13:14:35.200Z"
   },
   {
    "duration": 8,
    "start_time": "2025-02-07T13:16:06.952Z"
   },
   {
    "duration": 23,
    "start_time": "2025-02-07T13:16:45.159Z"
   },
   {
    "duration": 13,
    "start_time": "2025-02-07T13:17:04.231Z"
   },
   {
    "duration": 7,
    "start_time": "2025-02-07T13:17:17.657Z"
   },
   {
    "duration": 76,
    "start_time": "2025-02-07T13:28:01.460Z"
   },
   {
    "duration": 14,
    "start_time": "2025-02-07T13:28:26.039Z"
   },
   {
    "duration": 13,
    "start_time": "2025-02-07T13:28:56.507Z"
   },
   {
    "duration": 6,
    "start_time": "2025-02-07T13:30:49.713Z"
   },
   {
    "duration": 7,
    "start_time": "2025-02-07T13:30:58.266Z"
   },
   {
    "duration": 7,
    "start_time": "2025-02-07T13:32:19.659Z"
   },
   {
    "duration": 7,
    "start_time": "2025-02-07T13:33:04.715Z"
   },
   {
    "duration": 10,
    "start_time": "2025-02-07T13:33:18.227Z"
   },
   {
    "duration": 3,
    "start_time": "2025-02-07T13:36:21.230Z"
   },
   {
    "duration": 9,
    "start_time": "2025-02-07T13:36:21.977Z"
   },
   {
    "duration": 12,
    "start_time": "2025-02-07T13:36:41.407Z"
   },
   {
    "duration": 4,
    "start_time": "2025-02-07T13:37:35.731Z"
   },
   {
    "duration": 13,
    "start_time": "2025-02-07T13:37:50.156Z"
   },
   {
    "duration": 4,
    "start_time": "2025-02-07T13:45:22.599Z"
   },
   {
    "duration": 11,
    "start_time": "2025-02-07T13:45:23.577Z"
   },
   {
    "duration": 12,
    "start_time": "2025-02-07T13:55:33.337Z"
   },
   {
    "duration": 11,
    "start_time": "2025-02-07T13:55:34.201Z"
   },
   {
    "duration": 6,
    "start_time": "2025-02-07T13:58:06.999Z"
   },
   {
    "duration": 13,
    "start_time": "2025-02-07T13:58:16.787Z"
   },
   {
    "duration": 8,
    "start_time": "2025-02-07T13:59:06.937Z"
   },
   {
    "duration": 9,
    "start_time": "2025-02-07T14:25:51.049Z"
   },
   {
    "duration": 762,
    "start_time": "2025-02-07T14:51:35.603Z"
   },
   {
    "duration": 156,
    "start_time": "2025-02-07T14:51:36.368Z"
   },
   {
    "duration": 3,
    "start_time": "2025-02-07T14:51:36.525Z"
   },
   {
    "duration": 17,
    "start_time": "2025-02-07T14:51:36.531Z"
   },
   {
    "duration": 4,
    "start_time": "2025-02-07T14:51:36.550Z"
   },
   {
    "duration": 11,
    "start_time": "2025-02-07T14:51:36.556Z"
   },
   {
    "duration": 6,
    "start_time": "2025-02-07T14:51:36.568Z"
   },
   {
    "duration": 5,
    "start_time": "2025-02-07T14:51:36.575Z"
   },
   {
    "duration": 5,
    "start_time": "2025-02-07T14:51:36.581Z"
   },
   {
    "duration": 11,
    "start_time": "2025-02-07T14:51:36.589Z"
   },
   {
    "duration": 57,
    "start_time": "2025-02-07T14:51:36.601Z"
   },
   {
    "duration": 8,
    "start_time": "2025-02-07T14:51:36.660Z"
   },
   {
    "duration": 16,
    "start_time": "2025-02-07T14:51:36.670Z"
   },
   {
    "duration": 18,
    "start_time": "2025-02-07T14:51:36.687Z"
   },
   {
    "duration": 3,
    "start_time": "2025-02-07T14:51:36.706Z"
   },
   {
    "duration": 3,
    "start_time": "2025-02-07T14:51:36.711Z"
   },
   {
    "duration": 53,
    "start_time": "2025-02-07T14:51:36.715Z"
   },
   {
    "duration": 22,
    "start_time": "2025-02-07T14:51:36.770Z"
   },
   {
    "duration": 63,
    "start_time": "2025-02-07T14:51:36.793Z"
   },
   {
    "duration": 18,
    "start_time": "2025-02-07T14:51:36.858Z"
   },
   {
    "duration": 6,
    "start_time": "2025-02-07T14:51:36.879Z"
   },
   {
    "duration": 10,
    "start_time": "2025-02-07T14:51:36.886Z"
   },
   {
    "duration": 13,
    "start_time": "2025-02-07T14:51:36.897Z"
   },
   {
    "duration": 36,
    "start_time": "2025-02-07T14:51:36.911Z"
   },
   {
    "duration": 21,
    "start_time": "2025-02-07T14:51:36.949Z"
   },
   {
    "duration": 7,
    "start_time": "2025-02-07T14:51:36.971Z"
   },
   {
    "duration": 12,
    "start_time": "2025-02-07T14:51:36.981Z"
   },
   {
    "duration": 49,
    "start_time": "2025-02-07T14:51:36.998Z"
   },
   {
    "duration": 17,
    "start_time": "2025-02-07T14:51:37.048Z"
   },
   {
    "duration": 7,
    "start_time": "2025-02-07T14:51:37.067Z"
   },
   {
    "duration": 10,
    "start_time": "2025-02-07T14:51:37.076Z"
   },
   {
    "duration": 3,
    "start_time": "2025-02-07T14:51:37.087Z"
   },
   {
    "duration": 7,
    "start_time": "2025-02-07T14:51:37.092Z"
   },
   {
    "duration": 44,
    "start_time": "2025-02-07T14:51:37.101Z"
   },
   {
    "duration": 3,
    "start_time": "2025-02-07T14:51:37.146Z"
   },
   {
    "duration": 4,
    "start_time": "2025-02-07T14:51:37.151Z"
   },
   {
    "duration": 7,
    "start_time": "2025-02-07T14:51:37.157Z"
   },
   {
    "duration": 9,
    "start_time": "2025-02-07T14:51:37.165Z"
   },
   {
    "duration": 16,
    "start_time": "2025-02-07T14:51:37.176Z"
   },
   {
    "duration": 5,
    "start_time": "2025-02-07T14:51:37.194Z"
   },
   {
    "duration": 6,
    "start_time": "2025-02-07T14:51:37.201Z"
   },
   {
    "duration": 7,
    "start_time": "2025-02-07T14:51:37.243Z"
   },
   {
    "duration": 3,
    "start_time": "2025-02-07T14:51:37.251Z"
   },
   {
    "duration": 4,
    "start_time": "2025-02-07T14:51:37.255Z"
   },
   {
    "duration": 6,
    "start_time": "2025-02-07T14:51:37.261Z"
   },
   {
    "duration": 7,
    "start_time": "2025-02-07T14:51:37.268Z"
   },
   {
    "duration": 12,
    "start_time": "2025-02-07T14:51:37.276Z"
   },
   {
    "duration": 7,
    "start_time": "2025-02-07T14:51:37.289Z"
   },
   {
    "duration": 6,
    "start_time": "2025-02-07T14:51:37.297Z"
   },
   {
    "duration": 43,
    "start_time": "2025-02-07T14:51:37.304Z"
   },
   {
    "duration": 5,
    "start_time": "2025-02-07T14:51:37.349Z"
   },
   {
    "duration": 3,
    "start_time": "2025-02-07T14:51:37.355Z"
   },
   {
    "duration": 12,
    "start_time": "2025-02-07T14:51:37.360Z"
   },
   {
    "duration": 3,
    "start_time": "2025-02-07T14:51:37.374Z"
   },
   {
    "duration": 4,
    "start_time": "2025-02-07T14:51:37.378Z"
   },
   {
    "duration": 10,
    "start_time": "2025-02-07T14:51:37.384Z"
   },
   {
    "duration": 6,
    "start_time": "2025-02-07T14:51:37.395Z"
   },
   {
    "duration": 49,
    "start_time": "2025-02-07T14:51:37.403Z"
   },
   {
    "duration": 7,
    "start_time": "2025-02-07T14:51:37.454Z"
   },
   {
    "duration": 8,
    "start_time": "2025-02-07T14:51:37.463Z"
   },
   {
    "duration": 2,
    "start_time": "2025-02-07T14:51:37.473Z"
   },
   {
    "duration": 3,
    "start_time": "2025-02-07T14:51:37.477Z"
   },
   {
    "duration": 3,
    "start_time": "2025-02-07T14:51:37.482Z"
   },
   {
    "duration": 3,
    "start_time": "2025-02-07T14:51:37.487Z"
   },
   {
    "duration": 3,
    "start_time": "2025-02-07T14:51:37.491Z"
   },
   {
    "duration": 3,
    "start_time": "2025-02-07T14:51:37.496Z"
   },
   {
    "duration": 42,
    "start_time": "2025-02-07T14:51:37.501Z"
   },
   {
    "duration": 3,
    "start_time": "2025-02-07T14:51:37.544Z"
   },
   {
    "duration": 3,
    "start_time": "2025-02-07T14:51:37.549Z"
   },
   {
    "duration": 3,
    "start_time": "2025-02-07T14:51:37.553Z"
   },
   {
    "duration": 506,
    "start_time": "2025-02-07T14:53:34.492Z"
   },
   {
    "duration": 23,
    "start_time": "2025-02-07T14:55:28.403Z"
   },
   {
    "duration": 20,
    "start_time": "2025-02-07T14:56:25.865Z"
   },
   {
    "duration": 3,
    "start_time": "2025-02-07T14:57:05.446Z"
   },
   {
    "duration": 9,
    "start_time": "2025-02-07T14:57:19.833Z"
   },
   {
    "duration": 20,
    "start_time": "2025-02-07T14:57:27.104Z"
   },
   {
    "duration": 7,
    "start_time": "2025-02-07T14:57:59.773Z"
   },
   {
    "duration": 11,
    "start_time": "2025-02-07T14:58:10.837Z"
   },
   {
    "duration": 12,
    "start_time": "2025-02-07T14:59:08.428Z"
   },
   {
    "duration": 17,
    "start_time": "2025-02-07T14:59:14.629Z"
   },
   {
    "duration": 30,
    "start_time": "2025-02-07T14:59:47.773Z"
   },
   {
    "duration": 6,
    "start_time": "2025-02-07T15:00:20.399Z"
   },
   {
    "duration": 124,
    "start_time": "2025-02-07T15:01:01.259Z"
   },
   {
    "duration": 23,
    "start_time": "2025-02-07T15:01:13.258Z"
   },
   {
    "duration": 15,
    "start_time": "2025-02-07T15:01:47.505Z"
   },
   {
    "duration": 738,
    "start_time": "2025-02-07T15:02:29.535Z"
   },
   {
    "duration": 163,
    "start_time": "2025-02-07T15:02:30.276Z"
   },
   {
    "duration": 4,
    "start_time": "2025-02-07T15:02:30.441Z"
   },
   {
    "duration": 15,
    "start_time": "2025-02-07T15:02:30.448Z"
   },
   {
    "duration": 5,
    "start_time": "2025-02-07T15:02:30.465Z"
   },
   {
    "duration": 14,
    "start_time": "2025-02-07T15:02:30.471Z"
   },
   {
    "duration": 11,
    "start_time": "2025-02-07T15:02:30.487Z"
   },
   {
    "duration": 12,
    "start_time": "2025-02-07T15:02:30.503Z"
   },
   {
    "duration": 4,
    "start_time": "2025-02-07T15:02:30.517Z"
   },
   {
    "duration": 30,
    "start_time": "2025-02-07T15:02:30.525Z"
   },
   {
    "duration": 26,
    "start_time": "2025-02-07T15:02:30.557Z"
   },
   {
    "duration": 7,
    "start_time": "2025-02-07T15:02:30.585Z"
   },
   {
    "duration": 16,
    "start_time": "2025-02-07T15:02:30.594Z"
   },
   {
    "duration": 44,
    "start_time": "2025-02-07T15:02:30.611Z"
   },
   {
    "duration": 3,
    "start_time": "2025-02-07T15:02:30.657Z"
   },
   {
    "duration": 4,
    "start_time": "2025-02-07T15:02:30.662Z"
   },
   {
    "duration": 25,
    "start_time": "2025-02-07T15:02:30.667Z"
   },
   {
    "duration": 50,
    "start_time": "2025-02-07T15:02:30.693Z"
   },
   {
    "duration": 50,
    "start_time": "2025-02-07T15:02:30.744Z"
   },
   {
    "duration": 17,
    "start_time": "2025-02-07T15:02:30.796Z"
   },
   {
    "duration": 5,
    "start_time": "2025-02-07T15:02:30.817Z"
   },
   {
    "duration": 15,
    "start_time": "2025-02-07T15:02:30.842Z"
   },
   {
    "duration": 20,
    "start_time": "2025-02-07T15:02:30.859Z"
   },
   {
    "duration": 18,
    "start_time": "2025-02-07T15:02:30.881Z"
   },
   {
    "duration": 54,
    "start_time": "2025-02-07T15:02:30.900Z"
   },
   {
    "duration": 7,
    "start_time": "2025-02-07T15:02:30.955Z"
   },
   {
    "duration": 13,
    "start_time": "2025-02-07T15:02:30.963Z"
   },
   {
    "duration": 19,
    "start_time": "2025-02-07T15:02:30.981Z"
   },
   {
    "duration": 51,
    "start_time": "2025-02-07T15:02:31.002Z"
   },
   {
    "duration": 8,
    "start_time": "2025-02-07T15:02:31.057Z"
   },
   {
    "duration": 12,
    "start_time": "2025-02-07T15:02:31.067Z"
   },
   {
    "duration": 4,
    "start_time": "2025-02-07T15:02:31.081Z"
   },
   {
    "duration": 11,
    "start_time": "2025-02-07T15:02:31.087Z"
   },
   {
    "duration": 16,
    "start_time": "2025-02-07T15:02:31.100Z"
   },
   {
    "duration": 26,
    "start_time": "2025-02-07T15:02:31.117Z"
   },
   {
    "duration": 6,
    "start_time": "2025-02-07T15:02:31.144Z"
   },
   {
    "duration": 8,
    "start_time": "2025-02-07T15:02:31.152Z"
   },
   {
    "duration": 9,
    "start_time": "2025-02-07T15:02:31.161Z"
   },
   {
    "duration": 18,
    "start_time": "2025-02-07T15:02:31.171Z"
   },
   {
    "duration": 6,
    "start_time": "2025-02-07T15:02:31.191Z"
   },
   {
    "duration": 5,
    "start_time": "2025-02-07T15:02:31.198Z"
   },
   {
    "duration": 38,
    "start_time": "2025-02-07T15:02:31.206Z"
   },
   {
    "duration": 3,
    "start_time": "2025-02-07T15:02:31.246Z"
   },
   {
    "duration": 4,
    "start_time": "2025-02-07T15:02:31.250Z"
   },
   {
    "duration": 8,
    "start_time": "2025-02-07T15:02:31.256Z"
   },
   {
    "duration": 7,
    "start_time": "2025-02-07T15:02:31.265Z"
   },
   {
    "duration": 12,
    "start_time": "2025-02-07T15:02:31.274Z"
   },
   {
    "duration": 6,
    "start_time": "2025-02-07T15:02:31.287Z"
   },
   {
    "duration": 5,
    "start_time": "2025-02-07T15:02:31.295Z"
   },
   {
    "duration": 6,
    "start_time": "2025-02-07T15:02:31.303Z"
   },
   {
    "duration": 8,
    "start_time": "2025-02-07T15:02:31.342Z"
   },
   {
    "duration": 3,
    "start_time": "2025-02-07T15:02:31.351Z"
   },
   {
    "duration": 14,
    "start_time": "2025-02-07T15:02:31.356Z"
   },
   {
    "duration": 3,
    "start_time": "2025-02-07T15:02:31.372Z"
   },
   {
    "duration": 5,
    "start_time": "2025-02-07T15:02:31.377Z"
   },
   {
    "duration": 11,
    "start_time": "2025-02-07T15:02:31.384Z"
   },
   {
    "duration": 6,
    "start_time": "2025-02-07T15:02:31.397Z"
   },
   {
    "duration": 49,
    "start_time": "2025-02-07T15:02:31.405Z"
   },
   {
    "duration": 8,
    "start_time": "2025-02-07T15:02:31.456Z"
   },
   {
    "duration": 3,
    "start_time": "2025-02-07T15:02:31.466Z"
   },
   {
    "duration": 9,
    "start_time": "2025-02-07T15:02:31.470Z"
   },
   {
    "duration": 3,
    "start_time": "2025-02-07T15:02:31.481Z"
   },
   {
    "duration": 6,
    "start_time": "2025-02-07T15:02:31.486Z"
   },
   {
    "duration": 11,
    "start_time": "2025-02-07T15:02:31.494Z"
   },
   {
    "duration": 55,
    "start_time": "2025-02-07T15:02:31.507Z"
   },
   {
    "duration": 2,
    "start_time": "2025-02-07T15:02:31.564Z"
   },
   {
    "duration": 4,
    "start_time": "2025-02-07T15:02:31.568Z"
   },
   {
    "duration": 3,
    "start_time": "2025-02-07T15:02:31.574Z"
   },
   {
    "duration": 3,
    "start_time": "2025-02-07T15:02:31.579Z"
   },
   {
    "duration": 3,
    "start_time": "2025-02-07T15:02:31.584Z"
   },
   {
    "duration": 4,
    "start_time": "2025-02-07T15:02:31.589Z"
   },
   {
    "duration": 5,
    "start_time": "2025-02-07T15:02:31.595Z"
   },
   {
    "duration": 2,
    "start_time": "2025-02-07T15:02:31.602Z"
   },
   {
    "duration": 307,
    "start_time": "2025-02-07T15:13:15.780Z"
   },
   {
    "duration": 261,
    "start_time": "2025-02-07T15:16:34.414Z"
   },
   {
    "duration": 23,
    "start_time": "2025-02-07T15:19:53.379Z"
   },
   {
    "duration": 12,
    "start_time": "2025-02-07T15:21:31.107Z"
   },
   {
    "duration": 6,
    "start_time": "2025-02-07T15:24:23.984Z"
   },
   {
    "duration": 7,
    "start_time": "2025-02-07T15:24:37.675Z"
   },
   {
    "duration": 5,
    "start_time": "2025-02-07T15:27:49.368Z"
   },
   {
    "duration": 6,
    "start_time": "2025-02-07T15:27:52.732Z"
   },
   {
    "duration": 48,
    "start_time": "2025-02-07T15:28:25.004Z"
   },
   {
    "duration": 4,
    "start_time": "2025-02-07T15:29:47.121Z"
   },
   {
    "duration": 6,
    "start_time": "2025-02-07T15:29:53.516Z"
   },
   {
    "duration": 790,
    "start_time": "2025-02-07T15:31:10.282Z"
   },
   {
    "duration": 159,
    "start_time": "2025-02-07T15:31:11.075Z"
   },
   {
    "duration": 3,
    "start_time": "2025-02-07T15:31:11.236Z"
   },
   {
    "duration": 14,
    "start_time": "2025-02-07T15:31:11.240Z"
   },
   {
    "duration": 5,
    "start_time": "2025-02-07T15:31:11.257Z"
   },
   {
    "duration": 15,
    "start_time": "2025-02-07T15:31:11.263Z"
   },
   {
    "duration": 5,
    "start_time": "2025-02-07T15:31:11.279Z"
   },
   {
    "duration": 5,
    "start_time": "2025-02-07T15:31:11.286Z"
   },
   {
    "duration": 5,
    "start_time": "2025-02-07T15:31:11.292Z"
   },
   {
    "duration": 13,
    "start_time": "2025-02-07T15:31:11.298Z"
   },
   {
    "duration": 54,
    "start_time": "2025-02-07T15:31:11.312Z"
   },
   {
    "duration": 9,
    "start_time": "2025-02-07T15:31:11.367Z"
   },
   {
    "duration": 16,
    "start_time": "2025-02-07T15:31:11.377Z"
   },
   {
    "duration": 18,
    "start_time": "2025-02-07T15:31:11.396Z"
   },
   {
    "duration": 26,
    "start_time": "2025-02-07T15:31:11.416Z"
   },
   {
    "duration": 3,
    "start_time": "2025-02-07T15:31:11.445Z"
   },
   {
    "duration": 25,
    "start_time": "2025-02-07T15:31:11.449Z"
   },
   {
    "duration": 22,
    "start_time": "2025-02-07T15:31:11.476Z"
   },
   {
    "duration": 70,
    "start_time": "2025-02-07T15:31:11.499Z"
   },
   {
    "duration": 17,
    "start_time": "2025-02-07T15:31:11.571Z"
   },
   {
    "duration": 6,
    "start_time": "2025-02-07T15:31:11.589Z"
   },
   {
    "duration": 9,
    "start_time": "2025-02-07T15:31:11.596Z"
   },
   {
    "duration": 42,
    "start_time": "2025-02-07T15:31:11.607Z"
   },
   {
    "duration": 13,
    "start_time": "2025-02-07T15:31:11.650Z"
   },
   {
    "duration": 21,
    "start_time": "2025-02-07T15:31:11.664Z"
   },
   {
    "duration": 7,
    "start_time": "2025-02-07T15:31:11.687Z"
   },
   {
    "duration": 12,
    "start_time": "2025-02-07T15:31:11.696Z"
   },
   {
    "duration": 47,
    "start_time": "2025-02-07T15:31:11.709Z"
   },
   {
    "duration": 15,
    "start_time": "2025-02-07T15:31:11.758Z"
   },
   {
    "duration": 8,
    "start_time": "2025-02-07T15:31:11.775Z"
   },
   {
    "duration": 10,
    "start_time": "2025-02-07T15:31:11.785Z"
   },
   {
    "duration": 4,
    "start_time": "2025-02-07T15:31:11.796Z"
   },
   {
    "duration": 9,
    "start_time": "2025-02-07T15:31:11.801Z"
   },
   {
    "duration": 11,
    "start_time": "2025-02-07T15:31:11.844Z"
   },
   {
    "duration": 3,
    "start_time": "2025-02-07T15:31:11.857Z"
   },
   {
    "duration": 4,
    "start_time": "2025-02-07T15:31:11.862Z"
   },
   {
    "duration": 7,
    "start_time": "2025-02-07T15:31:11.867Z"
   },
   {
    "duration": 8,
    "start_time": "2025-02-07T15:31:11.875Z"
   },
   {
    "duration": 15,
    "start_time": "2025-02-07T15:31:11.885Z"
   },
   {
    "duration": 6,
    "start_time": "2025-02-07T15:31:11.902Z"
   },
   {
    "duration": 5,
    "start_time": "2025-02-07T15:31:11.945Z"
   },
   {
    "duration": 8,
    "start_time": "2025-02-07T15:31:11.952Z"
   },
   {
    "duration": 4,
    "start_time": "2025-02-07T15:31:11.961Z"
   },
   {
    "duration": 4,
    "start_time": "2025-02-07T15:31:11.966Z"
   },
   {
    "duration": 6,
    "start_time": "2025-02-07T15:31:11.972Z"
   },
   {
    "duration": 8,
    "start_time": "2025-02-07T15:31:11.980Z"
   },
   {
    "duration": 12,
    "start_time": "2025-02-07T15:31:11.989Z"
   },
   {
    "duration": 45,
    "start_time": "2025-02-07T15:31:12.002Z"
   },
   {
    "duration": 6,
    "start_time": "2025-02-07T15:31:12.048Z"
   },
   {
    "duration": 9,
    "start_time": "2025-02-07T15:31:12.055Z"
   },
   {
    "duration": 6,
    "start_time": "2025-02-07T15:31:12.066Z"
   },
   {
    "duration": 3,
    "start_time": "2025-02-07T15:31:12.073Z"
   },
   {
    "duration": 11,
    "start_time": "2025-02-07T15:31:12.078Z"
   },
   {
    "duration": 3,
    "start_time": "2025-02-07T15:31:12.090Z"
   },
   {
    "duration": 5,
    "start_time": "2025-02-07T15:31:12.095Z"
   },
   {
    "duration": 47,
    "start_time": "2025-02-07T15:31:12.101Z"
   },
   {
    "duration": 5,
    "start_time": "2025-02-07T15:31:12.150Z"
   },
   {
    "duration": 11,
    "start_time": "2025-02-07T15:31:12.157Z"
   },
   {
    "duration": 7,
    "start_time": "2025-02-07T15:31:12.170Z"
   },
   {
    "duration": 3,
    "start_time": "2025-02-07T15:31:12.179Z"
   },
   {
    "duration": 7,
    "start_time": "2025-02-07T15:31:12.185Z"
   },
   {
    "duration": 2,
    "start_time": "2025-02-07T15:31:12.194Z"
   },
   {
    "duration": 45,
    "start_time": "2025-02-07T15:31:12.198Z"
   },
   {
    "duration": 4,
    "start_time": "2025-02-07T15:31:12.245Z"
   },
   {
    "duration": 451,
    "start_time": "2025-02-07T15:31:12.251Z"
   },
   {
    "duration": 1,
    "start_time": "2025-02-07T15:31:12.703Z"
   },
   {
    "duration": 0,
    "start_time": "2025-02-07T15:31:12.705Z"
   },
   {
    "duration": 0,
    "start_time": "2025-02-07T15:31:12.705Z"
   },
   {
    "duration": 0,
    "start_time": "2025-02-07T15:31:12.707Z"
   },
   {
    "duration": 0,
    "start_time": "2025-02-07T15:31:12.708Z"
   },
   {
    "duration": 0,
    "start_time": "2025-02-07T15:31:12.709Z"
   },
   {
    "duration": 0,
    "start_time": "2025-02-07T15:31:12.711Z"
   },
   {
    "duration": 0,
    "start_time": "2025-02-07T15:31:12.712Z"
   },
   {
    "duration": 0,
    "start_time": "2025-02-07T15:31:12.713Z"
   },
   {
    "duration": 10,
    "start_time": "2025-02-07T15:31:31.438Z"
   },
   {
    "duration": 8,
    "start_time": "2025-02-07T15:32:20.569Z"
   },
   {
    "duration": 12,
    "start_time": "2025-02-07T15:32:27.485Z"
   },
   {
    "duration": 16,
    "start_time": "2025-02-07T15:33:03.721Z"
   },
   {
    "duration": 14,
    "start_time": "2025-02-07T15:33:23.724Z"
   },
   {
    "duration": 9,
    "start_time": "2025-02-07T15:34:11.555Z"
   },
   {
    "duration": 12,
    "start_time": "2025-02-07T15:34:17.998Z"
   },
   {
    "duration": 754,
    "start_time": "2025-02-07T15:34:35.316Z"
   },
   {
    "duration": 152,
    "start_time": "2025-02-07T15:34:36.073Z"
   },
   {
    "duration": 2,
    "start_time": "2025-02-07T15:34:36.227Z"
   },
   {
    "duration": 12,
    "start_time": "2025-02-07T15:34:36.231Z"
   },
   {
    "duration": 5,
    "start_time": "2025-02-07T15:34:36.245Z"
   },
   {
    "duration": 10,
    "start_time": "2025-02-07T15:34:36.252Z"
   },
   {
    "duration": 5,
    "start_time": "2025-02-07T15:34:36.264Z"
   },
   {
    "duration": 4,
    "start_time": "2025-02-07T15:34:36.270Z"
   },
   {
    "duration": 4,
    "start_time": "2025-02-07T15:34:36.276Z"
   },
   {
    "duration": 13,
    "start_time": "2025-02-07T15:34:36.281Z"
   },
   {
    "duration": 60,
    "start_time": "2025-02-07T15:34:36.295Z"
   },
   {
    "duration": 9,
    "start_time": "2025-02-07T15:34:36.357Z"
   },
   {
    "duration": 16,
    "start_time": "2025-02-07T15:34:36.367Z"
   },
   {
    "duration": 22,
    "start_time": "2025-02-07T15:34:36.388Z"
   },
   {
    "duration": 3,
    "start_time": "2025-02-07T15:34:36.412Z"
   },
   {
    "duration": 4,
    "start_time": "2025-02-07T15:34:36.442Z"
   },
   {
    "duration": 25,
    "start_time": "2025-02-07T15:34:36.448Z"
   },
   {
    "duration": 22,
    "start_time": "2025-02-07T15:34:36.475Z"
   },
   {
    "duration": 64,
    "start_time": "2025-02-07T15:34:36.499Z"
   },
   {
    "duration": 18,
    "start_time": "2025-02-07T15:34:36.565Z"
   },
   {
    "duration": 6,
    "start_time": "2025-02-07T15:34:36.585Z"
   },
   {
    "duration": 10,
    "start_time": "2025-02-07T15:34:36.593Z"
   },
   {
    "duration": 39,
    "start_time": "2025-02-07T15:34:36.604Z"
   },
   {
    "duration": 12,
    "start_time": "2025-02-07T15:34:36.645Z"
   },
   {
    "duration": 22,
    "start_time": "2025-02-07T15:34:36.658Z"
   },
   {
    "duration": 6,
    "start_time": "2025-02-07T15:34:36.681Z"
   },
   {
    "duration": 13,
    "start_time": "2025-02-07T15:34:36.689Z"
   },
   {
    "duration": 44,
    "start_time": "2025-02-07T15:34:36.704Z"
   },
   {
    "duration": 18,
    "start_time": "2025-02-07T15:34:36.750Z"
   },
   {
    "duration": 7,
    "start_time": "2025-02-07T15:34:36.770Z"
   },
   {
    "duration": 11,
    "start_time": "2025-02-07T15:34:36.779Z"
   },
   {
    "duration": 4,
    "start_time": "2025-02-07T15:34:36.791Z"
   },
   {
    "duration": 8,
    "start_time": "2025-02-07T15:34:36.796Z"
   },
   {
    "duration": 46,
    "start_time": "2025-02-07T15:34:36.806Z"
   },
   {
    "duration": 3,
    "start_time": "2025-02-07T15:34:36.854Z"
   },
   {
    "duration": 4,
    "start_time": "2025-02-07T15:34:36.859Z"
   },
   {
    "duration": 7,
    "start_time": "2025-02-07T15:34:36.864Z"
   },
   {
    "duration": 9,
    "start_time": "2025-02-07T15:34:36.872Z"
   },
   {
    "duration": 16,
    "start_time": "2025-02-07T15:34:36.883Z"
   },
   {
    "duration": 5,
    "start_time": "2025-02-07T15:34:36.901Z"
   },
   {
    "duration": 37,
    "start_time": "2025-02-07T15:34:36.911Z"
   },
   {
    "duration": 9,
    "start_time": "2025-02-07T15:34:36.949Z"
   },
   {
    "duration": 3,
    "start_time": "2025-02-07T15:34:36.959Z"
   },
   {
    "duration": 4,
    "start_time": "2025-02-07T15:34:36.963Z"
   },
   {
    "duration": 6,
    "start_time": "2025-02-07T15:34:36.969Z"
   },
   {
    "duration": 7,
    "start_time": "2025-02-07T15:34:36.977Z"
   },
   {
    "duration": 12,
    "start_time": "2025-02-07T15:34:36.985Z"
   },
   {
    "duration": 7,
    "start_time": "2025-02-07T15:34:36.998Z"
   },
   {
    "duration": 39,
    "start_time": "2025-02-07T15:34:37.006Z"
   },
   {
    "duration": 6,
    "start_time": "2025-02-07T15:34:37.047Z"
   },
   {
    "duration": 7,
    "start_time": "2025-02-07T15:34:37.055Z"
   },
   {
    "duration": 4,
    "start_time": "2025-02-07T15:34:37.063Z"
   },
   {
    "duration": 13,
    "start_time": "2025-02-07T15:34:37.068Z"
   },
   {
    "duration": 3,
    "start_time": "2025-02-07T15:34:37.082Z"
   },
   {
    "duration": 4,
    "start_time": "2025-02-07T15:34:37.086Z"
   },
   {
    "duration": 10,
    "start_time": "2025-02-07T15:34:37.092Z"
   },
   {
    "duration": 43,
    "start_time": "2025-02-07T15:34:37.103Z"
   },
   {
    "duration": 11,
    "start_time": "2025-02-07T15:34:37.149Z"
   },
   {
    "duration": 7,
    "start_time": "2025-02-07T15:34:37.162Z"
   },
   {
    "duration": 2,
    "start_time": "2025-02-07T15:34:37.170Z"
   },
   {
    "duration": 7,
    "start_time": "2025-02-07T15:34:37.175Z"
   },
   {
    "duration": 3,
    "start_time": "2025-02-07T15:34:37.183Z"
   },
   {
    "duration": 5,
    "start_time": "2025-02-07T15:34:37.188Z"
   },
   {
    "duration": 9,
    "start_time": "2025-02-07T15:34:37.195Z"
   },
   {
    "duration": 39,
    "start_time": "2025-02-07T15:34:37.206Z"
   },
   {
    "duration": 6,
    "start_time": "2025-02-07T15:34:37.247Z"
   },
   {
    "duration": 457,
    "start_time": "2025-02-07T15:34:37.255Z"
   },
   {
    "duration": 0,
    "start_time": "2025-02-07T15:34:37.714Z"
   },
   {
    "duration": 0,
    "start_time": "2025-02-07T15:34:37.715Z"
   },
   {
    "duration": 0,
    "start_time": "2025-02-07T15:34:37.717Z"
   },
   {
    "duration": 0,
    "start_time": "2025-02-07T15:34:37.718Z"
   },
   {
    "duration": 1,
    "start_time": "2025-02-07T15:34:37.719Z"
   },
   {
    "duration": 0,
    "start_time": "2025-02-07T15:34:37.721Z"
   },
   {
    "duration": 0,
    "start_time": "2025-02-07T15:34:37.723Z"
   },
   {
    "duration": 0,
    "start_time": "2025-02-07T15:34:37.724Z"
   },
   {
    "duration": 0,
    "start_time": "2025-02-07T15:34:37.724Z"
   },
   {
    "duration": 8,
    "start_time": "2025-02-07T15:34:42.478Z"
   },
   {
    "duration": 13,
    "start_time": "2025-02-07T15:39:48.577Z"
   },
   {
    "duration": 13,
    "start_time": "2025-02-07T15:39:59.190Z"
   },
   {
    "duration": 9,
    "start_time": "2025-02-07T15:41:41.016Z"
   },
   {
    "duration": 7,
    "start_time": "2025-02-07T15:51:23.187Z"
   },
   {
    "duration": 11,
    "start_time": "2025-02-07T15:51:31.367Z"
   },
   {
    "duration": 11,
    "start_time": "2025-02-07T15:51:48.291Z"
   },
   {
    "duration": 21,
    "start_time": "2025-02-07T15:52:23.659Z"
   },
   {
    "duration": 10,
    "start_time": "2025-02-07T15:52:42.924Z"
   },
   {
    "duration": 13,
    "start_time": "2025-02-07T15:55:24.819Z"
   },
   {
    "duration": 3,
    "start_time": "2025-02-07T16:00:34.645Z"
   },
   {
    "duration": 4,
    "start_time": "2025-02-07T16:01:17.751Z"
   },
   {
    "duration": 45,
    "start_time": "2025-02-07T16:04:49.565Z"
   },
   {
    "duration": 3,
    "start_time": "2025-02-07T16:06:37.311Z"
   },
   {
    "duration": 4,
    "start_time": "2025-02-07T16:08:04.241Z"
   },
   {
    "duration": 4,
    "start_time": "2025-02-07T16:09:06.615Z"
   },
   {
    "duration": 11,
    "start_time": "2025-02-07T16:09:16.344Z"
   },
   {
    "duration": 4,
    "start_time": "2025-02-07T16:24:42.933Z"
   },
   {
    "duration": 12,
    "start_time": "2025-02-07T16:24:43.464Z"
   },
   {
    "duration": 761,
    "start_time": "2025-02-07T16:25:01.315Z"
   },
   {
    "duration": 160,
    "start_time": "2025-02-07T16:25:02.079Z"
   },
   {
    "duration": 3,
    "start_time": "2025-02-07T16:25:02.240Z"
   },
   {
    "duration": 12,
    "start_time": "2025-02-07T16:25:02.245Z"
   },
   {
    "duration": 5,
    "start_time": "2025-02-07T16:25:02.259Z"
   },
   {
    "duration": 11,
    "start_time": "2025-02-07T16:25:02.266Z"
   },
   {
    "duration": 5,
    "start_time": "2025-02-07T16:25:02.279Z"
   },
   {
    "duration": 5,
    "start_time": "2025-02-07T16:25:02.286Z"
   },
   {
    "duration": 4,
    "start_time": "2025-02-07T16:25:02.293Z"
   },
   {
    "duration": 48,
    "start_time": "2025-02-07T16:25:02.301Z"
   },
   {
    "duration": 26,
    "start_time": "2025-02-07T16:25:02.350Z"
   },
   {
    "duration": 7,
    "start_time": "2025-02-07T16:25:02.378Z"
   },
   {
    "duration": 16,
    "start_time": "2025-02-07T16:25:02.387Z"
   },
   {
    "duration": 47,
    "start_time": "2025-02-07T16:25:02.404Z"
   },
   {
    "duration": 4,
    "start_time": "2025-02-07T16:25:02.452Z"
   },
   {
    "duration": 3,
    "start_time": "2025-02-07T16:25:02.457Z"
   },
   {
    "duration": 25,
    "start_time": "2025-02-07T16:25:02.462Z"
   },
   {
    "duration": 27,
    "start_time": "2025-02-07T16:25:02.489Z"
   },
   {
    "duration": 75,
    "start_time": "2025-02-07T16:25:02.518Z"
   },
   {
    "duration": 24,
    "start_time": "2025-02-07T16:25:02.595Z"
   },
   {
    "duration": 27,
    "start_time": "2025-02-07T16:25:02.621Z"
   },
   {
    "duration": 16,
    "start_time": "2025-02-07T16:25:02.650Z"
   },
   {
    "duration": 22,
    "start_time": "2025-02-07T16:25:02.669Z"
   },
   {
    "duration": 13,
    "start_time": "2025-02-07T16:25:02.693Z"
   },
   {
    "duration": 49,
    "start_time": "2025-02-07T16:25:02.708Z"
   },
   {
    "duration": 6,
    "start_time": "2025-02-07T16:25:02.759Z"
   },
   {
    "duration": 12,
    "start_time": "2025-02-07T16:25:02.767Z"
   },
   {
    "duration": 21,
    "start_time": "2025-02-07T16:25:02.784Z"
   },
   {
    "duration": 45,
    "start_time": "2025-02-07T16:25:02.806Z"
   },
   {
    "duration": 8,
    "start_time": "2025-02-07T16:25:02.853Z"
   },
   {
    "duration": 10,
    "start_time": "2025-02-07T16:25:02.863Z"
   },
   {
    "duration": 4,
    "start_time": "2025-02-07T16:25:02.875Z"
   },
   {
    "duration": 11,
    "start_time": "2025-02-07T16:25:02.880Z"
   },
   {
    "duration": 13,
    "start_time": "2025-02-07T16:25:02.893Z"
   },
   {
    "duration": 3,
    "start_time": "2025-02-07T16:25:02.908Z"
   },
   {
    "duration": 4,
    "start_time": "2025-02-07T16:25:02.943Z"
   },
   {
    "duration": 8,
    "start_time": "2025-02-07T16:25:02.948Z"
   },
   {
    "duration": 10,
    "start_time": "2025-02-07T16:25:02.959Z"
   },
   {
    "duration": 19,
    "start_time": "2025-02-07T16:25:02.970Z"
   },
   {
    "duration": 6,
    "start_time": "2025-02-07T16:25:02.991Z"
   },
   {
    "duration": 7,
    "start_time": "2025-02-07T16:25:02.998Z"
   },
   {
    "duration": 37,
    "start_time": "2025-02-07T16:25:03.007Z"
   },
   {
    "duration": 2,
    "start_time": "2025-02-07T16:25:03.047Z"
   },
   {
    "duration": 4,
    "start_time": "2025-02-07T16:25:03.051Z"
   },
   {
    "duration": 6,
    "start_time": "2025-02-07T16:25:03.057Z"
   },
   {
    "duration": 7,
    "start_time": "2025-02-07T16:25:03.065Z"
   },
   {
    "duration": 13,
    "start_time": "2025-02-07T16:25:03.074Z"
   },
   {
    "duration": 6,
    "start_time": "2025-02-07T16:25:03.088Z"
   },
   {
    "duration": 47,
    "start_time": "2025-02-07T16:25:03.096Z"
   },
   {
    "duration": 6,
    "start_time": "2025-02-07T16:25:03.145Z"
   },
   {
    "duration": 6,
    "start_time": "2025-02-07T16:25:03.153Z"
   },
   {
    "duration": 3,
    "start_time": "2025-02-07T16:25:03.161Z"
   },
   {
    "duration": 4,
    "start_time": "2025-02-07T16:25:03.166Z"
   },
   {
    "duration": 11,
    "start_time": "2025-02-07T16:25:03.172Z"
   },
   {
    "duration": 3,
    "start_time": "2025-02-07T16:25:03.185Z"
   },
   {
    "duration": 4,
    "start_time": "2025-02-07T16:25:03.190Z"
   },
   {
    "duration": 51,
    "start_time": "2025-02-07T16:25:03.196Z"
   },
   {
    "duration": 6,
    "start_time": "2025-02-07T16:25:03.250Z"
   },
   {
    "duration": 12,
    "start_time": "2025-02-07T16:25:03.258Z"
   },
   {
    "duration": 7,
    "start_time": "2025-02-07T16:25:03.272Z"
   },
   {
    "duration": 2,
    "start_time": "2025-02-07T16:25:03.282Z"
   },
   {
    "duration": 8,
    "start_time": "2025-02-07T16:25:03.286Z"
   },
   {
    "duration": 2,
    "start_time": "2025-02-07T16:25:03.297Z"
   },
   {
    "duration": 7,
    "start_time": "2025-02-07T16:25:03.300Z"
   },
   {
    "duration": 42,
    "start_time": "2025-02-07T16:25:03.308Z"
   },
   {
    "duration": 13,
    "start_time": "2025-02-07T16:25:03.352Z"
   },
   {
    "duration": 10,
    "start_time": "2025-02-07T16:25:03.367Z"
   },
   {
    "duration": 3,
    "start_time": "2025-02-07T16:25:03.379Z"
   },
   {
    "duration": 4,
    "start_time": "2025-02-07T16:25:03.383Z"
   },
   {
    "duration": 3,
    "start_time": "2025-02-07T16:25:03.389Z"
   },
   {
    "duration": 4,
    "start_time": "2025-02-07T16:25:03.394Z"
   },
   {
    "duration": 4,
    "start_time": "2025-02-07T16:25:03.399Z"
   },
   {
    "duration": 46,
    "start_time": "2025-02-07T16:25:03.404Z"
   },
   {
    "duration": 2,
    "start_time": "2025-02-07T16:25:03.451Z"
   },
   {
    "duration": 3,
    "start_time": "2025-02-07T16:25:03.455Z"
   },
   {
    "duration": 3,
    "start_time": "2025-02-07T16:25:03.460Z"
   },
   {
    "duration": 3,
    "start_time": "2025-02-07T16:25:03.465Z"
   },
   {
    "duration": 4,
    "start_time": "2025-02-07T16:25:03.469Z"
   },
   {
    "duration": 3,
    "start_time": "2025-02-07T16:25:03.474Z"
   },
   {
    "duration": 2,
    "start_time": "2025-02-07T16:25:03.479Z"
   },
   {
    "duration": 3,
    "start_time": "2025-02-07T16:25:03.483Z"
   },
   {
    "duration": 155,
    "start_time": "2025-02-08T17:02:28.775Z"
   },
   {
    "duration": 2493,
    "start_time": "2025-02-08T17:03:01.913Z"
   },
   {
    "duration": 212,
    "start_time": "2025-02-08T17:03:04.409Z"
   },
   {
    "duration": 4,
    "start_time": "2025-02-08T17:03:04.622Z"
   },
   {
    "duration": 13,
    "start_time": "2025-02-08T17:03:04.628Z"
   },
   {
    "duration": 4,
    "start_time": "2025-02-08T17:03:04.645Z"
   },
   {
    "duration": 12,
    "start_time": "2025-02-08T17:03:04.651Z"
   },
   {
    "duration": 6,
    "start_time": "2025-02-08T17:03:04.665Z"
   },
   {
    "duration": 5,
    "start_time": "2025-02-08T17:03:04.676Z"
   },
   {
    "duration": 5,
    "start_time": "2025-02-08T17:03:04.682Z"
   },
   {
    "duration": 15,
    "start_time": "2025-02-08T17:03:04.689Z"
   },
   {
    "duration": 26,
    "start_time": "2025-02-08T17:03:04.708Z"
   },
   {
    "duration": 34,
    "start_time": "2025-02-08T17:03:04.735Z"
   },
   {
    "duration": 16,
    "start_time": "2025-02-08T17:03:04.771Z"
   },
   {
    "duration": 18,
    "start_time": "2025-02-08T17:03:04.791Z"
   },
   {
    "duration": 4,
    "start_time": "2025-02-08T17:03:04.811Z"
   },
   {
    "duration": 4,
    "start_time": "2025-02-08T17:03:04.816Z"
   },
   {
    "duration": 60,
    "start_time": "2025-02-08T17:03:04.822Z"
   },
   {
    "duration": 30,
    "start_time": "2025-02-08T17:03:04.883Z"
   },
   {
    "duration": 60,
    "start_time": "2025-02-08T17:03:04.915Z"
   },
   {
    "duration": 18,
    "start_time": "2025-02-08T17:03:04.977Z"
   },
   {
    "duration": 5,
    "start_time": "2025-02-08T17:03:04.997Z"
   },
   {
    "duration": 9,
    "start_time": "2025-02-08T17:03:05.004Z"
   },
   {
    "duration": 14,
    "start_time": "2025-02-08T17:03:05.015Z"
   },
   {
    "duration": 45,
    "start_time": "2025-02-08T17:03:05.031Z"
   },
   {
    "duration": 24,
    "start_time": "2025-02-08T17:03:05.079Z"
   },
   {
    "duration": 6,
    "start_time": "2025-02-08T17:03:05.105Z"
   },
   {
    "duration": 12,
    "start_time": "2025-02-08T17:03:05.113Z"
   },
   {
    "duration": 45,
    "start_time": "2025-02-08T17:03:05.127Z"
   },
   {
    "duration": 17,
    "start_time": "2025-02-08T17:03:05.174Z"
   },
   {
    "duration": 8,
    "start_time": "2025-02-08T17:03:05.192Z"
   },
   {
    "duration": 13,
    "start_time": "2025-02-08T17:03:05.201Z"
   },
   {
    "duration": 3,
    "start_time": "2025-02-08T17:03:05.216Z"
   },
   {
    "duration": 8,
    "start_time": "2025-02-08T17:03:05.221Z"
   },
   {
    "duration": 41,
    "start_time": "2025-02-08T17:03:05.230Z"
   },
   {
    "duration": 3,
    "start_time": "2025-02-08T17:03:05.273Z"
   },
   {
    "duration": 4,
    "start_time": "2025-02-08T17:03:05.278Z"
   },
   {
    "duration": 8,
    "start_time": "2025-02-08T17:03:05.284Z"
   },
   {
    "duration": 9,
    "start_time": "2025-02-08T17:03:05.293Z"
   },
   {
    "duration": 17,
    "start_time": "2025-02-08T17:03:05.304Z"
   },
   {
    "duration": 7,
    "start_time": "2025-02-08T17:03:05.322Z"
   },
   {
    "duration": 6,
    "start_time": "2025-02-08T17:03:05.370Z"
   },
   {
    "duration": 8,
    "start_time": "2025-02-08T17:03:05.378Z"
   },
   {
    "duration": 3,
    "start_time": "2025-02-08T17:03:05.387Z"
   },
   {
    "duration": 4,
    "start_time": "2025-02-08T17:03:05.392Z"
   },
   {
    "duration": 7,
    "start_time": "2025-02-08T17:03:05.397Z"
   },
   {
    "duration": 8,
    "start_time": "2025-02-08T17:03:05.405Z"
   },
   {
    "duration": 11,
    "start_time": "2025-02-08T17:03:05.414Z"
   },
   {
    "duration": 6,
    "start_time": "2025-02-08T17:03:05.427Z"
   },
   {
    "duration": 6,
    "start_time": "2025-02-08T17:03:05.470Z"
   },
   {
    "duration": 5,
    "start_time": "2025-02-08T17:03:05.478Z"
   },
   {
    "duration": 5,
    "start_time": "2025-02-08T17:03:05.485Z"
   },
   {
    "duration": 4,
    "start_time": "2025-02-08T17:03:05.492Z"
   },
   {
    "duration": 5,
    "start_time": "2025-02-08T17:03:05.497Z"
   },
   {
    "duration": 11,
    "start_time": "2025-02-08T17:03:05.505Z"
   },
   {
    "duration": 3,
    "start_time": "2025-02-08T17:03:05.517Z"
   },
   {
    "duration": 5,
    "start_time": "2025-02-08T17:03:05.522Z"
   },
   {
    "duration": 48,
    "start_time": "2025-02-08T17:03:05.528Z"
   },
   {
    "duration": 5,
    "start_time": "2025-02-08T17:03:05.578Z"
   },
   {
    "duration": 11,
    "start_time": "2025-02-08T17:03:05.585Z"
   },
   {
    "duration": 7,
    "start_time": "2025-02-08T17:03:05.598Z"
   },
   {
    "duration": 3,
    "start_time": "2025-02-08T17:03:05.607Z"
   },
   {
    "duration": 7,
    "start_time": "2025-02-08T17:03:05.612Z"
   },
   {
    "duration": 2,
    "start_time": "2025-02-08T17:03:05.621Z"
   },
   {
    "duration": 7,
    "start_time": "2025-02-08T17:03:09.227Z"
   },
   {
    "duration": 10,
    "start_time": "2025-02-08T17:03:12.326Z"
   },
   {
    "duration": 4,
    "start_time": "2025-02-08T17:03:18.222Z"
   },
   {
    "duration": 4,
    "start_time": "2025-02-08T17:06:43.470Z"
   },
   {
    "duration": 461,
    "start_time": "2025-02-08T17:09:03.619Z"
   },
   {
    "duration": 4,
    "start_time": "2025-02-08T17:09:26.362Z"
   },
   {
    "duration": 11,
    "start_time": "2025-02-08T17:09:44.888Z"
   },
   {
    "duration": 19,
    "start_time": "2025-02-08T17:29:08.020Z"
   },
   {
    "duration": 11,
    "start_time": "2025-02-08T17:29:35.107Z"
   },
   {
    "duration": 6,
    "start_time": "2025-02-08T17:34:28.264Z"
   },
   {
    "duration": 10,
    "start_time": "2025-02-08T17:36:11.704Z"
   },
   {
    "duration": 11,
    "start_time": "2025-02-08T17:36:54.267Z"
   },
   {
    "duration": 3,
    "start_time": "2025-02-08T17:49:04.877Z"
   },
   {
    "duration": 803,
    "start_time": "2025-02-08T17:55:58.997Z"
   },
   {
    "duration": 156,
    "start_time": "2025-02-08T17:55:59.803Z"
   },
   {
    "duration": 3,
    "start_time": "2025-02-08T17:55:59.962Z"
   },
   {
    "duration": 13,
    "start_time": "2025-02-08T17:55:59.967Z"
   },
   {
    "duration": 4,
    "start_time": "2025-02-08T17:55:59.983Z"
   },
   {
    "duration": 11,
    "start_time": "2025-02-08T17:55:59.989Z"
   },
   {
    "duration": 6,
    "start_time": "2025-02-08T17:56:00.001Z"
   },
   {
    "duration": 4,
    "start_time": "2025-02-08T17:56:00.009Z"
   },
   {
    "duration": 4,
    "start_time": "2025-02-08T17:56:00.015Z"
   },
   {
    "duration": 12,
    "start_time": "2025-02-08T17:56:00.021Z"
   },
   {
    "duration": 57,
    "start_time": "2025-02-08T17:56:00.035Z"
   },
   {
    "duration": 9,
    "start_time": "2025-02-08T17:56:00.094Z"
   },
   {
    "duration": 16,
    "start_time": "2025-02-08T17:56:00.104Z"
   },
   {
    "duration": 18,
    "start_time": "2025-02-08T17:56:00.125Z"
   },
   {
    "duration": 26,
    "start_time": "2025-02-08T17:56:00.145Z"
   },
   {
    "duration": 4,
    "start_time": "2025-02-08T17:56:00.173Z"
   },
   {
    "duration": 25,
    "start_time": "2025-02-08T17:56:00.178Z"
   },
   {
    "duration": 26,
    "start_time": "2025-02-08T17:56:00.205Z"
   },
   {
    "duration": 74,
    "start_time": "2025-02-08T17:56:00.232Z"
   },
   {
    "duration": 17,
    "start_time": "2025-02-08T17:56:00.308Z"
   },
   {
    "duration": 6,
    "start_time": "2025-02-08T17:56:00.327Z"
   },
   {
    "duration": 12,
    "start_time": "2025-02-08T17:56:00.334Z"
   },
   {
    "duration": 37,
    "start_time": "2025-02-08T17:56:00.347Z"
   },
   {
    "duration": 15,
    "start_time": "2025-02-08T17:56:00.386Z"
   },
   {
    "duration": 23,
    "start_time": "2025-02-08T17:56:00.403Z"
   },
   {
    "duration": 6,
    "start_time": "2025-02-08T17:56:00.428Z"
   },
   {
    "duration": 37,
    "start_time": "2025-02-08T17:56:00.436Z"
   },
   {
    "duration": 20,
    "start_time": "2025-02-08T17:56:00.475Z"
   },
   {
    "duration": 16,
    "start_time": "2025-02-08T17:56:00.497Z"
   },
   {
    "duration": 8,
    "start_time": "2025-02-08T17:56:00.514Z"
   },
   {
    "duration": 10,
    "start_time": "2025-02-08T17:56:00.524Z"
   },
   {
    "duration": 3,
    "start_time": "2025-02-08T17:56:00.536Z"
   },
   {
    "duration": 7,
    "start_time": "2025-02-08T17:56:00.571Z"
   },
   {
    "duration": 11,
    "start_time": "2025-02-08T17:56:00.579Z"
   },
   {
    "duration": 3,
    "start_time": "2025-02-08T17:56:00.592Z"
   },
   {
    "duration": 4,
    "start_time": "2025-02-08T17:56:00.597Z"
   },
   {
    "duration": 6,
    "start_time": "2025-02-08T17:56:00.602Z"
   },
   {
    "duration": 8,
    "start_time": "2025-02-08T17:56:00.611Z"
   },
   {
    "duration": 16,
    "start_time": "2025-02-08T17:56:00.621Z"
   },
   {
    "duration": 6,
    "start_time": "2025-02-08T17:56:00.671Z"
   },
   {
    "duration": 5,
    "start_time": "2025-02-08T17:56:00.683Z"
   },
   {
    "duration": 8,
    "start_time": "2025-02-08T17:56:00.690Z"
   },
   {
    "duration": 3,
    "start_time": "2025-02-08T17:56:00.700Z"
   },
   {
    "duration": 6,
    "start_time": "2025-02-08T17:56:00.704Z"
   },
   {
    "duration": 6,
    "start_time": "2025-02-08T17:56:00.712Z"
   },
   {
    "duration": 8,
    "start_time": "2025-02-08T17:56:00.719Z"
   },
   {
    "duration": 47,
    "start_time": "2025-02-08T17:56:00.729Z"
   },
   {
    "duration": 8,
    "start_time": "2025-02-08T17:56:00.778Z"
   },
   {
    "duration": 6,
    "start_time": "2025-02-08T17:56:00.788Z"
   },
   {
    "duration": 6,
    "start_time": "2025-02-08T17:56:00.796Z"
   },
   {
    "duration": 6,
    "start_time": "2025-02-08T17:56:00.803Z"
   },
   {
    "duration": 2,
    "start_time": "2025-02-08T17:56:00.811Z"
   },
   {
    "duration": 12,
    "start_time": "2025-02-08T17:56:00.815Z"
   },
   {
    "duration": 3,
    "start_time": "2025-02-08T17:56:00.829Z"
   },
   {
    "duration": 40,
    "start_time": "2025-02-08T17:56:00.833Z"
   },
   {
    "duration": 11,
    "start_time": "2025-02-08T17:56:00.875Z"
   },
   {
    "duration": 6,
    "start_time": "2025-02-08T17:56:00.887Z"
   },
   {
    "duration": 11,
    "start_time": "2025-02-08T17:56:00.895Z"
   },
   {
    "duration": 7,
    "start_time": "2025-02-08T17:56:00.907Z"
   },
   {
    "duration": 3,
    "start_time": "2025-02-08T17:56:00.916Z"
   },
   {
    "duration": 8,
    "start_time": "2025-02-08T17:56:00.920Z"
   },
   {
    "duration": 3,
    "start_time": "2025-02-08T17:56:00.929Z"
   },
   {
    "duration": 6,
    "start_time": "2025-02-08T17:56:00.969Z"
   },
   {
    "duration": 10,
    "start_time": "2025-02-08T17:56:00.976Z"
   },
   {
    "duration": 4,
    "start_time": "2025-02-08T17:56:00.988Z"
   },
   {
    "duration": 4,
    "start_time": "2025-02-08T17:56:00.993Z"
   },
   {
    "duration": 4,
    "start_time": "2025-02-08T17:56:00.998Z"
   },
   {
    "duration": 11,
    "start_time": "2025-02-08T17:56:01.004Z"
   },
   {
    "duration": 5,
    "start_time": "2025-02-08T17:56:01.016Z"
   },
   {
    "duration": 48,
    "start_time": "2025-02-08T17:56:01.022Z"
   },
   {
    "duration": 3,
    "start_time": "2025-02-08T17:56:01.071Z"
   },
   {
    "duration": 4,
    "start_time": "2025-02-08T17:56:01.076Z"
   },
   {
    "duration": 0,
    "start_time": "2025-02-08T17:56:01.082Z"
   },
   {
    "duration": 0,
    "start_time": "2025-02-08T17:56:01.083Z"
   },
   {
    "duration": 0,
    "start_time": "2025-02-08T17:56:01.085Z"
   },
   {
    "duration": 0,
    "start_time": "2025-02-08T17:56:01.087Z"
   },
   {
    "duration": 0,
    "start_time": "2025-02-08T17:56:01.088Z"
   },
   {
    "duration": 0,
    "start_time": "2025-02-08T17:56:01.090Z"
   },
   {
    "duration": 0,
    "start_time": "2025-02-08T17:56:01.091Z"
   },
   {
    "duration": 0,
    "start_time": "2025-02-08T17:56:01.093Z"
   },
   {
    "duration": 4,
    "start_time": "2025-02-08T17:59:23.663Z"
   },
   {
    "duration": 11,
    "start_time": "2025-02-08T17:59:25.298Z"
   },
   {
    "duration": 3,
    "start_time": "2025-02-08T17:59:37.087Z"
   },
   {
    "duration": 541,
    "start_time": "2025-02-08T18:01:16.566Z"
   },
   {
    "duration": 28,
    "start_time": "2025-02-08T18:01:50.559Z"
   },
   {
    "duration": 7,
    "start_time": "2025-02-08T18:06:12.628Z"
   },
   {
    "duration": 13,
    "start_time": "2025-02-08T18:06:25.691Z"
   },
   {
    "duration": 871,
    "start_time": "2025-02-08T18:09:54.140Z"
   },
   {
    "duration": 168,
    "start_time": "2025-02-08T18:09:55.014Z"
   },
   {
    "duration": 2,
    "start_time": "2025-02-08T18:09:55.186Z"
   },
   {
    "duration": 13,
    "start_time": "2025-02-08T18:09:55.191Z"
   },
   {
    "duration": 5,
    "start_time": "2025-02-08T18:09:55.205Z"
   },
   {
    "duration": 14,
    "start_time": "2025-02-08T18:09:55.211Z"
   },
   {
    "duration": 6,
    "start_time": "2025-02-08T18:09:55.227Z"
   },
   {
    "duration": 4,
    "start_time": "2025-02-08T18:09:55.235Z"
   },
   {
    "duration": 36,
    "start_time": "2025-02-08T18:09:55.240Z"
   },
   {
    "duration": 15,
    "start_time": "2025-02-08T18:09:55.279Z"
   },
   {
    "duration": 32,
    "start_time": "2025-02-08T18:09:55.298Z"
   },
   {
    "duration": 11,
    "start_time": "2025-02-08T18:09:55.332Z"
   },
   {
    "duration": 34,
    "start_time": "2025-02-08T18:09:55.345Z"
   },
   {
    "duration": 21,
    "start_time": "2025-02-08T18:09:55.381Z"
   },
   {
    "duration": 4,
    "start_time": "2025-02-08T18:09:55.403Z"
   },
   {
    "duration": 4,
    "start_time": "2025-02-08T18:09:55.409Z"
   },
   {
    "duration": 28,
    "start_time": "2025-02-08T18:09:55.415Z"
   },
   {
    "duration": 61,
    "start_time": "2025-02-08T18:09:55.445Z"
   },
   {
    "duration": 65,
    "start_time": "2025-02-08T18:09:55.508Z"
   },
   {
    "duration": 18,
    "start_time": "2025-02-08T18:09:55.575Z"
   },
   {
    "duration": 9,
    "start_time": "2025-02-08T18:09:55.595Z"
   },
   {
    "duration": 12,
    "start_time": "2025-02-08T18:09:55.605Z"
   },
   {
    "duration": 16,
    "start_time": "2025-02-08T18:09:55.618Z"
   },
   {
    "duration": 44,
    "start_time": "2025-02-08T18:09:55.636Z"
   },
   {
    "duration": 29,
    "start_time": "2025-02-08T18:09:55.682Z"
   },
   {
    "duration": 7,
    "start_time": "2025-02-08T18:09:55.713Z"
   },
   {
    "duration": 19,
    "start_time": "2025-02-08T18:09:55.722Z"
   },
   {
    "duration": 21,
    "start_time": "2025-02-08T18:09:55.772Z"
   },
   {
    "duration": 16,
    "start_time": "2025-02-08T18:09:55.795Z"
   },
   {
    "duration": 8,
    "start_time": "2025-02-08T18:09:55.813Z"
   },
   {
    "duration": 12,
    "start_time": "2025-02-08T18:09:55.822Z"
   },
   {
    "duration": 5,
    "start_time": "2025-02-08T18:09:55.836Z"
   },
   {
    "duration": 9,
    "start_time": "2025-02-08T18:09:55.870Z"
   },
   {
    "duration": 11,
    "start_time": "2025-02-08T18:09:55.881Z"
   },
   {
    "duration": 5,
    "start_time": "2025-02-08T18:09:55.896Z"
   },
   {
    "duration": 5,
    "start_time": "2025-02-08T18:09:55.905Z"
   },
   {
    "duration": 7,
    "start_time": "2025-02-08T18:09:55.911Z"
   },
   {
    "duration": 11,
    "start_time": "2025-02-08T18:09:55.920Z"
   },
   {
    "duration": 48,
    "start_time": "2025-02-08T18:09:55.933Z"
   },
   {
    "duration": 8,
    "start_time": "2025-02-08T18:09:55.983Z"
   },
   {
    "duration": 7,
    "start_time": "2025-02-08T18:09:55.992Z"
   },
   {
    "duration": 8,
    "start_time": "2025-02-08T18:09:56.001Z"
   },
   {
    "duration": 3,
    "start_time": "2025-02-08T18:09:56.011Z"
   },
   {
    "duration": 4,
    "start_time": "2025-02-08T18:09:56.016Z"
   },
   {
    "duration": 7,
    "start_time": "2025-02-08T18:09:56.022Z"
   },
   {
    "duration": 37,
    "start_time": "2025-02-08T18:09:56.032Z"
   },
   {
    "duration": 18,
    "start_time": "2025-02-08T18:09:56.072Z"
   },
   {
    "duration": 8,
    "start_time": "2025-02-08T18:09:56.091Z"
   },
   {
    "duration": 6,
    "start_time": "2025-02-08T18:09:56.101Z"
   },
   {
    "duration": 8,
    "start_time": "2025-02-08T18:09:56.109Z"
   },
   {
    "duration": 8,
    "start_time": "2025-02-08T18:09:56.118Z"
   },
   {
    "duration": 3,
    "start_time": "2025-02-08T18:09:56.129Z"
   },
   {
    "duration": 44,
    "start_time": "2025-02-08T18:09:56.133Z"
   },
   {
    "duration": 3,
    "start_time": "2025-02-08T18:09:56.179Z"
   },
   {
    "duration": 5,
    "start_time": "2025-02-08T18:09:56.185Z"
   },
   {
    "duration": 13,
    "start_time": "2025-02-08T18:09:56.191Z"
   },
   {
    "duration": 6,
    "start_time": "2025-02-08T18:09:56.207Z"
   },
   {
    "duration": 15,
    "start_time": "2025-02-08T18:09:56.214Z"
   },
   {
    "duration": 41,
    "start_time": "2025-02-08T18:09:56.230Z"
   },
   {
    "duration": 4,
    "start_time": "2025-02-08T18:09:56.273Z"
   },
   {
    "duration": 10,
    "start_time": "2025-02-08T18:09:56.278Z"
   },
   {
    "duration": 3,
    "start_time": "2025-02-08T18:09:56.290Z"
   },
   {
    "duration": 6,
    "start_time": "2025-02-08T18:09:56.295Z"
   },
   {
    "duration": 11,
    "start_time": "2025-02-08T18:09:56.303Z"
   },
   {
    "duration": 4,
    "start_time": "2025-02-08T18:09:56.315Z"
   },
   {
    "duration": 5,
    "start_time": "2025-02-08T18:09:56.323Z"
   },
   {
    "duration": 11,
    "start_time": "2025-02-08T18:09:56.329Z"
   },
   {
    "duration": 13,
    "start_time": "2025-02-08T18:09:56.371Z"
   },
   {
    "duration": 6,
    "start_time": "2025-02-08T18:09:56.387Z"
   },
   {
    "duration": 4,
    "start_time": "2025-02-08T18:09:56.396Z"
   },
   {
    "duration": 11,
    "start_time": "2025-02-08T18:09:56.403Z"
   },
   {
    "duration": 3,
    "start_time": "2025-02-08T18:09:56.416Z"
   },
   {
    "duration": 3,
    "start_time": "2025-02-08T18:10:55.221Z"
   },
   {
    "duration": 14,
    "start_time": "2025-02-08T18:11:09.779Z"
   },
   {
    "duration": 8,
    "start_time": "2025-02-08T18:12:02.095Z"
   },
   {
    "duration": 12,
    "start_time": "2025-02-08T18:12:18.161Z"
   },
   {
    "duration": 771,
    "start_time": "2025-02-08T18:15:55.526Z"
   },
   {
    "duration": 165,
    "start_time": "2025-02-08T18:15:56.299Z"
   },
   {
    "duration": 2,
    "start_time": "2025-02-08T18:15:56.466Z"
   },
   {
    "duration": 14,
    "start_time": "2025-02-08T18:15:56.470Z"
   },
   {
    "duration": 4,
    "start_time": "2025-02-08T18:15:56.487Z"
   },
   {
    "duration": 12,
    "start_time": "2025-02-08T18:15:56.493Z"
   },
   {
    "duration": 6,
    "start_time": "2025-02-08T18:15:56.506Z"
   },
   {
    "duration": 4,
    "start_time": "2025-02-08T18:15:56.513Z"
   },
   {
    "duration": 4,
    "start_time": "2025-02-08T18:15:56.519Z"
   },
   {
    "duration": 52,
    "start_time": "2025-02-08T18:15:56.524Z"
   },
   {
    "duration": 27,
    "start_time": "2025-02-08T18:15:56.577Z"
   },
   {
    "duration": 8,
    "start_time": "2025-02-08T18:15:56.605Z"
   },
   {
    "duration": 16,
    "start_time": "2025-02-08T18:15:56.615Z"
   },
   {
    "duration": 39,
    "start_time": "2025-02-08T18:15:56.634Z"
   },
   {
    "duration": 4,
    "start_time": "2025-02-08T18:15:56.674Z"
   },
   {
    "duration": 3,
    "start_time": "2025-02-08T18:15:56.680Z"
   },
   {
    "duration": 26,
    "start_time": "2025-02-08T18:15:56.685Z"
   },
   {
    "duration": 23,
    "start_time": "2025-02-08T18:15:56.712Z"
   },
   {
    "duration": 80,
    "start_time": "2025-02-08T18:15:56.737Z"
   },
   {
    "duration": 17,
    "start_time": "2025-02-08T18:15:56.819Z"
   },
   {
    "duration": 8,
    "start_time": "2025-02-08T18:15:56.838Z"
   },
   {
    "duration": 32,
    "start_time": "2025-02-08T18:15:56.847Z"
   },
   {
    "duration": 15,
    "start_time": "2025-02-08T18:15:56.881Z"
   },
   {
    "duration": 13,
    "start_time": "2025-02-08T18:15:56.898Z"
   },
   {
    "duration": 22,
    "start_time": "2025-02-08T18:15:56.913Z"
   },
   {
    "duration": 7,
    "start_time": "2025-02-08T18:15:56.937Z"
   },
   {
    "duration": 16,
    "start_time": "2025-02-08T18:15:56.971Z"
   },
   {
    "duration": 21,
    "start_time": "2025-02-08T18:15:56.988Z"
   },
   {
    "duration": 16,
    "start_time": "2025-02-08T18:15:57.011Z"
   },
   {
    "duration": 8,
    "start_time": "2025-02-08T18:15:57.029Z"
   },
   {
    "duration": 40,
    "start_time": "2025-02-08T18:15:57.039Z"
   },
   {
    "duration": 3,
    "start_time": "2025-02-08T18:15:57.081Z"
   },
   {
    "duration": 8,
    "start_time": "2025-02-08T18:15:57.086Z"
   },
   {
    "duration": 13,
    "start_time": "2025-02-08T18:15:57.095Z"
   },
   {
    "duration": 5,
    "start_time": "2025-02-08T18:15:57.109Z"
   },
   {
    "duration": 3,
    "start_time": "2025-02-08T18:15:57.116Z"
   },
   {
    "duration": 7,
    "start_time": "2025-02-08T18:15:57.120Z"
   },
   {
    "duration": 8,
    "start_time": "2025-02-08T18:15:57.129Z"
   },
   {
    "duration": 56,
    "start_time": "2025-02-08T18:15:57.138Z"
   },
   {
    "duration": 6,
    "start_time": "2025-02-08T18:15:57.195Z"
   },
   {
    "duration": 5,
    "start_time": "2025-02-08T18:15:57.208Z"
   },
   {
    "duration": 11,
    "start_time": "2025-02-08T18:15:57.214Z"
   },
   {
    "duration": 3,
    "start_time": "2025-02-08T18:15:57.227Z"
   },
   {
    "duration": 4,
    "start_time": "2025-02-08T18:15:57.233Z"
   },
   {
    "duration": 36,
    "start_time": "2025-02-08T18:15:57.238Z"
   },
   {
    "duration": 8,
    "start_time": "2025-02-08T18:15:57.276Z"
   },
   {
    "duration": 13,
    "start_time": "2025-02-08T18:15:57.286Z"
   },
   {
    "duration": 6,
    "start_time": "2025-02-08T18:15:57.301Z"
   },
   {
    "duration": 5,
    "start_time": "2025-02-08T18:15:57.309Z"
   },
   {
    "duration": 7,
    "start_time": "2025-02-08T18:15:57.315Z"
   },
   {
    "duration": 6,
    "start_time": "2025-02-08T18:15:57.324Z"
   },
   {
    "duration": 3,
    "start_time": "2025-02-08T18:15:57.331Z"
   },
   {
    "duration": 14,
    "start_time": "2025-02-08T18:15:57.371Z"
   },
   {
    "duration": 3,
    "start_time": "2025-02-08T18:15:57.386Z"
   },
   {
    "duration": 4,
    "start_time": "2025-02-08T18:15:57.391Z"
   },
   {
    "duration": 11,
    "start_time": "2025-02-08T18:15:57.396Z"
   },
   {
    "duration": 6,
    "start_time": "2025-02-08T18:15:57.409Z"
   },
   {
    "duration": 10,
    "start_time": "2025-02-08T18:15:57.417Z"
   },
   {
    "duration": 47,
    "start_time": "2025-02-08T18:15:57.429Z"
   },
   {
    "duration": 4,
    "start_time": "2025-02-08T18:15:57.477Z"
   },
   {
    "duration": 7,
    "start_time": "2025-02-08T18:15:57.482Z"
   },
   {
    "duration": 3,
    "start_time": "2025-02-08T18:15:57.491Z"
   },
   {
    "duration": 6,
    "start_time": "2025-02-08T18:15:57.496Z"
   },
   {
    "duration": 10,
    "start_time": "2025-02-08T18:15:57.503Z"
   },
   {
    "duration": 4,
    "start_time": "2025-02-08T18:15:57.515Z"
   },
   {
    "duration": 3,
    "start_time": "2025-02-08T18:15:57.521Z"
   },
   {
    "duration": 4,
    "start_time": "2025-02-08T18:15:57.525Z"
   },
   {
    "duration": 48,
    "start_time": "2025-02-08T18:15:57.530Z"
   },
   {
    "duration": 6,
    "start_time": "2025-02-08T18:15:57.580Z"
   },
   {
    "duration": 3,
    "start_time": "2025-02-08T18:15:57.588Z"
   },
   {
    "duration": 11,
    "start_time": "2025-02-08T18:15:57.593Z"
   },
   {
    "duration": 3,
    "start_time": "2025-02-08T18:15:57.606Z"
   },
   {
    "duration": 4,
    "start_time": "2025-02-08T18:15:57.610Z"
   },
   {
    "duration": 12,
    "start_time": "2025-02-08T18:15:57.616Z"
   },
   {
    "duration": 44,
    "start_time": "2025-02-08T18:15:57.629Z"
   },
   {
    "duration": 3,
    "start_time": "2025-02-08T18:15:57.674Z"
   },
   {
    "duration": 3,
    "start_time": "2025-02-08T18:15:57.678Z"
   },
   {
    "duration": 3,
    "start_time": "2025-02-08T18:15:57.683Z"
   },
   {
    "duration": 4,
    "start_time": "2025-02-08T18:15:57.687Z"
   },
   {
    "duration": 3,
    "start_time": "2025-02-08T18:15:57.692Z"
   },
   {
    "duration": 2,
    "start_time": "2025-02-08T18:15:57.697Z"
   },
   {
    "duration": 3,
    "start_time": "2025-02-08T18:15:57.701Z"
   },
   {
    "duration": 3,
    "start_time": "2025-02-08T18:15:57.705Z"
   },
   {
    "duration": 6,
    "start_time": "2025-02-08T18:19:08.882Z"
   },
   {
    "duration": 12,
    "start_time": "2025-02-08T18:19:10.796Z"
   },
   {
    "duration": 754,
    "start_time": "2025-02-08T18:20:01.854Z"
   },
   {
    "duration": 159,
    "start_time": "2025-02-08T18:20:02.611Z"
   },
   {
    "duration": 2,
    "start_time": "2025-02-08T18:20:02.772Z"
   },
   {
    "duration": 12,
    "start_time": "2025-02-08T18:20:02.776Z"
   },
   {
    "duration": 4,
    "start_time": "2025-02-08T18:20:02.791Z"
   },
   {
    "duration": 11,
    "start_time": "2025-02-08T18:20:02.796Z"
   },
   {
    "duration": 5,
    "start_time": "2025-02-08T18:20:02.809Z"
   },
   {
    "duration": 5,
    "start_time": "2025-02-08T18:20:02.815Z"
   },
   {
    "duration": 5,
    "start_time": "2025-02-08T18:20:02.821Z"
   },
   {
    "duration": 44,
    "start_time": "2025-02-08T18:20:02.827Z"
   },
   {
    "duration": 24,
    "start_time": "2025-02-08T18:20:02.873Z"
   },
   {
    "duration": 8,
    "start_time": "2025-02-08T18:20:02.899Z"
   },
   {
    "duration": 23,
    "start_time": "2025-02-08T18:20:02.908Z"
   },
   {
    "duration": 43,
    "start_time": "2025-02-08T18:20:02.936Z"
   },
   {
    "duration": 4,
    "start_time": "2025-02-08T18:20:02.980Z"
   },
   {
    "duration": 3,
    "start_time": "2025-02-08T18:20:02.985Z"
   },
   {
    "duration": 25,
    "start_time": "2025-02-08T18:20:02.990Z"
   },
   {
    "duration": 27,
    "start_time": "2025-02-08T18:20:03.016Z"
   },
   {
    "duration": 64,
    "start_time": "2025-02-08T18:20:03.071Z"
   },
   {
    "duration": 30,
    "start_time": "2025-02-08T18:20:03.140Z"
   },
   {
    "duration": 6,
    "start_time": "2025-02-08T18:20:03.171Z"
   },
   {
    "duration": 9,
    "start_time": "2025-02-08T18:20:03.179Z"
   },
   {
    "duration": 14,
    "start_time": "2025-02-08T18:20:03.190Z"
   },
   {
    "duration": 13,
    "start_time": "2025-02-08T18:20:03.206Z"
   },
   {
    "duration": 51,
    "start_time": "2025-02-08T18:20:03.221Z"
   },
   {
    "duration": 7,
    "start_time": "2025-02-08T18:20:03.274Z"
   },
   {
    "duration": 12,
    "start_time": "2025-02-08T18:20:03.282Z"
   },
   {
    "duration": 19,
    "start_time": "2025-02-08T18:20:03.295Z"
   },
   {
    "duration": 16,
    "start_time": "2025-02-08T18:20:03.316Z"
   },
   {
    "duration": 36,
    "start_time": "2025-02-08T18:20:03.334Z"
   },
   {
    "duration": 10,
    "start_time": "2025-02-08T18:20:03.372Z"
   },
   {
    "duration": 3,
    "start_time": "2025-02-08T18:20:03.384Z"
   },
   {
    "duration": 8,
    "start_time": "2025-02-08T18:20:03.388Z"
   },
   {
    "duration": 13,
    "start_time": "2025-02-08T18:20:03.398Z"
   },
   {
    "duration": 3,
    "start_time": "2025-02-08T18:20:03.413Z"
   },
   {
    "duration": 4,
    "start_time": "2025-02-08T18:20:03.418Z"
   },
   {
    "duration": 8,
    "start_time": "2025-02-08T18:20:03.423Z"
   },
   {
    "duration": 45,
    "start_time": "2025-02-08T18:20:03.432Z"
   },
   {
    "duration": 17,
    "start_time": "2025-02-08T18:20:03.479Z"
   },
   {
    "duration": 7,
    "start_time": "2025-02-08T18:20:03.497Z"
   },
   {
    "duration": 5,
    "start_time": "2025-02-08T18:20:03.510Z"
   },
   {
    "duration": 7,
    "start_time": "2025-02-08T18:20:03.516Z"
   },
   {
    "duration": 3,
    "start_time": "2025-02-08T18:20:03.525Z"
   },
   {
    "duration": 3,
    "start_time": "2025-02-08T18:20:03.530Z"
   },
   {
    "duration": 40,
    "start_time": "2025-02-08T18:20:03.535Z"
   },
   {
    "duration": 8,
    "start_time": "2025-02-08T18:20:03.577Z"
   },
   {
    "duration": 12,
    "start_time": "2025-02-08T18:20:03.586Z"
   },
   {
    "duration": 6,
    "start_time": "2025-02-08T18:20:03.599Z"
   },
   {
    "duration": 6,
    "start_time": "2025-02-08T18:20:03.606Z"
   },
   {
    "duration": 5,
    "start_time": "2025-02-08T18:20:03.614Z"
   },
   {
    "duration": 6,
    "start_time": "2025-02-08T18:20:03.621Z"
   },
   {
    "duration": 43,
    "start_time": "2025-02-08T18:20:03.628Z"
   },
   {
    "duration": 11,
    "start_time": "2025-02-08T18:20:03.673Z"
   },
   {
    "duration": 3,
    "start_time": "2025-02-08T18:20:03.686Z"
   },
   {
    "duration": 5,
    "start_time": "2025-02-08T18:20:03.690Z"
   },
   {
    "duration": 11,
    "start_time": "2025-02-08T18:20:03.696Z"
   },
   {
    "duration": 6,
    "start_time": "2025-02-08T18:20:03.709Z"
   },
   {
    "duration": 12,
    "start_time": "2025-02-08T18:20:03.717Z"
   },
   {
    "duration": 45,
    "start_time": "2025-02-08T18:20:03.731Z"
   },
   {
    "duration": 4,
    "start_time": "2025-02-08T18:20:03.777Z"
   },
   {
    "duration": 8,
    "start_time": "2025-02-08T18:20:03.782Z"
   },
   {
    "duration": 3,
    "start_time": "2025-02-08T18:20:03.791Z"
   },
   {
    "duration": 7,
    "start_time": "2025-02-08T18:20:03.795Z"
   },
   {
    "duration": 10,
    "start_time": "2025-02-08T18:20:03.803Z"
   },
   {
    "duration": 4,
    "start_time": "2025-02-08T18:20:03.815Z"
   },
   {
    "duration": 4,
    "start_time": "2025-02-08T18:20:03.820Z"
   },
   {
    "duration": 3,
    "start_time": "2025-02-08T18:20:03.826Z"
   },
   {
    "duration": 10,
    "start_time": "2025-02-08T18:20:03.870Z"
   },
   {
    "duration": 5,
    "start_time": "2025-02-08T18:20:03.882Z"
   },
   {
    "duration": 3,
    "start_time": "2025-02-08T18:20:03.889Z"
   },
   {
    "duration": 11,
    "start_time": "2025-02-08T18:20:03.893Z"
   },
   {
    "duration": 3,
    "start_time": "2025-02-08T18:20:03.905Z"
   },
   {
    "duration": 3,
    "start_time": "2025-02-08T18:20:03.910Z"
   },
   {
    "duration": 11,
    "start_time": "2025-02-08T18:20:03.915Z"
   },
   {
    "duration": 48,
    "start_time": "2025-02-08T18:20:03.928Z"
   },
   {
    "duration": 2,
    "start_time": "2025-02-08T18:20:03.978Z"
   },
   {
    "duration": 3,
    "start_time": "2025-02-08T18:20:03.982Z"
   },
   {
    "duration": 3,
    "start_time": "2025-02-08T18:20:03.986Z"
   },
   {
    "duration": 3,
    "start_time": "2025-02-08T18:20:03.991Z"
   },
   {
    "duration": 3,
    "start_time": "2025-02-08T18:20:03.995Z"
   },
   {
    "duration": 4,
    "start_time": "2025-02-08T18:20:03.999Z"
   },
   {
    "duration": 4,
    "start_time": "2025-02-08T18:20:04.004Z"
   },
   {
    "duration": 3,
    "start_time": "2025-02-08T18:20:04.009Z"
   },
   {
    "duration": 4,
    "start_time": "2025-02-08T18:24:02.199Z"
   },
   {
    "duration": 12,
    "start_time": "2025-02-08T18:24:07.520Z"
   },
   {
    "duration": 5,
    "start_time": "2025-02-08T18:26:36.414Z"
   },
   {
    "duration": 11,
    "start_time": "2025-02-08T18:26:37.558Z"
   },
   {
    "duration": 19,
    "start_time": "2025-02-08T18:27:19.816Z"
   },
   {
    "duration": 171,
    "start_time": "2025-02-09T20:46:50.533Z"
   },
   {
    "duration": 2582,
    "start_time": "2025-02-09T20:46:57.329Z"
   },
   {
    "duration": 219,
    "start_time": "2025-02-09T20:46:59.913Z"
   },
   {
    "duration": 4,
    "start_time": "2025-02-09T20:47:00.133Z"
   },
   {
    "duration": 13,
    "start_time": "2025-02-09T20:47:00.139Z"
   },
   {
    "duration": 4,
    "start_time": "2025-02-09T20:47:00.153Z"
   },
   {
    "duration": 11,
    "start_time": "2025-02-09T20:47:00.159Z"
   },
   {
    "duration": 4,
    "start_time": "2025-02-09T20:47:00.173Z"
   },
   {
    "duration": 5,
    "start_time": "2025-02-09T20:47:00.179Z"
   },
   {
    "duration": 5,
    "start_time": "2025-02-09T20:47:00.185Z"
   },
   {
    "duration": 11,
    "start_time": "2025-02-09T20:47:00.193Z"
   },
   {
    "duration": 24,
    "start_time": "2025-02-09T20:47:00.206Z"
   },
   {
    "duration": 39,
    "start_time": "2025-02-09T20:47:00.232Z"
   },
   {
    "duration": 16,
    "start_time": "2025-02-09T20:47:00.272Z"
   },
   {
    "duration": 18,
    "start_time": "2025-02-09T20:47:00.289Z"
   },
   {
    "duration": 3,
    "start_time": "2025-02-09T20:47:00.308Z"
   },
   {
    "duration": 3,
    "start_time": "2025-02-09T20:47:00.313Z"
   },
   {
    "duration": 54,
    "start_time": "2025-02-09T20:47:00.318Z"
   },
   {
    "duration": 28,
    "start_time": "2025-02-09T20:47:00.374Z"
   },
   {
    "duration": 48,
    "start_time": "2025-02-09T20:47:00.404Z"
   },
   {
    "duration": 33,
    "start_time": "2025-02-09T20:47:00.454Z"
   },
   {
    "duration": 6,
    "start_time": "2025-02-09T20:47:00.488Z"
   },
   {
    "duration": 10,
    "start_time": "2025-02-09T20:47:00.496Z"
   },
   {
    "duration": 15,
    "start_time": "2025-02-09T20:47:00.507Z"
   },
   {
    "duration": 13,
    "start_time": "2025-02-09T20:47:00.523Z"
   },
   {
    "duration": 50,
    "start_time": "2025-02-09T20:47:00.538Z"
   },
   {
    "duration": 6,
    "start_time": "2025-02-09T20:47:00.590Z"
   },
   {
    "duration": 11,
    "start_time": "2025-02-09T20:47:00.598Z"
   },
   {
    "duration": 18,
    "start_time": "2025-02-09T20:47:00.615Z"
   },
   {
    "duration": 41,
    "start_time": "2025-02-09T20:47:00.635Z"
   },
   {
    "duration": 7,
    "start_time": "2025-02-09T20:47:00.677Z"
   },
   {
    "duration": 11,
    "start_time": "2025-02-09T20:47:00.686Z"
   },
   {
    "duration": 3,
    "start_time": "2025-02-09T20:47:00.700Z"
   },
   {
    "duration": 9,
    "start_time": "2025-02-09T20:47:00.704Z"
   },
   {
    "duration": 12,
    "start_time": "2025-02-09T20:47:00.714Z"
   },
   {
    "duration": 3,
    "start_time": "2025-02-09T20:47:00.727Z"
   },
   {
    "duration": 38,
    "start_time": "2025-02-09T20:47:00.732Z"
   },
   {
    "duration": 7,
    "start_time": "2025-02-09T20:47:00.772Z"
   },
   {
    "duration": 9,
    "start_time": "2025-02-09T20:47:00.780Z"
   },
   {
    "duration": 16,
    "start_time": "2025-02-09T20:47:00.792Z"
   },
   {
    "duration": 10,
    "start_time": "2025-02-09T20:47:00.810Z"
   },
   {
    "duration": 8,
    "start_time": "2025-02-09T20:47:00.822Z"
   },
   {
    "duration": 9,
    "start_time": "2025-02-09T20:47:00.832Z"
   },
   {
    "duration": 28,
    "start_time": "2025-02-09T20:47:00.843Z"
   },
   {
    "duration": 5,
    "start_time": "2025-02-09T20:47:00.872Z"
   },
   {
    "duration": 6,
    "start_time": "2025-02-09T20:47:00.879Z"
   },
   {
    "duration": 7,
    "start_time": "2025-02-09T20:47:00.886Z"
   },
   {
    "duration": 11,
    "start_time": "2025-02-09T20:47:00.895Z"
   },
   {
    "duration": 6,
    "start_time": "2025-02-09T20:47:00.907Z"
   },
   {
    "duration": 6,
    "start_time": "2025-02-09T20:47:00.915Z"
   },
   {
    "duration": 7,
    "start_time": "2025-02-09T20:47:00.923Z"
   },
   {
    "duration": 43,
    "start_time": "2025-02-09T20:47:00.932Z"
   },
   {
    "duration": 3,
    "start_time": "2025-02-09T20:47:00.976Z"
   },
   {
    "duration": 12,
    "start_time": "2025-02-09T20:47:00.981Z"
   },
   {
    "duration": 2,
    "start_time": "2025-02-09T20:47:00.996Z"
   },
   {
    "duration": 4,
    "start_time": "2025-02-09T20:47:01.000Z"
   },
   {
    "duration": 11,
    "start_time": "2025-02-09T20:47:01.005Z"
   },
   {
    "duration": 5,
    "start_time": "2025-02-09T20:47:01.017Z"
   },
   {
    "duration": 46,
    "start_time": "2025-02-09T20:47:01.024Z"
   },
   {
    "duration": 11,
    "start_time": "2025-02-09T20:47:01.072Z"
   },
   {
    "duration": 4,
    "start_time": "2025-02-09T20:47:01.085Z"
   },
   {
    "duration": 10,
    "start_time": "2025-02-09T20:47:01.090Z"
   },
   {
    "duration": 6,
    "start_time": "2025-02-09T20:47:01.102Z"
   },
   {
    "duration": 10,
    "start_time": "2025-02-09T20:47:01.110Z"
   },
   {
    "duration": 5,
    "start_time": "2025-02-09T20:47:01.121Z"
   },
   {
    "duration": 3,
    "start_time": "2025-02-09T20:47:01.129Z"
   },
   {
    "duration": 39,
    "start_time": "2025-02-09T20:47:01.134Z"
   },
   {
    "duration": 12,
    "start_time": "2025-02-09T20:47:01.174Z"
   },
   {
    "duration": 6,
    "start_time": "2025-02-09T20:47:01.188Z"
   },
   {
    "duration": 4,
    "start_time": "2025-02-09T20:47:01.195Z"
   },
   {
    "duration": 11,
    "start_time": "2025-02-09T20:47:01.201Z"
   },
   {
    "duration": 3,
    "start_time": "2025-02-09T20:47:01.215Z"
   },
   {
    "duration": 4,
    "start_time": "2025-02-09T20:47:01.220Z"
   },
   {
    "duration": 49,
    "start_time": "2025-02-09T20:47:01.226Z"
   },
   {
    "duration": 5,
    "start_time": "2025-02-09T20:47:01.277Z"
   },
   {
    "duration": 15,
    "start_time": "2025-02-09T20:47:01.284Z"
   },
   {
    "duration": 2,
    "start_time": "2025-02-09T20:47:01.301Z"
   },
   {
    "duration": 3,
    "start_time": "2025-02-09T20:47:01.305Z"
   },
   {
    "duration": 3,
    "start_time": "2025-02-09T20:47:01.309Z"
   },
   {
    "duration": 3,
    "start_time": "2025-02-09T20:47:01.314Z"
   },
   {
    "duration": 3,
    "start_time": "2025-02-09T20:47:01.318Z"
   },
   {
    "duration": 3,
    "start_time": "2025-02-09T20:47:01.323Z"
   },
   {
    "duration": 3,
    "start_time": "2025-02-09T20:47:01.371Z"
   },
   {
    "duration": 4,
    "start_time": "2025-02-09T20:47:01.376Z"
   },
   {
    "duration": 3,
    "start_time": "2025-02-10T16:03:04.317Z"
   },
   {
    "duration": 184,
    "start_time": "2025-02-10T16:03:17.518Z"
   },
   {
    "duration": 2455,
    "start_time": "2025-02-10T16:03:22.305Z"
   },
   {
    "duration": 208,
    "start_time": "2025-02-10T16:03:24.762Z"
   },
   {
    "duration": 3,
    "start_time": "2025-02-10T16:03:24.972Z"
   },
   {
    "duration": 13,
    "start_time": "2025-02-10T16:03:24.976Z"
   },
   {
    "duration": 4,
    "start_time": "2025-02-10T16:03:24.992Z"
   },
   {
    "duration": 13,
    "start_time": "2025-02-10T16:03:24.997Z"
   },
   {
    "duration": 13,
    "start_time": "2025-02-10T16:03:25.012Z"
   },
   {
    "duration": 4,
    "start_time": "2025-02-10T16:03:25.028Z"
   },
   {
    "duration": 4,
    "start_time": "2025-02-10T16:03:25.033Z"
   },
   {
    "duration": 12,
    "start_time": "2025-02-10T16:03:25.039Z"
   },
   {
    "duration": 24,
    "start_time": "2025-02-10T16:03:25.052Z"
   },
   {
    "duration": 8,
    "start_time": "2025-02-10T16:03:25.078Z"
   },
   {
    "duration": 44,
    "start_time": "2025-02-10T16:03:25.088Z"
   },
   {
    "duration": 18,
    "start_time": "2025-02-10T16:03:25.136Z"
   },
   {
    "duration": 4,
    "start_time": "2025-02-10T16:03:25.155Z"
   },
   {
    "duration": 3,
    "start_time": "2025-02-10T16:03:25.160Z"
   },
   {
    "duration": 24,
    "start_time": "2025-02-10T16:03:25.165Z"
   },
   {
    "duration": 54,
    "start_time": "2025-02-10T16:03:25.191Z"
   },
   {
    "duration": 43,
    "start_time": "2025-02-10T16:03:25.247Z"
   },
   {
    "duration": 39,
    "start_time": "2025-02-10T16:03:25.292Z"
   },
   {
    "duration": 8,
    "start_time": "2025-02-10T16:03:25.333Z"
   },
   {
    "duration": 9,
    "start_time": "2025-02-10T16:03:25.344Z"
   },
   {
    "duration": 14,
    "start_time": "2025-02-10T16:03:25.354Z"
   },
   {
    "duration": 11,
    "start_time": "2025-02-10T16:03:25.370Z"
   },
   {
    "duration": 46,
    "start_time": "2025-02-10T16:03:25.383Z"
   },
   {
    "duration": 7,
    "start_time": "2025-02-10T16:03:25.431Z"
   },
   {
    "duration": 12,
    "start_time": "2025-02-10T16:03:25.439Z"
   },
   {
    "duration": 24,
    "start_time": "2025-02-10T16:03:25.452Z"
   },
   {
    "duration": 18,
    "start_time": "2025-02-10T16:03:25.477Z"
   },
   {
    "duration": 8,
    "start_time": "2025-02-10T16:03:25.524Z"
   },
   {
    "duration": 10,
    "start_time": "2025-02-10T16:03:25.534Z"
   },
   {
    "duration": 3,
    "start_time": "2025-02-10T16:03:25.546Z"
   },
   {
    "duration": 7,
    "start_time": "2025-02-10T16:03:25.551Z"
   },
   {
    "duration": 11,
    "start_time": "2025-02-10T16:03:25.560Z"
   },
   {
    "duration": 3,
    "start_time": "2025-02-10T16:03:25.573Z"
   },
   {
    "duration": 4,
    "start_time": "2025-02-10T16:03:25.578Z"
   },
   {
    "duration": 43,
    "start_time": "2025-02-10T16:03:25.583Z"
   },
   {
    "duration": 9,
    "start_time": "2025-02-10T16:03:25.627Z"
   },
   {
    "duration": 15,
    "start_time": "2025-02-10T16:03:25.638Z"
   },
   {
    "duration": 6,
    "start_time": "2025-02-10T16:03:25.655Z"
   },
   {
    "duration": 6,
    "start_time": "2025-02-10T16:03:25.667Z"
   },
   {
    "duration": 8,
    "start_time": "2025-02-10T16:03:25.674Z"
   },
   {
    "duration": 3,
    "start_time": "2025-02-10T16:03:25.683Z"
   },
   {
    "duration": 38,
    "start_time": "2025-02-10T16:03:25.688Z"
   },
   {
    "duration": 7,
    "start_time": "2025-02-10T16:03:25.727Z"
   },
   {
    "duration": 7,
    "start_time": "2025-02-10T16:03:25.735Z"
   },
   {
    "duration": 12,
    "start_time": "2025-02-10T16:03:25.743Z"
   },
   {
    "duration": 6,
    "start_time": "2025-02-10T16:03:25.757Z"
   },
   {
    "duration": 6,
    "start_time": "2025-02-10T16:03:25.767Z"
   },
   {
    "duration": 6,
    "start_time": "2025-02-10T16:03:25.774Z"
   },
   {
    "duration": 42,
    "start_time": "2025-02-10T16:03:25.781Z"
   },
   {
    "duration": 3,
    "start_time": "2025-02-10T16:03:25.825Z"
   },
   {
    "duration": 12,
    "start_time": "2025-02-10T16:03:25.829Z"
   },
   {
    "duration": 4,
    "start_time": "2025-02-10T16:03:25.843Z"
   },
   {
    "duration": 5,
    "start_time": "2025-02-10T16:03:25.849Z"
   },
   {
    "duration": 10,
    "start_time": "2025-02-10T16:03:25.856Z"
   },
   {
    "duration": 7,
    "start_time": "2025-02-10T16:03:25.867Z"
   },
   {
    "duration": 10,
    "start_time": "2025-02-10T16:03:25.875Z"
   },
   {
    "duration": 39,
    "start_time": "2025-02-10T16:03:25.887Z"
   },
   {
    "duration": 4,
    "start_time": "2025-02-10T16:03:25.928Z"
   },
   {
    "duration": 7,
    "start_time": "2025-02-10T16:03:25.933Z"
   },
   {
    "duration": 5,
    "start_time": "2025-02-10T16:03:25.942Z"
   },
   {
    "duration": 9,
    "start_time": "2025-02-10T16:03:25.949Z"
   },
   {
    "duration": 4,
    "start_time": "2025-02-10T16:03:25.960Z"
   },
   {
    "duration": 3,
    "start_time": "2025-02-10T16:03:25.966Z"
   },
   {
    "duration": 4,
    "start_time": "2025-02-10T16:03:25.970Z"
   },
   {
    "duration": 51,
    "start_time": "2025-02-10T16:03:25.975Z"
   },
   {
    "duration": 5,
    "start_time": "2025-02-10T16:03:26.028Z"
   },
   {
    "duration": 3,
    "start_time": "2025-02-10T16:03:26.035Z"
   },
   {
    "duration": 10,
    "start_time": "2025-02-10T16:03:26.041Z"
   },
   {
    "duration": 3,
    "start_time": "2025-02-10T16:03:26.053Z"
   },
   {
    "duration": 3,
    "start_time": "2025-02-10T16:03:26.058Z"
   },
   {
    "duration": 11,
    "start_time": "2025-02-10T16:03:26.063Z"
   },
   {
    "duration": 5,
    "start_time": "2025-02-10T16:03:26.076Z"
   },
   {
    "duration": 53,
    "start_time": "2025-02-10T16:03:26.082Z"
   },
   {
    "duration": 2,
    "start_time": "2025-02-10T16:03:26.137Z"
   },
   {
    "duration": 2,
    "start_time": "2025-02-10T16:03:26.141Z"
   },
   {
    "duration": 3,
    "start_time": "2025-02-10T16:03:26.145Z"
   },
   {
    "duration": 4,
    "start_time": "2025-02-10T16:03:26.149Z"
   },
   {
    "duration": 3,
    "start_time": "2025-02-10T16:03:26.155Z"
   },
   {
    "duration": 3,
    "start_time": "2025-02-10T16:03:26.159Z"
   },
   {
    "duration": 3,
    "start_time": "2025-02-10T16:03:26.164Z"
   },
   {
    "duration": 2,
    "start_time": "2025-02-10T16:03:26.170Z"
   },
   {
    "duration": 4,
    "start_time": "2025-02-10T16:10:02.828Z"
   },
   {
    "duration": 4,
    "start_time": "2025-02-10T16:10:05.329Z"
   },
   {
    "duration": 13,
    "start_time": "2025-02-10T16:10:07.715Z"
   },
   {
    "duration": 6,
    "start_time": "2025-02-10T16:10:34.961Z"
   },
   {
    "duration": 12,
    "start_time": "2025-02-10T16:11:08.354Z"
   },
   {
    "duration": 8,
    "start_time": "2025-02-10T16:18:01.666Z"
   },
   {
    "duration": 46,
    "start_time": "2025-02-10T16:20:09.500Z"
   },
   {
    "duration": 41,
    "start_time": "2025-02-10T16:24:57.186Z"
   },
   {
    "duration": 743,
    "start_time": "2025-02-10T16:25:40.614Z"
   },
   {
    "duration": 157,
    "start_time": "2025-02-10T16:25:41.361Z"
   },
   {
    "duration": 3,
    "start_time": "2025-02-10T16:25:41.519Z"
   },
   {
    "duration": 13,
    "start_time": "2025-02-10T16:25:41.524Z"
   },
   {
    "duration": 5,
    "start_time": "2025-02-10T16:25:41.539Z"
   },
   {
    "duration": 11,
    "start_time": "2025-02-10T16:25:41.545Z"
   },
   {
    "duration": 5,
    "start_time": "2025-02-10T16:25:41.558Z"
   },
   {
    "duration": 5,
    "start_time": "2025-02-10T16:25:41.565Z"
   },
   {
    "duration": 12,
    "start_time": "2025-02-10T16:25:41.571Z"
   },
   {
    "duration": 56,
    "start_time": "2025-02-10T16:25:41.585Z"
   },
   {
    "duration": 8,
    "start_time": "2025-02-10T16:25:41.643Z"
   },
   {
    "duration": 15,
    "start_time": "2025-02-10T16:25:41.652Z"
   },
   {
    "duration": 3,
    "start_time": "2025-02-10T16:25:41.669Z"
   },
   {
    "duration": 7,
    "start_time": "2025-02-10T16:25:41.675Z"
   },
   {
    "duration": 3,
    "start_time": "2025-02-10T16:25:41.684Z"
   },
   {
    "duration": 58,
    "start_time": "2025-02-10T16:25:41.689Z"
   },
   {
    "duration": 35,
    "start_time": "2025-02-10T16:25:41.749Z"
   },
   {
    "duration": 45,
    "start_time": "2025-02-10T16:25:53.415Z"
   },
   {
    "duration": 18,
    "start_time": "2025-02-10T16:26:23.705Z"
   },
   {
    "duration": 7,
    "start_time": "2025-02-10T16:26:27.051Z"
   },
   {
    "duration": 14,
    "start_time": "2025-02-10T16:26:32.609Z"
   },
   {
    "duration": 28,
    "start_time": "2025-02-10T16:26:34.407Z"
   },
   {
    "duration": 16,
    "start_time": "2025-02-10T16:27:05.838Z"
   },
   {
    "duration": 21,
    "start_time": "2025-02-10T16:27:58.613Z"
   },
   {
    "duration": 8,
    "start_time": "2025-02-10T16:28:01.530Z"
   },
   {
    "duration": 12,
    "start_time": "2025-02-10T16:28:38.983Z"
   },
   {
    "duration": 32,
    "start_time": "2025-02-10T16:28:57.820Z"
   },
   {
    "duration": 16,
    "start_time": "2025-02-10T16:32:46.879Z"
   },
   {
    "duration": 8,
    "start_time": "2025-02-10T16:32:51.325Z"
   },
   {
    "duration": 12,
    "start_time": "2025-02-10T16:33:46.315Z"
   },
   {
    "duration": 3,
    "start_time": "2025-02-10T16:34:11.661Z"
   },
   {
    "duration": 10,
    "start_time": "2025-02-10T16:34:12.768Z"
   },
   {
    "duration": 11,
    "start_time": "2025-02-10T16:34:13.209Z"
   },
   {
    "duration": 3,
    "start_time": "2025-02-10T16:34:13.564Z"
   },
   {
    "duration": 4,
    "start_time": "2025-02-10T16:34:13.884Z"
   },
   {
    "duration": 7,
    "start_time": "2025-02-10T16:34:16.342Z"
   },
   {
    "duration": 9,
    "start_time": "2025-02-10T16:38:59.757Z"
   },
   {
    "duration": 11,
    "start_time": "2025-02-10T16:39:41.687Z"
   },
   {
    "duration": 17,
    "start_time": "2025-02-10T16:40:02.339Z"
   },
   {
    "duration": 374,
    "start_time": "2025-02-10T16:40:38.070Z"
   },
   {
    "duration": 14,
    "start_time": "2025-02-10T16:40:45.717Z"
   },
   {
    "duration": 18,
    "start_time": "2025-02-10T16:42:28.693Z"
   },
   {
    "duration": 8,
    "start_time": "2025-02-10T16:43:35.810Z"
   },
   {
    "duration": 14,
    "start_time": "2025-02-10T16:43:40.868Z"
   },
   {
    "duration": 17,
    "start_time": "2025-02-10T16:44:32.526Z"
   },
   {
    "duration": 6,
    "start_time": "2025-02-10T16:44:32.962Z"
   },
   {
    "duration": 6,
    "start_time": "2025-02-10T16:45:27.445Z"
   },
   {
    "duration": 6,
    "start_time": "2025-02-10T16:46:08.917Z"
   },
   {
    "duration": 7,
    "start_time": "2025-02-10T16:46:28.602Z"
   },
   {
    "duration": 6,
    "start_time": "2025-02-10T16:46:40.061Z"
   },
   {
    "duration": 6,
    "start_time": "2025-02-10T16:48:19.583Z"
   },
   {
    "duration": 8,
    "start_time": "2025-02-10T16:48:46.524Z"
   },
   {
    "duration": 12,
    "start_time": "2025-02-10T16:48:59.626Z"
   },
   {
    "duration": 7,
    "start_time": "2025-02-10T16:49:00.656Z"
   },
   {
    "duration": 6,
    "start_time": "2025-02-10T16:57:48.700Z"
   },
   {
    "duration": 5,
    "start_time": "2025-02-10T16:58:26.825Z"
   },
   {
    "duration": 8,
    "start_time": "2025-02-10T16:58:28.944Z"
   },
   {
    "duration": 7,
    "start_time": "2025-02-10T16:58:29.298Z"
   },
   {
    "duration": 12,
    "start_time": "2025-02-10T16:58:56.642Z"
   },
   {
    "duration": 3,
    "start_time": "2025-02-10T17:03:18.082Z"
   },
   {
    "duration": 12,
    "start_time": "2025-02-10T17:04:00.110Z"
   },
   {
    "duration": 3,
    "start_time": "2025-02-10T17:04:32.321Z"
   },
   {
    "duration": 5,
    "start_time": "2025-02-10T17:05:39.447Z"
   },
   {
    "duration": 12,
    "start_time": "2025-02-10T17:06:39.461Z"
   },
   {
    "duration": 6,
    "start_time": "2025-02-10T17:07:27.533Z"
   },
   {
    "duration": 13,
    "start_time": "2025-02-10T17:07:27.967Z"
   },
   {
    "duration": 8,
    "start_time": "2025-02-10T17:10:24.135Z"
   },
   {
    "duration": 2,
    "start_time": "2025-02-10T17:13:53.809Z"
   },
   {
    "duration": 8,
    "start_time": "2025-02-10T17:13:55.554Z"
   },
   {
    "duration": 8,
    "start_time": "2025-02-10T17:14:57.916Z"
   },
   {
    "duration": 6,
    "start_time": "2025-02-10T17:15:46.372Z"
   },
   {
    "duration": 10,
    "start_time": "2025-02-10T17:15:46.656Z"
   },
   {
    "duration": 11,
    "start_time": "2025-02-10T17:18:04.532Z"
   },
   {
    "duration": 11,
    "start_time": "2025-02-10T17:27:50.064Z"
   },
   {
    "duration": 7,
    "start_time": "2025-02-10T17:28:49.572Z"
   },
   {
    "duration": 11,
    "start_time": "2025-02-10T17:29:05.082Z"
   },
   {
    "duration": 11,
    "start_time": "2025-02-10T17:33:56.221Z"
   },
   {
    "duration": 3,
    "start_time": "2025-02-10T17:35:18.243Z"
   },
   {
    "duration": 14,
    "start_time": "2025-02-10T17:35:18.511Z"
   },
   {
    "duration": 12,
    "start_time": "2025-02-10T17:38:42.174Z"
   },
   {
    "duration": 4,
    "start_time": "2025-02-10T17:40:29.571Z"
   },
   {
    "duration": 4,
    "start_time": "2025-02-10T17:41:24.429Z"
   },
   {
    "duration": 14,
    "start_time": "2025-02-10T17:41:25.076Z"
   },
   {
    "duration": 5,
    "start_time": "2025-02-10T17:43:32.351Z"
   },
   {
    "duration": 15,
    "start_time": "2025-02-10T17:43:32.718Z"
   },
   {
    "duration": 5,
    "start_time": "2025-02-10T17:53:07.853Z"
   },
   {
    "duration": 14,
    "start_time": "2025-02-10T17:54:34.170Z"
   },
   {
    "duration": 3,
    "start_time": "2025-02-10T17:55:15.106Z"
   },
   {
    "duration": 4,
    "start_time": "2025-02-10T21:25:12.877Z"
   },
   {
    "duration": 8,
    "start_time": "2025-02-10T21:25:43.142Z"
   },
   {
    "duration": 7,
    "start_time": "2025-02-10T21:26:22.470Z"
   },
   {
    "duration": 7,
    "start_time": "2025-02-10T21:29:07.796Z"
   },
   {
    "duration": 7,
    "start_time": "2025-02-10T21:35:19.006Z"
   },
   {
    "duration": 111,
    "start_time": "2025-02-10T21:55:47.091Z"
   },
   {
    "duration": 49,
    "start_time": "2025-02-10T22:00:20.655Z"
   },
   {
    "duration": 14,
    "start_time": "2025-02-10T22:01:15.833Z"
   },
   {
    "duration": 822,
    "start_time": "2025-02-10T22:01:47.044Z"
   },
   {
    "duration": 162,
    "start_time": "2025-02-10T22:01:47.868Z"
   },
   {
    "duration": 4,
    "start_time": "2025-02-10T22:01:48.032Z"
   },
   {
    "duration": 13,
    "start_time": "2025-02-10T22:01:48.038Z"
   },
   {
    "duration": 5,
    "start_time": "2025-02-10T22:01:48.052Z"
   },
   {
    "duration": 10,
    "start_time": "2025-02-10T22:01:48.059Z"
   },
   {
    "duration": 5,
    "start_time": "2025-02-10T22:01:48.071Z"
   },
   {
    "duration": 5,
    "start_time": "2025-02-10T22:01:48.078Z"
   },
   {
    "duration": 12,
    "start_time": "2025-02-10T22:01:48.084Z"
   },
   {
    "duration": 26,
    "start_time": "2025-02-10T22:01:48.127Z"
   },
   {
    "duration": 8,
    "start_time": "2025-02-10T22:01:48.155Z"
   },
   {
    "duration": 15,
    "start_time": "2025-02-10T22:01:48.164Z"
   },
   {
    "duration": 3,
    "start_time": "2025-02-10T22:01:48.181Z"
   },
   {
    "duration": 38,
    "start_time": "2025-02-10T22:01:48.186Z"
   },
   {
    "duration": 3,
    "start_time": "2025-02-10T22:01:48.227Z"
   },
   {
    "duration": 26,
    "start_time": "2025-02-10T22:01:48.232Z"
   },
   {
    "duration": 37,
    "start_time": "2025-02-10T22:01:48.259Z"
   },
   {
    "duration": 83,
    "start_time": "2025-02-10T22:01:48.298Z"
   },
   {
    "duration": 17,
    "start_time": "2025-02-10T22:01:48.383Z"
   },
   {
    "duration": 21,
    "start_time": "2025-02-10T22:01:48.402Z"
   },
   {
    "duration": 9,
    "start_time": "2025-02-10T22:01:48.426Z"
   },
   {
    "duration": 24,
    "start_time": "2025-02-10T22:01:48.437Z"
   },
   {
    "duration": 13,
    "start_time": "2025-02-10T22:01:48.463Z"
   },
   {
    "duration": 48,
    "start_time": "2025-02-10T22:01:48.478Z"
   },
   {
    "duration": 7,
    "start_time": "2025-02-10T22:01:48.528Z"
   },
   {
    "duration": 13,
    "start_time": "2025-02-10T22:01:48.537Z"
   },
   {
    "duration": 36,
    "start_time": "2025-02-10T22:01:48.551Z"
   },
   {
    "duration": 40,
    "start_time": "2025-02-10T22:01:48.593Z"
   },
   {
    "duration": 8,
    "start_time": "2025-02-10T22:01:48.635Z"
   },
   {
    "duration": 11,
    "start_time": "2025-02-10T22:01:48.645Z"
   },
   {
    "duration": 3,
    "start_time": "2025-02-10T22:01:48.658Z"
   },
   {
    "duration": 7,
    "start_time": "2025-02-10T22:01:48.663Z"
   },
   {
    "duration": 8,
    "start_time": "2025-02-10T22:01:48.671Z"
   },
   {
    "duration": 46,
    "start_time": "2025-02-10T22:01:48.681Z"
   },
   {
    "duration": 15,
    "start_time": "2025-02-10T22:01:48.729Z"
   },
   {
    "duration": 7,
    "start_time": "2025-02-10T22:01:48.746Z"
   },
   {
    "duration": 6,
    "start_time": "2025-02-10T22:01:48.754Z"
   },
   {
    "duration": 8,
    "start_time": "2025-02-10T22:01:48.761Z"
   },
   {
    "duration": 6,
    "start_time": "2025-02-10T22:01:48.770Z"
   },
   {
    "duration": 8,
    "start_time": "2025-02-10T22:01:48.777Z"
   },
   {
    "duration": 43,
    "start_time": "2025-02-10T22:01:48.786Z"
   },
   {
    "duration": 7,
    "start_time": "2025-02-10T22:01:48.831Z"
   },
   {
    "duration": 5,
    "start_time": "2025-02-10T22:01:48.839Z"
   },
   {
    "duration": 6,
    "start_time": "2025-02-10T22:01:48.846Z"
   },
   {
    "duration": 5,
    "start_time": "2025-02-10T22:01:48.854Z"
   },
   {
    "duration": 12,
    "start_time": "2025-02-10T22:01:48.861Z"
   },
   {
    "duration": 3,
    "start_time": "2025-02-10T22:01:48.874Z"
   },
   {
    "duration": 51,
    "start_time": "2025-02-10T22:01:48.878Z"
   },
   {
    "duration": 3,
    "start_time": "2025-02-10T22:01:48.930Z"
   },
   {
    "duration": 4,
    "start_time": "2025-02-10T22:01:48.935Z"
   },
   {
    "duration": 10,
    "start_time": "2025-02-10T22:01:48.941Z"
   },
   {
    "duration": 6,
    "start_time": "2025-02-10T22:01:48.953Z"
   },
   {
    "duration": 11,
    "start_time": "2025-02-10T22:01:48.962Z"
   },
   {
    "duration": 7,
    "start_time": "2025-02-10T22:01:48.974Z"
   },
   {
    "duration": 3,
    "start_time": "2025-02-10T22:01:48.983Z"
   },
   {
    "duration": 9,
    "start_time": "2025-02-10T22:01:49.024Z"
   },
   {
    "duration": 5,
    "start_time": "2025-02-10T22:01:49.035Z"
   },
   {
    "duration": 11,
    "start_time": "2025-02-10T22:01:49.042Z"
   },
   {
    "duration": 6,
    "start_time": "2025-02-10T22:01:49.054Z"
   },
   {
    "duration": 12,
    "start_time": "2025-02-10T22:01:49.062Z"
   },
   {
    "duration": 6,
    "start_time": "2025-02-10T22:01:49.076Z"
   },
   {
    "duration": 47,
    "start_time": "2025-02-10T22:01:49.083Z"
   },
   {
    "duration": 4,
    "start_time": "2025-02-10T22:01:49.132Z"
   },
   {
    "duration": 12,
    "start_time": "2025-02-10T22:01:49.137Z"
   },
   {
    "duration": 3,
    "start_time": "2025-02-10T22:01:49.150Z"
   },
   {
    "duration": 3,
    "start_time": "2025-02-10T22:01:49.155Z"
   },
   {
    "duration": 12,
    "start_time": "2025-02-10T22:01:49.160Z"
   },
   {
    "duration": 5,
    "start_time": "2025-02-10T22:01:49.173Z"
   },
   {
    "duration": 48,
    "start_time": "2025-02-10T22:01:49.179Z"
   },
   {
    "duration": 5,
    "start_time": "2025-02-10T22:01:49.229Z"
   },
   {
    "duration": 3,
    "start_time": "2025-02-10T22:01:49.236Z"
   },
   {
    "duration": 225,
    "start_time": "2025-02-10T22:01:52.039Z"
   },
   {
    "duration": 15,
    "start_time": "2025-02-10T22:02:34.503Z"
   },
   {
    "duration": 15,
    "start_time": "2025-02-10T22:03:00.315Z"
   },
   {
    "duration": 3,
    "start_time": "2025-02-10T22:04:34.899Z"
   },
   {
    "duration": 7,
    "start_time": "2025-02-10T22:05:52.819Z"
   },
   {
    "duration": 15,
    "start_time": "2025-02-10T22:07:59.509Z"
   },
   {
    "duration": 250,
    "start_time": "2025-02-10T22:13:31.095Z"
   },
   {
    "duration": 8,
    "start_time": "2025-02-10T22:18:53.002Z"
   },
   {
    "duration": 201,
    "start_time": "2025-02-10T22:27:02.375Z"
   },
   {
    "duration": 635,
    "start_time": "2025-02-10T22:27:28.362Z"
   },
   {
    "duration": 340,
    "start_time": "2025-02-10T22:28:38.713Z"
   },
   {
    "duration": 329,
    "start_time": "2025-02-10T22:32:21.215Z"
   },
   {
    "duration": 201,
    "start_time": "2025-02-10T22:32:32.172Z"
   },
   {
    "duration": 8,
    "start_time": "2025-02-10T22:33:15.008Z"
   },
   {
    "duration": 275,
    "start_time": "2025-02-10T22:58:40.957Z"
   },
   {
    "duration": 319,
    "start_time": "2025-02-10T23:00:06.125Z"
   },
   {
    "duration": 2,
    "start_time": "2025-02-10T23:01:23.570Z"
   },
   {
    "duration": 325,
    "start_time": "2025-02-10T23:23:35.706Z"
   },
   {
    "duration": 2,
    "start_time": "2025-02-10T23:27:53.600Z"
   },
   {
    "duration": 112,
    "start_time": "2025-02-10T23:51:56.566Z"
   },
   {
    "duration": 17,
    "start_time": "2025-02-10T23:52:10.236Z"
   },
   {
    "duration": 7,
    "start_time": "2025-02-10T23:52:31.365Z"
   },
   {
    "duration": 15,
    "start_time": "2025-02-10T23:55:27.420Z"
   },
   {
    "duration": 7,
    "start_time": "2025-02-10T23:55:35.026Z"
   },
   {
    "duration": 18,
    "start_time": "2025-02-11T00:01:47.749Z"
   },
   {
    "duration": 15,
    "start_time": "2025-02-11T00:03:02.381Z"
   },
   {
    "duration": 7,
    "start_time": "2025-02-11T00:03:08.491Z"
   },
   {
    "duration": 337,
    "start_time": "2025-02-11T00:04:41.997Z"
   },
   {
    "duration": 11,
    "start_time": "2025-02-11T00:05:10.064Z"
   },
   {
    "duration": 10,
    "start_time": "2025-02-11T00:05:33.765Z"
   },
   {
    "duration": 169,
    "start_time": "2025-02-11T00:05:56.045Z"
   },
   {
    "duration": 185,
    "start_time": "2025-02-11T00:08:28.147Z"
   },
   {
    "duration": 183,
    "start_time": "2025-02-11T00:08:37.790Z"
   },
   {
    "duration": 233,
    "start_time": "2025-02-11T00:08:52.177Z"
   },
   {
    "duration": 11,
    "start_time": "2025-02-11T00:10:35.390Z"
   },
   {
    "duration": 193,
    "start_time": "2025-02-11T00:12:11.250Z"
   },
   {
    "duration": 185,
    "start_time": "2025-02-11T00:12:34.914Z"
   },
   {
    "duration": 78,
    "start_time": "2025-02-11T00:13:53.265Z"
   },
   {
    "duration": 805,
    "start_time": "2025-02-11T00:14:23.437Z"
   },
   {
    "duration": 151,
    "start_time": "2025-02-11T00:14:24.245Z"
   },
   {
    "duration": 2,
    "start_time": "2025-02-11T00:14:24.398Z"
   },
   {
    "duration": 12,
    "start_time": "2025-02-11T00:14:24.403Z"
   },
   {
    "duration": 9,
    "start_time": "2025-02-11T00:14:24.417Z"
   },
   {
    "duration": 13,
    "start_time": "2025-02-11T00:14:24.427Z"
   },
   {
    "duration": 5,
    "start_time": "2025-02-11T00:14:24.441Z"
   },
   {
    "duration": 5,
    "start_time": "2025-02-11T00:14:24.448Z"
   },
   {
    "duration": 12,
    "start_time": "2025-02-11T00:14:24.455Z"
   },
   {
    "duration": 57,
    "start_time": "2025-02-11T00:14:24.470Z"
   },
   {
    "duration": 8,
    "start_time": "2025-02-11T00:14:24.528Z"
   },
   {
    "duration": 15,
    "start_time": "2025-02-11T00:14:24.537Z"
   },
   {
    "duration": 3,
    "start_time": "2025-02-11T00:14:24.553Z"
   },
   {
    "duration": 7,
    "start_time": "2025-02-11T00:14:24.558Z"
   },
   {
    "duration": 4,
    "start_time": "2025-02-11T00:14:24.566Z"
   },
   {
    "duration": 57,
    "start_time": "2025-02-11T00:14:24.571Z"
   },
   {
    "duration": 32,
    "start_time": "2025-02-11T00:14:24.630Z"
   },
   {
    "duration": 44,
    "start_time": "2025-02-11T00:14:24.663Z"
   },
   {
    "duration": 17,
    "start_time": "2025-02-11T00:14:24.723Z"
   },
   {
    "duration": 6,
    "start_time": "2025-02-11T00:14:24.742Z"
   },
   {
    "duration": 9,
    "start_time": "2025-02-11T00:14:24.750Z"
   },
   {
    "duration": 24,
    "start_time": "2025-02-11T00:14:24.760Z"
   },
   {
    "duration": 46,
    "start_time": "2025-02-11T00:14:24.786Z"
   },
   {
    "duration": 22,
    "start_time": "2025-02-11T00:14:24.833Z"
   },
   {
    "duration": 6,
    "start_time": "2025-02-11T00:14:24.857Z"
   },
   {
    "duration": 11,
    "start_time": "2025-02-11T00:14:24.865Z"
   },
   {
    "duration": 53,
    "start_time": "2025-02-11T00:14:24.878Z"
   },
   {
    "duration": 15,
    "start_time": "2025-02-11T00:14:24.936Z"
   },
   {
    "duration": 7,
    "start_time": "2025-02-11T00:14:24.953Z"
   },
   {
    "duration": 10,
    "start_time": "2025-02-11T00:14:24.962Z"
   },
   {
    "duration": 3,
    "start_time": "2025-02-11T00:14:24.974Z"
   },
   {
    "duration": 7,
    "start_time": "2025-02-11T00:14:24.979Z"
   },
   {
    "duration": 38,
    "start_time": "2025-02-11T00:14:24.987Z"
   },
   {
    "duration": 16,
    "start_time": "2025-02-11T00:14:25.026Z"
   },
   {
    "duration": 15,
    "start_time": "2025-02-11T00:14:25.045Z"
   },
   {
    "duration": 7,
    "start_time": "2025-02-11T00:14:25.062Z"
   },
   {
    "duration": 6,
    "start_time": "2025-02-11T00:14:25.070Z"
   },
   {
    "duration": 8,
    "start_time": "2025-02-11T00:14:25.078Z"
   },
   {
    "duration": 5,
    "start_time": "2025-02-11T00:14:25.088Z"
   },
   {
    "duration": 7,
    "start_time": "2025-02-11T00:14:25.124Z"
   },
   {
    "duration": 11,
    "start_time": "2025-02-11T00:14:25.134Z"
   },
   {
    "duration": 6,
    "start_time": "2025-02-11T00:14:25.147Z"
   },
   {
    "duration": 6,
    "start_time": "2025-02-11T00:14:25.155Z"
   },
   {
    "duration": 6,
    "start_time": "2025-02-11T00:14:25.162Z"
   },
   {
    "duration": 7,
    "start_time": "2025-02-11T00:14:25.169Z"
   },
   {
    "duration": 11,
    "start_time": "2025-02-11T00:14:25.177Z"
   },
   {
    "duration": 3,
    "start_time": "2025-02-11T00:14:25.224Z"
   },
   {
    "duration": 12,
    "start_time": "2025-02-11T00:14:25.229Z"
   },
   {
    "duration": 3,
    "start_time": "2025-02-11T00:14:25.243Z"
   },
   {
    "duration": 4,
    "start_time": "2025-02-11T00:14:25.247Z"
   },
   {
    "duration": 10,
    "start_time": "2025-02-11T00:14:25.253Z"
   },
   {
    "duration": 5,
    "start_time": "2025-02-11T00:14:25.264Z"
   },
   {
    "duration": 10,
    "start_time": "2025-02-11T00:14:25.271Z"
   },
   {
    "duration": 46,
    "start_time": "2025-02-11T00:14:25.283Z"
   },
   {
    "duration": 3,
    "start_time": "2025-02-11T00:14:25.331Z"
   },
   {
    "duration": 7,
    "start_time": "2025-02-11T00:14:25.336Z"
   },
   {
    "duration": 5,
    "start_time": "2025-02-11T00:14:25.345Z"
   },
   {
    "duration": 10,
    "start_time": "2025-02-11T00:14:25.352Z"
   },
   {
    "duration": 5,
    "start_time": "2025-02-11T00:14:25.363Z"
   },
   {
    "duration": 11,
    "start_time": "2025-02-11T00:14:25.370Z"
   },
   {
    "duration": 45,
    "start_time": "2025-02-11T00:14:25.383Z"
   },
   {
    "duration": 10,
    "start_time": "2025-02-11T00:14:25.430Z"
   },
   {
    "duration": 3,
    "start_time": "2025-02-11T00:14:25.441Z"
   },
   {
    "duration": 11,
    "start_time": "2025-02-11T00:14:25.446Z"
   },
   {
    "duration": 3,
    "start_time": "2025-02-11T00:14:25.458Z"
   },
   {
    "duration": 3,
    "start_time": "2025-02-11T00:14:25.463Z"
   },
   {
    "duration": 12,
    "start_time": "2025-02-11T00:14:25.467Z"
   },
   {
    "duration": 5,
    "start_time": "2025-02-11T00:14:25.480Z"
   },
   {
    "duration": 52,
    "start_time": "2025-02-11T00:14:25.486Z"
   },
   {
    "duration": 4,
    "start_time": "2025-02-11T00:14:25.540Z"
   },
   {
    "duration": 3,
    "start_time": "2025-02-11T00:14:25.545Z"
   },
   {
    "duration": 13,
    "start_time": "2025-02-11T00:14:25.550Z"
   },
   {
    "duration": 212,
    "start_time": "2025-02-11T00:14:25.565Z"
   },
   {
    "duration": 325,
    "start_time": "2025-02-11T00:14:27.851Z"
   },
   {
    "duration": 19,
    "start_time": "2025-02-11T00:15:21.477Z"
   },
   {
    "duration": 19,
    "start_time": "2025-02-11T00:15:28.265Z"
   },
   {
    "duration": 437,
    "start_time": "2025-02-11T00:15:44.796Z"
   },
   {
    "duration": 10,
    "start_time": "2025-02-11T00:17:14.947Z"
   },
   {
    "duration": 206,
    "start_time": "2025-02-11T00:17:18.669Z"
   },
   {
    "duration": 11,
    "start_time": "2025-02-11T00:17:26.547Z"
   },
   {
    "duration": 184,
    "start_time": "2025-02-11T00:18:17.943Z"
   },
   {
    "duration": 3,
    "start_time": "2025-02-11T00:24:01.026Z"
   },
   {
    "duration": 230,
    "start_time": "2025-02-11T03:46:28.871Z"
   },
   {
    "duration": 15,
    "start_time": "2025-02-11T03:51:26.043Z"
   },
   {
    "duration": 106,
    "start_time": "2025-02-11T03:52:22.463Z"
   },
   {
    "duration": 53,
    "start_time": "2025-02-11T03:53:09.087Z"
   },
   {
    "duration": 15,
    "start_time": "2025-02-11T03:53:57.998Z"
   },
   {
    "duration": 54,
    "start_time": "2025-02-11T03:54:15.901Z"
   },
   {
    "duration": 61,
    "start_time": "2025-02-11T03:54:44.903Z"
   },
   {
    "duration": 53,
    "start_time": "2025-02-11T03:55:03.449Z"
   },
   {
    "duration": 51,
    "start_time": "2025-02-11T03:56:30.147Z"
   },
   {
    "duration": 50,
    "start_time": "2025-02-11T03:59:39.378Z"
   },
   {
    "duration": 57,
    "start_time": "2025-02-11T04:01:01.601Z"
   },
   {
    "duration": 100,
    "start_time": "2025-02-11T04:04:36.730Z"
   },
   {
    "duration": 16,
    "start_time": "2025-02-11T04:04:55.061Z"
   },
   {
    "duration": 225,
    "start_time": "2025-02-11T04:04:56.567Z"
   },
   {
    "duration": 33,
    "start_time": "2025-02-11T04:04:57.977Z"
   },
   {
    "duration": 2,
    "start_time": "2025-02-11T04:05:11.603Z"
   },
   {
    "duration": 1030,
    "start_time": "2025-02-11T04:06:32.211Z"
   },
   {
    "duration": 274,
    "start_time": "2025-02-11T04:07:24.143Z"
   },
   {
    "duration": 227,
    "start_time": "2025-02-11T04:07:38.082Z"
   },
   {
    "duration": 242,
    "start_time": "2025-02-11T04:08:16.351Z"
   },
   {
    "duration": 400,
    "start_time": "2025-02-11T04:08:58.813Z"
   },
   {
    "duration": 3,
    "start_time": "2025-02-11T04:14:26.577Z"
   },
   {
    "duration": 8,
    "start_time": "2025-02-11T04:17:13.580Z"
   },
   {
    "duration": 238,
    "start_time": "2025-02-11T04:17:27.830Z"
   },
   {
    "duration": 16,
    "start_time": "2025-02-11T04:17:50.419Z"
   },
   {
    "duration": 185,
    "start_time": "2025-02-11T04:17:52.706Z"
   },
   {
    "duration": 9,
    "start_time": "2025-02-11T04:21:30.777Z"
   },
   {
    "duration": 6,
    "start_time": "2025-02-11T04:22:51.289Z"
   },
   {
    "duration": 7,
    "start_time": "2025-02-11T04:23:31.399Z"
   },
   {
    "duration": 18,
    "start_time": "2025-02-11T04:24:44.911Z"
   },
   {
    "duration": 17,
    "start_time": "2025-02-11T04:25:06.005Z"
   },
   {
    "duration": 156,
    "start_time": "2025-02-11T04:25:46.567Z"
   },
   {
    "duration": 151,
    "start_time": "2025-02-11T04:26:39.462Z"
   },
   {
    "duration": 155,
    "start_time": "2025-02-11T04:26:45.544Z"
   },
   {
    "duration": 156,
    "start_time": "2025-02-11T04:27:29.037Z"
   },
   {
    "duration": 158,
    "start_time": "2025-02-11T04:31:32.831Z"
   },
   {
    "duration": 173,
    "start_time": "2025-02-11T04:31:45.330Z"
   },
   {
    "duration": 154,
    "start_time": "2025-02-11T04:32:11.351Z"
   },
   {
    "duration": 2,
    "start_time": "2025-02-11T04:36:28.757Z"
   },
   {
    "duration": 4,
    "start_time": "2025-02-11T04:36:38.221Z"
   },
   {
    "duration": 6,
    "start_time": "2025-02-11T04:37:58.113Z"
   },
   {
    "duration": 4,
    "start_time": "2025-02-11T04:38:42.277Z"
   },
   {
    "duration": 4,
    "start_time": "2025-02-11T04:40:16.809Z"
   },
   {
    "duration": 5,
    "start_time": "2025-02-11T04:41:52.350Z"
   },
   {
    "duration": 4,
    "start_time": "2025-02-11T04:42:22.105Z"
   },
   {
    "duration": 598,
    "start_time": "2025-02-11T04:42:54.273Z"
   },
   {
    "duration": 3,
    "start_time": "2025-02-11T04:43:11.436Z"
   },
   {
    "duration": 4,
    "start_time": "2025-02-11T04:47:40.794Z"
   },
   {
    "duration": 4,
    "start_time": "2025-02-11T04:47:54.585Z"
   },
   {
    "duration": 161,
    "start_time": "2025-02-11T14:06:14.347Z"
   },
   {
    "duration": 2584,
    "start_time": "2025-02-11T14:06:21.237Z"
   },
   {
    "duration": 226,
    "start_time": "2025-02-11T14:06:23.825Z"
   },
   {
    "duration": 3,
    "start_time": "2025-02-11T14:06:24.053Z"
   },
   {
    "duration": 13,
    "start_time": "2025-02-11T14:06:24.058Z"
   },
   {
    "duration": 7,
    "start_time": "2025-02-11T14:06:24.073Z"
   },
   {
    "duration": 12,
    "start_time": "2025-02-11T14:06:24.082Z"
   },
   {
    "duration": 6,
    "start_time": "2025-02-11T14:06:24.096Z"
   },
   {
    "duration": 6,
    "start_time": "2025-02-11T14:06:24.104Z"
   },
   {
    "duration": 13,
    "start_time": "2025-02-11T14:06:24.111Z"
   },
   {
    "duration": 27,
    "start_time": "2025-02-11T14:06:24.126Z"
   },
   {
    "duration": 38,
    "start_time": "2025-02-11T14:06:24.155Z"
   },
   {
    "duration": 16,
    "start_time": "2025-02-11T14:06:24.194Z"
   },
   {
    "duration": 4,
    "start_time": "2025-02-11T14:06:24.212Z"
   },
   {
    "duration": 6,
    "start_time": "2025-02-11T14:06:24.221Z"
   },
   {
    "duration": 4,
    "start_time": "2025-02-11T14:06:24.228Z"
   },
   {
    "duration": 55,
    "start_time": "2025-02-11T14:06:24.234Z"
   },
   {
    "duration": 38,
    "start_time": "2025-02-11T14:06:24.291Z"
   },
   {
    "duration": 71,
    "start_time": "2025-02-11T14:06:24.331Z"
   },
   {
    "duration": 19,
    "start_time": "2025-02-11T14:06:24.404Z"
   },
   {
    "duration": 7,
    "start_time": "2025-02-11T14:06:24.425Z"
   },
   {
    "duration": 11,
    "start_time": "2025-02-11T14:06:24.433Z"
   },
   {
    "duration": 54,
    "start_time": "2025-02-11T14:06:24.445Z"
   },
   {
    "duration": 15,
    "start_time": "2025-02-11T14:06:24.501Z"
   },
   {
    "duration": 23,
    "start_time": "2025-02-11T14:06:24.517Z"
   },
   {
    "duration": 7,
    "start_time": "2025-02-11T14:06:24.542Z"
   },
   {
    "duration": 42,
    "start_time": "2025-02-11T14:06:24.550Z"
   },
   {
    "duration": 33,
    "start_time": "2025-02-11T14:06:24.593Z"
   },
   {
    "duration": 18,
    "start_time": "2025-02-11T14:06:24.628Z"
   },
   {
    "duration": 7,
    "start_time": "2025-02-11T14:06:24.648Z"
   },
   {
    "duration": 37,
    "start_time": "2025-02-11T14:06:24.656Z"
   },
   {
    "duration": 3,
    "start_time": "2025-02-11T14:06:24.695Z"
   },
   {
    "duration": 7,
    "start_time": "2025-02-11T14:06:24.699Z"
   },
   {
    "duration": 8,
    "start_time": "2025-02-11T14:06:24.708Z"
   },
   {
    "duration": 14,
    "start_time": "2025-02-11T14:06:24.718Z"
   },
   {
    "duration": 14,
    "start_time": "2025-02-11T14:06:24.734Z"
   },
   {
    "duration": 38,
    "start_time": "2025-02-11T14:06:24.750Z"
   },
   {
    "duration": 7,
    "start_time": "2025-02-11T14:06:24.789Z"
   },
   {
    "duration": 7,
    "start_time": "2025-02-11T14:06:24.797Z"
   },
   {
    "duration": 6,
    "start_time": "2025-02-11T14:06:24.805Z"
   },
   {
    "duration": 7,
    "start_time": "2025-02-11T14:06:24.812Z"
   },
   {
    "duration": 11,
    "start_time": "2025-02-11T14:06:24.825Z"
   },
   {
    "duration": 7,
    "start_time": "2025-02-11T14:06:24.837Z"
   },
   {
    "duration": 40,
    "start_time": "2025-02-11T14:06:24.846Z"
   },
   {
    "duration": 6,
    "start_time": "2025-02-11T14:06:24.888Z"
   },
   {
    "duration": 7,
    "start_time": "2025-02-11T14:06:24.896Z"
   },
   {
    "duration": 12,
    "start_time": "2025-02-11T14:06:24.905Z"
   },
   {
    "duration": 3,
    "start_time": "2025-02-11T14:06:24.918Z"
   },
   {
    "duration": 12,
    "start_time": "2025-02-11T14:06:24.922Z"
   },
   {
    "duration": 3,
    "start_time": "2025-02-11T14:06:24.935Z"
   },
   {
    "duration": 5,
    "start_time": "2025-02-11T14:06:24.939Z"
   },
   {
    "duration": 43,
    "start_time": "2025-02-11T14:06:24.945Z"
   },
   {
    "duration": 7,
    "start_time": "2025-02-11T14:06:24.990Z"
   },
   {
    "duration": 13,
    "start_time": "2025-02-11T14:06:24.999Z"
   },
   {
    "duration": 7,
    "start_time": "2025-02-11T14:06:25.014Z"
   },
   {
    "duration": 3,
    "start_time": "2025-02-11T14:06:25.023Z"
   },
   {
    "duration": 9,
    "start_time": "2025-02-11T14:06:25.028Z"
   },
   {
    "duration": 5,
    "start_time": "2025-02-11T14:06:25.039Z"
   },
   {
    "duration": 47,
    "start_time": "2025-02-11T14:06:25.046Z"
   },
   {
    "duration": 5,
    "start_time": "2025-02-11T14:06:25.095Z"
   },
   {
    "duration": 11,
    "start_time": "2025-02-11T14:06:25.102Z"
   },
   {
    "duration": 5,
    "start_time": "2025-02-11T14:06:25.115Z"
   },
   {
    "duration": 10,
    "start_time": "2025-02-11T14:06:25.122Z"
   },
   {
    "duration": 3,
    "start_time": "2025-02-11T14:06:25.134Z"
   },
   {
    "duration": 11,
    "start_time": "2025-02-11T14:06:25.139Z"
   },
   {
    "duration": 37,
    "start_time": "2025-02-11T14:06:25.152Z"
   },
   {
    "duration": 4,
    "start_time": "2025-02-11T14:06:25.191Z"
   },
   {
    "duration": 12,
    "start_time": "2025-02-11T14:06:25.197Z"
   },
   {
    "duration": 6,
    "start_time": "2025-02-11T14:06:25.210Z"
   },
   {
    "duration": 14,
    "start_time": "2025-02-11T14:06:25.218Z"
   },
   {
    "duration": 4,
    "start_time": "2025-02-11T14:06:25.234Z"
   },
   {
    "duration": 3,
    "start_time": "2025-02-11T14:06:25.240Z"
   },
   {
    "duration": 50,
    "start_time": "2025-02-11T14:06:25.244Z"
   },
   {
    "duration": 192,
    "start_time": "2025-02-11T14:06:25.296Z"
   },
   {
    "duration": 6,
    "start_time": "2025-02-11T14:06:25.490Z"
   },
   {
    "duration": 174,
    "start_time": "2025-02-11T14:06:25.498Z"
   },
   {
    "duration": 3,
    "start_time": "2025-02-11T14:06:25.674Z"
   },
   {
    "duration": 9,
    "start_time": "2025-02-11T14:06:25.679Z"
   },
   {
    "duration": 3,
    "start_time": "2025-02-11T14:06:25.690Z"
   },
   {
    "duration": 3,
    "start_time": "2025-02-11T14:06:25.695Z"
   },
   {
    "duration": 3,
    "start_time": "2025-02-11T14:06:25.700Z"
   },
   {
    "duration": 3,
    "start_time": "2025-02-11T14:06:25.704Z"
   },
   {
    "duration": 3,
    "start_time": "2025-02-11T14:06:36.940Z"
   },
   {
    "duration": 9,
    "start_time": "2025-02-11T14:08:22.462Z"
   },
   {
    "duration": 11,
    "start_time": "2025-02-11T14:09:21.026Z"
   },
   {
    "duration": 5,
    "start_time": "2025-02-11T14:10:10.244Z"
   },
   {
    "duration": 3,
    "start_time": "2025-02-11T14:10:43.180Z"
   },
   {
    "duration": 75,
    "start_time": "2025-02-11T14:33:13.548Z"
   },
   {
    "duration": 11,
    "start_time": "2025-02-11T14:33:18.285Z"
   },
   {
    "duration": 3,
    "start_time": "2025-02-11T14:33:32.610Z"
   },
   {
    "duration": 8,
    "start_time": "2025-02-11T14:36:06.794Z"
   },
   {
    "duration": 3,
    "start_time": "2025-02-11T17:06:39.300Z"
   },
   {
    "duration": 7,
    "start_time": "2025-02-11T17:09:51.926Z"
   },
   {
    "duration": 6,
    "start_time": "2025-02-11T17:10:14.001Z"
   },
   {
    "duration": 13,
    "start_time": "2025-02-11T17:11:08.757Z"
   },
   {
    "duration": 5,
    "start_time": "2025-02-11T17:11:22.905Z"
   },
   {
    "duration": 165,
    "start_time": "2025-02-11T17:11:22.913Z"
   },
   {
    "duration": 7,
    "start_time": "2025-02-11T17:11:23.080Z"
   },
   {
    "duration": 11,
    "start_time": "2025-02-11T17:11:23.090Z"
   },
   {
    "duration": 7,
    "start_time": "2025-02-11T17:11:23.102Z"
   },
   {
    "duration": 12,
    "start_time": "2025-02-11T17:11:23.111Z"
   },
   {
    "duration": 6,
    "start_time": "2025-02-11T17:11:23.124Z"
   },
   {
    "duration": 7,
    "start_time": "2025-02-11T17:11:23.132Z"
   },
   {
    "duration": 48,
    "start_time": "2025-02-11T17:11:23.142Z"
   },
   {
    "duration": 25,
    "start_time": "2025-02-11T17:11:23.192Z"
   },
   {
    "duration": 9,
    "start_time": "2025-02-11T17:11:23.218Z"
   },
   {
    "duration": 14,
    "start_time": "2025-02-11T17:11:23.229Z"
   },
   {
    "duration": 3,
    "start_time": "2025-02-11T17:11:23.245Z"
   },
   {
    "duration": 38,
    "start_time": "2025-02-11T17:11:23.250Z"
   },
   {
    "duration": 4,
    "start_time": "2025-02-11T17:11:23.289Z"
   },
   {
    "duration": 23,
    "start_time": "2025-02-11T17:11:23.295Z"
   },
   {
    "duration": 29,
    "start_time": "2025-02-11T17:11:23.320Z"
   },
   {
    "duration": 79,
    "start_time": "2025-02-11T17:11:23.350Z"
   },
   {
    "duration": 17,
    "start_time": "2025-02-11T17:11:23.431Z"
   },
   {
    "duration": 6,
    "start_time": "2025-02-11T17:11:23.449Z"
   },
   {
    "duration": 9,
    "start_time": "2025-02-11T17:11:23.457Z"
   },
   {
    "duration": 25,
    "start_time": "2025-02-11T17:11:23.488Z"
   },
   {
    "duration": 11,
    "start_time": "2025-02-11T17:11:23.515Z"
   },
   {
    "duration": 22,
    "start_time": "2025-02-11T17:11:23.531Z"
   },
   {
    "duration": 39,
    "start_time": "2025-02-11T17:11:23.555Z"
   },
   {
    "duration": 12,
    "start_time": "2025-02-11T17:11:23.596Z"
   },
   {
    "duration": 28,
    "start_time": "2025-02-11T17:11:23.610Z"
   },
   {
    "duration": 14,
    "start_time": "2025-02-11T17:11:23.640Z"
   },
   {
    "duration": 32,
    "start_time": "2025-02-11T17:11:23.656Z"
   },
   {
    "duration": 13,
    "start_time": "2025-02-11T17:11:23.690Z"
   },
   {
    "duration": 4,
    "start_time": "2025-02-11T17:11:23.705Z"
   },
   {
    "duration": 7,
    "start_time": "2025-02-11T17:11:23.710Z"
   },
   {
    "duration": 7,
    "start_time": "2025-02-11T17:11:23.719Z"
   },
   {
    "duration": 12,
    "start_time": "2025-02-11T17:11:23.728Z"
   },
   {
    "duration": 14,
    "start_time": "2025-02-11T17:11:23.742Z"
   },
   {
    "duration": 8,
    "start_time": "2025-02-11T17:11:23.786Z"
   },
   {
    "duration": 6,
    "start_time": "2025-02-11T17:11:23.795Z"
   },
   {
    "duration": 7,
    "start_time": "2025-02-11T17:11:23.803Z"
   },
   {
    "duration": 5,
    "start_time": "2025-02-11T17:11:23.812Z"
   },
   {
    "duration": 8,
    "start_time": "2025-02-11T17:11:23.818Z"
   },
   {
    "duration": 10,
    "start_time": "2025-02-11T17:11:23.828Z"
   },
   {
    "duration": 6,
    "start_time": "2025-02-11T17:11:23.840Z"
   },
   {
    "duration": 6,
    "start_time": "2025-02-11T17:11:23.887Z"
   },
   {
    "duration": 7,
    "start_time": "2025-02-11T17:11:23.895Z"
   },
   {
    "duration": 7,
    "start_time": "2025-02-11T17:11:23.903Z"
   },
   {
    "duration": 14,
    "start_time": "2025-02-11T17:11:23.911Z"
   },
   {
    "duration": 2,
    "start_time": "2025-02-11T17:11:23.927Z"
   },
   {
    "duration": 15,
    "start_time": "2025-02-11T17:11:23.931Z"
   },
   {
    "duration": 39,
    "start_time": "2025-02-11T17:11:23.947Z"
   },
   {
    "duration": 6,
    "start_time": "2025-02-11T17:11:23.988Z"
   },
   {
    "duration": 12,
    "start_time": "2025-02-11T17:11:23.995Z"
   },
   {
    "duration": 6,
    "start_time": "2025-02-11T17:11:24.008Z"
   },
   {
    "duration": 12,
    "start_time": "2025-02-11T17:11:24.016Z"
   },
   {
    "duration": 8,
    "start_time": "2025-02-11T17:11:24.030Z"
   },
   {
    "duration": 3,
    "start_time": "2025-02-11T17:11:24.039Z"
   },
   {
    "duration": 8,
    "start_time": "2025-02-11T17:11:24.043Z"
   },
   {
    "duration": 6,
    "start_time": "2025-02-11T17:11:24.086Z"
   },
   {
    "duration": 10,
    "start_time": "2025-02-11T17:11:24.094Z"
   },
   {
    "duration": 5,
    "start_time": "2025-02-11T17:11:24.106Z"
   },
   {
    "duration": 11,
    "start_time": "2025-02-11T17:11:24.112Z"
   },
   {
    "duration": 6,
    "start_time": "2025-02-11T17:11:24.124Z"
   },
   {
    "duration": 10,
    "start_time": "2025-02-11T17:11:24.132Z"
   },
   {
    "duration": 3,
    "start_time": "2025-02-11T17:11:24.144Z"
   },
   {
    "duration": 10,
    "start_time": "2025-02-11T17:11:24.186Z"
   },
   {
    "duration": 2,
    "start_time": "2025-02-11T17:11:24.198Z"
   },
   {
    "duration": 4,
    "start_time": "2025-02-11T17:11:24.202Z"
   },
   {
    "duration": 12,
    "start_time": "2025-02-11T17:11:24.207Z"
   },
   {
    "duration": 5,
    "start_time": "2025-02-11T17:11:24.221Z"
   },
   {
    "duration": 15,
    "start_time": "2025-02-11T17:11:24.231Z"
   },
   {
    "duration": 4,
    "start_time": "2025-02-11T17:11:24.248Z"
   },
   {
    "duration": 36,
    "start_time": "2025-02-11T17:11:24.254Z"
   },
   {
    "duration": 14,
    "start_time": "2025-02-11T17:11:24.291Z"
   },
   {
    "duration": 243,
    "start_time": "2025-02-11T17:11:24.306Z"
   },
   {
    "duration": 5,
    "start_time": "2025-02-11T17:11:24.551Z"
   },
   {
    "duration": 182,
    "start_time": "2025-02-11T17:11:24.558Z"
   },
   {
    "duration": 12,
    "start_time": "2025-02-11T17:11:24.742Z"
   },
   {
    "duration": 3,
    "start_time": "2025-02-11T17:11:24.755Z"
   },
   {
    "duration": 3,
    "start_time": "2025-02-11T17:11:24.759Z"
   },
   {
    "duration": 23,
    "start_time": "2025-02-11T17:11:24.764Z"
   },
   {
    "duration": 3,
    "start_time": "2025-02-11T17:11:24.789Z"
   },
   {
    "duration": 3,
    "start_time": "2025-02-11T17:11:24.793Z"
   },
   {
    "duration": 816,
    "start_time": "2025-02-11T17:11:44.802Z"
   },
   {
    "duration": 155,
    "start_time": "2025-02-11T17:11:45.620Z"
   },
   {
    "duration": 3,
    "start_time": "2025-02-11T17:11:45.777Z"
   },
   {
    "duration": 16,
    "start_time": "2025-02-11T17:11:45.782Z"
   },
   {
    "duration": 5,
    "start_time": "2025-02-11T17:11:45.801Z"
   },
   {
    "duration": 11,
    "start_time": "2025-02-11T17:11:45.807Z"
   },
   {
    "duration": 6,
    "start_time": "2025-02-11T17:11:45.820Z"
   },
   {
    "duration": 6,
    "start_time": "2025-02-11T17:11:45.827Z"
   },
   {
    "duration": 12,
    "start_time": "2025-02-11T17:11:45.834Z"
   },
   {
    "duration": 61,
    "start_time": "2025-02-11T17:11:45.848Z"
   },
   {
    "duration": 9,
    "start_time": "2025-02-11T17:11:45.911Z"
   },
   {
    "duration": 16,
    "start_time": "2025-02-11T17:11:45.922Z"
   },
   {
    "duration": 3,
    "start_time": "2025-02-11T17:11:45.940Z"
   },
   {
    "duration": 7,
    "start_time": "2025-02-11T17:11:45.947Z"
   },
   {
    "duration": 31,
    "start_time": "2025-02-11T17:11:45.955Z"
   },
   {
    "duration": 25,
    "start_time": "2025-02-11T17:11:45.988Z"
   },
   {
    "duration": 36,
    "start_time": "2025-02-11T17:11:46.015Z"
   },
   {
    "duration": 74,
    "start_time": "2025-02-11T17:11:46.053Z"
   },
   {
    "duration": 17,
    "start_time": "2025-02-11T17:11:46.129Z"
   },
   {
    "duration": 6,
    "start_time": "2025-02-11T17:11:46.147Z"
   },
   {
    "duration": 32,
    "start_time": "2025-02-11T17:11:46.155Z"
   },
   {
    "duration": 24,
    "start_time": "2025-02-11T17:11:46.188Z"
   },
   {
    "duration": 13,
    "start_time": "2025-02-11T17:11:46.214Z"
   },
   {
    "duration": 22,
    "start_time": "2025-02-11T17:11:46.228Z"
   },
   {
    "duration": 6,
    "start_time": "2025-02-11T17:11:46.252Z"
   },
   {
    "duration": 12,
    "start_time": "2025-02-11T17:11:46.287Z"
   },
   {
    "duration": 30,
    "start_time": "2025-02-11T17:11:46.300Z"
   },
   {
    "duration": 16,
    "start_time": "2025-02-11T17:11:46.332Z"
   },
   {
    "duration": 8,
    "start_time": "2025-02-11T17:11:46.349Z"
   },
   {
    "duration": 38,
    "start_time": "2025-02-11T17:11:46.358Z"
   },
   {
    "duration": 3,
    "start_time": "2025-02-11T17:11:46.398Z"
   },
   {
    "duration": 8,
    "start_time": "2025-02-11T17:11:46.402Z"
   },
   {
    "duration": 8,
    "start_time": "2025-02-11T17:11:46.412Z"
   },
   {
    "duration": 15,
    "start_time": "2025-02-11T17:11:46.421Z"
   },
   {
    "duration": 17,
    "start_time": "2025-02-11T17:11:46.438Z"
   },
   {
    "duration": 6,
    "start_time": "2025-02-11T17:11:46.487Z"
   },
   {
    "duration": 6,
    "start_time": "2025-02-11T17:11:46.495Z"
   },
   {
    "duration": 8,
    "start_time": "2025-02-11T17:11:46.502Z"
   },
   {
    "duration": 6,
    "start_time": "2025-02-11T17:11:46.511Z"
   },
   {
    "duration": 6,
    "start_time": "2025-02-11T17:11:46.519Z"
   },
   {
    "duration": 11,
    "start_time": "2025-02-11T17:11:46.531Z"
   },
   {
    "duration": 7,
    "start_time": "2025-02-11T17:11:46.544Z"
   },
   {
    "duration": 6,
    "start_time": "2025-02-11T17:11:46.587Z"
   },
   {
    "duration": 6,
    "start_time": "2025-02-11T17:11:46.595Z"
   },
   {
    "duration": 6,
    "start_time": "2025-02-11T17:11:46.603Z"
   },
   {
    "duration": 12,
    "start_time": "2025-02-11T17:11:46.611Z"
   },
   {
    "duration": 4,
    "start_time": "2025-02-11T17:11:46.624Z"
   },
   {
    "duration": 12,
    "start_time": "2025-02-11T17:11:46.629Z"
   },
   {
    "duration": 3,
    "start_time": "2025-02-11T17:11:46.643Z"
   },
   {
    "duration": 4,
    "start_time": "2025-02-11T17:11:46.688Z"
   },
   {
    "duration": 11,
    "start_time": "2025-02-11T17:11:46.694Z"
   },
   {
    "duration": 5,
    "start_time": "2025-02-11T17:11:46.707Z"
   },
   {
    "duration": 11,
    "start_time": "2025-02-11T17:11:46.714Z"
   },
   {
    "duration": 7,
    "start_time": "2025-02-11T17:11:46.726Z"
   },
   {
    "duration": 3,
    "start_time": "2025-02-11T17:11:46.735Z"
   },
   {
    "duration": 8,
    "start_time": "2025-02-11T17:11:46.740Z"
   },
   {
    "duration": 42,
    "start_time": "2025-02-11T17:11:46.749Z"
   },
   {
    "duration": 11,
    "start_time": "2025-02-11T17:11:46.792Z"
   },
   {
    "duration": 6,
    "start_time": "2025-02-11T17:11:46.804Z"
   },
   {
    "duration": 12,
    "start_time": "2025-02-11T17:11:46.811Z"
   },
   {
    "duration": 5,
    "start_time": "2025-02-11T17:11:46.825Z"
   },
   {
    "duration": 10,
    "start_time": "2025-02-11T17:11:46.832Z"
   },
   {
    "duration": 3,
    "start_time": "2025-02-11T17:11:46.844Z"
   },
   {
    "duration": 47,
    "start_time": "2025-02-11T17:11:46.849Z"
   },
   {
    "duration": 3,
    "start_time": "2025-02-11T17:11:46.898Z"
   },
   {
    "duration": 3,
    "start_time": "2025-02-11T17:11:46.903Z"
   },
   {
    "duration": 12,
    "start_time": "2025-02-11T17:11:46.908Z"
   },
   {
    "duration": 5,
    "start_time": "2025-02-11T17:11:46.922Z"
   },
   {
    "duration": 14,
    "start_time": "2025-02-11T17:11:46.928Z"
   },
   {
    "duration": 4,
    "start_time": "2025-02-11T17:11:46.944Z"
   },
   {
    "duration": 41,
    "start_time": "2025-02-11T17:11:46.949Z"
   },
   {
    "duration": 14,
    "start_time": "2025-02-11T17:11:46.991Z"
   },
   {
    "duration": 204,
    "start_time": "2025-02-11T17:11:47.007Z"
   },
   {
    "duration": 6,
    "start_time": "2025-02-11T17:11:47.213Z"
   },
   {
    "duration": 174,
    "start_time": "2025-02-11T17:11:47.221Z"
   },
   {
    "duration": 12,
    "start_time": "2025-02-11T17:11:47.397Z"
   },
   {
    "duration": 2,
    "start_time": "2025-02-11T17:11:47.411Z"
   },
   {
    "duration": 3,
    "start_time": "2025-02-11T17:11:47.415Z"
   },
   {
    "duration": 4,
    "start_time": "2025-02-11T17:11:47.419Z"
   },
   {
    "duration": 4,
    "start_time": "2025-02-11T17:11:47.424Z"
   },
   {
    "duration": 3,
    "start_time": "2025-02-11T17:11:47.430Z"
   },
   {
    "duration": 11,
    "start_time": "2025-02-11T17:12:02.474Z"
   },
   {
    "duration": 163,
    "start_time": "2025-02-11T17:13:21.574Z"
   },
   {
    "duration": 2,
    "start_time": "2025-02-11T17:14:17.950Z"
   },
   {
    "duration": 19,
    "start_time": "2025-02-11T17:15:45.826Z"
   },
   {
    "duration": 12,
    "start_time": "2025-02-11T17:17:16.671Z"
   },
   {
    "duration": 427,
    "start_time": "2025-02-11T17:20:11.706Z"
   },
   {
    "duration": 279,
    "start_time": "2025-02-11T17:24:19.744Z"
   },
   {
    "duration": 234,
    "start_time": "2025-02-11T17:26:59.562Z"
   },
   {
    "duration": 2,
    "start_time": "2025-02-11T18:01:49.142Z"
   },
   {
    "duration": 201,
    "start_time": "2025-02-11T18:06:06.234Z"
   },
   {
    "duration": 4,
    "start_time": "2025-02-11T18:30:17.887Z"
   },
   {
    "duration": 6,
    "start_time": "2025-02-11T18:37:52.700Z"
   },
   {
    "duration": 4,
    "start_time": "2025-02-11T18:38:08.846Z"
   },
   {
    "duration": 5,
    "start_time": "2025-02-11T18:38:16.067Z"
   },
   {
    "duration": 796,
    "start_time": "2025-02-11T18:43:03.479Z"
   },
   {
    "duration": 4,
    "start_time": "2025-02-11T18:45:05.861Z"
   },
   {
    "duration": 194,
    "start_time": "2025-02-11T18:45:13.162Z"
   },
   {
    "duration": 211,
    "start_time": "2025-02-11T18:48:11.901Z"
   },
   {
    "duration": 194,
    "start_time": "2025-02-11T18:48:50.588Z"
   },
   {
    "duration": 196,
    "start_time": "2025-02-11T18:53:41.207Z"
   },
   {
    "duration": 21,
    "start_time": "2025-02-11T18:56:37.795Z"
   },
   {
    "duration": 5,
    "start_time": "2025-02-11T18:56:59.631Z"
   },
   {
    "duration": 173,
    "start_time": "2025-02-11T18:57:06.696Z"
   },
   {
    "duration": 191,
    "start_time": "2025-02-11T18:58:24.400Z"
   },
   {
    "duration": 162,
    "start_time": "2025-02-11T19:06:50.097Z"
   },
   {
    "duration": 189,
    "start_time": "2025-02-11T19:06:59.648Z"
   },
   {
    "duration": 275,
    "start_time": "2025-02-11T20:02:08.597Z"
   },
   {
    "duration": 149,
    "start_time": "2025-02-11T20:03:52.527Z"
   },
   {
    "duration": 320,
    "start_time": "2025-02-11T20:04:07.191Z"
   },
   {
    "duration": 7,
    "start_time": "2025-02-11T20:08:50.269Z"
   },
   {
    "duration": 11,
    "start_time": "2025-02-11T20:09:08.163Z"
   },
   {
    "duration": 527,
    "start_time": "2025-02-11T20:30:04.211Z"
   },
   {
    "duration": 7,
    "start_time": "2025-02-11T20:30:34.574Z"
   },
   {
    "duration": 4,
    "start_time": "2025-02-11T20:31:47.060Z"
   },
   {
    "duration": 6,
    "start_time": "2025-02-11T20:33:04.078Z"
   },
   {
    "duration": 5,
    "start_time": "2025-02-11T20:40:22.983Z"
   },
   {
    "duration": 8,
    "start_time": "2025-02-11T20:40:46.218Z"
   },
   {
    "duration": 4,
    "start_time": "2025-02-11T20:41:07.178Z"
   },
   {
    "duration": 6,
    "start_time": "2025-02-11T20:46:28.940Z"
   },
   {
    "duration": 3,
    "start_time": "2025-02-11T20:46:32.696Z"
   },
   {
    "duration": 7,
    "start_time": "2025-02-11T20:46:51.760Z"
   },
   {
    "duration": 6,
    "start_time": "2025-02-11T20:47:23.536Z"
   },
   {
    "duration": 10,
    "start_time": "2025-02-11T20:49:17.847Z"
   },
   {
    "duration": 10,
    "start_time": "2025-02-11T20:50:51.759Z"
   },
   {
    "duration": 8,
    "start_time": "2025-02-11T20:51:02.624Z"
   },
   {
    "duration": 6,
    "start_time": "2025-02-11T20:51:16.413Z"
   },
   {
    "duration": 5,
    "start_time": "2025-02-11T20:52:01.235Z"
   },
   {
    "duration": 3,
    "start_time": "2025-02-11T20:53:48.069Z"
   },
   {
    "duration": 359,
    "start_time": "2025-02-11T21:04:27.646Z"
   },
   {
    "duration": 3,
    "start_time": "2025-02-11T21:06:49.130Z"
   },
   {
    "duration": 8,
    "start_time": "2025-02-11T21:07:05.921Z"
   },
   {
    "duration": 23,
    "start_time": "2025-02-11T21:07:16.029Z"
   },
   {
    "duration": 782,
    "start_time": "2025-02-11T21:07:53.830Z"
   },
   {
    "duration": 183,
    "start_time": "2025-02-11T21:07:54.615Z"
   },
   {
    "duration": 3,
    "start_time": "2025-02-11T21:07:54.800Z"
   },
   {
    "duration": 13,
    "start_time": "2025-02-11T21:07:54.805Z"
   },
   {
    "duration": 5,
    "start_time": "2025-02-11T21:07:54.819Z"
   },
   {
    "duration": 12,
    "start_time": "2025-02-11T21:07:54.825Z"
   },
   {
    "duration": 8,
    "start_time": "2025-02-11T21:07:54.838Z"
   },
   {
    "duration": 5,
    "start_time": "2025-02-11T21:07:54.848Z"
   },
   {
    "duration": 37,
    "start_time": "2025-02-11T21:07:54.855Z"
   },
   {
    "duration": 28,
    "start_time": "2025-02-11T21:07:54.896Z"
   },
   {
    "duration": 9,
    "start_time": "2025-02-11T21:07:54.926Z"
   },
   {
    "duration": 16,
    "start_time": "2025-02-11T21:07:54.938Z"
   },
   {
    "duration": 32,
    "start_time": "2025-02-11T21:07:54.955Z"
   },
   {
    "duration": 7,
    "start_time": "2025-02-11T21:07:54.988Z"
   },
   {
    "duration": 3,
    "start_time": "2025-02-11T21:07:54.997Z"
   },
   {
    "duration": 26,
    "start_time": "2025-02-11T21:07:55.001Z"
   },
   {
    "duration": 68,
    "start_time": "2025-02-11T21:07:55.029Z"
   },
   {
    "duration": 64,
    "start_time": "2025-02-11T21:07:55.099Z"
   },
   {
    "duration": 36,
    "start_time": "2025-02-11T21:07:55.165Z"
   },
   {
    "duration": 6,
    "start_time": "2025-02-11T21:07:55.202Z"
   },
   {
    "duration": 10,
    "start_time": "2025-02-11T21:07:55.210Z"
   },
   {
    "duration": 23,
    "start_time": "2025-02-11T21:07:55.221Z"
   },
   {
    "duration": 42,
    "start_time": "2025-02-11T21:07:55.246Z"
   },
   {
    "duration": 37,
    "start_time": "2025-02-11T21:07:55.290Z"
   },
   {
    "duration": 19,
    "start_time": "2025-02-11T21:07:55.330Z"
   },
   {
    "duration": 21,
    "start_time": "2025-02-11T21:07:55.352Z"
   },
   {
    "duration": 38,
    "start_time": "2025-02-11T21:07:55.375Z"
   },
   {
    "duration": 15,
    "start_time": "2025-02-11T21:07:55.419Z"
   },
   {
    "duration": 8,
    "start_time": "2025-02-11T21:07:55.436Z"
   },
   {
    "duration": 12,
    "start_time": "2025-02-11T21:07:55.446Z"
   },
   {
    "duration": 28,
    "start_time": "2025-02-11T21:07:55.460Z"
   },
   {
    "duration": 10,
    "start_time": "2025-02-11T21:07:55.490Z"
   },
   {
    "duration": 8,
    "start_time": "2025-02-11T21:07:55.502Z"
   },
   {
    "duration": 14,
    "start_time": "2025-02-11T21:07:55.513Z"
   },
   {
    "duration": 15,
    "start_time": "2025-02-11T21:07:55.529Z"
   },
   {
    "duration": 5,
    "start_time": "2025-02-11T21:07:55.546Z"
   },
   {
    "duration": 34,
    "start_time": "2025-02-11T21:07:55.553Z"
   },
   {
    "duration": 8,
    "start_time": "2025-02-11T21:07:55.589Z"
   },
   {
    "duration": 7,
    "start_time": "2025-02-11T21:07:55.600Z"
   },
   {
    "duration": 9,
    "start_time": "2025-02-11T21:07:55.608Z"
   },
   {
    "duration": 11,
    "start_time": "2025-02-11T21:07:55.619Z"
   },
   {
    "duration": 7,
    "start_time": "2025-02-11T21:07:55.632Z"
   },
   {
    "duration": 6,
    "start_time": "2025-02-11T21:07:55.640Z"
   },
   {
    "duration": 43,
    "start_time": "2025-02-11T21:07:55.648Z"
   },
   {
    "duration": 7,
    "start_time": "2025-02-11T21:07:55.693Z"
   },
   {
    "duration": 13,
    "start_time": "2025-02-11T21:07:55.701Z"
   },
   {
    "duration": 3,
    "start_time": "2025-02-11T21:07:55.715Z"
   },
   {
    "duration": 14,
    "start_time": "2025-02-11T21:07:55.720Z"
   },
   {
    "duration": 6,
    "start_time": "2025-02-11T21:07:55.736Z"
   },
   {
    "duration": 4,
    "start_time": "2025-02-11T21:07:55.745Z"
   },
   {
    "duration": 45,
    "start_time": "2025-02-11T21:07:55.751Z"
   },
   {
    "duration": 7,
    "start_time": "2025-02-11T21:07:55.798Z"
   },
   {
    "duration": 12,
    "start_time": "2025-02-11T21:07:55.807Z"
   },
   {
    "duration": 8,
    "start_time": "2025-02-11T21:07:55.821Z"
   },
   {
    "duration": 4,
    "start_time": "2025-02-11T21:07:55.831Z"
   },
   {
    "duration": 9,
    "start_time": "2025-02-11T21:07:55.837Z"
   },
   {
    "duration": 41,
    "start_time": "2025-02-11T21:07:55.848Z"
   },
   {
    "duration": 11,
    "start_time": "2025-02-11T21:07:55.890Z"
   },
   {
    "duration": 7,
    "start_time": "2025-02-11T21:07:55.903Z"
   },
   {
    "duration": 13,
    "start_time": "2025-02-11T21:07:55.912Z"
   },
   {
    "duration": 6,
    "start_time": "2025-02-11T21:07:55.927Z"
   },
   {
    "duration": 10,
    "start_time": "2025-02-11T21:07:55.936Z"
   },
   {
    "duration": 3,
    "start_time": "2025-02-11T21:07:55.948Z"
   },
   {
    "duration": 44,
    "start_time": "2025-02-11T21:07:55.953Z"
   },
   {
    "duration": 3,
    "start_time": "2025-02-11T21:07:55.999Z"
   },
   {
    "duration": 4,
    "start_time": "2025-02-11T21:07:56.003Z"
   },
   {
    "duration": 15,
    "start_time": "2025-02-11T21:07:56.009Z"
   },
   {
    "duration": 6,
    "start_time": "2025-02-11T21:07:56.026Z"
   },
   {
    "duration": 16,
    "start_time": "2025-02-11T21:07:56.033Z"
   },
   {
    "duration": 5,
    "start_time": "2025-02-11T21:07:56.051Z"
   },
   {
    "duration": 31,
    "start_time": "2025-02-11T21:07:56.058Z"
   },
   {
    "duration": 16,
    "start_time": "2025-02-11T21:07:56.091Z"
   },
   {
    "duration": 230,
    "start_time": "2025-02-11T21:07:56.109Z"
   },
   {
    "duration": 7,
    "start_time": "2025-02-11T21:07:56.341Z"
   },
   {
    "duration": 179,
    "start_time": "2025-02-11T21:07:56.352Z"
   },
   {
    "duration": 15,
    "start_time": "2025-02-11T21:07:56.533Z"
   },
   {
    "duration": 14,
    "start_time": "2025-02-11T21:07:56.549Z"
   },
   {
    "duration": 210,
    "start_time": "2025-02-11T21:07:56.565Z"
   },
   {
    "duration": 10,
    "start_time": "2025-02-11T21:07:56.777Z"
   },
   {
    "duration": 5,
    "start_time": "2025-02-11T21:07:56.789Z"
   },
   {
    "duration": 326,
    "start_time": "2025-02-11T21:07:56.795Z"
   },
   {
    "duration": 211,
    "start_time": "2025-02-11T21:07:57.129Z"
   },
   {
    "duration": 208,
    "start_time": "2025-02-11T21:07:57.342Z"
   },
   {
    "duration": 174,
    "start_time": "2025-02-11T21:07:57.552Z"
   },
   {
    "duration": 231,
    "start_time": "2025-02-11T21:07:57.728Z"
   },
   {
    "duration": 241,
    "start_time": "2025-02-11T21:07:57.961Z"
   },
   {
    "duration": 183,
    "start_time": "2025-02-11T21:07:58.203Z"
   },
   {
    "duration": 201,
    "start_time": "2025-02-11T21:07:58.388Z"
   },
   {
    "duration": 6,
    "start_time": "2025-02-11T21:07:58.592Z"
   },
   {
    "duration": 5,
    "start_time": "2025-02-11T21:07:58.599Z"
   },
   {
    "duration": 26,
    "start_time": "2025-02-11T21:07:58.606Z"
   },
   {
    "duration": 9,
    "start_time": "2025-02-11T21:17:25.260Z"
   },
   {
    "duration": 38,
    "start_time": "2025-02-11T21:17:36.200Z"
   },
   {
    "duration": 284,
    "start_time": "2025-02-11T21:18:56.714Z"
   },
   {
    "duration": 11,
    "start_time": "2025-02-11T21:19:50.608Z"
   },
   {
    "duration": 13,
    "start_time": "2025-02-11T21:20:41.817Z"
   },
   {
    "duration": 12,
    "start_time": "2025-02-11T21:21:35.412Z"
   },
   {
    "duration": 20,
    "start_time": "2025-02-11T21:25:43.835Z"
   },
   {
    "duration": 14,
    "start_time": "2025-02-11T21:26:02.824Z"
   },
   {
    "duration": 5,
    "start_time": "2025-02-11T21:27:41.292Z"
   },
   {
    "duration": 6,
    "start_time": "2025-02-11T21:28:02.814Z"
   },
   {
    "duration": 14,
    "start_time": "2025-02-11T21:31:31.974Z"
   },
   {
    "duration": 14,
    "start_time": "2025-02-11T21:33:22.672Z"
   },
   {
    "duration": 13,
    "start_time": "2025-02-11T21:34:58.415Z"
   },
   {
    "duration": 7,
    "start_time": "2025-02-11T21:37:52.080Z"
   },
   {
    "duration": 2487,
    "start_time": "2025-02-11T22:06:48.690Z"
   },
   {
    "duration": 232,
    "start_time": "2025-02-11T22:06:51.179Z"
   },
   {
    "duration": 3,
    "start_time": "2025-02-11T22:06:51.412Z"
   },
   {
    "duration": 11,
    "start_time": "2025-02-11T22:06:51.418Z"
   },
   {
    "duration": 4,
    "start_time": "2025-02-11T22:06:51.431Z"
   },
   {
    "duration": 11,
    "start_time": "2025-02-11T22:06:51.437Z"
   },
   {
    "duration": 5,
    "start_time": "2025-02-11T22:06:51.450Z"
   },
   {
    "duration": 5,
    "start_time": "2025-02-11T22:06:51.456Z"
   },
   {
    "duration": 46,
    "start_time": "2025-02-11T22:06:51.464Z"
   },
   {
    "duration": 23,
    "start_time": "2025-02-11T22:06:51.514Z"
   },
   {
    "duration": 8,
    "start_time": "2025-02-11T22:06:51.539Z"
   },
   {
    "duration": 15,
    "start_time": "2025-02-11T22:06:51.549Z"
   },
   {
    "duration": 4,
    "start_time": "2025-02-11T22:06:51.566Z"
   },
   {
    "duration": 36,
    "start_time": "2025-02-11T22:06:51.572Z"
   },
   {
    "duration": 3,
    "start_time": "2025-02-11T22:06:51.610Z"
   },
   {
    "duration": 23,
    "start_time": "2025-02-11T22:06:51.615Z"
   },
   {
    "duration": 32,
    "start_time": "2025-02-11T22:06:51.640Z"
   },
   {
    "duration": 70,
    "start_time": "2025-02-11T22:06:51.674Z"
   },
   {
    "duration": 16,
    "start_time": "2025-02-11T22:06:51.746Z"
   },
   {
    "duration": 5,
    "start_time": "2025-02-11T22:06:51.764Z"
   },
   {
    "duration": 10,
    "start_time": "2025-02-11T22:06:51.771Z"
   },
   {
    "duration": 45,
    "start_time": "2025-02-11T22:06:51.782Z"
   },
   {
    "duration": 12,
    "start_time": "2025-02-11T22:06:51.831Z"
   },
   {
    "duration": 24,
    "start_time": "2025-02-11T22:06:51.845Z"
   },
   {
    "duration": 7,
    "start_time": "2025-02-11T22:06:51.871Z"
   },
   {
    "duration": 39,
    "start_time": "2025-02-11T22:06:51.880Z"
   },
   {
    "duration": 30,
    "start_time": "2025-02-11T22:06:51.921Z"
   },
   {
    "duration": 15,
    "start_time": "2025-02-11T22:06:51.956Z"
   },
   {
    "duration": 7,
    "start_time": "2025-02-11T22:06:51.973Z"
   },
   {
    "duration": 37,
    "start_time": "2025-02-11T22:06:51.982Z"
   },
   {
    "duration": 3,
    "start_time": "2025-02-11T22:06:52.020Z"
   },
   {
    "duration": 8,
    "start_time": "2025-02-11T22:06:52.025Z"
   },
   {
    "duration": 7,
    "start_time": "2025-02-11T22:06:52.034Z"
   },
   {
    "duration": 12,
    "start_time": "2025-02-11T22:06:52.043Z"
   },
   {
    "duration": 14,
    "start_time": "2025-02-11T22:06:52.057Z"
   },
   {
    "duration": 38,
    "start_time": "2025-02-11T22:06:52.072Z"
   },
   {
    "duration": 5,
    "start_time": "2025-02-11T22:06:52.111Z"
   },
   {
    "duration": 7,
    "start_time": "2025-02-11T22:06:52.117Z"
   },
   {
    "duration": 6,
    "start_time": "2025-02-11T22:06:52.126Z"
   },
   {
    "duration": 7,
    "start_time": "2025-02-11T22:06:52.133Z"
   },
   {
    "duration": 11,
    "start_time": "2025-02-11T22:06:52.142Z"
   },
   {
    "duration": 6,
    "start_time": "2025-02-11T22:06:52.154Z"
   },
   {
    "duration": 6,
    "start_time": "2025-02-11T22:06:52.161Z"
   },
   {
    "duration": 7,
    "start_time": "2025-02-11T22:06:52.209Z"
   },
   {
    "duration": 6,
    "start_time": "2025-02-11T22:06:52.217Z"
   },
   {
    "duration": 12,
    "start_time": "2025-02-11T22:06:52.225Z"
   },
   {
    "duration": 3,
    "start_time": "2025-02-11T22:06:52.238Z"
   },
   {
    "duration": 10,
    "start_time": "2025-02-11T22:06:52.243Z"
   },
   {
    "duration": 3,
    "start_time": "2025-02-11T22:06:52.255Z"
   },
   {
    "duration": 4,
    "start_time": "2025-02-11T22:06:52.259Z"
   },
   {
    "duration": 47,
    "start_time": "2025-02-11T22:06:52.265Z"
   },
   {
    "duration": 7,
    "start_time": "2025-02-11T22:06:52.314Z"
   },
   {
    "duration": 12,
    "start_time": "2025-02-11T22:06:52.322Z"
   },
   {
    "duration": 7,
    "start_time": "2025-02-11T22:06:52.335Z"
   },
   {
    "duration": 3,
    "start_time": "2025-02-11T22:06:52.343Z"
   },
   {
    "duration": 8,
    "start_time": "2025-02-11T22:06:52.348Z"
   },
   {
    "duration": 5,
    "start_time": "2025-02-11T22:06:52.357Z"
   },
   {
    "duration": 11,
    "start_time": "2025-02-11T22:06:52.364Z"
   },
   {
    "duration": 6,
    "start_time": "2025-02-11T22:06:52.409Z"
   },
   {
    "duration": 10,
    "start_time": "2025-02-11T22:06:52.417Z"
   },
   {
    "duration": 5,
    "start_time": "2025-02-11T22:06:52.428Z"
   },
   {
    "duration": 10,
    "start_time": "2025-02-11T22:06:52.435Z"
   },
   {
    "duration": 4,
    "start_time": "2025-02-11T22:06:52.446Z"
   },
   {
    "duration": 11,
    "start_time": "2025-02-11T22:06:52.451Z"
   },
   {
    "duration": 3,
    "start_time": "2025-02-11T22:06:52.464Z"
   },
   {
    "duration": 42,
    "start_time": "2025-02-11T22:06:52.469Z"
   },
   {
    "duration": 13,
    "start_time": "2025-02-11T22:06:52.513Z"
   },
   {
    "duration": 5,
    "start_time": "2025-02-11T22:06:52.527Z"
   },
   {
    "duration": 14,
    "start_time": "2025-02-11T22:06:52.534Z"
   },
   {
    "duration": 5,
    "start_time": "2025-02-11T22:06:52.549Z"
   },
   {
    "duration": 3,
    "start_time": "2025-02-11T22:06:52.555Z"
   },
   {
    "duration": 49,
    "start_time": "2025-02-11T22:06:52.560Z"
   },
   {
    "duration": 190,
    "start_time": "2025-02-11T22:06:52.611Z"
   },
   {
    "duration": 10,
    "start_time": "2025-02-11T22:06:52.803Z"
   },
   {
    "duration": 172,
    "start_time": "2025-02-11T22:06:52.815Z"
   },
   {
    "duration": 23,
    "start_time": "2025-02-11T22:06:52.989Z"
   },
   {
    "duration": 11,
    "start_time": "2025-02-11T22:06:53.013Z"
   },
   {
    "duration": 209,
    "start_time": "2025-02-11T22:06:53.025Z"
   },
   {
    "duration": 5,
    "start_time": "2025-02-11T22:06:53.236Z"
   },
   {
    "duration": 4,
    "start_time": "2025-02-11T22:06:53.243Z"
   },
   {
    "duration": 198,
    "start_time": "2025-02-11T22:06:53.249Z"
   },
   {
    "duration": 202,
    "start_time": "2025-02-11T22:06:53.453Z"
   },
   {
    "duration": 199,
    "start_time": "2025-02-11T22:06:53.657Z"
   },
   {
    "duration": 221,
    "start_time": "2025-02-11T22:06:53.858Z"
   },
   {
    "duration": 199,
    "start_time": "2025-02-11T22:06:54.080Z"
   },
   {
    "duration": 195,
    "start_time": "2025-02-11T22:06:54.280Z"
   },
   {
    "duration": 151,
    "start_time": "2025-02-11T22:06:54.477Z"
   },
   {
    "duration": 184,
    "start_time": "2025-02-11T22:06:54.630Z"
   },
   {
    "duration": 6,
    "start_time": "2025-02-11T22:06:54.816Z"
   },
   {
    "duration": 4,
    "start_time": "2025-02-11T22:06:54.823Z"
   },
   {
    "duration": 20,
    "start_time": "2025-02-11T22:06:54.828Z"
   },
   {
    "duration": 10,
    "start_time": "2025-02-11T22:06:54.850Z"
   },
   {
    "duration": 10,
    "start_time": "2025-02-11T22:06:54.861Z"
   },
   {
    "duration": 43,
    "start_time": "2025-02-11T22:06:54.873Z"
   },
   {
    "duration": 5,
    "start_time": "2025-02-11T22:06:54.917Z"
   },
   {
    "duration": 6,
    "start_time": "2025-02-11T22:09:36.662Z"
   },
   {
    "duration": 6,
    "start_time": "2025-02-11T23:49:15.745Z"
   },
   {
    "duration": 6,
    "start_time": "2025-02-11T23:49:37.097Z"
   },
   {
    "duration": 4,
    "start_time": "2025-02-11T23:49:57.064Z"
   },
   {
    "duration": 3,
    "start_time": "2025-02-11T23:50:08.189Z"
   },
   {
    "duration": 4,
    "start_time": "2025-02-11T23:50:16.177Z"
   },
   {
    "duration": 4,
    "start_time": "2025-02-11T23:51:31.770Z"
   },
   {
    "duration": 3,
    "start_time": "2025-02-11T23:54:51.613Z"
   },
   {
    "duration": 167,
    "start_time": "2025-02-11T23:59:13.201Z"
   },
   {
    "duration": 2529,
    "start_time": "2025-02-11T23:59:34.635Z"
   },
   {
    "duration": 204,
    "start_time": "2025-02-11T23:59:37.166Z"
   },
   {
    "duration": 3,
    "start_time": "2025-02-11T23:59:37.372Z"
   },
   {
    "duration": 15,
    "start_time": "2025-02-11T23:59:43.415Z"
   },
   {
    "duration": 3,
    "start_time": "2025-02-12T00:01:36.341Z"
   },
   {
    "duration": 11,
    "start_time": "2025-02-12T00:01:40.794Z"
   },
   {
    "duration": 13,
    "start_time": "2025-02-12T00:02:28.107Z"
   },
   {
    "duration": 6,
    "start_time": "2025-02-12T00:02:34.528Z"
   },
   {
    "duration": 5,
    "start_time": "2025-02-12T00:02:43.318Z"
   },
   {
    "duration": 14,
    "start_time": "2025-02-12T00:02:44.265Z"
   },
   {
    "duration": 52,
    "start_time": "2025-02-12T00:03:23.421Z"
   },
   {
    "duration": 12,
    "start_time": "2025-02-12T00:03:32.233Z"
   },
   {
    "duration": 16,
    "start_time": "2025-02-12T00:03:38.018Z"
   },
   {
    "duration": 4,
    "start_time": "2025-02-12T00:03:38.769Z"
   },
   {
    "duration": 7,
    "start_time": "2025-02-12T00:03:42.501Z"
   },
   {
    "duration": 3,
    "start_time": "2025-02-12T00:03:45.301Z"
   },
   {
    "duration": 28,
    "start_time": "2025-02-12T00:03:45.891Z"
   },
   {
    "duration": 81,
    "start_time": "2025-02-12T00:03:47.789Z"
   },
   {
    "duration": 105,
    "start_time": "2025-02-12T00:03:54.462Z"
   },
   {
    "duration": 29,
    "start_time": "2025-02-12T00:04:10.728Z"
   },
   {
    "duration": 8,
    "start_time": "2025-02-12T00:04:18.374Z"
   },
   {
    "duration": 13,
    "start_time": "2025-02-12T00:04:33.573Z"
   },
   {
    "duration": 35,
    "start_time": "2025-02-12T00:04:35.209Z"
   },
   {
    "duration": 14,
    "start_time": "2025-02-12T00:05:52.784Z"
   },
   {
    "duration": 49,
    "start_time": "2025-02-12T00:05:55.132Z"
   },
   {
    "duration": 7,
    "start_time": "2025-02-12T00:05:58.643Z"
   },
   {
    "duration": 12,
    "start_time": "2025-02-12T00:06:18.459Z"
   },
   {
    "duration": 67,
    "start_time": "2025-02-12T00:07:12.788Z"
   },
   {
    "duration": 17,
    "start_time": "2025-02-12T00:07:20.851Z"
   },
   {
    "duration": 8,
    "start_time": "2025-02-12T00:07:21.811Z"
   },
   {
    "duration": 70,
    "start_time": "2025-02-12T00:26:50.622Z"
   },
   {
    "duration": 2,
    "start_time": "2025-02-12T00:26:57.563Z"
   },
   {
    "duration": 174,
    "start_time": "2025-02-12T00:26:57.569Z"
   },
   {
    "duration": 4,
    "start_time": "2025-02-12T00:26:57.745Z"
   },
   {
    "duration": 13,
    "start_time": "2025-02-12T00:26:57.751Z"
   },
   {
    "duration": 4,
    "start_time": "2025-02-12T00:26:57.766Z"
   },
   {
    "duration": 13,
    "start_time": "2025-02-12T00:26:57.773Z"
   },
   {
    "duration": 5,
    "start_time": "2025-02-12T00:26:57.788Z"
   },
   {
    "duration": 5,
    "start_time": "2025-02-12T00:26:57.832Z"
   },
   {
    "duration": 13,
    "start_time": "2025-02-12T00:26:57.839Z"
   },
   {
    "duration": 51,
    "start_time": "2025-02-12T00:26:57.854Z"
   },
   {
    "duration": 28,
    "start_time": "2025-02-12T00:26:57.907Z"
   },
   {
    "duration": 15,
    "start_time": "2025-02-12T00:26:57.937Z"
   },
   {
    "duration": 4,
    "start_time": "2025-02-12T00:26:57.953Z"
   },
   {
    "duration": 8,
    "start_time": "2025-02-12T00:26:57.958Z"
   },
   {
    "duration": 3,
    "start_time": "2025-02-12T00:26:57.971Z"
   },
   {
    "duration": 54,
    "start_time": "2025-02-12T00:26:57.976Z"
   },
   {
    "duration": 86,
    "start_time": "2025-02-12T00:26:58.032Z"
   },
   {
    "duration": 113,
    "start_time": "2025-02-12T00:26:58.132Z"
   },
   {
    "duration": 30,
    "start_time": "2025-02-12T00:26:58.248Z"
   },
   {
    "duration": 6,
    "start_time": "2025-02-12T00:26:58.280Z"
   },
   {
    "duration": 10,
    "start_time": "2025-02-12T00:26:58.288Z"
   },
   {
    "duration": 64,
    "start_time": "2025-02-12T00:26:58.299Z"
   },
   {
    "duration": 14,
    "start_time": "2025-02-12T00:26:58.365Z"
   },
   {
    "duration": 69,
    "start_time": "2025-02-12T00:26:58.380Z"
   },
   {
    "duration": 9,
    "start_time": "2025-02-12T00:26:58.451Z"
   },
   {
    "duration": 12,
    "start_time": "2025-02-12T00:26:58.462Z"
   },
   {
    "duration": 96,
    "start_time": "2025-02-12T00:26:58.476Z"
   },
   {
    "duration": 17,
    "start_time": "2025-02-12T00:26:58.574Z"
   },
   {
    "duration": 7,
    "start_time": "2025-02-12T00:26:58.593Z"
   },
   {
    "duration": 32,
    "start_time": "2025-02-12T00:26:58.602Z"
   },
   {
    "duration": 4,
    "start_time": "2025-02-12T00:26:58.636Z"
   },
   {
    "duration": 7,
    "start_time": "2025-02-12T00:26:58.642Z"
   },
   {
    "duration": 8,
    "start_time": "2025-02-12T00:26:58.651Z"
   },
   {
    "duration": 15,
    "start_time": "2025-02-12T00:26:58.660Z"
   },
   {
    "duration": 16,
    "start_time": "2025-02-12T00:26:58.677Z"
   },
   {
    "duration": 6,
    "start_time": "2025-02-12T00:26:58.695Z"
   },
   {
    "duration": 6,
    "start_time": "2025-02-12T00:26:58.732Z"
   },
   {
    "duration": 7,
    "start_time": "2025-02-12T00:26:58.740Z"
   },
   {
    "duration": 6,
    "start_time": "2025-02-12T00:26:58.749Z"
   },
   {
    "duration": 7,
    "start_time": "2025-02-12T00:26:58.757Z"
   },
   {
    "duration": 14,
    "start_time": "2025-02-12T00:26:58.766Z"
   },
   {
    "duration": 5,
    "start_time": "2025-02-12T00:26:58.787Z"
   },
   {
    "duration": 7,
    "start_time": "2025-02-12T00:26:58.832Z"
   },
   {
    "duration": 6,
    "start_time": "2025-02-12T00:26:58.840Z"
   },
   {
    "duration": 7,
    "start_time": "2025-02-12T00:26:58.848Z"
   },
   {
    "duration": 16,
    "start_time": "2025-02-12T00:26:58.856Z"
   },
   {
    "duration": 3,
    "start_time": "2025-02-12T00:26:58.874Z"
   },
   {
    "duration": 17,
    "start_time": "2025-02-12T00:26:58.879Z"
   },
   {
    "duration": 4,
    "start_time": "2025-02-12T00:26:58.932Z"
   },
   {
    "duration": 5,
    "start_time": "2025-02-12T00:26:58.937Z"
   },
   {
    "duration": 15,
    "start_time": "2025-02-12T00:26:58.943Z"
   },
   {
    "duration": 5,
    "start_time": "2025-02-12T00:26:58.960Z"
   },
   {
    "duration": 17,
    "start_time": "2025-02-12T00:26:58.967Z"
   },
   {
    "duration": 7,
    "start_time": "2025-02-12T00:26:58.986Z"
   },
   {
    "duration": 37,
    "start_time": "2025-02-12T00:26:58.994Z"
   },
   {
    "duration": 8,
    "start_time": "2025-02-12T00:26:59.033Z"
   },
   {
    "duration": 5,
    "start_time": "2025-02-12T00:26:59.043Z"
   },
   {
    "duration": 10,
    "start_time": "2025-02-12T00:26:59.050Z"
   },
   {
    "duration": 12,
    "start_time": "2025-02-12T00:26:59.061Z"
   },
   {
    "duration": 10,
    "start_time": "2025-02-12T00:26:59.074Z"
   },
   {
    "duration": 6,
    "start_time": "2025-02-12T00:26:59.086Z"
   },
   {
    "duration": 39,
    "start_time": "2025-02-12T00:26:59.093Z"
   },
   {
    "duration": 4,
    "start_time": "2025-02-12T00:26:59.134Z"
   },
   {
    "duration": 13,
    "start_time": "2025-02-12T00:26:59.139Z"
   },
   {
    "duration": 3,
    "start_time": "2025-02-12T00:26:59.154Z"
   },
   {
    "duration": 4,
    "start_time": "2025-02-12T00:26:59.158Z"
   },
   {
    "duration": 12,
    "start_time": "2025-02-12T00:26:59.164Z"
   },
   {
    "duration": 11,
    "start_time": "2025-02-12T00:26:59.178Z"
   },
   {
    "duration": 48,
    "start_time": "2025-02-12T00:26:59.191Z"
   },
   {
    "duration": 6,
    "start_time": "2025-02-12T00:26:59.241Z"
   },
   {
    "duration": 3,
    "start_time": "2025-02-12T00:26:59.249Z"
   },
   {
    "duration": 5,
    "start_time": "2025-02-12T00:26:59.254Z"
   },
   {
    "duration": 15,
    "start_time": "2025-02-12T00:26:59.261Z"
   },
   {
    "duration": 230,
    "start_time": "2025-02-12T00:26:59.279Z"
   },
   {
    "duration": 6,
    "start_time": "2025-02-12T00:26:59.511Z"
   },
   {
    "duration": 182,
    "start_time": "2025-02-12T00:26:59.520Z"
   },
   {
    "duration": 15,
    "start_time": "2025-02-12T00:26:59.703Z"
   },
   {
    "duration": 13,
    "start_time": "2025-02-12T00:26:59.731Z"
   },
   {
    "duration": 200,
    "start_time": "2025-02-12T00:26:59.746Z"
   },
   {
    "duration": 5,
    "start_time": "2025-02-12T00:26:59.948Z"
   },
   {
    "duration": 6,
    "start_time": "2025-02-12T00:26:59.954Z"
   },
   {
    "duration": 200,
    "start_time": "2025-02-12T00:26:59.961Z"
   },
   {
    "duration": 282,
    "start_time": "2025-02-12T00:27:00.163Z"
   },
   {
    "duration": 212,
    "start_time": "2025-02-12T00:27:00.448Z"
   },
   {
    "duration": 177,
    "start_time": "2025-02-12T00:27:00.663Z"
   },
   {
    "duration": 203,
    "start_time": "2025-02-12T00:27:00.842Z"
   },
   {
    "duration": 209,
    "start_time": "2025-02-12T00:27:01.047Z"
   },
   {
    "duration": 160,
    "start_time": "2025-02-12T00:27:01.258Z"
   },
   {
    "duration": 205,
    "start_time": "2025-02-12T00:27:01.420Z"
   },
   {
    "duration": 6,
    "start_time": "2025-02-12T00:27:01.630Z"
   },
   {
    "duration": 4,
    "start_time": "2025-02-12T00:27:01.638Z"
   },
   {
    "duration": 21,
    "start_time": "2025-02-12T00:27:01.643Z"
   },
   {
    "duration": 12,
    "start_time": "2025-02-12T00:27:01.665Z"
   },
   {
    "duration": 11,
    "start_time": "2025-02-12T00:27:01.679Z"
   },
   {
    "duration": 43,
    "start_time": "2025-02-12T00:27:01.692Z"
   },
   {
    "duration": 7,
    "start_time": "2025-02-12T00:27:01.737Z"
   },
   {
    "duration": 3,
    "start_time": "2025-02-12T00:40:03.984Z"
   },
   {
    "duration": 812,
    "start_time": "2025-02-12T00:40:21.065Z"
   },
   {
    "duration": 163,
    "start_time": "2025-02-12T00:40:21.880Z"
   },
   {
    "duration": 4,
    "start_time": "2025-02-12T00:40:22.045Z"
   },
   {
    "duration": 14,
    "start_time": "2025-02-12T00:40:22.051Z"
   },
   {
    "duration": 5,
    "start_time": "2025-02-12T00:40:22.067Z"
   },
   {
    "duration": 13,
    "start_time": "2025-02-12T00:40:22.074Z"
   },
   {
    "duration": 6,
    "start_time": "2025-02-12T00:40:22.088Z"
   },
   {
    "duration": 35,
    "start_time": "2025-02-12T00:40:22.096Z"
   },
   {
    "duration": 16,
    "start_time": "2025-02-12T00:40:22.133Z"
   },
   {
    "duration": 57,
    "start_time": "2025-02-12T00:40:22.152Z"
   },
   {
    "duration": 25,
    "start_time": "2025-02-12T00:40:22.211Z"
   },
   {
    "duration": 21,
    "start_time": "2025-02-12T00:40:22.238Z"
   },
   {
    "duration": 4,
    "start_time": "2025-02-12T00:40:22.261Z"
   },
   {
    "duration": 8,
    "start_time": "2025-02-12T00:40:22.268Z"
   },
   {
    "duration": 3,
    "start_time": "2025-02-12T00:40:22.278Z"
   },
   {
    "duration": 55,
    "start_time": "2025-02-12T00:40:22.282Z"
   },
   {
    "duration": 66,
    "start_time": "2025-02-12T00:40:22.338Z"
   },
   {
    "duration": 108,
    "start_time": "2025-02-12T00:40:22.406Z"
   },
   {
    "duration": 37,
    "start_time": "2025-02-12T00:40:22.517Z"
   },
   {
    "duration": 5,
    "start_time": "2025-02-12T00:40:22.556Z"
   },
   {
    "duration": 11,
    "start_time": "2025-02-12T00:40:22.563Z"
   },
   {
    "duration": 33,
    "start_time": "2025-02-12T00:40:22.575Z"
   },
   {
    "duration": 14,
    "start_time": "2025-02-12T00:40:22.631Z"
   },
   {
    "duration": 47,
    "start_time": "2025-02-12T00:40:22.646Z"
   },
   {
    "duration": 7,
    "start_time": "2025-02-12T00:40:22.696Z"
   },
   {
    "duration": 35,
    "start_time": "2025-02-12T00:40:22.704Z"
   },
   {
    "duration": 58,
    "start_time": "2025-02-12T00:40:22.742Z"
   },
   {
    "duration": 31,
    "start_time": "2025-02-12T00:40:22.804Z"
   },
   {
    "duration": 8,
    "start_time": "2025-02-12T00:40:22.837Z"
   },
   {
    "duration": 10,
    "start_time": "2025-02-12T00:40:22.847Z"
   },
   {
    "duration": 3,
    "start_time": "2025-02-12T00:40:22.859Z"
   },
   {
    "duration": 7,
    "start_time": "2025-02-12T00:40:22.865Z"
   },
   {
    "duration": 8,
    "start_time": "2025-02-12T00:40:22.874Z"
   },
   {
    "duration": 14,
    "start_time": "2025-02-12T00:40:22.883Z"
   },
   {
    "duration": 14,
    "start_time": "2025-02-12T00:40:22.932Z"
   },
   {
    "duration": 7,
    "start_time": "2025-02-12T00:40:22.947Z"
   },
   {
    "duration": 5,
    "start_time": "2025-02-12T00:40:22.955Z"
   },
   {
    "duration": 6,
    "start_time": "2025-02-12T00:40:22.962Z"
   },
   {
    "duration": 6,
    "start_time": "2025-02-12T00:40:22.970Z"
   },
   {
    "duration": 7,
    "start_time": "2025-02-12T00:40:22.979Z"
   },
   {
    "duration": 44,
    "start_time": "2025-02-12T00:40:22.989Z"
   },
   {
    "duration": 6,
    "start_time": "2025-02-12T00:40:23.035Z"
   },
   {
    "duration": 4,
    "start_time": "2025-02-12T00:41:14.076Z"
   },
   {
    "duration": 7,
    "start_time": "2025-02-12T00:41:48.000Z"
   },
   {
    "duration": 6,
    "start_time": "2025-02-12T00:42:08.035Z"
   },
   {
    "duration": 7,
    "start_time": "2025-02-12T00:42:09.600Z"
   },
   {
    "duration": 8,
    "start_time": "2025-02-12T00:42:10.403Z"
   },
   {
    "duration": 17,
    "start_time": "2025-02-12T00:42:21.814Z"
   },
   {
    "duration": 2,
    "start_time": "2025-02-12T00:42:44.254Z"
   },
   {
    "duration": 17,
    "start_time": "2025-02-12T00:42:55.492Z"
   },
   {
    "duration": 4,
    "start_time": "2025-02-12T00:43:16.577Z"
   },
   {
    "duration": 16,
    "start_time": "2025-02-12T00:45:40.064Z"
   },
   {
    "duration": 16,
    "start_time": "2025-02-12T00:46:03.866Z"
   },
   {
    "duration": 4,
    "start_time": "2025-02-12T00:46:08.168Z"
   },
   {
    "duration": 15,
    "start_time": "2025-02-12T00:46:09.042Z"
   },
   {
    "duration": 6,
    "start_time": "2025-02-12T00:46:27.389Z"
   },
   {
    "duration": 17,
    "start_time": "2025-02-12T00:46:28.645Z"
   },
   {
    "duration": 8,
    "start_time": "2025-02-12T00:46:41.421Z"
   },
   {
    "duration": 3,
    "start_time": "2025-02-12T00:46:52.490Z"
   },
   {
    "duration": 7,
    "start_time": "2025-02-12T00:46:53.987Z"
   },
   {
    "duration": 6,
    "start_time": "2025-02-12T00:47:05.413Z"
   },
   {
    "duration": 9,
    "start_time": "2025-02-12T00:47:14.212Z"
   },
   {
    "duration": 5,
    "start_time": "2025-02-12T00:47:25.551Z"
   },
   {
    "duration": 11,
    "start_time": "2025-02-12T00:47:33.864Z"
   },
   {
    "duration": 5,
    "start_time": "2025-02-12T00:47:52.965Z"
   },
   {
    "duration": 12,
    "start_time": "2025-02-12T00:47:56.540Z"
   },
   {
    "duration": 3,
    "start_time": "2025-02-12T00:50:11.995Z"
   },
   {
    "duration": 3,
    "start_time": "2025-02-12T00:50:35.140Z"
   },
   {
    "duration": 10,
    "start_time": "2025-02-12T00:50:59.972Z"
   },
   {
    "duration": 5,
    "start_time": "2025-02-12T00:51:29.740Z"
   },
   {
    "duration": 22,
    "start_time": "2025-02-12T00:51:31.571Z"
   },
   {
    "duration": 4,
    "start_time": "2025-02-12T00:52:43.028Z"
   },
   {
    "duration": 5,
    "start_time": "2025-02-12T00:53:07.892Z"
   },
   {
    "duration": 14,
    "start_time": "2025-02-12T00:54:30.196Z"
   },
   {
    "duration": 188,
    "start_time": "2025-02-12T00:54:34.912Z"
   },
   {
    "duration": 5,
    "start_time": "2025-02-12T00:54:41.116Z"
   },
   {
    "duration": 159,
    "start_time": "2025-02-12T00:54:45.862Z"
   },
   {
    "duration": 18,
    "start_time": "2025-02-12T00:54:50.501Z"
   },
   {
    "duration": 11,
    "start_time": "2025-02-12T00:54:53.327Z"
   },
   {
    "duration": 255,
    "start_time": "2025-02-12T00:55:24.004Z"
   },
   {
    "duration": 4,
    "start_time": "2025-02-12T00:55:32.343Z"
   },
   {
    "duration": 5,
    "start_time": "2025-02-12T00:55:44.238Z"
   },
   {
    "duration": 183,
    "start_time": "2025-02-12T00:55:47.172Z"
   },
   {
    "duration": 192,
    "start_time": "2025-02-12T00:55:48.614Z"
   },
   {
    "duration": 192,
    "start_time": "2025-02-12T00:56:10.443Z"
   },
   {
    "duration": 160,
    "start_time": "2025-02-12T00:56:16.143Z"
   },
   {
    "duration": 202,
    "start_time": "2025-02-12T00:56:44.386Z"
   },
   {
    "duration": 210,
    "start_time": "2025-02-12T00:59:57.651Z"
   },
   {
    "duration": 3,
    "start_time": "2025-02-12T01:02:52.123Z"
   },
   {
    "duration": 190,
    "start_time": "2025-02-12T01:03:05.711Z"
   },
   {
    "duration": 146,
    "start_time": "2025-02-12T01:03:11.302Z"
   },
   {
    "duration": 179,
    "start_time": "2025-02-12T01:03:16.173Z"
   },
   {
    "duration": 6,
    "start_time": "2025-02-12T01:03:58.854Z"
   },
   {
    "duration": 4,
    "start_time": "2025-02-12T01:08:10.604Z"
   },
   {
    "duration": 4,
    "start_time": "2025-02-12T01:10:08.524Z"
   },
   {
    "duration": 4,
    "start_time": "2025-02-12T01:16:19.321Z"
   },
   {
    "duration": 20,
    "start_time": "2025-02-12T01:16:59.998Z"
   },
   {
    "duration": 24,
    "start_time": "2025-02-12T01:17:36.534Z"
   },
   {
    "duration": 11,
    "start_time": "2025-02-12T01:20:26.021Z"
   },
   {
    "duration": 14,
    "start_time": "2025-02-12T01:20:37.936Z"
   },
   {
    "duration": 12,
    "start_time": "2025-02-12T01:20:42.310Z"
   },
   {
    "duration": 5,
    "start_time": "2025-02-12T01:20:55.992Z"
   },
   {
    "duration": 8,
    "start_time": "2025-02-12T01:44:27.533Z"
   },
   {
    "duration": 5,
    "start_time": "2025-02-12T01:45:51.428Z"
   },
   {
    "duration": 3,
    "start_time": "2025-02-12T01:49:50.008Z"
   },
   {
    "duration": 196,
    "start_time": "2025-02-12T01:49:50.013Z"
   },
   {
    "duration": 4,
    "start_time": "2025-02-12T01:49:50.210Z"
   },
   {
    "duration": 14,
    "start_time": "2025-02-12T01:49:50.232Z"
   },
   {
    "duration": 7,
    "start_time": "2025-02-12T01:49:50.248Z"
   },
   {
    "duration": 13,
    "start_time": "2025-02-12T01:49:50.257Z"
   },
   {
    "duration": 6,
    "start_time": "2025-02-12T01:49:50.272Z"
   },
   {
    "duration": 5,
    "start_time": "2025-02-12T01:49:50.280Z"
   },
   {
    "duration": 45,
    "start_time": "2025-02-12T01:49:50.288Z"
   },
   {
    "duration": 54,
    "start_time": "2025-02-12T01:49:50.335Z"
   },
   {
    "duration": 7,
    "start_time": "2025-02-12T01:49:50.391Z"
   },
   {
    "duration": 43,
    "start_time": "2025-02-12T01:49:50.400Z"
   },
   {
    "duration": 3,
    "start_time": "2025-02-12T01:49:50.446Z"
   },
   {
    "duration": 6,
    "start_time": "2025-02-12T01:49:50.451Z"
   },
   {
    "duration": 3,
    "start_time": "2025-02-12T01:49:50.459Z"
   },
   {
    "duration": 22,
    "start_time": "2025-02-12T01:49:50.464Z"
   },
   {
    "duration": 101,
    "start_time": "2025-02-12T01:49:50.488Z"
   },
   {
    "duration": 105,
    "start_time": "2025-02-12T01:49:50.591Z"
   },
   {
    "duration": 41,
    "start_time": "2025-02-12T01:49:50.698Z"
   },
   {
    "duration": 6,
    "start_time": "2025-02-12T01:49:50.742Z"
   },
   {
    "duration": 10,
    "start_time": "2025-02-12T01:49:50.750Z"
   },
   {
    "duration": 40,
    "start_time": "2025-02-12T01:49:50.761Z"
   },
   {
    "duration": 38,
    "start_time": "2025-02-12T01:49:50.803Z"
   },
   {
    "duration": 52,
    "start_time": "2025-02-12T01:49:50.845Z"
   },
   {
    "duration": 9,
    "start_time": "2025-02-12T01:49:50.899Z"
   },
   {
    "duration": 30,
    "start_time": "2025-02-12T01:49:50.910Z"
   },
   {
    "duration": 70,
    "start_time": "2025-02-12T01:49:50.943Z"
   },
   {
    "duration": 26,
    "start_time": "2025-02-12T01:49:51.016Z"
   },
   {
    "duration": 10,
    "start_time": "2025-02-12T01:49:51.044Z"
   },
   {
    "duration": 12,
    "start_time": "2025-02-12T01:49:51.055Z"
   },
   {
    "duration": 3,
    "start_time": "2025-02-12T01:49:51.069Z"
   },
   {
    "duration": 8,
    "start_time": "2025-02-12T01:49:51.074Z"
   },
   {
    "duration": 8,
    "start_time": "2025-02-12T01:49:51.084Z"
   },
   {
    "duration": 47,
    "start_time": "2025-02-12T01:49:51.093Z"
   },
   {
    "duration": 16,
    "start_time": "2025-02-12T01:49:51.142Z"
   },
   {
    "duration": 6,
    "start_time": "2025-02-12T01:49:51.159Z"
   },
   {
    "duration": 5,
    "start_time": "2025-02-12T01:49:51.166Z"
   },
   {
    "duration": 8,
    "start_time": "2025-02-12T01:49:51.173Z"
   },
   {
    "duration": 5,
    "start_time": "2025-02-12T01:49:51.183Z"
   },
   {
    "duration": 9,
    "start_time": "2025-02-12T01:49:51.190Z"
   },
   {
    "duration": 17,
    "start_time": "2025-02-12T01:49:51.231Z"
   },
   {
    "duration": 8,
    "start_time": "2025-02-12T01:49:51.251Z"
   },
   {
    "duration": 9,
    "start_time": "2025-02-12T01:49:51.261Z"
   },
   {
    "duration": 7,
    "start_time": "2025-02-12T01:49:51.272Z"
   },
   {
    "duration": 10,
    "start_time": "2025-02-12T01:49:51.281Z"
   },
   {
    "duration": 6,
    "start_time": "2025-02-12T01:49:51.293Z"
   },
   {
    "duration": 30,
    "start_time": "2025-02-12T01:49:51.301Z"
   },
   {
    "duration": 23,
    "start_time": "2025-02-12T01:49:51.333Z"
   },
   {
    "duration": 2,
    "start_time": "2025-02-12T01:49:51.358Z"
   },
   {
    "duration": 100,
    "start_time": "2025-02-12T01:49:51.362Z"
   },
   {
    "duration": 6,
    "start_time": "2025-02-12T01:49:51.464Z"
   },
   {
    "duration": 5,
    "start_time": "2025-02-12T01:49:51.471Z"
   },
   {
    "duration": 14,
    "start_time": "2025-02-12T01:49:51.478Z"
   },
   {
    "duration": 7,
    "start_time": "2025-02-12T01:49:51.493Z"
   },
   {
    "duration": 37,
    "start_time": "2025-02-12T01:49:51.501Z"
   },
   {
    "duration": 8,
    "start_time": "2025-02-12T01:49:51.540Z"
   },
   {
    "duration": 4,
    "start_time": "2025-02-12T01:49:51.551Z"
   },
   {
    "duration": 7,
    "start_time": "2025-02-12T01:49:51.557Z"
   },
   {
    "duration": 6,
    "start_time": "2025-02-12T01:49:51.566Z"
   },
   {
    "duration": 13,
    "start_time": "2025-02-12T01:49:51.575Z"
   },
   {
    "duration": 6,
    "start_time": "2025-02-12T01:49:51.591Z"
   },
   {
    "duration": 37,
    "start_time": "2025-02-12T01:49:51.600Z"
   },
   {
    "duration": 6,
    "start_time": "2025-02-12T01:49:51.638Z"
   },
   {
    "duration": 12,
    "start_time": "2025-02-12T01:49:51.646Z"
   },
   {
    "duration": 3,
    "start_time": "2025-02-12T01:49:51.659Z"
   },
   {
    "duration": 4,
    "start_time": "2025-02-12T01:49:51.663Z"
   },
   {
    "duration": 12,
    "start_time": "2025-02-12T01:49:51.668Z"
   },
   {
    "duration": 4,
    "start_time": "2025-02-12T01:49:51.682Z"
   },
   {
    "duration": 56,
    "start_time": "2025-02-12T01:49:51.692Z"
   },
   {
    "duration": 6,
    "start_time": "2025-02-12T01:49:51.750Z"
   },
   {
    "duration": 17,
    "start_time": "2025-02-12T01:49:51.758Z"
   },
   {
    "duration": 227,
    "start_time": "2025-02-12T01:49:51.778Z"
   },
   {
    "duration": 7,
    "start_time": "2025-02-12T01:49:52.007Z"
   },
   {
    "duration": 179,
    "start_time": "2025-02-12T01:49:52.016Z"
   },
   {
    "duration": 16,
    "start_time": "2025-02-12T01:49:52.199Z"
   },
   {
    "duration": 20,
    "start_time": "2025-02-12T01:49:52.216Z"
   },
   {
    "duration": 241,
    "start_time": "2025-02-12T01:49:52.239Z"
   },
   {
    "duration": 5,
    "start_time": "2025-02-12T01:49:52.484Z"
   },
   {
    "duration": 5,
    "start_time": "2025-02-12T01:49:52.491Z"
   },
   {
    "duration": 198,
    "start_time": "2025-02-12T01:49:52.497Z"
   },
   {
    "duration": 204,
    "start_time": "2025-02-12T01:49:52.696Z"
   },
   {
    "duration": 202,
    "start_time": "2025-02-12T01:49:52.903Z"
   },
   {
    "duration": 168,
    "start_time": "2025-02-12T01:49:53.106Z"
   },
   {
    "duration": 206,
    "start_time": "2025-02-12T01:49:53.276Z"
   },
   {
    "duration": 224,
    "start_time": "2025-02-12T01:49:53.484Z"
   },
   {
    "duration": 155,
    "start_time": "2025-02-12T01:49:53.709Z"
   },
   {
    "duration": 266,
    "start_time": "2025-02-12T01:49:53.865Z"
   },
   {
    "duration": 7,
    "start_time": "2025-02-12T01:49:54.134Z"
   },
   {
    "duration": 4,
    "start_time": "2025-02-12T01:49:54.142Z"
   },
   {
    "duration": 4,
    "start_time": "2025-02-12T01:49:54.147Z"
   },
   {
    "duration": 22,
    "start_time": "2025-02-12T01:49:54.153Z"
   },
   {
    "duration": 25,
    "start_time": "2025-02-12T01:49:54.177Z"
   },
   {
    "duration": 14,
    "start_time": "2025-02-12T01:49:54.232Z"
   },
   {
    "duration": 11,
    "start_time": "2025-02-12T01:49:54.248Z"
   },
   {
    "duration": 10,
    "start_time": "2025-02-12T01:49:54.261Z"
   },
   {
    "duration": 6,
    "start_time": "2025-02-12T01:49:54.273Z"
   },
   {
    "duration": 812,
    "start_time": "2025-02-12T09:52:07.034Z"
   },
   {
    "duration": 230,
    "start_time": "2025-02-12T09:52:07.850Z"
   },
   {
    "duration": 3,
    "start_time": "2025-02-12T09:52:08.082Z"
   },
   {
    "duration": 14,
    "start_time": "2025-02-12T09:52:08.087Z"
   },
   {
    "duration": 8,
    "start_time": "2025-02-12T09:52:08.104Z"
   },
   {
    "duration": 12,
    "start_time": "2025-02-12T09:52:08.113Z"
   },
   {
    "duration": 9,
    "start_time": "2025-02-12T09:52:08.127Z"
   },
   {
    "duration": 6,
    "start_time": "2025-02-12T09:52:08.139Z"
   },
   {
    "duration": 13,
    "start_time": "2025-02-12T09:52:08.147Z"
   },
   {
    "duration": 68,
    "start_time": "2025-02-12T09:52:08.163Z"
   },
   {
    "duration": 7,
    "start_time": "2025-02-12T09:52:08.233Z"
   },
   {
    "duration": 17,
    "start_time": "2025-02-12T09:52:08.243Z"
   },
   {
    "duration": 3,
    "start_time": "2025-02-12T09:52:08.262Z"
   },
   {
    "duration": 6,
    "start_time": "2025-02-12T09:52:08.267Z"
   },
   {
    "duration": 3,
    "start_time": "2025-02-12T09:52:08.275Z"
   },
   {
    "duration": 53,
    "start_time": "2025-02-12T09:52:08.279Z"
   },
   {
    "duration": 76,
    "start_time": "2025-02-12T09:52:08.334Z"
   },
   {
    "duration": 89,
    "start_time": "2025-02-12T09:52:08.412Z"
   },
   {
    "duration": 41,
    "start_time": "2025-02-12T09:52:08.503Z"
   },
   {
    "duration": 5,
    "start_time": "2025-02-12T09:52:08.547Z"
   },
   {
    "duration": 11,
    "start_time": "2025-02-12T09:52:08.553Z"
   },
   {
    "duration": 32,
    "start_time": "2025-02-12T09:52:08.565Z"
   },
   {
    "duration": 39,
    "start_time": "2025-02-12T09:52:08.598Z"
   },
   {
    "duration": 47,
    "start_time": "2025-02-12T09:52:08.639Z"
   },
   {
    "duration": 7,
    "start_time": "2025-02-12T09:52:08.688Z"
   },
   {
    "duration": 11,
    "start_time": "2025-02-12T09:52:08.697Z"
   },
   {
    "duration": 86,
    "start_time": "2025-02-12T09:52:08.710Z"
   },
   {
    "duration": 32,
    "start_time": "2025-02-12T09:52:08.801Z"
   },
   {
    "duration": 8,
    "start_time": "2025-02-12T09:52:08.834Z"
   },
   {
    "duration": 12,
    "start_time": "2025-02-12T09:52:08.844Z"
   },
   {
    "duration": 3,
    "start_time": "2025-02-12T09:52:08.858Z"
   },
   {
    "duration": 7,
    "start_time": "2025-02-12T09:52:08.863Z"
   },
   {
    "duration": 8,
    "start_time": "2025-02-12T09:52:08.872Z"
   },
   {
    "duration": 13,
    "start_time": "2025-02-12T09:52:08.882Z"
   },
   {
    "duration": 14,
    "start_time": "2025-02-12T09:52:08.931Z"
   },
   {
    "duration": 6,
    "start_time": "2025-02-12T09:52:08.947Z"
   },
   {
    "duration": 5,
    "start_time": "2025-02-12T09:52:08.955Z"
   },
   {
    "duration": 7,
    "start_time": "2025-02-12T09:52:08.962Z"
   },
   {
    "duration": 8,
    "start_time": "2025-02-12T09:52:08.971Z"
   },
   {
    "duration": 7,
    "start_time": "2025-02-12T09:52:08.981Z"
   },
   {
    "duration": 43,
    "start_time": "2025-02-12T09:52:08.990Z"
   },
   {
    "duration": 6,
    "start_time": "2025-02-12T09:52:09.034Z"
   },
   {
    "duration": 5,
    "start_time": "2025-02-12T09:52:09.041Z"
   },
   {
    "duration": 6,
    "start_time": "2025-02-12T09:52:09.048Z"
   },
   {
    "duration": 5,
    "start_time": "2025-02-12T09:52:09.056Z"
   },
   {
    "duration": 6,
    "start_time": "2025-02-12T09:52:09.062Z"
   },
   {
    "duration": 6,
    "start_time": "2025-02-12T09:52:09.069Z"
   },
   {
    "duration": 16,
    "start_time": "2025-02-12T09:52:09.077Z"
   },
   {
    "duration": 37,
    "start_time": "2025-02-12T09:52:09.094Z"
   },
   {
    "duration": 16,
    "start_time": "2025-02-12T09:52:09.133Z"
   },
   {
    "duration": 3,
    "start_time": "2025-02-12T09:52:09.151Z"
   },
   {
    "duration": 5,
    "start_time": "2025-02-12T09:52:09.155Z"
   },
   {
    "duration": 14,
    "start_time": "2025-02-12T09:52:09.161Z"
   },
   {
    "duration": 5,
    "start_time": "2025-02-12T09:52:09.178Z"
   },
   {
    "duration": 45,
    "start_time": "2025-02-12T09:52:09.186Z"
   },
   {
    "duration": 6,
    "start_time": "2025-02-12T09:52:09.233Z"
   },
   {
    "duration": 2,
    "start_time": "2025-02-12T09:52:09.241Z"
   },
   {
    "duration": 7,
    "start_time": "2025-02-12T09:52:09.245Z"
   },
   {
    "duration": 5,
    "start_time": "2025-02-12T09:52:09.254Z"
   },
   {
    "duration": 9,
    "start_time": "2025-02-12T09:52:09.260Z"
   },
   {
    "duration": 4,
    "start_time": "2025-02-12T09:52:09.271Z"
   },
   {
    "duration": 9,
    "start_time": "2025-02-12T09:52:09.278Z"
   },
   {
    "duration": 43,
    "start_time": "2025-02-12T09:52:09.289Z"
   },
   {
    "duration": 10,
    "start_time": "2025-02-12T09:52:09.334Z"
   },
   {
    "duration": 3,
    "start_time": "2025-02-12T09:52:09.346Z"
   },
   {
    "duration": 4,
    "start_time": "2025-02-12T09:52:09.350Z"
   },
   {
    "duration": 10,
    "start_time": "2025-02-12T09:52:09.356Z"
   },
   {
    "duration": 4,
    "start_time": "2025-02-12T09:52:09.368Z"
   },
   {
    "duration": 19,
    "start_time": "2025-02-12T09:52:09.374Z"
   },
   {
    "duration": 39,
    "start_time": "2025-02-12T09:52:09.394Z"
   },
   {
    "duration": 14,
    "start_time": "2025-02-12T09:52:09.435Z"
   },
   {
    "duration": 202,
    "start_time": "2025-02-12T09:52:09.451Z"
   },
   {
    "duration": 7,
    "start_time": "2025-02-12T09:52:09.655Z"
   },
   {
    "duration": 171,
    "start_time": "2025-02-12T09:52:09.664Z"
   },
   {
    "duration": 15,
    "start_time": "2025-02-12T09:52:09.837Z"
   },
   {
    "duration": 10,
    "start_time": "2025-02-12T09:52:09.854Z"
   },
   {
    "duration": 265,
    "start_time": "2025-02-12T09:52:09.866Z"
   },
   {
    "duration": 5,
    "start_time": "2025-02-12T09:52:10.133Z"
   },
   {
    "duration": 4,
    "start_time": "2025-02-12T09:52:10.139Z"
   },
   {
    "duration": 188,
    "start_time": "2025-02-12T09:52:10.145Z"
   },
   {
    "duration": 216,
    "start_time": "2025-02-12T09:52:10.335Z"
   },
   {
    "duration": 195,
    "start_time": "2025-02-12T09:52:10.558Z"
   },
   {
    "duration": 164,
    "start_time": "2025-02-12T09:52:10.756Z"
   },
   {
    "duration": 211,
    "start_time": "2025-02-12T09:52:10.922Z"
   },
   {
    "duration": 200,
    "start_time": "2025-02-12T09:52:11.135Z"
   },
   {
    "duration": 159,
    "start_time": "2025-02-12T09:52:11.337Z"
   },
   {
    "duration": 181,
    "start_time": "2025-02-12T09:52:11.498Z"
   },
   {
    "duration": 5,
    "start_time": "2025-02-12T09:52:11.681Z"
   },
   {
    "duration": 4,
    "start_time": "2025-02-12T09:52:11.687Z"
   },
   {
    "duration": 5,
    "start_time": "2025-02-12T09:52:11.692Z"
   },
   {
    "duration": 44,
    "start_time": "2025-02-12T09:52:11.698Z"
   },
   {
    "duration": 24,
    "start_time": "2025-02-12T09:52:11.743Z"
   },
   {
    "duration": 12,
    "start_time": "2025-02-12T09:52:11.769Z"
   },
   {
    "duration": 10,
    "start_time": "2025-02-12T09:52:11.783Z"
   },
   {
    "duration": 37,
    "start_time": "2025-02-12T09:52:11.795Z"
   },
   {
    "duration": 5,
    "start_time": "2025-02-12T09:52:11.834Z"
   }
  ],
  "kernelspec": {
   "display_name": "Python 3 (ipykernel)",
   "language": "python",
   "name": "python3"
  },
  "language_info": {
   "codemirror_mode": {
    "name": "ipython",
    "version": 3
   },
   "file_extension": ".py",
   "mimetype": "text/x-python",
   "name": "python",
   "nbconvert_exporter": "python",
   "pygments_lexer": "ipython3",
   "version": "3.12.4"
  },
  "toc": {
   "base_numbering": 1,
   "nav_menu": {},
   "number_sections": true,
   "sideBar": true,
   "skip_h1_title": false,
   "title_cell": "Table of Contents",
   "title_sidebar": "Contents",
   "toc_cell": false,
   "toc_position": {},
   "toc_section_display": true,
   "toc_window_display": true
  }
 },
 "nbformat": 4,
 "nbformat_minor": 4
}
